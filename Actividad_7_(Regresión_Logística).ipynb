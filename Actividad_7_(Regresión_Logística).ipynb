{
  "nbformat": 4,
  "nbformat_minor": 0,
  "metadata": {
    "colab": {
      "provenance": [],
      "collapsed_sections": [
        "Cj9tzrnPEE0l",
        "9DEkA-IkmbZx",
        "Gy3ZzP_hmez7",
        "jbQI9-otme6s",
        "DRDlCCU3me-X",
        "u19d3WRVmfBy",
        "4b0MQmhimfEX",
        "mWSxZw7VmfH2",
        "zsHi3vuGnbju",
        "VeHp6KLznb5Q"
      ],
      "toc_visible": true,
      "authorship_tag": "ABX9TyOqkEWBNoIdTJEUeVBGQFLl",
      "include_colab_link": true
    },
    "kernelspec": {
      "name": "python3",
      "display_name": "Python 3"
    },
    "language_info": {
      "name": "python"
    }
  },
  "cells": [
    {
      "cell_type": "markdown",
      "metadata": {
        "id": "view-in-github",
        "colab_type": "text"
      },
      "source": [
        "<a href=\"https://colab.research.google.com/github/JulioBT07/Regresi-n-Logistica/blob/main/Actividad_7_(Regresi%C3%B3n_Log%C3%ADstica).ipynb\" target=\"_parent\"><img src=\"https://colab.research.google.com/assets/colab-badge.svg\" alt=\"Open In Colab\"/></a>"
      ]
    },
    {
      "cell_type": "markdown",
      "source": [
        "##Agregar el archivo: “Cuentas_credicel.csv”"
      ],
      "metadata": {
        "id": "2eCSk7VDNqAh"
      }
    },
    {
      "cell_type": "code",
      "execution_count": 1677,
      "metadata": {
        "id": "UXZYWBRC43Wh"
      },
      "outputs": [],
      "source": [
        "#Cargamos librerias\n",
        "import pandas as pd\n",
        "import numpy as np\n",
        "import matplotlib.pyplot as plt\n",
        "import scipy.special as special\n",
        "from scipy.optimize import curve_fit\n",
        "import seaborn as sns\n",
        "from sklearn.metrics import r2_score\n",
        "from sklearn.model_selection import train_test_split\n",
        "from sklearn.preprocessing import StandardScaler\n",
        "from sklearn.linear_model import LogisticRegression\n",
        "from sklearn.metrics import confusion_matrix\n",
        "from sklearn.metrics import precision_score\n",
        "from sklearn.metrics import accuracy_score\n",
        "from sklearn.metrics import recall_score\n",
        "from sklearn.metrics import f1_score"
      ]
    },
    {
      "cell_type": "code",
      "execution_count": 1678,
      "metadata": {
        "colab": {
          "base_uri": "https://localhost:8080/",
          "height": 914
        },
        "id": "0oB96lI9d2aW",
        "outputId": "c697019e-696c-42d8-c149-13c2e9152838"
      },
      "outputs": [
        {
          "output_type": "stream",
          "name": "stderr",
          "text": [
            "<ipython-input-1678-0007bc6baa22>:1: DtypeWarning: Columns (30) have mixed types. Specify dtype option on import or set low_memory=False.\n",
            "  df = pd.read_csv('cuentas_credicel.csv', encoding='latin1')\n"
          ]
        },
        {
          "output_type": "execute_result",
          "data": {
            "text/plain": [
              "       folio       tag  folio_solicitud           fecha     marca                        modelo plazo  precio  enganche  descuento  semana  monto_financiado  costo_total  monto_accesorios                      agente_venta dis_venta  status  fraude      empresa  inversion  pagos_realizados  reautorizacion fecha_ultimo_pago fecha_pago_proximo status_cuenta  puntos  riesgo  score_buro razones_buro  porc_eng limite_credito  semana_actual cp_cliente  edad_cliente                   cd_cliente edo_cliente                     cd_venta            edo_venta                curp\n",
              "0          3  HDNAWQ3A               30  12/11/21 19:00       ZTE            Blade A3 2020 RO B   26S  1949.0     780.0        0.0      81            1169.0         2106               0.0   Sintia Verenice Tenorio Perez E   mic0437       2       0     microtec          0                 0               0               NaN                NaN           NaN       0    0.00           0          NaN     40.02           5000             26        NaN          23.0                            0           0                    Tantoyuca             Veracruz  AEVM980413MVZNDR02\n",
              "1          4  M418YNR4               33  12/11/21 19:15  MOTOROLA  LTE XT2097-12 E7I POWER Azul   13S  2999.0    1050.0        0.0     225            1949.0         2925               0.0             Alvaro Rafael Pascual    mic015       2       0     microtec          0                 0               0               NaN                NaN           NaN       0    0.00           0          NaN     35.01           6000             13        NaN          60.0                      PUEBLA         PUE.   Heroica Puebla de Zaragoza               Puebla  ZALC610119MPLPRR07\n",
              "2          5  SZ7V3NZT               37  13/11/21 14:13       ZTE            BLADE A3 2020 Gris   13S  1959.0     490.0        0.0     170            1469.0         2210               0.0   Sintia Verenice Tenorio Perez E   mic0437       3       0     microtec          0                 0               0               NaN                NaN     Cancelado       0    0.00           0          NaN     25.01              0             74        NaN          58.0                    TANTOYUCA        VER.                            0                    0                   0\n",
              "3          6  9I08UIQZ               38  13/11/21 15:45       ZTE            BLADE A3 2020 Gris   13S  1959.0     490.0        0.0     170            1469.0         2210               0.0        Luz Aylin Hernandez Lopez1   mic0748       2       0     microtec          0                 0               0               NaN                NaN           NaN       0    0.00           0          NaN     25.01           7000             13        NaN          42.0                  AMXTLAN PUE         NaN                     Zacatlan               Puebla  SAMJ790115MPLNRS02\n",
              "4          7  JMF4LKYU               44  13/11/21 16:10  MOTOROLA                         G10 B   39S  4299.0    1075.0        0.0     178            3224.0         6942               0.0   Sintia Verenice Tenorio Perez E   mic0437       1       0     microtec          0                 0               0     05/03/22 0:00      12/03/22 0:00          Mora       0    0.00           0          NaN     25.01           7000             74        NaN          33.0                   TANTOYUCA         VER.                    Tantoyuca             Veracruz  TEHF880707HVZRRR07\n",
              "...      ...       ...              ...             ...       ...                           ...   ...     ...       ...        ...     ...               ...          ...               ...                               ...       ...     ...     ...          ...        ...               ...             ...               ...                ...           ...     ...     ...         ...          ...       ...            ...            ...        ...           ...                          ...         ...                          ...                  ...                 ...\n",
              "22730  22967  92KQVRIX            96502  18/04/23 18:45  Motorola                      Moto E13   26S  3349.0     297.0        0.0     211            3052.0         5486               0.0  Mildred Asuncion Arguello Caamal    svc044       1       0     servicel          0                 0               0    18/04/23 18:45      25/04/23 0:00           NaN      10   27.40         469  K0,J0,D8,E2      8.87          10000              0      97880          22.0                    OXKUTZCAB         YUC                    Oxkutzcab              Yucatan  PACT990804MYNCCH05\n",
              "22731  22968  NWB2EA8J            96479  18/04/23 18:46  Motorola                     Moto E22i   26S  4100.0    1209.0        0.0     200            2891.0         5200               0.0      Maria Guadalupe Vargas Lopez    PXC004       1       0  pixelulares          0                 0               0    18/04/23 18:46      25/04/23 0:00           NaN       9   19.00         502  K0,J0,D8,E2     29.49           5000              0      37295          27.0                         LEON         GTO                         Leon           Guanajuato  HEGB950620MGTRMN03\n",
              "22732  22969  VDTRJ2W6            96442  18/04/23 18:47   Samsung                           A13   26S  4849.0    1152.0        0.0     256            3697.0         6656               0.0           Nicolás Jiménez Sánchez    gph008       1       0          NaN          0                 0               0    18/04/23 18:47      25/04/23 0:00           NaN      11   26.65         459  K0,D7,F7,D8     23.76           4750              0      20210          36.0               AGUASCALIENTES         AGS               Aguascalientes       Aguascalientes  GADF870205HASLZL07\n",
              "22733  22970  PETLF56C            96536  18/04/23 18:49   Samsung                        A53 5G   39S  9799.0    2799.0        0.0     386            7000.0        15054               0.0           Maribel Ulibarri Medina    gph014       1       0      grupoph          0                 0               0    18/04/23 18:49      25/04/23 0:00           NaN      14  -17.35         699  J0,G1,E0,E2     28.56           7000              0      78434          53.0  SOLEDAD DE GRACIANO SANCHEZ         SLP  Soledad De Graciano Sanchez      San Luis Potosi  DELJ700417HSPLRS03\n",
              "22734  22971  2CI4N2WS            96534  18/04/23 18:49   Samsung                        A22 5G   26S  5399.0    1086.0        0.0     299            4313.0         7774               0.0              Netza Fierros Mateos    php005       1       0     phonepay          1                 0               0    18/04/23 18:49      25/04/23 0:00           NaN      12   21.80           0           C2     20.11           4750              0      43800          19.0                     TIZAYUCA         HGO            San Jose Del Cabo  Baja California Sur  RASI030731HDFMRSA1\n",
              "\n",
              "[22735 rows x 39 columns]"
            ],
            "text/html": [
              "\n",
              "  <div id=\"df-879b812a-d28e-4e02-8d6c-c5ba16874454\" class=\"colab-df-container\">\n",
              "    <div>\n",
              "<style scoped>\n",
              "    .dataframe tbody tr th:only-of-type {\n",
              "        vertical-align: middle;\n",
              "    }\n",
              "\n",
              "    .dataframe tbody tr th {\n",
              "        vertical-align: top;\n",
              "    }\n",
              "\n",
              "    .dataframe thead th {\n",
              "        text-align: right;\n",
              "    }\n",
              "</style>\n",
              "<table border=\"1\" class=\"dataframe\">\n",
              "  <thead>\n",
              "    <tr style=\"text-align: right;\">\n",
              "      <th></th>\n",
              "      <th>folio</th>\n",
              "      <th>tag</th>\n",
              "      <th>folio_solicitud</th>\n",
              "      <th>fecha</th>\n",
              "      <th>marca</th>\n",
              "      <th>modelo</th>\n",
              "      <th>plazo</th>\n",
              "      <th>precio</th>\n",
              "      <th>enganche</th>\n",
              "      <th>descuento</th>\n",
              "      <th>semana</th>\n",
              "      <th>monto_financiado</th>\n",
              "      <th>costo_total</th>\n",
              "      <th>monto_accesorios</th>\n",
              "      <th>agente_venta</th>\n",
              "      <th>dis_venta</th>\n",
              "      <th>status</th>\n",
              "      <th>fraude</th>\n",
              "      <th>empresa</th>\n",
              "      <th>inversion</th>\n",
              "      <th>pagos_realizados</th>\n",
              "      <th>reautorizacion</th>\n",
              "      <th>fecha_ultimo_pago</th>\n",
              "      <th>fecha_pago_proximo</th>\n",
              "      <th>status_cuenta</th>\n",
              "      <th>puntos</th>\n",
              "      <th>riesgo</th>\n",
              "      <th>score_buro</th>\n",
              "      <th>razones_buro</th>\n",
              "      <th>porc_eng</th>\n",
              "      <th>limite_credito</th>\n",
              "      <th>semana_actual</th>\n",
              "      <th>cp_cliente</th>\n",
              "      <th>edad_cliente</th>\n",
              "      <th>cd_cliente</th>\n",
              "      <th>edo_cliente</th>\n",
              "      <th>cd_venta</th>\n",
              "      <th>edo_venta</th>\n",
              "      <th>curp</th>\n",
              "    </tr>\n",
              "  </thead>\n",
              "  <tbody>\n",
              "    <tr>\n",
              "      <th>0</th>\n",
              "      <td>3</td>\n",
              "      <td>HDNAWQ3A</td>\n",
              "      <td>30</td>\n",
              "      <td>12/11/21 19:00</td>\n",
              "      <td>ZTE</td>\n",
              "      <td>Blade A3 2020 RO B</td>\n",
              "      <td>26S</td>\n",
              "      <td>1949.0</td>\n",
              "      <td>780.0</td>\n",
              "      <td>0.0</td>\n",
              "      <td>81</td>\n",
              "      <td>1169.0</td>\n",
              "      <td>2106</td>\n",
              "      <td>0.0</td>\n",
              "      <td>Sintia Verenice Tenorio Perez E</td>\n",
              "      <td>mic0437</td>\n",
              "      <td>2</td>\n",
              "      <td>0</td>\n",
              "      <td>microtec</td>\n",
              "      <td>0</td>\n",
              "      <td>0</td>\n",
              "      <td>0</td>\n",
              "      <td>NaN</td>\n",
              "      <td>NaN</td>\n",
              "      <td>NaN</td>\n",
              "      <td>0</td>\n",
              "      <td>0.00</td>\n",
              "      <td>0</td>\n",
              "      <td>NaN</td>\n",
              "      <td>40.02</td>\n",
              "      <td>5000</td>\n",
              "      <td>26</td>\n",
              "      <td>NaN</td>\n",
              "      <td>23.0</td>\n",
              "      <td>0</td>\n",
              "      <td>0</td>\n",
              "      <td>Tantoyuca</td>\n",
              "      <td>Veracruz</td>\n",
              "      <td>AEVM980413MVZNDR02</td>\n",
              "    </tr>\n",
              "    <tr>\n",
              "      <th>1</th>\n",
              "      <td>4</td>\n",
              "      <td>M418YNR4</td>\n",
              "      <td>33</td>\n",
              "      <td>12/11/21 19:15</td>\n",
              "      <td>MOTOROLA</td>\n",
              "      <td>LTE XT2097-12 E7I POWER Azul</td>\n",
              "      <td>13S</td>\n",
              "      <td>2999.0</td>\n",
              "      <td>1050.0</td>\n",
              "      <td>0.0</td>\n",
              "      <td>225</td>\n",
              "      <td>1949.0</td>\n",
              "      <td>2925</td>\n",
              "      <td>0.0</td>\n",
              "      <td>Alvaro Rafael Pascual</td>\n",
              "      <td>mic015</td>\n",
              "      <td>2</td>\n",
              "      <td>0</td>\n",
              "      <td>microtec</td>\n",
              "      <td>0</td>\n",
              "      <td>0</td>\n",
              "      <td>0</td>\n",
              "      <td>NaN</td>\n",
              "      <td>NaN</td>\n",
              "      <td>NaN</td>\n",
              "      <td>0</td>\n",
              "      <td>0.00</td>\n",
              "      <td>0</td>\n",
              "      <td>NaN</td>\n",
              "      <td>35.01</td>\n",
              "      <td>6000</td>\n",
              "      <td>13</td>\n",
              "      <td>NaN</td>\n",
              "      <td>60.0</td>\n",
              "      <td>PUEBLA</td>\n",
              "      <td>PUE.</td>\n",
              "      <td>Heroica Puebla de Zaragoza</td>\n",
              "      <td>Puebla</td>\n",
              "      <td>ZALC610119MPLPRR07</td>\n",
              "    </tr>\n",
              "    <tr>\n",
              "      <th>2</th>\n",
              "      <td>5</td>\n",
              "      <td>SZ7V3NZT</td>\n",
              "      <td>37</td>\n",
              "      <td>13/11/21 14:13</td>\n",
              "      <td>ZTE</td>\n",
              "      <td>BLADE A3 2020 Gris</td>\n",
              "      <td>13S</td>\n",
              "      <td>1959.0</td>\n",
              "      <td>490.0</td>\n",
              "      <td>0.0</td>\n",
              "      <td>170</td>\n",
              "      <td>1469.0</td>\n",
              "      <td>2210</td>\n",
              "      <td>0.0</td>\n",
              "      <td>Sintia Verenice Tenorio Perez E</td>\n",
              "      <td>mic0437</td>\n",
              "      <td>3</td>\n",
              "      <td>0</td>\n",
              "      <td>microtec</td>\n",
              "      <td>0</td>\n",
              "      <td>0</td>\n",
              "      <td>0</td>\n",
              "      <td>NaN</td>\n",
              "      <td>NaN</td>\n",
              "      <td>Cancelado</td>\n",
              "      <td>0</td>\n",
              "      <td>0.00</td>\n",
              "      <td>0</td>\n",
              "      <td>NaN</td>\n",
              "      <td>25.01</td>\n",
              "      <td>0</td>\n",
              "      <td>74</td>\n",
              "      <td>NaN</td>\n",
              "      <td>58.0</td>\n",
              "      <td>TANTOYUCA</td>\n",
              "      <td>VER.</td>\n",
              "      <td>0</td>\n",
              "      <td>0</td>\n",
              "      <td>0</td>\n",
              "    </tr>\n",
              "    <tr>\n",
              "      <th>3</th>\n",
              "      <td>6</td>\n",
              "      <td>9I08UIQZ</td>\n",
              "      <td>38</td>\n",
              "      <td>13/11/21 15:45</td>\n",
              "      <td>ZTE</td>\n",
              "      <td>BLADE A3 2020 Gris</td>\n",
              "      <td>13S</td>\n",
              "      <td>1959.0</td>\n",
              "      <td>490.0</td>\n",
              "      <td>0.0</td>\n",
              "      <td>170</td>\n",
              "      <td>1469.0</td>\n",
              "      <td>2210</td>\n",
              "      <td>0.0</td>\n",
              "      <td>Luz Aylin Hernandez Lopez1</td>\n",
              "      <td>mic0748</td>\n",
              "      <td>2</td>\n",
              "      <td>0</td>\n",
              "      <td>microtec</td>\n",
              "      <td>0</td>\n",
              "      <td>0</td>\n",
              "      <td>0</td>\n",
              "      <td>NaN</td>\n",
              "      <td>NaN</td>\n",
              "      <td>NaN</td>\n",
              "      <td>0</td>\n",
              "      <td>0.00</td>\n",
              "      <td>0</td>\n",
              "      <td>NaN</td>\n",
              "      <td>25.01</td>\n",
              "      <td>7000</td>\n",
              "      <td>13</td>\n",
              "      <td>NaN</td>\n",
              "      <td>42.0</td>\n",
              "      <td>AMXTLAN PUE</td>\n",
              "      <td>NaN</td>\n",
              "      <td>Zacatlan</td>\n",
              "      <td>Puebla</td>\n",
              "      <td>SAMJ790115MPLNRS02</td>\n",
              "    </tr>\n",
              "    <tr>\n",
              "      <th>4</th>\n",
              "      <td>7</td>\n",
              "      <td>JMF4LKYU</td>\n",
              "      <td>44</td>\n",
              "      <td>13/11/21 16:10</td>\n",
              "      <td>MOTOROLA</td>\n",
              "      <td>G10 B</td>\n",
              "      <td>39S</td>\n",
              "      <td>4299.0</td>\n",
              "      <td>1075.0</td>\n",
              "      <td>0.0</td>\n",
              "      <td>178</td>\n",
              "      <td>3224.0</td>\n",
              "      <td>6942</td>\n",
              "      <td>0.0</td>\n",
              "      <td>Sintia Verenice Tenorio Perez E</td>\n",
              "      <td>mic0437</td>\n",
              "      <td>1</td>\n",
              "      <td>0</td>\n",
              "      <td>microtec</td>\n",
              "      <td>0</td>\n",
              "      <td>0</td>\n",
              "      <td>0</td>\n",
              "      <td>05/03/22 0:00</td>\n",
              "      <td>12/03/22 0:00</td>\n",
              "      <td>Mora</td>\n",
              "      <td>0</td>\n",
              "      <td>0.00</td>\n",
              "      <td>0</td>\n",
              "      <td>NaN</td>\n",
              "      <td>25.01</td>\n",
              "      <td>7000</td>\n",
              "      <td>74</td>\n",
              "      <td>NaN</td>\n",
              "      <td>33.0</td>\n",
              "      <td>TANTOYUCA</td>\n",
              "      <td>VER.</td>\n",
              "      <td>Tantoyuca</td>\n",
              "      <td>Veracruz</td>\n",
              "      <td>TEHF880707HVZRRR07</td>\n",
              "    </tr>\n",
              "    <tr>\n",
              "      <th>...</th>\n",
              "      <td>...</td>\n",
              "      <td>...</td>\n",
              "      <td>...</td>\n",
              "      <td>...</td>\n",
              "      <td>...</td>\n",
              "      <td>...</td>\n",
              "      <td>...</td>\n",
              "      <td>...</td>\n",
              "      <td>...</td>\n",
              "      <td>...</td>\n",
              "      <td>...</td>\n",
              "      <td>...</td>\n",
              "      <td>...</td>\n",
              "      <td>...</td>\n",
              "      <td>...</td>\n",
              "      <td>...</td>\n",
              "      <td>...</td>\n",
              "      <td>...</td>\n",
              "      <td>...</td>\n",
              "      <td>...</td>\n",
              "      <td>...</td>\n",
              "      <td>...</td>\n",
              "      <td>...</td>\n",
              "      <td>...</td>\n",
              "      <td>...</td>\n",
              "      <td>...</td>\n",
              "      <td>...</td>\n",
              "      <td>...</td>\n",
              "      <td>...</td>\n",
              "      <td>...</td>\n",
              "      <td>...</td>\n",
              "      <td>...</td>\n",
              "      <td>...</td>\n",
              "      <td>...</td>\n",
              "      <td>...</td>\n",
              "      <td>...</td>\n",
              "      <td>...</td>\n",
              "      <td>...</td>\n",
              "      <td>...</td>\n",
              "    </tr>\n",
              "    <tr>\n",
              "      <th>22730</th>\n",
              "      <td>22967</td>\n",
              "      <td>92KQVRIX</td>\n",
              "      <td>96502</td>\n",
              "      <td>18/04/23 18:45</td>\n",
              "      <td>Motorola</td>\n",
              "      <td>Moto E13</td>\n",
              "      <td>26S</td>\n",
              "      <td>3349.0</td>\n",
              "      <td>297.0</td>\n",
              "      <td>0.0</td>\n",
              "      <td>211</td>\n",
              "      <td>3052.0</td>\n",
              "      <td>5486</td>\n",
              "      <td>0.0</td>\n",
              "      <td>Mildred Asuncion Arguello Caamal</td>\n",
              "      <td>svc044</td>\n",
              "      <td>1</td>\n",
              "      <td>0</td>\n",
              "      <td>servicel</td>\n",
              "      <td>0</td>\n",
              "      <td>0</td>\n",
              "      <td>0</td>\n",
              "      <td>18/04/23 18:45</td>\n",
              "      <td>25/04/23 0:00</td>\n",
              "      <td>NaN</td>\n",
              "      <td>10</td>\n",
              "      <td>27.40</td>\n",
              "      <td>469</td>\n",
              "      <td>K0,J0,D8,E2</td>\n",
              "      <td>8.87</td>\n",
              "      <td>10000</td>\n",
              "      <td>0</td>\n",
              "      <td>97880</td>\n",
              "      <td>22.0</td>\n",
              "      <td>OXKUTZCAB</td>\n",
              "      <td>YUC</td>\n",
              "      <td>Oxkutzcab</td>\n",
              "      <td>Yucatan</td>\n",
              "      <td>PACT990804MYNCCH05</td>\n",
              "    </tr>\n",
              "    <tr>\n",
              "      <th>22731</th>\n",
              "      <td>22968</td>\n",
              "      <td>NWB2EA8J</td>\n",
              "      <td>96479</td>\n",
              "      <td>18/04/23 18:46</td>\n",
              "      <td>Motorola</td>\n",
              "      <td>Moto E22i</td>\n",
              "      <td>26S</td>\n",
              "      <td>4100.0</td>\n",
              "      <td>1209.0</td>\n",
              "      <td>0.0</td>\n",
              "      <td>200</td>\n",
              "      <td>2891.0</td>\n",
              "      <td>5200</td>\n",
              "      <td>0.0</td>\n",
              "      <td>Maria Guadalupe Vargas Lopez</td>\n",
              "      <td>PXC004</td>\n",
              "      <td>1</td>\n",
              "      <td>0</td>\n",
              "      <td>pixelulares</td>\n",
              "      <td>0</td>\n",
              "      <td>0</td>\n",
              "      <td>0</td>\n",
              "      <td>18/04/23 18:46</td>\n",
              "      <td>25/04/23 0:00</td>\n",
              "      <td>NaN</td>\n",
              "      <td>9</td>\n",
              "      <td>19.00</td>\n",
              "      <td>502</td>\n",
              "      <td>K0,J0,D8,E2</td>\n",
              "      <td>29.49</td>\n",
              "      <td>5000</td>\n",
              "      <td>0</td>\n",
              "      <td>37295</td>\n",
              "      <td>27.0</td>\n",
              "      <td>LEON</td>\n",
              "      <td>GTO</td>\n",
              "      <td>Leon</td>\n",
              "      <td>Guanajuato</td>\n",
              "      <td>HEGB950620MGTRMN03</td>\n",
              "    </tr>\n",
              "    <tr>\n",
              "      <th>22732</th>\n",
              "      <td>22969</td>\n",
              "      <td>VDTRJ2W6</td>\n",
              "      <td>96442</td>\n",
              "      <td>18/04/23 18:47</td>\n",
              "      <td>Samsung</td>\n",
              "      <td>A13</td>\n",
              "      <td>26S</td>\n",
              "      <td>4849.0</td>\n",
              "      <td>1152.0</td>\n",
              "      <td>0.0</td>\n",
              "      <td>256</td>\n",
              "      <td>3697.0</td>\n",
              "      <td>6656</td>\n",
              "      <td>0.0</td>\n",
              "      <td>Nicolás Jiménez Sánchez</td>\n",
              "      <td>gph008</td>\n",
              "      <td>1</td>\n",
              "      <td>0</td>\n",
              "      <td>NaN</td>\n",
              "      <td>0</td>\n",
              "      <td>0</td>\n",
              "      <td>0</td>\n",
              "      <td>18/04/23 18:47</td>\n",
              "      <td>25/04/23 0:00</td>\n",
              "      <td>NaN</td>\n",
              "      <td>11</td>\n",
              "      <td>26.65</td>\n",
              "      <td>459</td>\n",
              "      <td>K0,D7,F7,D8</td>\n",
              "      <td>23.76</td>\n",
              "      <td>4750</td>\n",
              "      <td>0</td>\n",
              "      <td>20210</td>\n",
              "      <td>36.0</td>\n",
              "      <td>AGUASCALIENTES</td>\n",
              "      <td>AGS</td>\n",
              "      <td>Aguascalientes</td>\n",
              "      <td>Aguascalientes</td>\n",
              "      <td>GADF870205HASLZL07</td>\n",
              "    </tr>\n",
              "    <tr>\n",
              "      <th>22733</th>\n",
              "      <td>22970</td>\n",
              "      <td>PETLF56C</td>\n",
              "      <td>96536</td>\n",
              "      <td>18/04/23 18:49</td>\n",
              "      <td>Samsung</td>\n",
              "      <td>A53 5G</td>\n",
              "      <td>39S</td>\n",
              "      <td>9799.0</td>\n",
              "      <td>2799.0</td>\n",
              "      <td>0.0</td>\n",
              "      <td>386</td>\n",
              "      <td>7000.0</td>\n",
              "      <td>15054</td>\n",
              "      <td>0.0</td>\n",
              "      <td>Maribel Ulibarri Medina</td>\n",
              "      <td>gph014</td>\n",
              "      <td>1</td>\n",
              "      <td>0</td>\n",
              "      <td>grupoph</td>\n",
              "      <td>0</td>\n",
              "      <td>0</td>\n",
              "      <td>0</td>\n",
              "      <td>18/04/23 18:49</td>\n",
              "      <td>25/04/23 0:00</td>\n",
              "      <td>NaN</td>\n",
              "      <td>14</td>\n",
              "      <td>-17.35</td>\n",
              "      <td>699</td>\n",
              "      <td>J0,G1,E0,E2</td>\n",
              "      <td>28.56</td>\n",
              "      <td>7000</td>\n",
              "      <td>0</td>\n",
              "      <td>78434</td>\n",
              "      <td>53.0</td>\n",
              "      <td>SOLEDAD DE GRACIANO SANCHEZ</td>\n",
              "      <td>SLP</td>\n",
              "      <td>Soledad De Graciano Sanchez</td>\n",
              "      <td>San Luis Potosi</td>\n",
              "      <td>DELJ700417HSPLRS03</td>\n",
              "    </tr>\n",
              "    <tr>\n",
              "      <th>22734</th>\n",
              "      <td>22971</td>\n",
              "      <td>2CI4N2WS</td>\n",
              "      <td>96534</td>\n",
              "      <td>18/04/23 18:49</td>\n",
              "      <td>Samsung</td>\n",
              "      <td>A22 5G</td>\n",
              "      <td>26S</td>\n",
              "      <td>5399.0</td>\n",
              "      <td>1086.0</td>\n",
              "      <td>0.0</td>\n",
              "      <td>299</td>\n",
              "      <td>4313.0</td>\n",
              "      <td>7774</td>\n",
              "      <td>0.0</td>\n",
              "      <td>Netza Fierros Mateos</td>\n",
              "      <td>php005</td>\n",
              "      <td>1</td>\n",
              "      <td>0</td>\n",
              "      <td>phonepay</td>\n",
              "      <td>1</td>\n",
              "      <td>0</td>\n",
              "      <td>0</td>\n",
              "      <td>18/04/23 18:49</td>\n",
              "      <td>25/04/23 0:00</td>\n",
              "      <td>NaN</td>\n",
              "      <td>12</td>\n",
              "      <td>21.80</td>\n",
              "      <td>0</td>\n",
              "      <td>C2</td>\n",
              "      <td>20.11</td>\n",
              "      <td>4750</td>\n",
              "      <td>0</td>\n",
              "      <td>43800</td>\n",
              "      <td>19.0</td>\n",
              "      <td>TIZAYUCA</td>\n",
              "      <td>HGO</td>\n",
              "      <td>San Jose Del Cabo</td>\n",
              "      <td>Baja California Sur</td>\n",
              "      <td>RASI030731HDFMRSA1</td>\n",
              "    </tr>\n",
              "  </tbody>\n",
              "</table>\n",
              "<p>22735 rows × 39 columns</p>\n",
              "</div>\n",
              "    <div class=\"colab-df-buttons\">\n",
              "\n",
              "  <div class=\"colab-df-container\">\n",
              "    <button class=\"colab-df-convert\" onclick=\"convertToInteractive('df-879b812a-d28e-4e02-8d6c-c5ba16874454')\"\n",
              "            title=\"Convert this dataframe to an interactive table.\"\n",
              "            style=\"display:none;\">\n",
              "\n",
              "  <svg xmlns=\"http://www.w3.org/2000/svg\" height=\"24px\" viewBox=\"0 -960 960 960\">\n",
              "    <path d=\"M120-120v-720h720v720H120Zm60-500h600v-160H180v160Zm220 220h160v-160H400v160Zm0 220h160v-160H400v160ZM180-400h160v-160H180v160Zm440 0h160v-160H620v160ZM180-180h160v-160H180v160Zm440 0h160v-160H620v160Z\"/>\n",
              "  </svg>\n",
              "    </button>\n",
              "\n",
              "  <style>\n",
              "    .colab-df-container {\n",
              "      display:flex;\n",
              "      gap: 12px;\n",
              "    }\n",
              "\n",
              "    .colab-df-convert {\n",
              "      background-color: #E8F0FE;\n",
              "      border: none;\n",
              "      border-radius: 50%;\n",
              "      cursor: pointer;\n",
              "      display: none;\n",
              "      fill: #1967D2;\n",
              "      height: 32px;\n",
              "      padding: 0 0 0 0;\n",
              "      width: 32px;\n",
              "    }\n",
              "\n",
              "    .colab-df-convert:hover {\n",
              "      background-color: #E2EBFA;\n",
              "      box-shadow: 0px 1px 2px rgba(60, 64, 67, 0.3), 0px 1px 3px 1px rgba(60, 64, 67, 0.15);\n",
              "      fill: #174EA6;\n",
              "    }\n",
              "\n",
              "    .colab-df-buttons div {\n",
              "      margin-bottom: 4px;\n",
              "    }\n",
              "\n",
              "    [theme=dark] .colab-df-convert {\n",
              "      background-color: #3B4455;\n",
              "      fill: #D2E3FC;\n",
              "    }\n",
              "\n",
              "    [theme=dark] .colab-df-convert:hover {\n",
              "      background-color: #434B5C;\n",
              "      box-shadow: 0px 1px 3px 1px rgba(0, 0, 0, 0.15);\n",
              "      filter: drop-shadow(0px 1px 2px rgba(0, 0, 0, 0.3));\n",
              "      fill: #FFFFFF;\n",
              "    }\n",
              "  </style>\n",
              "\n",
              "    <script>\n",
              "      const buttonEl =\n",
              "        document.querySelector('#df-879b812a-d28e-4e02-8d6c-c5ba16874454 button.colab-df-convert');\n",
              "      buttonEl.style.display =\n",
              "        google.colab.kernel.accessAllowed ? 'block' : 'none';\n",
              "\n",
              "      async function convertToInteractive(key) {\n",
              "        const element = document.querySelector('#df-879b812a-d28e-4e02-8d6c-c5ba16874454');\n",
              "        const dataTable =\n",
              "          await google.colab.kernel.invokeFunction('convertToInteractive',\n",
              "                                                    [key], {});\n",
              "        if (!dataTable) return;\n",
              "\n",
              "        const docLinkHtml = 'Like what you see? Visit the ' +\n",
              "          '<a target=\"_blank\" href=https://colab.research.google.com/notebooks/data_table.ipynb>data table notebook</a>'\n",
              "          + ' to learn more about interactive tables.';\n",
              "        element.innerHTML = '';\n",
              "        dataTable['output_type'] = 'display_data';\n",
              "        await google.colab.output.renderOutput(dataTable, element);\n",
              "        const docLink = document.createElement('div');\n",
              "        docLink.innerHTML = docLinkHtml;\n",
              "        element.appendChild(docLink);\n",
              "      }\n",
              "    </script>\n",
              "  </div>\n",
              "\n",
              "\n",
              "<div id=\"df-bae0bab5-f788-467a-942a-fab6f2a61d4c\">\n",
              "  <button class=\"colab-df-quickchart\" onclick=\"quickchart('df-bae0bab5-f788-467a-942a-fab6f2a61d4c')\"\n",
              "            title=\"Suggest charts.\"\n",
              "            style=\"display:none;\">\n",
              "\n",
              "<svg xmlns=\"http://www.w3.org/2000/svg\" height=\"24px\"viewBox=\"0 0 24 24\"\n",
              "     width=\"24px\">\n",
              "    <g>\n",
              "        <path d=\"M19 3H5c-1.1 0-2 .9-2 2v14c0 1.1.9 2 2 2h14c1.1 0 2-.9 2-2V5c0-1.1-.9-2-2-2zM9 17H7v-7h2v7zm4 0h-2V7h2v10zm4 0h-2v-4h2v4z\"/>\n",
              "    </g>\n",
              "</svg>\n",
              "  </button>\n",
              "\n",
              "<style>\n",
              "  .colab-df-quickchart {\n",
              "      --bg-color: #E8F0FE;\n",
              "      --fill-color: #1967D2;\n",
              "      --hover-bg-color: #E2EBFA;\n",
              "      --hover-fill-color: #174EA6;\n",
              "      --disabled-fill-color: #AAA;\n",
              "      --disabled-bg-color: #DDD;\n",
              "  }\n",
              "\n",
              "  [theme=dark] .colab-df-quickchart {\n",
              "      --bg-color: #3B4455;\n",
              "      --fill-color: #D2E3FC;\n",
              "      --hover-bg-color: #434B5C;\n",
              "      --hover-fill-color: #FFFFFF;\n",
              "      --disabled-bg-color: #3B4455;\n",
              "      --disabled-fill-color: #666;\n",
              "  }\n",
              "\n",
              "  .colab-df-quickchart {\n",
              "    background-color: var(--bg-color);\n",
              "    border: none;\n",
              "    border-radius: 50%;\n",
              "    cursor: pointer;\n",
              "    display: none;\n",
              "    fill: var(--fill-color);\n",
              "    height: 32px;\n",
              "    padding: 0;\n",
              "    width: 32px;\n",
              "  }\n",
              "\n",
              "  .colab-df-quickchart:hover {\n",
              "    background-color: var(--hover-bg-color);\n",
              "    box-shadow: 0 1px 2px rgba(60, 64, 67, 0.3), 0 1px 3px 1px rgba(60, 64, 67, 0.15);\n",
              "    fill: var(--button-hover-fill-color);\n",
              "  }\n",
              "\n",
              "  .colab-df-quickchart-complete:disabled,\n",
              "  .colab-df-quickchart-complete:disabled:hover {\n",
              "    background-color: var(--disabled-bg-color);\n",
              "    fill: var(--disabled-fill-color);\n",
              "    box-shadow: none;\n",
              "  }\n",
              "\n",
              "  .colab-df-spinner {\n",
              "    border: 2px solid var(--fill-color);\n",
              "    border-color: transparent;\n",
              "    border-bottom-color: var(--fill-color);\n",
              "    animation:\n",
              "      spin 1s steps(1) infinite;\n",
              "  }\n",
              "\n",
              "  @keyframes spin {\n",
              "    0% {\n",
              "      border-color: transparent;\n",
              "      border-bottom-color: var(--fill-color);\n",
              "      border-left-color: var(--fill-color);\n",
              "    }\n",
              "    20% {\n",
              "      border-color: transparent;\n",
              "      border-left-color: var(--fill-color);\n",
              "      border-top-color: var(--fill-color);\n",
              "    }\n",
              "    30% {\n",
              "      border-color: transparent;\n",
              "      border-left-color: var(--fill-color);\n",
              "      border-top-color: var(--fill-color);\n",
              "      border-right-color: var(--fill-color);\n",
              "    }\n",
              "    40% {\n",
              "      border-color: transparent;\n",
              "      border-right-color: var(--fill-color);\n",
              "      border-top-color: var(--fill-color);\n",
              "    }\n",
              "    60% {\n",
              "      border-color: transparent;\n",
              "      border-right-color: var(--fill-color);\n",
              "    }\n",
              "    80% {\n",
              "      border-color: transparent;\n",
              "      border-right-color: var(--fill-color);\n",
              "      border-bottom-color: var(--fill-color);\n",
              "    }\n",
              "    90% {\n",
              "      border-color: transparent;\n",
              "      border-bottom-color: var(--fill-color);\n",
              "    }\n",
              "  }\n",
              "</style>\n",
              "\n",
              "  <script>\n",
              "    async function quickchart(key) {\n",
              "      const quickchartButtonEl =\n",
              "        document.querySelector('#' + key + ' button');\n",
              "      quickchartButtonEl.disabled = true;  // To prevent multiple clicks.\n",
              "      quickchartButtonEl.classList.add('colab-df-spinner');\n",
              "      try {\n",
              "        const charts = await google.colab.kernel.invokeFunction(\n",
              "            'suggestCharts', [key], {});\n",
              "      } catch (error) {\n",
              "        console.error('Error during call to suggestCharts:', error);\n",
              "      }\n",
              "      quickchartButtonEl.classList.remove('colab-df-spinner');\n",
              "      quickchartButtonEl.classList.add('colab-df-quickchart-complete');\n",
              "    }\n",
              "    (() => {\n",
              "      let quickchartButtonEl =\n",
              "        document.querySelector('#df-bae0bab5-f788-467a-942a-fab6f2a61d4c button');\n",
              "      quickchartButtonEl.style.display =\n",
              "        google.colab.kernel.accessAllowed ? 'block' : 'none';\n",
              "    })();\n",
              "  </script>\n",
              "</div>\n",
              "    </div>\n",
              "  </div>\n"
            ]
          },
          "metadata": {},
          "execution_count": 1678
        }
      ],
      "source": [
        "df = pd.read_csv('cuentas_credicel.csv', encoding='latin1')\n",
        "df"
      ]
    },
    {
      "cell_type": "code",
      "source": [
        "np.unique(df['status'])"
      ],
      "metadata": {
        "colab": {
          "base_uri": "https://localhost:8080/"
        },
        "id": "aDlxtsGIHp_I",
        "outputId": "2a3e7b6c-9bb8-455e-814e-0c8f7902465d"
      },
      "execution_count": 1679,
      "outputs": [
        {
          "output_type": "execute_result",
          "data": {
            "text/plain": [
              "array([1, 2, 3, 4])"
            ]
          },
          "metadata": {},
          "execution_count": 1679
        }
      ]
    },
    {
      "cell_type": "code",
      "source": [
        "np.unique(df['fraude'])"
      ],
      "metadata": {
        "colab": {
          "base_uri": "https://localhost:8080/"
        },
        "id": "5M98prxCIGsl",
        "outputId": "24c24917-ebbe-4b69-cdbd-d74abcd34bc9"
      },
      "execution_count": 1680,
      "outputs": [
        {
          "output_type": "execute_result",
          "data": {
            "text/plain": [
              "array([0, 1])"
            ]
          },
          "metadata": {},
          "execution_count": 1680
        }
      ]
    },
    {
      "cell_type": "code",
      "source": [
        "df['fraude'].value_counts()"
      ],
      "metadata": {
        "colab": {
          "base_uri": "https://localhost:8080/"
        },
        "id": "wox0wd1yIcMT",
        "outputId": "0ffb42a9-04bd-43cd-b0f1-e26c33ec4412"
      },
      "execution_count": 1681,
      "outputs": [
        {
          "output_type": "execute_result",
          "data": {
            "text/plain": [
              "0    21034\n",
              "1     1701\n",
              "Name: fraude, dtype: int64"
            ]
          },
          "metadata": {},
          "execution_count": 1681
        }
      ]
    },
    {
      "cell_type": "code",
      "source": [
        "df['inversion'].value_counts()"
      ],
      "metadata": {
        "colab": {
          "base_uri": "https://localhost:8080/"
        },
        "id": "HyY9IAzhI5kv",
        "outputId": "b68e8810-094f-45aa-fbfa-ccfdfced2f4d"
      },
      "execution_count": 1682,
      "outputs": [
        {
          "output_type": "execute_result",
          "data": {
            "text/plain": [
              "0    17356\n",
              "1     5379\n",
              "Name: inversion, dtype: int64"
            ]
          },
          "metadata": {},
          "execution_count": 1682
        }
      ]
    },
    {
      "cell_type": "code",
      "source": [
        "df['pagos_realizados'].value_counts()"
      ],
      "metadata": {
        "colab": {
          "base_uri": "https://localhost:8080/"
        },
        "id": "Jnr4y0qFI8Gv",
        "outputId": "dd777aa7-0463-43c3-c593-2bb60a26ad5f"
      },
      "execution_count": 1683,
      "outputs": [
        {
          "output_type": "execute_result",
          "data": {
            "text/plain": [
              "0     4461\n",
              "13    1277\n",
              "1     1091\n",
              "12    1072\n",
              "2     1003\n",
              "3      971\n",
              "4      927\n",
              "5      825\n",
              "6      810\n",
              "11     782\n",
              "7      728\n",
              "9      728\n",
              "8      718\n",
              "10     698\n",
              "14     697\n",
              "15     525\n",
              "16     458\n",
              "26     425\n",
              "17     386\n",
              "27     369\n",
              "18     358\n",
              "25     352\n",
              "19     336\n",
              "20     293\n",
              "22     276\n",
              "21     268\n",
              "24     265\n",
              "23     264\n",
              "28     185\n",
              "29     169\n",
              "30     147\n",
              "31     101\n",
              "33      90\n",
              "37      87\n",
              "35      76\n",
              "32      75\n",
              "38      72\n",
              "34      71\n",
              "40      64\n",
              "39      60\n",
              "36      55\n",
              "41      44\n",
              "42      23\n",
              "43      11\n",
              "44      10\n",
              "46       7\n",
              "45       5\n",
              "48       4\n",
              "49       4\n",
              "53       4\n",
              "51       3\n",
              "60       1\n",
              "57       1\n",
              "47       1\n",
              "62       1\n",
              "52       1\n",
              "Name: pagos_realizados, dtype: int64"
            ]
          },
          "metadata": {},
          "execution_count": 1683
        }
      ]
    },
    {
      "cell_type": "code",
      "source": [
        "df['reautorizacion'].value_counts()"
      ],
      "metadata": {
        "colab": {
          "base_uri": "https://localhost:8080/"
        },
        "id": "DrBSfcL0JNcR",
        "outputId": "d80fd2e7-09ad-4c28-fa42-bb26e87a7cb5"
      },
      "execution_count": 1684,
      "outputs": [
        {
          "output_type": "execute_result",
          "data": {
            "text/plain": [
              "0    21961\n",
              "1      774\n",
              "Name: reautorizacion, dtype: int64"
            ]
          },
          "metadata": {},
          "execution_count": 1684
        }
      ]
    },
    {
      "cell_type": "code",
      "source": [
        "df['marca'].value_counts()"
      ],
      "metadata": {
        "colab": {
          "base_uri": "https://localhost:8080/"
        },
        "id": "2NX8bZ03JQFH",
        "outputId": "265b27af-f682-4cdb-c9ca-0cadcbbeb6a8"
      },
      "execution_count": 1685,
      "outputs": [
        {
          "output_type": "execute_result",
          "data": {
            "text/plain": [
              "Samsung         8991\n",
              "SAMSUNG         3524\n",
              "MOTOROLA        3078\n",
              "ZTE             1948\n",
              "Motorola        1658\n",
              "NOKIA           1121\n",
              "TECNO MOBILE     833\n",
              "Hisense          371\n",
              "HISENSE          270\n",
              "Nokia            262\n",
              "ALCATEL          215\n",
              "TCL              113\n",
              "Alcatel          101\n",
              "Lanix             90\n",
              "VIVO              60\n",
              "Vivo              45\n",
              "LG                20\n",
              "WIKO               9\n",
              "NYX                7\n",
              "B2M                4\n",
              "KODAK              3\n",
              "RT                 3\n",
              "LANIX              2\n",
              "INCO               2\n",
              "Huawei             1\n",
              "SENWA              1\n",
              "alcatel            1\n",
              "Senwa              1\n",
              "TECHPAD            1\n",
              "Name: marca, dtype: int64"
            ]
          },
          "metadata": {},
          "execution_count": 1685
        }
      ]
    },
    {
      "cell_type": "code",
      "source": [
        "df['empresa'].value_counts()"
      ],
      "metadata": {
        "colab": {
          "base_uri": "https://localhost:8080/"
        },
        "id": "8dV4OmecJTLN",
        "outputId": "98ae0e62-6ee4-4691-fc34-9adb5579469d"
      },
      "execution_count": 1686,
      "outputs": [
        {
          "output_type": "execute_result",
          "data": {
            "text/plain": [
              "microtec             9310\n",
              "servicel             7348\n",
              "comunicatec          1020\n",
              "procredito            697\n",
              "phonepay              456\n",
              "texpress              396\n",
              "centrocel             395\n",
              "apartacel             324\n",
              "yaavs                 258\n",
              "aespinosa             221\n",
              "leket                 186\n",
              "compercel             174\n",
              "linetelc              172\n",
              "arcelular             171\n",
              "telesystems           156\n",
              "crglobal              153\n",
              "grupoph               136\n",
              "redworld              126\n",
              "pixelulares           112\n",
              "emnagar                81\n",
              "phuny                  80\n",
              "drmedia                73\n",
              "quality                71\n",
              "tucelya                65\n",
              "maifon                 60\n",
              "todocell               52\n",
              "mistraltechnology      48\n",
              "financel               46\n",
              "fixmobile              43\n",
              "alessan                39\n",
              "satelitel              36\n",
              "ahorrocelsonora        35\n",
              "signumaxis             35\n",
              "ccelular               32\n",
              "phoneone               24\n",
              "laragrajales           24\n",
              "egocomunicaciones      15\n",
              "martz                  14\n",
              "teknosmart             12\n",
              "compuflash              9\n",
              "senshi                  5\n",
              "semfactory              3\n",
              "officedar               3\n",
              "servicelr7              2\n",
              "Sistemas                1\n",
              "icellpro                1\n",
              "hashtag                 1\n",
              "marcell                 1\n",
              "Name: empresa, dtype: int64"
            ]
          },
          "metadata": {},
          "execution_count": 1686
        }
      ]
    },
    {
      "cell_type": "code",
      "source": [
        "df['status_cuenta'].value_counts()"
      ],
      "metadata": {
        "colab": {
          "base_uri": "https://localhost:8080/"
        },
        "id": "RiJyZavXJbfV",
        "outputId": "870640e8-ddf0-4803-f074-6ffd31bed4e8"
      },
      "execution_count": 1687,
      "outputs": [
        {
          "output_type": "execute_result",
          "data": {
            "text/plain": [
              "Corriente    10014\n",
              "Mora          4604\n",
              "Atraso        2960\n",
              "Fraude        1696\n",
              "Cancelado      147\n",
              "Name: status_cuenta, dtype: int64"
            ]
          },
          "metadata": {},
          "execution_count": 1687
        }
      ]
    },
    {
      "cell_type": "code",
      "source": [
        "df['puntos'].value_counts()"
      ],
      "metadata": {
        "colab": {
          "base_uri": "https://localhost:8080/"
        },
        "id": "yFThA_ooLtur",
        "outputId": "ad2a239c-8239-48b2-afed-6f6b8f1ecaf8"
      },
      "execution_count": 1688,
      "outputs": [
        {
          "output_type": "execute_result",
          "data": {
            "text/plain": [
              " 12    3918\n",
              " 11    3786\n",
              " 0     3248\n",
              " 13    2760\n",
              " 9     1418\n",
              " 10    1357\n",
              " 14    1230\n",
              " 32     579\n",
              " 48     525\n",
              " 15     426\n",
              " 31     381\n",
              " 47     352\n",
              " 8      235\n",
              " 16     182\n",
              " 45     147\n",
              " 7      140\n",
              " 30     140\n",
              " 29     136\n",
              " 28     132\n",
              " 27     125\n",
              " 44     120\n",
              " 26      93\n",
              " 39      78\n",
              " 25      77\n",
              " 40      76\n",
              " 43      75\n",
              " 46      75\n",
              " 42      71\n",
              " 36      70\n",
              " 20      68\n",
              " 41      68\n",
              " 24      67\n",
              " 37      62\n",
              " 23      59\n",
              " 17      58\n",
              " 38      56\n",
              " 22      56\n",
              " 21      56\n",
              " 34      44\n",
              " 18      41\n",
              " 19      37\n",
              " 35      29\n",
              " 33      20\n",
              " 6       14\n",
              " 5       14\n",
              " 4        7\n",
              " 2        6\n",
              " 3        4\n",
              "-15       3\n",
              " 50       3\n",
              " 1        2\n",
              "-4        2\n",
              "-11       1\n",
              "-8        1\n",
              "-1        1\n",
              "-2        1\n",
              "-12       1\n",
              "-5        1\n",
              "-3        1\n",
              "Name: puntos, dtype: int64"
            ]
          },
          "metadata": {},
          "execution_count": 1688
        }
      ]
    },
    {
      "cell_type": "code",
      "source": [
        "df['puntos'].describe()"
      ],
      "metadata": {
        "colab": {
          "base_uri": "https://localhost:8080/"
        },
        "id": "KbhmbKSwlmwb",
        "outputId": "d64d0f03-3cf0-424b-9939-9bbeb3ded0de"
      },
      "execution_count": 1689,
      "outputs": [
        {
          "output_type": "execute_result",
          "data": {
            "text/plain": [
              "count    22735.000000\n",
              "mean        14.156807\n",
              "std         11.399142\n",
              "min        -15.000000\n",
              "25%         10.000000\n",
              "50%         12.000000\n",
              "75%         14.000000\n",
              "max         50.000000\n",
              "Name: puntos, dtype: float64"
            ]
          },
          "metadata": {},
          "execution_count": 1689
        }
      ]
    },
    {
      "cell_type": "code",
      "source": [
        "df['edo_venta'].value_counts()"
      ],
      "metadata": {
        "colab": {
          "base_uri": "https://localhost:8080/"
        },
        "id": "W7nYS95TDOZ4",
        "outputId": "103ff999-00aa-4ff8-ed83-57ca60491ab7"
      },
      "execution_count": 1690,
      "outputs": [
        {
          "output_type": "execute_result",
          "data": {
            "text/plain": [
              "Puebla                  6639\n",
              "Yucatan                 5660\n",
              "Veracruz                3795\n",
              "Guerrero                2215\n",
              "Oaxaca                   653\n",
              "Campeche                 596\n",
              "Tabasco                  522\n",
              "Quintana Roo             498\n",
              "Baja California Sur      451\n",
              "Tlaxcala                 308\n",
              "San Luis Potosi          217\n",
              "Chiapas                  187\n",
              "0                        119\n",
              "Hidalgo                  114\n",
              "Sonora                   104\n",
              "Guanajuato                94\n",
              "Jalisco                   94\n",
              "Coahuila De Zaragoza      86\n",
              "Morelos                   85\n",
              "Aguascalientes            71\n",
              "Estado De Mexico          67\n",
              "Nuevo Leon                63\n",
              "Queretaro                 21\n",
              "Michoacan                 20\n",
              "Sinaloa                   16\n",
              "Chihuahua                 15\n",
              "Durango                   13\n",
              "Zacatecas                  7\n",
              "Baja California            5\n",
              "Name: edo_venta, dtype: int64"
            ]
          },
          "metadata": {},
          "execution_count": 1690
        }
      ]
    },
    {
      "cell_type": "code",
      "source": [
        "df['razones_buro'].value_counts()"
      ],
      "metadata": {
        "colab": {
          "base_uri": "https://localhost:8080/"
        },
        "id": "KoaO14_bNsBb",
        "outputId": "cf4a85d0-7305-4dab-c6f8-1a557a1914c2"
      },
      "execution_count": 1691,
      "outputs": [
        {
          "output_type": "execute_result",
          "data": {
            "text/plain": [
              "C2             2422\n",
              "K0,J0,E2,D8     620\n",
              "C4              529\n",
              "C1              502\n",
              "K0,J0,E2,M1     355\n",
              "               ... \n",
              "G1,E4,E0,J0       1\n",
              "J0,P6,F7,E2       1\n",
              "D2,J0,E2,P6       1\n",
              "E0,J0,E2,         1\n",
              "E2,E0,J0,P6       1\n",
              "Name: razones_buro, Length: 1000, dtype: int64"
            ]
          },
          "metadata": {},
          "execution_count": 1691
        }
      ]
    },
    {
      "cell_type": "markdown",
      "metadata": {
        "id": "ygjOs2QgfRQs"
      },
      "source": [
        "##Realiza las acciones de preprocesamiento necesarias: Nulos y Outliers"
      ]
    },
    {
      "cell_type": "code",
      "execution_count": 1692,
      "metadata": {
        "colab": {
          "base_uri": "https://localhost:8080/"
        },
        "id": "iwV8m8tDeRWG",
        "outputId": "395979b7-a498-4055-ac91-5f4ce6e0f7a2"
      },
      "outputs": [
        {
          "output_type": "execute_result",
          "data": {
            "text/plain": [
              "folio                  0\n",
              "tag                    0\n",
              "folio_solicitud        0\n",
              "fecha                  0\n",
              "marca                  0\n",
              "modelo                 0\n",
              "plazo                  0\n",
              "precio                 0\n",
              "enganche               0\n",
              "descuento              0\n",
              "semana                 0\n",
              "monto_financiado       0\n",
              "costo_total            0\n",
              "monto_accesorios       0\n",
              "agente_venta           0\n",
              "dis_venta              0\n",
              "status                 0\n",
              "fraude                 0\n",
              "empresa                0\n",
              "inversion              0\n",
              "pagos_realizados       0\n",
              "reautorizacion         0\n",
              "fecha_ultimo_pago      0\n",
              "fecha_pago_proximo     0\n",
              "status_cuenta         35\n",
              "puntos                 0\n",
              "riesgo                 0\n",
              "score_buro             0\n",
              "razones_buro           0\n",
              "porc_eng               0\n",
              "limite_credito         0\n",
              "semana_actual          0\n",
              "cp_cliente             0\n",
              "edad_cliente           0\n",
              "cd_cliente             0\n",
              "edo_cliente            0\n",
              "cd_venta               0\n",
              "edo_venta              0\n",
              "curp                   0\n",
              "dtype: int64"
            ]
          },
          "metadata": {},
          "execution_count": 1692
        }
      ],
      "source": [
        "df1 =df.fillna(method=\"bfill\")\n",
        "df1.isnull().sum()"
      ]
    },
    {
      "cell_type": "code",
      "execution_count": 1693,
      "metadata": {
        "colab": {
          "base_uri": "https://localhost:8080/"
        },
        "id": "o7BIVo-PrKOV",
        "outputId": "5a814a8b-d0b1-4d82-8e7c-29a574fc13dc"
      },
      "outputs": [
        {
          "output_type": "execute_result",
          "data": {
            "text/plain": [
              "folio                 0\n",
              "tag                   0\n",
              "folio_solicitud       0\n",
              "fecha                 0\n",
              "marca                 0\n",
              "modelo                0\n",
              "plazo                 0\n",
              "precio                0\n",
              "enganche              0\n",
              "descuento             0\n",
              "semana                0\n",
              "monto_financiado      0\n",
              "costo_total           0\n",
              "monto_accesorios      0\n",
              "agente_venta          0\n",
              "dis_venta             0\n",
              "status                0\n",
              "fraude                0\n",
              "empresa               0\n",
              "inversion             0\n",
              "pagos_realizados      0\n",
              "reautorizacion        0\n",
              "fecha_ultimo_pago     0\n",
              "fecha_pago_proximo    0\n",
              "status_cuenta         0\n",
              "puntos                0\n",
              "riesgo                0\n",
              "score_buro            0\n",
              "razones_buro          0\n",
              "porc_eng              0\n",
              "limite_credito        0\n",
              "semana_actual         0\n",
              "cp_cliente            0\n",
              "edad_cliente          0\n",
              "cd_cliente            0\n",
              "edo_cliente           0\n",
              "cd_venta              0\n",
              "edo_venta             0\n",
              "curp                  0\n",
              "dtype: int64"
            ]
          },
          "metadata": {},
          "execution_count": 1693
        }
      ],
      "source": [
        "df1 = df1.fillna(method=\"ffill\")\n",
        "df1.isnull().sum()"
      ]
    },
    {
      "cell_type": "code",
      "execution_count": 1694,
      "metadata": {
        "colab": {
          "base_uri": "https://localhost:8080/"
        },
        "id": "jS8CBCv4rNWk",
        "outputId": "34605e63-86a9-4281-8673-1a320ca65aa9"
      },
      "outputs": [
        {
          "output_type": "execute_result",
          "data": {
            "text/plain": [
              "0"
            ]
          },
          "metadata": {},
          "execution_count": 1694
        }
      ],
      "source": [
        "df1.isnull().sum().sum()"
      ]
    },
    {
      "cell_type": "code",
      "execution_count": 1695,
      "metadata": {
        "colab": {
          "base_uri": "https://localhost:8080/"
        },
        "id": "21hIPwIgDRjh",
        "outputId": "e40c84b4-dfa3-45f7-d01d-dd223a708a53"
      },
      "outputs": [
        {
          "output_type": "stream",
          "name": "stdout",
          "text": [
            "<class 'pandas.core.frame.DataFrame'>\n",
            "RangeIndex: 22735 entries, 0 to 22734\n",
            "Data columns (total 39 columns):\n",
            " #   Column              Non-Null Count  Dtype  \n",
            "---  ------              --------------  -----  \n",
            " 0   folio               22735 non-null  int64  \n",
            " 1   tag                 22735 non-null  object \n",
            " 2   folio_solicitud     22735 non-null  int64  \n",
            " 3   fecha               22735 non-null  object \n",
            " 4   marca               22735 non-null  object \n",
            " 5   modelo              22735 non-null  object \n",
            " 6   plazo               22735 non-null  object \n",
            " 7   precio              22735 non-null  float64\n",
            " 8   enganche            22735 non-null  float64\n",
            " 9   descuento           22735 non-null  float64\n",
            " 10  semana              22735 non-null  int64  \n",
            " 11  monto_financiado    22735 non-null  float64\n",
            " 12  costo_total         22735 non-null  int64  \n",
            " 13  monto_accesorios    22735 non-null  float64\n",
            " 14  agente_venta        22735 non-null  object \n",
            " 15  dis_venta           22735 non-null  object \n",
            " 16  status              22735 non-null  int64  \n",
            " 17  fraude              22735 non-null  int64  \n",
            " 18  empresa             22735 non-null  object \n",
            " 19  inversion           22735 non-null  int64  \n",
            " 20  pagos_realizados    22735 non-null  int64  \n",
            " 21  reautorizacion      22735 non-null  int64  \n",
            " 22  fecha_ultimo_pago   22735 non-null  object \n",
            " 23  fecha_pago_proximo  22735 non-null  object \n",
            " 24  status_cuenta       22735 non-null  object \n",
            " 25  puntos              22735 non-null  int64  \n",
            " 26  riesgo              22735 non-null  float64\n",
            " 27  score_buro          22735 non-null  int64  \n",
            " 28  razones_buro        22735 non-null  object \n",
            " 29  porc_eng            22735 non-null  float64\n",
            " 30  limite_credito      22735 non-null  object \n",
            " 31  semana_actual       22735 non-null  int64  \n",
            " 32  cp_cliente          22735 non-null  object \n",
            " 33  edad_cliente        22735 non-null  float64\n",
            " 34  cd_cliente          22735 non-null  object \n",
            " 35  edo_cliente         22735 non-null  object \n",
            " 36  cd_venta            22735 non-null  object \n",
            " 37  edo_venta           22735 non-null  object \n",
            " 38  curp                22735 non-null  object \n",
            "dtypes: float64(8), int64(12), object(19)\n",
            "memory usage: 6.8+ MB\n"
          ]
        }
      ],
      "source": [
        "df1.info()"
      ]
    },
    {
      "cell_type": "markdown",
      "source": [
        "##Convertir las variables que sean necesarias en variables de tipo  dicotómica con las categorías que se consideren pertinentes, aplicando la herramienta de  “Regresión Logística”"
      ],
      "metadata": {
        "id": "UWpiNGz2NPVp"
      }
    },
    {
      "cell_type": "code",
      "execution_count": 1696,
      "metadata": {
        "id": "Q8FUK-PgEQ4Z"
      },
      "outputs": [],
      "source": [
        "df1['limite_credito'] = pd.to_numeric(df1['limite_credito'], errors='coerce')\n",
        "df1['limite_credito'].fillna(7000, inplace=True)"
      ]
    },
    {
      "cell_type": "code",
      "source": [
        "df_1 = df1.copy()\n",
        "df_1['status_cuenta_dicotomica'] = df1['status_cuenta'].apply(lambda x: 1 if 'Corriente' in x else 0)\n",
        "df_1['puntos'] = (df1['puntos'] > 30).astype(int)"
      ],
      "metadata": {
        "id": "atxPqWgIPHEG"
      },
      "execution_count": 1697,
      "outputs": []
    },
    {
      "cell_type": "code",
      "source": [
        "df_1['status_cuenta_dicotomica'].value_counts()"
      ],
      "metadata": {
        "colab": {
          "base_uri": "https://localhost:8080/"
        },
        "id": "PJ8M6nGWlLFd",
        "outputId": "2b22f897-6233-483f-abb2-ef0bdbfb93a7"
      },
      "execution_count": 1698,
      "outputs": [
        {
          "output_type": "execute_result",
          "data": {
            "text/plain": [
              "0    11812\n",
              "1    10923\n",
              "Name: status_cuenta_dicotomica, dtype: int64"
            ]
          },
          "metadata": {},
          "execution_count": 1698
        }
      ]
    },
    {
      "cell_type": "code",
      "source": [
        "df_1['puntos'].value_counts()"
      ],
      "metadata": {
        "colab": {
          "base_uri": "https://localhost:8080/"
        },
        "id": "EpPzbjeNlbhS",
        "outputId": "b20890f3-7b0d-44c1-ad71-5bf10e4d9e0b"
      },
      "execution_count": 1699,
      "outputs": [
        {
          "output_type": "execute_result",
          "data": {
            "text/plain": [
              "0    19904\n",
              "1     2831\n",
              "Name: puntos, dtype: int64"
            ]
          },
          "metadata": {},
          "execution_count": 1699
        }
      ]
    },
    {
      "cell_type": "code",
      "source": [
        "df_1"
      ],
      "metadata": {
        "colab": {
          "base_uri": "https://localhost:8080/",
          "height": 877
        },
        "id": "U37Rgt-BlHs-",
        "outputId": "fe601220-7647-4556-a46b-9c4c5c5a4b07"
      },
      "execution_count": 1700,
      "outputs": [
        {
          "output_type": "execute_result",
          "data": {
            "text/plain": [
              "       folio       tag  folio_solicitud           fecha     marca                        modelo plazo  precio  enganche  descuento  semana  monto_financiado  costo_total  monto_accesorios                      agente_venta dis_venta  status  fraude      empresa  inversion  pagos_realizados  reautorizacion fecha_ultimo_pago fecha_pago_proximo status_cuenta  puntos  riesgo  score_buro razones_buro  porc_eng  limite_credito  semana_actual cp_cliente  edad_cliente                   cd_cliente edo_cliente                     cd_venta            edo_venta                curp  status_cuenta_dicotomica\n",
              "0          3  HDNAWQ3A               30  12/11/21 19:00       ZTE            Blade A3 2020 RO B   26S  1949.0     780.0        0.0      81            1169.0         2106               0.0   Sintia Verenice Tenorio Perez E   mic0437       2       0     microtec          0                 0               0     05/03/22 0:00      12/03/22 0:00     Cancelado       0    0.00           0           C1     40.02          5000.0             26      72490          23.0                            0           0                    Tantoyuca             Veracruz  AEVM980413MVZNDR02                         0\n",
              "1          4  M418YNR4               33  12/11/21 19:15  MOTOROLA  LTE XT2097-12 E7I POWER Azul   13S  2999.0    1050.0        0.0     225            1949.0         2925               0.0             Alvaro Rafael Pascual    mic015       2       0     microtec          0                 0               0     05/03/22 0:00      12/03/22 0:00     Cancelado       0    0.00           0           C1     35.01          6000.0             13      72490          60.0                      PUEBLA         PUE.   Heroica Puebla de Zaragoza               Puebla  ZALC610119MPLPRR07                         0\n",
              "2          5  SZ7V3NZT               37  13/11/21 14:13       ZTE            BLADE A3 2020 Gris   13S  1959.0     490.0        0.0     170            1469.0         2210               0.0   Sintia Verenice Tenorio Perez E   mic0437       3       0     microtec          0                 0               0     05/03/22 0:00      12/03/22 0:00     Cancelado       0    0.00           0           C1     25.01             0.0             74      72490          58.0                    TANTOYUCA        VER.                            0                    0                   0                         0\n",
              "3          6  9I08UIQZ               38  13/11/21 15:45       ZTE            BLADE A3 2020 Gris   13S  1959.0     490.0        0.0     170            1469.0         2210               0.0        Luz Aylin Hernandez Lopez1   mic0748       2       0     microtec          0                 0               0     05/03/22 0:00      12/03/22 0:00          Mora       0    0.00           0           C1     25.01          7000.0             13      72490          42.0                  AMXTLAN PUE        VER.                     Zacatlan               Puebla  SAMJ790115MPLNRS02                         0\n",
              "4          7  JMF4LKYU               44  13/11/21 16:10  MOTOROLA                         G10 B   39S  4299.0    1075.0        0.0     178            3224.0         6942               0.0   Sintia Verenice Tenorio Perez E   mic0437       1       0     microtec          0                 0               0     05/03/22 0:00      12/03/22 0:00          Mora       0    0.00           0           C1     25.01          7000.0             74      72490          33.0                   TANTOYUCA         VER.                    Tantoyuca             Veracruz  TEHF880707HVZRRR07                         0\n",
              "...      ...       ...              ...             ...       ...                           ...   ...     ...       ...        ...     ...               ...          ...               ...                               ...       ...     ...     ...          ...        ...               ...             ...               ...                ...           ...     ...     ...         ...          ...       ...             ...            ...        ...           ...                          ...         ...                          ...                  ...                 ...                       ...\n",
              "22730  22967  92KQVRIX            96502  18/04/23 18:45  Motorola                      Moto E13   26S  3349.0     297.0        0.0     211            3052.0         5486               0.0  Mildred Asuncion Arguello Caamal    svc044       1       0     servicel          0                 0               0    18/04/23 18:45      25/04/23 0:00     Cancelado       0   27.40         469  K0,J0,D8,E2      8.87         10000.0              0      97880          22.0                    OXKUTZCAB         YUC                    Oxkutzcab              Yucatan  PACT990804MYNCCH05                         0\n",
              "22731  22968  NWB2EA8J            96479  18/04/23 18:46  Motorola                     Moto E22i   26S  4100.0    1209.0        0.0     200            2891.0         5200               0.0      Maria Guadalupe Vargas Lopez    PXC004       1       0  pixelulares          0                 0               0    18/04/23 18:46      25/04/23 0:00     Cancelado       0   19.00         502  K0,J0,D8,E2     29.49          5000.0              0      37295          27.0                         LEON         GTO                         Leon           Guanajuato  HEGB950620MGTRMN03                         0\n",
              "22732  22969  VDTRJ2W6            96442  18/04/23 18:47   Samsung                           A13   26S  4849.0    1152.0        0.0     256            3697.0         6656               0.0           Nicolás Jiménez Sánchez    gph008       1       0      grupoph          0                 0               0    18/04/23 18:47      25/04/23 0:00     Cancelado       0   26.65         459  K0,D7,F7,D8     23.76          4750.0              0      20210          36.0               AGUASCALIENTES         AGS               Aguascalientes       Aguascalientes  GADF870205HASLZL07                         0\n",
              "22733  22970  PETLF56C            96536  18/04/23 18:49   Samsung                        A53 5G   39S  9799.0    2799.0        0.0     386            7000.0        15054               0.0           Maribel Ulibarri Medina    gph014       1       0      grupoph          0                 0               0    18/04/23 18:49      25/04/23 0:00     Cancelado       0  -17.35         699  J0,G1,E0,E2     28.56          7000.0              0      78434          53.0  SOLEDAD DE GRACIANO SANCHEZ         SLP  Soledad De Graciano Sanchez      San Luis Potosi  DELJ700417HSPLRS03                         0\n",
              "22734  22971  2CI4N2WS            96534  18/04/23 18:49   Samsung                        A22 5G   26S  5399.0    1086.0        0.0     299            4313.0         7774               0.0              Netza Fierros Mateos    php005       1       0     phonepay          1                 0               0    18/04/23 18:49      25/04/23 0:00     Cancelado       0   21.80           0           C2     20.11          4750.0              0      43800          19.0                     TIZAYUCA         HGO            San Jose Del Cabo  Baja California Sur  RASI030731HDFMRSA1                         0\n",
              "\n",
              "[22735 rows x 40 columns]"
            ],
            "text/html": [
              "\n",
              "  <div id=\"df-ea1a4a83-fca8-4611-81d1-fb6b963decf1\" class=\"colab-df-container\">\n",
              "    <div>\n",
              "<style scoped>\n",
              "    .dataframe tbody tr th:only-of-type {\n",
              "        vertical-align: middle;\n",
              "    }\n",
              "\n",
              "    .dataframe tbody tr th {\n",
              "        vertical-align: top;\n",
              "    }\n",
              "\n",
              "    .dataframe thead th {\n",
              "        text-align: right;\n",
              "    }\n",
              "</style>\n",
              "<table border=\"1\" class=\"dataframe\">\n",
              "  <thead>\n",
              "    <tr style=\"text-align: right;\">\n",
              "      <th></th>\n",
              "      <th>folio</th>\n",
              "      <th>tag</th>\n",
              "      <th>folio_solicitud</th>\n",
              "      <th>fecha</th>\n",
              "      <th>marca</th>\n",
              "      <th>modelo</th>\n",
              "      <th>plazo</th>\n",
              "      <th>precio</th>\n",
              "      <th>enganche</th>\n",
              "      <th>descuento</th>\n",
              "      <th>semana</th>\n",
              "      <th>monto_financiado</th>\n",
              "      <th>costo_total</th>\n",
              "      <th>monto_accesorios</th>\n",
              "      <th>agente_venta</th>\n",
              "      <th>dis_venta</th>\n",
              "      <th>status</th>\n",
              "      <th>fraude</th>\n",
              "      <th>empresa</th>\n",
              "      <th>inversion</th>\n",
              "      <th>pagos_realizados</th>\n",
              "      <th>reautorizacion</th>\n",
              "      <th>fecha_ultimo_pago</th>\n",
              "      <th>fecha_pago_proximo</th>\n",
              "      <th>status_cuenta</th>\n",
              "      <th>puntos</th>\n",
              "      <th>riesgo</th>\n",
              "      <th>score_buro</th>\n",
              "      <th>razones_buro</th>\n",
              "      <th>porc_eng</th>\n",
              "      <th>limite_credito</th>\n",
              "      <th>semana_actual</th>\n",
              "      <th>cp_cliente</th>\n",
              "      <th>edad_cliente</th>\n",
              "      <th>cd_cliente</th>\n",
              "      <th>edo_cliente</th>\n",
              "      <th>cd_venta</th>\n",
              "      <th>edo_venta</th>\n",
              "      <th>curp</th>\n",
              "      <th>status_cuenta_dicotomica</th>\n",
              "    </tr>\n",
              "  </thead>\n",
              "  <tbody>\n",
              "    <tr>\n",
              "      <th>0</th>\n",
              "      <td>3</td>\n",
              "      <td>HDNAWQ3A</td>\n",
              "      <td>30</td>\n",
              "      <td>12/11/21 19:00</td>\n",
              "      <td>ZTE</td>\n",
              "      <td>Blade A3 2020 RO B</td>\n",
              "      <td>26S</td>\n",
              "      <td>1949.0</td>\n",
              "      <td>780.0</td>\n",
              "      <td>0.0</td>\n",
              "      <td>81</td>\n",
              "      <td>1169.0</td>\n",
              "      <td>2106</td>\n",
              "      <td>0.0</td>\n",
              "      <td>Sintia Verenice Tenorio Perez E</td>\n",
              "      <td>mic0437</td>\n",
              "      <td>2</td>\n",
              "      <td>0</td>\n",
              "      <td>microtec</td>\n",
              "      <td>0</td>\n",
              "      <td>0</td>\n",
              "      <td>0</td>\n",
              "      <td>05/03/22 0:00</td>\n",
              "      <td>12/03/22 0:00</td>\n",
              "      <td>Cancelado</td>\n",
              "      <td>0</td>\n",
              "      <td>0.00</td>\n",
              "      <td>0</td>\n",
              "      <td>C1</td>\n",
              "      <td>40.02</td>\n",
              "      <td>5000.0</td>\n",
              "      <td>26</td>\n",
              "      <td>72490</td>\n",
              "      <td>23.0</td>\n",
              "      <td>0</td>\n",
              "      <td>0</td>\n",
              "      <td>Tantoyuca</td>\n",
              "      <td>Veracruz</td>\n",
              "      <td>AEVM980413MVZNDR02</td>\n",
              "      <td>0</td>\n",
              "    </tr>\n",
              "    <tr>\n",
              "      <th>1</th>\n",
              "      <td>4</td>\n",
              "      <td>M418YNR4</td>\n",
              "      <td>33</td>\n",
              "      <td>12/11/21 19:15</td>\n",
              "      <td>MOTOROLA</td>\n",
              "      <td>LTE XT2097-12 E7I POWER Azul</td>\n",
              "      <td>13S</td>\n",
              "      <td>2999.0</td>\n",
              "      <td>1050.0</td>\n",
              "      <td>0.0</td>\n",
              "      <td>225</td>\n",
              "      <td>1949.0</td>\n",
              "      <td>2925</td>\n",
              "      <td>0.0</td>\n",
              "      <td>Alvaro Rafael Pascual</td>\n",
              "      <td>mic015</td>\n",
              "      <td>2</td>\n",
              "      <td>0</td>\n",
              "      <td>microtec</td>\n",
              "      <td>0</td>\n",
              "      <td>0</td>\n",
              "      <td>0</td>\n",
              "      <td>05/03/22 0:00</td>\n",
              "      <td>12/03/22 0:00</td>\n",
              "      <td>Cancelado</td>\n",
              "      <td>0</td>\n",
              "      <td>0.00</td>\n",
              "      <td>0</td>\n",
              "      <td>C1</td>\n",
              "      <td>35.01</td>\n",
              "      <td>6000.0</td>\n",
              "      <td>13</td>\n",
              "      <td>72490</td>\n",
              "      <td>60.0</td>\n",
              "      <td>PUEBLA</td>\n",
              "      <td>PUE.</td>\n",
              "      <td>Heroica Puebla de Zaragoza</td>\n",
              "      <td>Puebla</td>\n",
              "      <td>ZALC610119MPLPRR07</td>\n",
              "      <td>0</td>\n",
              "    </tr>\n",
              "    <tr>\n",
              "      <th>2</th>\n",
              "      <td>5</td>\n",
              "      <td>SZ7V3NZT</td>\n",
              "      <td>37</td>\n",
              "      <td>13/11/21 14:13</td>\n",
              "      <td>ZTE</td>\n",
              "      <td>BLADE A3 2020 Gris</td>\n",
              "      <td>13S</td>\n",
              "      <td>1959.0</td>\n",
              "      <td>490.0</td>\n",
              "      <td>0.0</td>\n",
              "      <td>170</td>\n",
              "      <td>1469.0</td>\n",
              "      <td>2210</td>\n",
              "      <td>0.0</td>\n",
              "      <td>Sintia Verenice Tenorio Perez E</td>\n",
              "      <td>mic0437</td>\n",
              "      <td>3</td>\n",
              "      <td>0</td>\n",
              "      <td>microtec</td>\n",
              "      <td>0</td>\n",
              "      <td>0</td>\n",
              "      <td>0</td>\n",
              "      <td>05/03/22 0:00</td>\n",
              "      <td>12/03/22 0:00</td>\n",
              "      <td>Cancelado</td>\n",
              "      <td>0</td>\n",
              "      <td>0.00</td>\n",
              "      <td>0</td>\n",
              "      <td>C1</td>\n",
              "      <td>25.01</td>\n",
              "      <td>0.0</td>\n",
              "      <td>74</td>\n",
              "      <td>72490</td>\n",
              "      <td>58.0</td>\n",
              "      <td>TANTOYUCA</td>\n",
              "      <td>VER.</td>\n",
              "      <td>0</td>\n",
              "      <td>0</td>\n",
              "      <td>0</td>\n",
              "      <td>0</td>\n",
              "    </tr>\n",
              "    <tr>\n",
              "      <th>3</th>\n",
              "      <td>6</td>\n",
              "      <td>9I08UIQZ</td>\n",
              "      <td>38</td>\n",
              "      <td>13/11/21 15:45</td>\n",
              "      <td>ZTE</td>\n",
              "      <td>BLADE A3 2020 Gris</td>\n",
              "      <td>13S</td>\n",
              "      <td>1959.0</td>\n",
              "      <td>490.0</td>\n",
              "      <td>0.0</td>\n",
              "      <td>170</td>\n",
              "      <td>1469.0</td>\n",
              "      <td>2210</td>\n",
              "      <td>0.0</td>\n",
              "      <td>Luz Aylin Hernandez Lopez1</td>\n",
              "      <td>mic0748</td>\n",
              "      <td>2</td>\n",
              "      <td>0</td>\n",
              "      <td>microtec</td>\n",
              "      <td>0</td>\n",
              "      <td>0</td>\n",
              "      <td>0</td>\n",
              "      <td>05/03/22 0:00</td>\n",
              "      <td>12/03/22 0:00</td>\n",
              "      <td>Mora</td>\n",
              "      <td>0</td>\n",
              "      <td>0.00</td>\n",
              "      <td>0</td>\n",
              "      <td>C1</td>\n",
              "      <td>25.01</td>\n",
              "      <td>7000.0</td>\n",
              "      <td>13</td>\n",
              "      <td>72490</td>\n",
              "      <td>42.0</td>\n",
              "      <td>AMXTLAN PUE</td>\n",
              "      <td>VER.</td>\n",
              "      <td>Zacatlan</td>\n",
              "      <td>Puebla</td>\n",
              "      <td>SAMJ790115MPLNRS02</td>\n",
              "      <td>0</td>\n",
              "    </tr>\n",
              "    <tr>\n",
              "      <th>4</th>\n",
              "      <td>7</td>\n",
              "      <td>JMF4LKYU</td>\n",
              "      <td>44</td>\n",
              "      <td>13/11/21 16:10</td>\n",
              "      <td>MOTOROLA</td>\n",
              "      <td>G10 B</td>\n",
              "      <td>39S</td>\n",
              "      <td>4299.0</td>\n",
              "      <td>1075.0</td>\n",
              "      <td>0.0</td>\n",
              "      <td>178</td>\n",
              "      <td>3224.0</td>\n",
              "      <td>6942</td>\n",
              "      <td>0.0</td>\n",
              "      <td>Sintia Verenice Tenorio Perez E</td>\n",
              "      <td>mic0437</td>\n",
              "      <td>1</td>\n",
              "      <td>0</td>\n",
              "      <td>microtec</td>\n",
              "      <td>0</td>\n",
              "      <td>0</td>\n",
              "      <td>0</td>\n",
              "      <td>05/03/22 0:00</td>\n",
              "      <td>12/03/22 0:00</td>\n",
              "      <td>Mora</td>\n",
              "      <td>0</td>\n",
              "      <td>0.00</td>\n",
              "      <td>0</td>\n",
              "      <td>C1</td>\n",
              "      <td>25.01</td>\n",
              "      <td>7000.0</td>\n",
              "      <td>74</td>\n",
              "      <td>72490</td>\n",
              "      <td>33.0</td>\n",
              "      <td>TANTOYUCA</td>\n",
              "      <td>VER.</td>\n",
              "      <td>Tantoyuca</td>\n",
              "      <td>Veracruz</td>\n",
              "      <td>TEHF880707HVZRRR07</td>\n",
              "      <td>0</td>\n",
              "    </tr>\n",
              "    <tr>\n",
              "      <th>...</th>\n",
              "      <td>...</td>\n",
              "      <td>...</td>\n",
              "      <td>...</td>\n",
              "      <td>...</td>\n",
              "      <td>...</td>\n",
              "      <td>...</td>\n",
              "      <td>...</td>\n",
              "      <td>...</td>\n",
              "      <td>...</td>\n",
              "      <td>...</td>\n",
              "      <td>...</td>\n",
              "      <td>...</td>\n",
              "      <td>...</td>\n",
              "      <td>...</td>\n",
              "      <td>...</td>\n",
              "      <td>...</td>\n",
              "      <td>...</td>\n",
              "      <td>...</td>\n",
              "      <td>...</td>\n",
              "      <td>...</td>\n",
              "      <td>...</td>\n",
              "      <td>...</td>\n",
              "      <td>...</td>\n",
              "      <td>...</td>\n",
              "      <td>...</td>\n",
              "      <td>...</td>\n",
              "      <td>...</td>\n",
              "      <td>...</td>\n",
              "      <td>...</td>\n",
              "      <td>...</td>\n",
              "      <td>...</td>\n",
              "      <td>...</td>\n",
              "      <td>...</td>\n",
              "      <td>...</td>\n",
              "      <td>...</td>\n",
              "      <td>...</td>\n",
              "      <td>...</td>\n",
              "      <td>...</td>\n",
              "      <td>...</td>\n",
              "      <td>...</td>\n",
              "    </tr>\n",
              "    <tr>\n",
              "      <th>22730</th>\n",
              "      <td>22967</td>\n",
              "      <td>92KQVRIX</td>\n",
              "      <td>96502</td>\n",
              "      <td>18/04/23 18:45</td>\n",
              "      <td>Motorola</td>\n",
              "      <td>Moto E13</td>\n",
              "      <td>26S</td>\n",
              "      <td>3349.0</td>\n",
              "      <td>297.0</td>\n",
              "      <td>0.0</td>\n",
              "      <td>211</td>\n",
              "      <td>3052.0</td>\n",
              "      <td>5486</td>\n",
              "      <td>0.0</td>\n",
              "      <td>Mildred Asuncion Arguello Caamal</td>\n",
              "      <td>svc044</td>\n",
              "      <td>1</td>\n",
              "      <td>0</td>\n",
              "      <td>servicel</td>\n",
              "      <td>0</td>\n",
              "      <td>0</td>\n",
              "      <td>0</td>\n",
              "      <td>18/04/23 18:45</td>\n",
              "      <td>25/04/23 0:00</td>\n",
              "      <td>Cancelado</td>\n",
              "      <td>0</td>\n",
              "      <td>27.40</td>\n",
              "      <td>469</td>\n",
              "      <td>K0,J0,D8,E2</td>\n",
              "      <td>8.87</td>\n",
              "      <td>10000.0</td>\n",
              "      <td>0</td>\n",
              "      <td>97880</td>\n",
              "      <td>22.0</td>\n",
              "      <td>OXKUTZCAB</td>\n",
              "      <td>YUC</td>\n",
              "      <td>Oxkutzcab</td>\n",
              "      <td>Yucatan</td>\n",
              "      <td>PACT990804MYNCCH05</td>\n",
              "      <td>0</td>\n",
              "    </tr>\n",
              "    <tr>\n",
              "      <th>22731</th>\n",
              "      <td>22968</td>\n",
              "      <td>NWB2EA8J</td>\n",
              "      <td>96479</td>\n",
              "      <td>18/04/23 18:46</td>\n",
              "      <td>Motorola</td>\n",
              "      <td>Moto E22i</td>\n",
              "      <td>26S</td>\n",
              "      <td>4100.0</td>\n",
              "      <td>1209.0</td>\n",
              "      <td>0.0</td>\n",
              "      <td>200</td>\n",
              "      <td>2891.0</td>\n",
              "      <td>5200</td>\n",
              "      <td>0.0</td>\n",
              "      <td>Maria Guadalupe Vargas Lopez</td>\n",
              "      <td>PXC004</td>\n",
              "      <td>1</td>\n",
              "      <td>0</td>\n",
              "      <td>pixelulares</td>\n",
              "      <td>0</td>\n",
              "      <td>0</td>\n",
              "      <td>0</td>\n",
              "      <td>18/04/23 18:46</td>\n",
              "      <td>25/04/23 0:00</td>\n",
              "      <td>Cancelado</td>\n",
              "      <td>0</td>\n",
              "      <td>19.00</td>\n",
              "      <td>502</td>\n",
              "      <td>K0,J0,D8,E2</td>\n",
              "      <td>29.49</td>\n",
              "      <td>5000.0</td>\n",
              "      <td>0</td>\n",
              "      <td>37295</td>\n",
              "      <td>27.0</td>\n",
              "      <td>LEON</td>\n",
              "      <td>GTO</td>\n",
              "      <td>Leon</td>\n",
              "      <td>Guanajuato</td>\n",
              "      <td>HEGB950620MGTRMN03</td>\n",
              "      <td>0</td>\n",
              "    </tr>\n",
              "    <tr>\n",
              "      <th>22732</th>\n",
              "      <td>22969</td>\n",
              "      <td>VDTRJ2W6</td>\n",
              "      <td>96442</td>\n",
              "      <td>18/04/23 18:47</td>\n",
              "      <td>Samsung</td>\n",
              "      <td>A13</td>\n",
              "      <td>26S</td>\n",
              "      <td>4849.0</td>\n",
              "      <td>1152.0</td>\n",
              "      <td>0.0</td>\n",
              "      <td>256</td>\n",
              "      <td>3697.0</td>\n",
              "      <td>6656</td>\n",
              "      <td>0.0</td>\n",
              "      <td>Nicolás Jiménez Sánchez</td>\n",
              "      <td>gph008</td>\n",
              "      <td>1</td>\n",
              "      <td>0</td>\n",
              "      <td>grupoph</td>\n",
              "      <td>0</td>\n",
              "      <td>0</td>\n",
              "      <td>0</td>\n",
              "      <td>18/04/23 18:47</td>\n",
              "      <td>25/04/23 0:00</td>\n",
              "      <td>Cancelado</td>\n",
              "      <td>0</td>\n",
              "      <td>26.65</td>\n",
              "      <td>459</td>\n",
              "      <td>K0,D7,F7,D8</td>\n",
              "      <td>23.76</td>\n",
              "      <td>4750.0</td>\n",
              "      <td>0</td>\n",
              "      <td>20210</td>\n",
              "      <td>36.0</td>\n",
              "      <td>AGUASCALIENTES</td>\n",
              "      <td>AGS</td>\n",
              "      <td>Aguascalientes</td>\n",
              "      <td>Aguascalientes</td>\n",
              "      <td>GADF870205HASLZL07</td>\n",
              "      <td>0</td>\n",
              "    </tr>\n",
              "    <tr>\n",
              "      <th>22733</th>\n",
              "      <td>22970</td>\n",
              "      <td>PETLF56C</td>\n",
              "      <td>96536</td>\n",
              "      <td>18/04/23 18:49</td>\n",
              "      <td>Samsung</td>\n",
              "      <td>A53 5G</td>\n",
              "      <td>39S</td>\n",
              "      <td>9799.0</td>\n",
              "      <td>2799.0</td>\n",
              "      <td>0.0</td>\n",
              "      <td>386</td>\n",
              "      <td>7000.0</td>\n",
              "      <td>15054</td>\n",
              "      <td>0.0</td>\n",
              "      <td>Maribel Ulibarri Medina</td>\n",
              "      <td>gph014</td>\n",
              "      <td>1</td>\n",
              "      <td>0</td>\n",
              "      <td>grupoph</td>\n",
              "      <td>0</td>\n",
              "      <td>0</td>\n",
              "      <td>0</td>\n",
              "      <td>18/04/23 18:49</td>\n",
              "      <td>25/04/23 0:00</td>\n",
              "      <td>Cancelado</td>\n",
              "      <td>0</td>\n",
              "      <td>-17.35</td>\n",
              "      <td>699</td>\n",
              "      <td>J0,G1,E0,E2</td>\n",
              "      <td>28.56</td>\n",
              "      <td>7000.0</td>\n",
              "      <td>0</td>\n",
              "      <td>78434</td>\n",
              "      <td>53.0</td>\n",
              "      <td>SOLEDAD DE GRACIANO SANCHEZ</td>\n",
              "      <td>SLP</td>\n",
              "      <td>Soledad De Graciano Sanchez</td>\n",
              "      <td>San Luis Potosi</td>\n",
              "      <td>DELJ700417HSPLRS03</td>\n",
              "      <td>0</td>\n",
              "    </tr>\n",
              "    <tr>\n",
              "      <th>22734</th>\n",
              "      <td>22971</td>\n",
              "      <td>2CI4N2WS</td>\n",
              "      <td>96534</td>\n",
              "      <td>18/04/23 18:49</td>\n",
              "      <td>Samsung</td>\n",
              "      <td>A22 5G</td>\n",
              "      <td>26S</td>\n",
              "      <td>5399.0</td>\n",
              "      <td>1086.0</td>\n",
              "      <td>0.0</td>\n",
              "      <td>299</td>\n",
              "      <td>4313.0</td>\n",
              "      <td>7774</td>\n",
              "      <td>0.0</td>\n",
              "      <td>Netza Fierros Mateos</td>\n",
              "      <td>php005</td>\n",
              "      <td>1</td>\n",
              "      <td>0</td>\n",
              "      <td>phonepay</td>\n",
              "      <td>1</td>\n",
              "      <td>0</td>\n",
              "      <td>0</td>\n",
              "      <td>18/04/23 18:49</td>\n",
              "      <td>25/04/23 0:00</td>\n",
              "      <td>Cancelado</td>\n",
              "      <td>0</td>\n",
              "      <td>21.80</td>\n",
              "      <td>0</td>\n",
              "      <td>C2</td>\n",
              "      <td>20.11</td>\n",
              "      <td>4750.0</td>\n",
              "      <td>0</td>\n",
              "      <td>43800</td>\n",
              "      <td>19.0</td>\n",
              "      <td>TIZAYUCA</td>\n",
              "      <td>HGO</td>\n",
              "      <td>San Jose Del Cabo</td>\n",
              "      <td>Baja California Sur</td>\n",
              "      <td>RASI030731HDFMRSA1</td>\n",
              "      <td>0</td>\n",
              "    </tr>\n",
              "  </tbody>\n",
              "</table>\n",
              "<p>22735 rows × 40 columns</p>\n",
              "</div>\n",
              "    <div class=\"colab-df-buttons\">\n",
              "\n",
              "  <div class=\"colab-df-container\">\n",
              "    <button class=\"colab-df-convert\" onclick=\"convertToInteractive('df-ea1a4a83-fca8-4611-81d1-fb6b963decf1')\"\n",
              "            title=\"Convert this dataframe to an interactive table.\"\n",
              "            style=\"display:none;\">\n",
              "\n",
              "  <svg xmlns=\"http://www.w3.org/2000/svg\" height=\"24px\" viewBox=\"0 -960 960 960\">\n",
              "    <path d=\"M120-120v-720h720v720H120Zm60-500h600v-160H180v160Zm220 220h160v-160H400v160Zm0 220h160v-160H400v160ZM180-400h160v-160H180v160Zm440 0h160v-160H620v160ZM180-180h160v-160H180v160Zm440 0h160v-160H620v160Z\"/>\n",
              "  </svg>\n",
              "    </button>\n",
              "\n",
              "  <style>\n",
              "    .colab-df-container {\n",
              "      display:flex;\n",
              "      gap: 12px;\n",
              "    }\n",
              "\n",
              "    .colab-df-convert {\n",
              "      background-color: #E8F0FE;\n",
              "      border: none;\n",
              "      border-radius: 50%;\n",
              "      cursor: pointer;\n",
              "      display: none;\n",
              "      fill: #1967D2;\n",
              "      height: 32px;\n",
              "      padding: 0 0 0 0;\n",
              "      width: 32px;\n",
              "    }\n",
              "\n",
              "    .colab-df-convert:hover {\n",
              "      background-color: #E2EBFA;\n",
              "      box-shadow: 0px 1px 2px rgba(60, 64, 67, 0.3), 0px 1px 3px 1px rgba(60, 64, 67, 0.15);\n",
              "      fill: #174EA6;\n",
              "    }\n",
              "\n",
              "    .colab-df-buttons div {\n",
              "      margin-bottom: 4px;\n",
              "    }\n",
              "\n",
              "    [theme=dark] .colab-df-convert {\n",
              "      background-color: #3B4455;\n",
              "      fill: #D2E3FC;\n",
              "    }\n",
              "\n",
              "    [theme=dark] .colab-df-convert:hover {\n",
              "      background-color: #434B5C;\n",
              "      box-shadow: 0px 1px 3px 1px rgba(0, 0, 0, 0.15);\n",
              "      filter: drop-shadow(0px 1px 2px rgba(0, 0, 0, 0.3));\n",
              "      fill: #FFFFFF;\n",
              "    }\n",
              "  </style>\n",
              "\n",
              "    <script>\n",
              "      const buttonEl =\n",
              "        document.querySelector('#df-ea1a4a83-fca8-4611-81d1-fb6b963decf1 button.colab-df-convert');\n",
              "      buttonEl.style.display =\n",
              "        google.colab.kernel.accessAllowed ? 'block' : 'none';\n",
              "\n",
              "      async function convertToInteractive(key) {\n",
              "        const element = document.querySelector('#df-ea1a4a83-fca8-4611-81d1-fb6b963decf1');\n",
              "        const dataTable =\n",
              "          await google.colab.kernel.invokeFunction('convertToInteractive',\n",
              "                                                    [key], {});\n",
              "        if (!dataTable) return;\n",
              "\n",
              "        const docLinkHtml = 'Like what you see? Visit the ' +\n",
              "          '<a target=\"_blank\" href=https://colab.research.google.com/notebooks/data_table.ipynb>data table notebook</a>'\n",
              "          + ' to learn more about interactive tables.';\n",
              "        element.innerHTML = '';\n",
              "        dataTable['output_type'] = 'display_data';\n",
              "        await google.colab.output.renderOutput(dataTable, element);\n",
              "        const docLink = document.createElement('div');\n",
              "        docLink.innerHTML = docLinkHtml;\n",
              "        element.appendChild(docLink);\n",
              "      }\n",
              "    </script>\n",
              "  </div>\n",
              "\n",
              "\n",
              "<div id=\"df-706bb108-752c-4d1c-8e60-7afb319e5856\">\n",
              "  <button class=\"colab-df-quickchart\" onclick=\"quickchart('df-706bb108-752c-4d1c-8e60-7afb319e5856')\"\n",
              "            title=\"Suggest charts.\"\n",
              "            style=\"display:none;\">\n",
              "\n",
              "<svg xmlns=\"http://www.w3.org/2000/svg\" height=\"24px\"viewBox=\"0 0 24 24\"\n",
              "     width=\"24px\">\n",
              "    <g>\n",
              "        <path d=\"M19 3H5c-1.1 0-2 .9-2 2v14c0 1.1.9 2 2 2h14c1.1 0 2-.9 2-2V5c0-1.1-.9-2-2-2zM9 17H7v-7h2v7zm4 0h-2V7h2v10zm4 0h-2v-4h2v4z\"/>\n",
              "    </g>\n",
              "</svg>\n",
              "  </button>\n",
              "\n",
              "<style>\n",
              "  .colab-df-quickchart {\n",
              "      --bg-color: #E8F0FE;\n",
              "      --fill-color: #1967D2;\n",
              "      --hover-bg-color: #E2EBFA;\n",
              "      --hover-fill-color: #174EA6;\n",
              "      --disabled-fill-color: #AAA;\n",
              "      --disabled-bg-color: #DDD;\n",
              "  }\n",
              "\n",
              "  [theme=dark] .colab-df-quickchart {\n",
              "      --bg-color: #3B4455;\n",
              "      --fill-color: #D2E3FC;\n",
              "      --hover-bg-color: #434B5C;\n",
              "      --hover-fill-color: #FFFFFF;\n",
              "      --disabled-bg-color: #3B4455;\n",
              "      --disabled-fill-color: #666;\n",
              "  }\n",
              "\n",
              "  .colab-df-quickchart {\n",
              "    background-color: var(--bg-color);\n",
              "    border: none;\n",
              "    border-radius: 50%;\n",
              "    cursor: pointer;\n",
              "    display: none;\n",
              "    fill: var(--fill-color);\n",
              "    height: 32px;\n",
              "    padding: 0;\n",
              "    width: 32px;\n",
              "  }\n",
              "\n",
              "  .colab-df-quickchart:hover {\n",
              "    background-color: var(--hover-bg-color);\n",
              "    box-shadow: 0 1px 2px rgba(60, 64, 67, 0.3), 0 1px 3px 1px rgba(60, 64, 67, 0.15);\n",
              "    fill: var(--button-hover-fill-color);\n",
              "  }\n",
              "\n",
              "  .colab-df-quickchart-complete:disabled,\n",
              "  .colab-df-quickchart-complete:disabled:hover {\n",
              "    background-color: var(--disabled-bg-color);\n",
              "    fill: var(--disabled-fill-color);\n",
              "    box-shadow: none;\n",
              "  }\n",
              "\n",
              "  .colab-df-spinner {\n",
              "    border: 2px solid var(--fill-color);\n",
              "    border-color: transparent;\n",
              "    border-bottom-color: var(--fill-color);\n",
              "    animation:\n",
              "      spin 1s steps(1) infinite;\n",
              "  }\n",
              "\n",
              "  @keyframes spin {\n",
              "    0% {\n",
              "      border-color: transparent;\n",
              "      border-bottom-color: var(--fill-color);\n",
              "      border-left-color: var(--fill-color);\n",
              "    }\n",
              "    20% {\n",
              "      border-color: transparent;\n",
              "      border-left-color: var(--fill-color);\n",
              "      border-top-color: var(--fill-color);\n",
              "    }\n",
              "    30% {\n",
              "      border-color: transparent;\n",
              "      border-left-color: var(--fill-color);\n",
              "      border-top-color: var(--fill-color);\n",
              "      border-right-color: var(--fill-color);\n",
              "    }\n",
              "    40% {\n",
              "      border-color: transparent;\n",
              "      border-right-color: var(--fill-color);\n",
              "      border-top-color: var(--fill-color);\n",
              "    }\n",
              "    60% {\n",
              "      border-color: transparent;\n",
              "      border-right-color: var(--fill-color);\n",
              "    }\n",
              "    80% {\n",
              "      border-color: transparent;\n",
              "      border-right-color: var(--fill-color);\n",
              "      border-bottom-color: var(--fill-color);\n",
              "    }\n",
              "    90% {\n",
              "      border-color: transparent;\n",
              "      border-bottom-color: var(--fill-color);\n",
              "    }\n",
              "  }\n",
              "</style>\n",
              "\n",
              "  <script>\n",
              "    async function quickchart(key) {\n",
              "      const quickchartButtonEl =\n",
              "        document.querySelector('#' + key + ' button');\n",
              "      quickchartButtonEl.disabled = true;  // To prevent multiple clicks.\n",
              "      quickchartButtonEl.classList.add('colab-df-spinner');\n",
              "      try {\n",
              "        const charts = await google.colab.kernel.invokeFunction(\n",
              "            'suggestCharts', [key], {});\n",
              "      } catch (error) {\n",
              "        console.error('Error during call to suggestCharts:', error);\n",
              "      }\n",
              "      quickchartButtonEl.classList.remove('colab-df-spinner');\n",
              "      quickchartButtonEl.classList.add('colab-df-quickchart-complete');\n",
              "    }\n",
              "    (() => {\n",
              "      let quickchartButtonEl =\n",
              "        document.querySelector('#df-706bb108-752c-4d1c-8e60-7afb319e5856 button');\n",
              "      quickchartButtonEl.style.display =\n",
              "        google.colab.kernel.accessAllowed ? 'block' : 'none';\n",
              "    })();\n",
              "  </script>\n",
              "</div>\n",
              "    </div>\n",
              "  </div>\n"
            ]
          },
          "metadata": {},
          "execution_count": 1700
        }
      ]
    },
    {
      "cell_type": "markdown",
      "metadata": {
        "id": "CANcp-u2rWCB"
      },
      "source": [
        "##Outilers"
      ]
    },
    {
      "cell_type": "code",
      "execution_count": 1701,
      "metadata": {
        "id": "5bQ6iWuRro7O"
      },
      "outputs": [],
      "source": [
        "df1_numeric = df_1.select_dtypes(include=['number'])\n",
        "categoric_columns = df_1.select_dtypes(include=['object'])"
      ]
    },
    {
      "cell_type": "code",
      "execution_count": 1702,
      "metadata": {
        "colab": {
          "base_uri": "https://localhost:8080/",
          "height": 443
        },
        "id": "rxDY3_ywKCgQ",
        "outputId": "056cff67-2797-4610-993e-723ab9fda6ea"
      },
      "outputs": [
        {
          "output_type": "execute_result",
          "data": {
            "text/plain": [
              "       folio  folio_solicitud  precio  enganche  descuento  semana  monto_financiado  costo_total  monto_accesorios  status  fraude  inversion  pagos_realizados  reautorizacion  puntos  riesgo  score_buro  porc_eng  limite_credito  semana_actual  edad_cliente  status_cuenta_dicotomica\n",
              "0          3               30  1949.0     780.0        0.0      81            1169.0         2106               0.0       2       0          0                 0               0       0    0.00           0     40.02          5000.0             26          23.0                         0\n",
              "1          4               33  2999.0    1050.0        0.0     225            1949.0         2925               0.0       2       0          0                 0               0       0    0.00           0     35.01          6000.0             13          60.0                         0\n",
              "2          5               37  1959.0     490.0        0.0     170            1469.0         2210               0.0       3       0          0                 0               0       0    0.00           0     25.01             0.0             74          58.0                         0\n",
              "3          6               38  1959.0     490.0        0.0     170            1469.0         2210               0.0       2       0          0                 0               0       0    0.00           0     25.01          7000.0             13          42.0                         0\n",
              "4          7               44  4299.0    1075.0        0.0     178            3224.0         6942               0.0       1       0          0                 0               0       0    0.00           0     25.01          7000.0             74          33.0                         0\n",
              "...      ...              ...     ...       ...        ...     ...               ...          ...               ...     ...     ...        ...               ...             ...     ...     ...         ...       ...             ...            ...           ...                       ...\n",
              "22730  22967            96502  3349.0     297.0        0.0     211            3052.0         5486               0.0       1       0          0                 0               0       0   27.40         469      8.87         10000.0              0          22.0                         0\n",
              "22731  22968            96479  4100.0    1209.0        0.0     200            2891.0         5200               0.0       1       0          0                 0               0       0   19.00         502     29.49          5000.0              0          27.0                         0\n",
              "22732  22969            96442  4849.0    1152.0        0.0     256            3697.0         6656               0.0       1       0          0                 0               0       0   26.65         459     23.76          4750.0              0          36.0                         0\n",
              "22733  22970            96536  9799.0    2799.0        0.0     386            7000.0        15054               0.0       1       0          0                 0               0       0  -17.35         699     28.56          7000.0              0          53.0                         0\n",
              "22734  22971            96534  5399.0    1086.0        0.0     299            4313.0         7774               0.0       1       0          1                 0               0       0   21.80           0     20.11          4750.0              0          19.0                         0\n",
              "\n",
              "[22735 rows x 22 columns]"
            ],
            "text/html": [
              "\n",
              "  <div id=\"df-df4776b4-a39b-4345-ace3-69fba6ea677b\" class=\"colab-df-container\">\n",
              "    <div>\n",
              "<style scoped>\n",
              "    .dataframe tbody tr th:only-of-type {\n",
              "        vertical-align: middle;\n",
              "    }\n",
              "\n",
              "    .dataframe tbody tr th {\n",
              "        vertical-align: top;\n",
              "    }\n",
              "\n",
              "    .dataframe thead th {\n",
              "        text-align: right;\n",
              "    }\n",
              "</style>\n",
              "<table border=\"1\" class=\"dataframe\">\n",
              "  <thead>\n",
              "    <tr style=\"text-align: right;\">\n",
              "      <th></th>\n",
              "      <th>folio</th>\n",
              "      <th>folio_solicitud</th>\n",
              "      <th>precio</th>\n",
              "      <th>enganche</th>\n",
              "      <th>descuento</th>\n",
              "      <th>semana</th>\n",
              "      <th>monto_financiado</th>\n",
              "      <th>costo_total</th>\n",
              "      <th>monto_accesorios</th>\n",
              "      <th>status</th>\n",
              "      <th>fraude</th>\n",
              "      <th>inversion</th>\n",
              "      <th>pagos_realizados</th>\n",
              "      <th>reautorizacion</th>\n",
              "      <th>puntos</th>\n",
              "      <th>riesgo</th>\n",
              "      <th>score_buro</th>\n",
              "      <th>porc_eng</th>\n",
              "      <th>limite_credito</th>\n",
              "      <th>semana_actual</th>\n",
              "      <th>edad_cliente</th>\n",
              "      <th>status_cuenta_dicotomica</th>\n",
              "    </tr>\n",
              "  </thead>\n",
              "  <tbody>\n",
              "    <tr>\n",
              "      <th>0</th>\n",
              "      <td>3</td>\n",
              "      <td>30</td>\n",
              "      <td>1949.0</td>\n",
              "      <td>780.0</td>\n",
              "      <td>0.0</td>\n",
              "      <td>81</td>\n",
              "      <td>1169.0</td>\n",
              "      <td>2106</td>\n",
              "      <td>0.0</td>\n",
              "      <td>2</td>\n",
              "      <td>0</td>\n",
              "      <td>0</td>\n",
              "      <td>0</td>\n",
              "      <td>0</td>\n",
              "      <td>0</td>\n",
              "      <td>0.00</td>\n",
              "      <td>0</td>\n",
              "      <td>40.02</td>\n",
              "      <td>5000.0</td>\n",
              "      <td>26</td>\n",
              "      <td>23.0</td>\n",
              "      <td>0</td>\n",
              "    </tr>\n",
              "    <tr>\n",
              "      <th>1</th>\n",
              "      <td>4</td>\n",
              "      <td>33</td>\n",
              "      <td>2999.0</td>\n",
              "      <td>1050.0</td>\n",
              "      <td>0.0</td>\n",
              "      <td>225</td>\n",
              "      <td>1949.0</td>\n",
              "      <td>2925</td>\n",
              "      <td>0.0</td>\n",
              "      <td>2</td>\n",
              "      <td>0</td>\n",
              "      <td>0</td>\n",
              "      <td>0</td>\n",
              "      <td>0</td>\n",
              "      <td>0</td>\n",
              "      <td>0.00</td>\n",
              "      <td>0</td>\n",
              "      <td>35.01</td>\n",
              "      <td>6000.0</td>\n",
              "      <td>13</td>\n",
              "      <td>60.0</td>\n",
              "      <td>0</td>\n",
              "    </tr>\n",
              "    <tr>\n",
              "      <th>2</th>\n",
              "      <td>5</td>\n",
              "      <td>37</td>\n",
              "      <td>1959.0</td>\n",
              "      <td>490.0</td>\n",
              "      <td>0.0</td>\n",
              "      <td>170</td>\n",
              "      <td>1469.0</td>\n",
              "      <td>2210</td>\n",
              "      <td>0.0</td>\n",
              "      <td>3</td>\n",
              "      <td>0</td>\n",
              "      <td>0</td>\n",
              "      <td>0</td>\n",
              "      <td>0</td>\n",
              "      <td>0</td>\n",
              "      <td>0.00</td>\n",
              "      <td>0</td>\n",
              "      <td>25.01</td>\n",
              "      <td>0.0</td>\n",
              "      <td>74</td>\n",
              "      <td>58.0</td>\n",
              "      <td>0</td>\n",
              "    </tr>\n",
              "    <tr>\n",
              "      <th>3</th>\n",
              "      <td>6</td>\n",
              "      <td>38</td>\n",
              "      <td>1959.0</td>\n",
              "      <td>490.0</td>\n",
              "      <td>0.0</td>\n",
              "      <td>170</td>\n",
              "      <td>1469.0</td>\n",
              "      <td>2210</td>\n",
              "      <td>0.0</td>\n",
              "      <td>2</td>\n",
              "      <td>0</td>\n",
              "      <td>0</td>\n",
              "      <td>0</td>\n",
              "      <td>0</td>\n",
              "      <td>0</td>\n",
              "      <td>0.00</td>\n",
              "      <td>0</td>\n",
              "      <td>25.01</td>\n",
              "      <td>7000.0</td>\n",
              "      <td>13</td>\n",
              "      <td>42.0</td>\n",
              "      <td>0</td>\n",
              "    </tr>\n",
              "    <tr>\n",
              "      <th>4</th>\n",
              "      <td>7</td>\n",
              "      <td>44</td>\n",
              "      <td>4299.0</td>\n",
              "      <td>1075.0</td>\n",
              "      <td>0.0</td>\n",
              "      <td>178</td>\n",
              "      <td>3224.0</td>\n",
              "      <td>6942</td>\n",
              "      <td>0.0</td>\n",
              "      <td>1</td>\n",
              "      <td>0</td>\n",
              "      <td>0</td>\n",
              "      <td>0</td>\n",
              "      <td>0</td>\n",
              "      <td>0</td>\n",
              "      <td>0.00</td>\n",
              "      <td>0</td>\n",
              "      <td>25.01</td>\n",
              "      <td>7000.0</td>\n",
              "      <td>74</td>\n",
              "      <td>33.0</td>\n",
              "      <td>0</td>\n",
              "    </tr>\n",
              "    <tr>\n",
              "      <th>...</th>\n",
              "      <td>...</td>\n",
              "      <td>...</td>\n",
              "      <td>...</td>\n",
              "      <td>...</td>\n",
              "      <td>...</td>\n",
              "      <td>...</td>\n",
              "      <td>...</td>\n",
              "      <td>...</td>\n",
              "      <td>...</td>\n",
              "      <td>...</td>\n",
              "      <td>...</td>\n",
              "      <td>...</td>\n",
              "      <td>...</td>\n",
              "      <td>...</td>\n",
              "      <td>...</td>\n",
              "      <td>...</td>\n",
              "      <td>...</td>\n",
              "      <td>...</td>\n",
              "      <td>...</td>\n",
              "      <td>...</td>\n",
              "      <td>...</td>\n",
              "      <td>...</td>\n",
              "    </tr>\n",
              "    <tr>\n",
              "      <th>22730</th>\n",
              "      <td>22967</td>\n",
              "      <td>96502</td>\n",
              "      <td>3349.0</td>\n",
              "      <td>297.0</td>\n",
              "      <td>0.0</td>\n",
              "      <td>211</td>\n",
              "      <td>3052.0</td>\n",
              "      <td>5486</td>\n",
              "      <td>0.0</td>\n",
              "      <td>1</td>\n",
              "      <td>0</td>\n",
              "      <td>0</td>\n",
              "      <td>0</td>\n",
              "      <td>0</td>\n",
              "      <td>0</td>\n",
              "      <td>27.40</td>\n",
              "      <td>469</td>\n",
              "      <td>8.87</td>\n",
              "      <td>10000.0</td>\n",
              "      <td>0</td>\n",
              "      <td>22.0</td>\n",
              "      <td>0</td>\n",
              "    </tr>\n",
              "    <tr>\n",
              "      <th>22731</th>\n",
              "      <td>22968</td>\n",
              "      <td>96479</td>\n",
              "      <td>4100.0</td>\n",
              "      <td>1209.0</td>\n",
              "      <td>0.0</td>\n",
              "      <td>200</td>\n",
              "      <td>2891.0</td>\n",
              "      <td>5200</td>\n",
              "      <td>0.0</td>\n",
              "      <td>1</td>\n",
              "      <td>0</td>\n",
              "      <td>0</td>\n",
              "      <td>0</td>\n",
              "      <td>0</td>\n",
              "      <td>0</td>\n",
              "      <td>19.00</td>\n",
              "      <td>502</td>\n",
              "      <td>29.49</td>\n",
              "      <td>5000.0</td>\n",
              "      <td>0</td>\n",
              "      <td>27.0</td>\n",
              "      <td>0</td>\n",
              "    </tr>\n",
              "    <tr>\n",
              "      <th>22732</th>\n",
              "      <td>22969</td>\n",
              "      <td>96442</td>\n",
              "      <td>4849.0</td>\n",
              "      <td>1152.0</td>\n",
              "      <td>0.0</td>\n",
              "      <td>256</td>\n",
              "      <td>3697.0</td>\n",
              "      <td>6656</td>\n",
              "      <td>0.0</td>\n",
              "      <td>1</td>\n",
              "      <td>0</td>\n",
              "      <td>0</td>\n",
              "      <td>0</td>\n",
              "      <td>0</td>\n",
              "      <td>0</td>\n",
              "      <td>26.65</td>\n",
              "      <td>459</td>\n",
              "      <td>23.76</td>\n",
              "      <td>4750.0</td>\n",
              "      <td>0</td>\n",
              "      <td>36.0</td>\n",
              "      <td>0</td>\n",
              "    </tr>\n",
              "    <tr>\n",
              "      <th>22733</th>\n",
              "      <td>22970</td>\n",
              "      <td>96536</td>\n",
              "      <td>9799.0</td>\n",
              "      <td>2799.0</td>\n",
              "      <td>0.0</td>\n",
              "      <td>386</td>\n",
              "      <td>7000.0</td>\n",
              "      <td>15054</td>\n",
              "      <td>0.0</td>\n",
              "      <td>1</td>\n",
              "      <td>0</td>\n",
              "      <td>0</td>\n",
              "      <td>0</td>\n",
              "      <td>0</td>\n",
              "      <td>0</td>\n",
              "      <td>-17.35</td>\n",
              "      <td>699</td>\n",
              "      <td>28.56</td>\n",
              "      <td>7000.0</td>\n",
              "      <td>0</td>\n",
              "      <td>53.0</td>\n",
              "      <td>0</td>\n",
              "    </tr>\n",
              "    <tr>\n",
              "      <th>22734</th>\n",
              "      <td>22971</td>\n",
              "      <td>96534</td>\n",
              "      <td>5399.0</td>\n",
              "      <td>1086.0</td>\n",
              "      <td>0.0</td>\n",
              "      <td>299</td>\n",
              "      <td>4313.0</td>\n",
              "      <td>7774</td>\n",
              "      <td>0.0</td>\n",
              "      <td>1</td>\n",
              "      <td>0</td>\n",
              "      <td>1</td>\n",
              "      <td>0</td>\n",
              "      <td>0</td>\n",
              "      <td>0</td>\n",
              "      <td>21.80</td>\n",
              "      <td>0</td>\n",
              "      <td>20.11</td>\n",
              "      <td>4750.0</td>\n",
              "      <td>0</td>\n",
              "      <td>19.0</td>\n",
              "      <td>0</td>\n",
              "    </tr>\n",
              "  </tbody>\n",
              "</table>\n",
              "<p>22735 rows × 22 columns</p>\n",
              "</div>\n",
              "    <div class=\"colab-df-buttons\">\n",
              "\n",
              "  <div class=\"colab-df-container\">\n",
              "    <button class=\"colab-df-convert\" onclick=\"convertToInteractive('df-df4776b4-a39b-4345-ace3-69fba6ea677b')\"\n",
              "            title=\"Convert this dataframe to an interactive table.\"\n",
              "            style=\"display:none;\">\n",
              "\n",
              "  <svg xmlns=\"http://www.w3.org/2000/svg\" height=\"24px\" viewBox=\"0 -960 960 960\">\n",
              "    <path d=\"M120-120v-720h720v720H120Zm60-500h600v-160H180v160Zm220 220h160v-160H400v160Zm0 220h160v-160H400v160ZM180-400h160v-160H180v160Zm440 0h160v-160H620v160ZM180-180h160v-160H180v160Zm440 0h160v-160H620v160Z\"/>\n",
              "  </svg>\n",
              "    </button>\n",
              "\n",
              "  <style>\n",
              "    .colab-df-container {\n",
              "      display:flex;\n",
              "      gap: 12px;\n",
              "    }\n",
              "\n",
              "    .colab-df-convert {\n",
              "      background-color: #E8F0FE;\n",
              "      border: none;\n",
              "      border-radius: 50%;\n",
              "      cursor: pointer;\n",
              "      display: none;\n",
              "      fill: #1967D2;\n",
              "      height: 32px;\n",
              "      padding: 0 0 0 0;\n",
              "      width: 32px;\n",
              "    }\n",
              "\n",
              "    .colab-df-convert:hover {\n",
              "      background-color: #E2EBFA;\n",
              "      box-shadow: 0px 1px 2px rgba(60, 64, 67, 0.3), 0px 1px 3px 1px rgba(60, 64, 67, 0.15);\n",
              "      fill: #174EA6;\n",
              "    }\n",
              "\n",
              "    .colab-df-buttons div {\n",
              "      margin-bottom: 4px;\n",
              "    }\n",
              "\n",
              "    [theme=dark] .colab-df-convert {\n",
              "      background-color: #3B4455;\n",
              "      fill: #D2E3FC;\n",
              "    }\n",
              "\n",
              "    [theme=dark] .colab-df-convert:hover {\n",
              "      background-color: #434B5C;\n",
              "      box-shadow: 0px 1px 3px 1px rgba(0, 0, 0, 0.15);\n",
              "      filter: drop-shadow(0px 1px 2px rgba(0, 0, 0, 0.3));\n",
              "      fill: #FFFFFF;\n",
              "    }\n",
              "  </style>\n",
              "\n",
              "    <script>\n",
              "      const buttonEl =\n",
              "        document.querySelector('#df-df4776b4-a39b-4345-ace3-69fba6ea677b button.colab-df-convert');\n",
              "      buttonEl.style.display =\n",
              "        google.colab.kernel.accessAllowed ? 'block' : 'none';\n",
              "\n",
              "      async function convertToInteractive(key) {\n",
              "        const element = document.querySelector('#df-df4776b4-a39b-4345-ace3-69fba6ea677b');\n",
              "        const dataTable =\n",
              "          await google.colab.kernel.invokeFunction('convertToInteractive',\n",
              "                                                    [key], {});\n",
              "        if (!dataTable) return;\n",
              "\n",
              "        const docLinkHtml = 'Like what you see? Visit the ' +\n",
              "          '<a target=\"_blank\" href=https://colab.research.google.com/notebooks/data_table.ipynb>data table notebook</a>'\n",
              "          + ' to learn more about interactive tables.';\n",
              "        element.innerHTML = '';\n",
              "        dataTable['output_type'] = 'display_data';\n",
              "        await google.colab.output.renderOutput(dataTable, element);\n",
              "        const docLink = document.createElement('div');\n",
              "        docLink.innerHTML = docLinkHtml;\n",
              "        element.appendChild(docLink);\n",
              "      }\n",
              "    </script>\n",
              "  </div>\n",
              "\n",
              "\n",
              "<div id=\"df-39802c06-500e-46b7-9055-61c7c1d496cb\">\n",
              "  <button class=\"colab-df-quickchart\" onclick=\"quickchart('df-39802c06-500e-46b7-9055-61c7c1d496cb')\"\n",
              "            title=\"Suggest charts.\"\n",
              "            style=\"display:none;\">\n",
              "\n",
              "<svg xmlns=\"http://www.w3.org/2000/svg\" height=\"24px\"viewBox=\"0 0 24 24\"\n",
              "     width=\"24px\">\n",
              "    <g>\n",
              "        <path d=\"M19 3H5c-1.1 0-2 .9-2 2v14c0 1.1.9 2 2 2h14c1.1 0 2-.9 2-2V5c0-1.1-.9-2-2-2zM9 17H7v-7h2v7zm4 0h-2V7h2v10zm4 0h-2v-4h2v4z\"/>\n",
              "    </g>\n",
              "</svg>\n",
              "  </button>\n",
              "\n",
              "<style>\n",
              "  .colab-df-quickchart {\n",
              "      --bg-color: #E8F0FE;\n",
              "      --fill-color: #1967D2;\n",
              "      --hover-bg-color: #E2EBFA;\n",
              "      --hover-fill-color: #174EA6;\n",
              "      --disabled-fill-color: #AAA;\n",
              "      --disabled-bg-color: #DDD;\n",
              "  }\n",
              "\n",
              "  [theme=dark] .colab-df-quickchart {\n",
              "      --bg-color: #3B4455;\n",
              "      --fill-color: #D2E3FC;\n",
              "      --hover-bg-color: #434B5C;\n",
              "      --hover-fill-color: #FFFFFF;\n",
              "      --disabled-bg-color: #3B4455;\n",
              "      --disabled-fill-color: #666;\n",
              "  }\n",
              "\n",
              "  .colab-df-quickchart {\n",
              "    background-color: var(--bg-color);\n",
              "    border: none;\n",
              "    border-radius: 50%;\n",
              "    cursor: pointer;\n",
              "    display: none;\n",
              "    fill: var(--fill-color);\n",
              "    height: 32px;\n",
              "    padding: 0;\n",
              "    width: 32px;\n",
              "  }\n",
              "\n",
              "  .colab-df-quickchart:hover {\n",
              "    background-color: var(--hover-bg-color);\n",
              "    box-shadow: 0 1px 2px rgba(60, 64, 67, 0.3), 0 1px 3px 1px rgba(60, 64, 67, 0.15);\n",
              "    fill: var(--button-hover-fill-color);\n",
              "  }\n",
              "\n",
              "  .colab-df-quickchart-complete:disabled,\n",
              "  .colab-df-quickchart-complete:disabled:hover {\n",
              "    background-color: var(--disabled-bg-color);\n",
              "    fill: var(--disabled-fill-color);\n",
              "    box-shadow: none;\n",
              "  }\n",
              "\n",
              "  .colab-df-spinner {\n",
              "    border: 2px solid var(--fill-color);\n",
              "    border-color: transparent;\n",
              "    border-bottom-color: var(--fill-color);\n",
              "    animation:\n",
              "      spin 1s steps(1) infinite;\n",
              "  }\n",
              "\n",
              "  @keyframes spin {\n",
              "    0% {\n",
              "      border-color: transparent;\n",
              "      border-bottom-color: var(--fill-color);\n",
              "      border-left-color: var(--fill-color);\n",
              "    }\n",
              "    20% {\n",
              "      border-color: transparent;\n",
              "      border-left-color: var(--fill-color);\n",
              "      border-top-color: var(--fill-color);\n",
              "    }\n",
              "    30% {\n",
              "      border-color: transparent;\n",
              "      border-left-color: var(--fill-color);\n",
              "      border-top-color: var(--fill-color);\n",
              "      border-right-color: var(--fill-color);\n",
              "    }\n",
              "    40% {\n",
              "      border-color: transparent;\n",
              "      border-right-color: var(--fill-color);\n",
              "      border-top-color: var(--fill-color);\n",
              "    }\n",
              "    60% {\n",
              "      border-color: transparent;\n",
              "      border-right-color: var(--fill-color);\n",
              "    }\n",
              "    80% {\n",
              "      border-color: transparent;\n",
              "      border-right-color: var(--fill-color);\n",
              "      border-bottom-color: var(--fill-color);\n",
              "    }\n",
              "    90% {\n",
              "      border-color: transparent;\n",
              "      border-bottom-color: var(--fill-color);\n",
              "    }\n",
              "  }\n",
              "</style>\n",
              "\n",
              "  <script>\n",
              "    async function quickchart(key) {\n",
              "      const quickchartButtonEl =\n",
              "        document.querySelector('#' + key + ' button');\n",
              "      quickchartButtonEl.disabled = true;  // To prevent multiple clicks.\n",
              "      quickchartButtonEl.classList.add('colab-df-spinner');\n",
              "      try {\n",
              "        const charts = await google.colab.kernel.invokeFunction(\n",
              "            'suggestCharts', [key], {});\n",
              "      } catch (error) {\n",
              "        console.error('Error during call to suggestCharts:', error);\n",
              "      }\n",
              "      quickchartButtonEl.classList.remove('colab-df-spinner');\n",
              "      quickchartButtonEl.classList.add('colab-df-quickchart-complete');\n",
              "    }\n",
              "    (() => {\n",
              "      let quickchartButtonEl =\n",
              "        document.querySelector('#df-39802c06-500e-46b7-9055-61c7c1d496cb button');\n",
              "      quickchartButtonEl.style.display =\n",
              "        google.colab.kernel.accessAllowed ? 'block' : 'none';\n",
              "    })();\n",
              "  </script>\n",
              "</div>\n",
              "    </div>\n",
              "  </div>\n"
            ]
          },
          "metadata": {},
          "execution_count": 1702
        }
      ],
      "source": [
        "df1_numeric"
      ]
    },
    {
      "cell_type": "code",
      "source": [
        "df1_numeric['reautorizacion'].value_counts()"
      ],
      "metadata": {
        "colab": {
          "base_uri": "https://localhost:8080/"
        },
        "id": "7QvxsYzdvZyQ",
        "outputId": "8f985ff4-7fa7-4140-e62e-9086d6528063"
      },
      "execution_count": 1703,
      "outputs": [
        {
          "output_type": "execute_result",
          "data": {
            "text/plain": [
              "0    21961\n",
              "1      774\n",
              "Name: reautorizacion, dtype: int64"
            ]
          },
          "metadata": {},
          "execution_count": 1703
        }
      ]
    },
    {
      "cell_type": "code",
      "execution_count": 1704,
      "metadata": {
        "colab": {
          "base_uri": "https://localhost:8080/"
        },
        "id": "SK98eLjxrXr-",
        "outputId": "ea4734ed-dba7-43e4-dbed-2825b344f6f5"
      },
      "outputs": [
        {
          "output_type": "stream",
          "name": "stdout",
          "text": [
            "Limite superior permitido folio                        31323.107698\n",
            "folio_solicitud             127723.906961\n",
            "precio                        8081.558082\n",
            "enganche                      2356.496845\n",
            "descuento                      478.215020\n",
            "semana                         541.287392\n",
            "monto_financiado              6366.317810\n",
            "costo_total                  12857.588246\n",
            "monto_accesorios               191.260880\n",
            "status                           2.611178\n",
            "fraude                           0.864131\n",
            "inversion                        1.511599\n",
            "pagos_realizados                39.306132\n",
            "reautorizacion                   0.578086\n",
            "puntos                           1.115071\n",
            "riesgo                          58.456322\n",
            "score_buro                    1142.021000\n",
            "porc_eng                        45.711306\n",
            "limite_credito               12330.101115\n",
            "semana_actual                   64.380898\n",
            "edad_cliente                   422.314014\n",
            "status_cuenta_dicotomica         1.979334\n",
            "dtype: float64\n",
            "Limite inferior permitido folio                       -8301.055796\n",
            "folio_solicitud            -36023.715538\n",
            "precio                        -87.484900\n",
            "enganche                     -503.622066\n",
            "descuento                    -321.263535\n",
            "semana                        -65.792692\n",
            "monto_financiado             -214.044583\n",
            "costo_total                 -1458.203597\n",
            "monto_accesorios             -164.333344\n",
            "status                         -0.100423\n",
            "fraude                         -0.714494\n",
            "inversion                      -1.038408\n",
            "pagos_realizados              -18.944575\n",
            "reautorizacion                 -0.509998\n",
            "puntos                         -0.866027\n",
            "riesgo                        -47.924367\n",
            "score_buro                   -562.113896\n",
            "porc_eng                        0.702805\n",
            "limite_credito               -489.287391\n",
            "semana_actual                 -23.157498\n",
            "edad_cliente                 -335.008714\n",
            "status_cuenta_dicotomica       -1.018437\n",
            "dtype: float64\n"
          ]
        }
      ],
      "source": [
        "y=df1_numeric\n",
        "Limite_Superior= y.mean() + 3*y.std()\n",
        "Limite_Inferior= y.mean() - 3*y.std()\n",
        "print(\"Limite superior permitido\", Limite_Superior)\n",
        "print(\"Limite inferior permitido\", Limite_Inferior)"
      ]
    },
    {
      "cell_type": "code",
      "execution_count": 1705,
      "metadata": {
        "id": "AYWux4AHs7On"
      },
      "outputs": [],
      "source": [
        "# Crear una lista de columnas a excluir\n",
        "columnas_excluir = ['reautorizacion', 'inversion', 'fraude']\n",
        "# Filtrar los datos\n",
        "data = df1_numeric.copy()\n",
        "for columna in columnas_excluir:\n",
        "    data[columna] = y[columna]\n",
        "\n",
        "data = data[(y <= Limite_Superior) & (y >= Limite_Inferior)]\n",
        "columnas_excluidas = df1_numeric[columnas_excluir]\n",
        "\n",
        "# Filtrar los datos\n",
        "data = df1_numeric.copy()\n",
        "data = data[(y <= Limite_Superior) & (y >= Limite_Inferior)]\n",
        "\n",
        "# Agregar las columnas excluidas de nuevo\n",
        "for columna in columnas_excluir:\n",
        "    data[columna] = columnas_excluidas[columna]"
      ]
    },
    {
      "cell_type": "code",
      "source": [
        "data['reautorizacion'].value_counts()"
      ],
      "metadata": {
        "colab": {
          "base_uri": "https://localhost:8080/"
        },
        "id": "m-KZu2FsuTKw",
        "outputId": "31b98d9b-4198-4c42-d75c-7c33bbbfa3da"
      },
      "execution_count": 1706,
      "outputs": [
        {
          "output_type": "execute_result",
          "data": {
            "text/plain": [
              "0    21961\n",
              "1      774\n",
              "Name: reautorizacion, dtype: int64"
            ]
          },
          "metadata": {},
          "execution_count": 1706
        }
      ]
    },
    {
      "cell_type": "code",
      "source": [
        "data"
      ],
      "metadata": {
        "colab": {
          "base_uri": "https://localhost:8080/",
          "height": 443
        },
        "id": "elL4pLN1HzJJ",
        "outputId": "ba2794a2-6408-483b-b10e-94e1331f8bcb"
      },
      "execution_count": 1707,
      "outputs": [
        {
          "output_type": "execute_result",
          "data": {
            "text/plain": [
              "       folio  folio_solicitud  precio  enganche  descuento  semana  monto_financiado  costo_total  monto_accesorios  status  fraude  inversion  pagos_realizados  reautorizacion  puntos  riesgo  score_buro  porc_eng  limite_credito  semana_actual  edad_cliente  status_cuenta_dicotomica\n",
              "0          3               30  1949.0     780.0        0.0    81.0            1169.0       2106.0               0.0     2.0       0          0               0.0               0       0    0.00           0     40.02          5000.0           26.0          23.0                         0\n",
              "1          4               33  2999.0    1050.0        0.0   225.0            1949.0       2925.0               0.0     2.0       0          0               0.0               0       0    0.00           0     35.01          6000.0           13.0          60.0                         0\n",
              "2          5               37  1959.0     490.0        0.0   170.0            1469.0       2210.0               0.0     NaN       0          0               0.0               0       0    0.00           0     25.01             0.0            NaN          58.0                         0\n",
              "3          6               38  1959.0     490.0        0.0   170.0            1469.0       2210.0               0.0     2.0       0          0               0.0               0       0    0.00           0     25.01          7000.0           13.0          42.0                         0\n",
              "4          7               44  4299.0    1075.0        0.0   178.0            3224.0       6942.0               0.0     1.0       0          0               0.0               0       0    0.00           0     25.01          7000.0            NaN          33.0                         0\n",
              "...      ...              ...     ...       ...        ...     ...               ...          ...               ...     ...     ...        ...               ...             ...     ...     ...         ...       ...             ...            ...           ...                       ...\n",
              "22730  22967            96502  3349.0     297.0        0.0   211.0            3052.0       5486.0               0.0     1.0       0          0               0.0               0       0   27.40         469      8.87         10000.0            0.0          22.0                         0\n",
              "22731  22968            96479  4100.0    1209.0        0.0   200.0            2891.0       5200.0               0.0     1.0       0          0               0.0               0       0   19.00         502     29.49          5000.0            0.0          27.0                         0\n",
              "22732  22969            96442  4849.0    1152.0        0.0   256.0            3697.0       6656.0               0.0     1.0       0          0               0.0               0       0   26.65         459     23.76          4750.0            0.0          36.0                         0\n",
              "22733  22970            96536     NaN       NaN        0.0   386.0               NaN          NaN               0.0     1.0       0          0               0.0               0       0  -17.35         699     28.56          7000.0            0.0          53.0                         0\n",
              "22734  22971            96534  5399.0    1086.0        0.0   299.0            4313.0       7774.0               0.0     1.0       0          1               0.0               0       0   21.80           0     20.11          4750.0            0.0          19.0                         0\n",
              "\n",
              "[22735 rows x 22 columns]"
            ],
            "text/html": [
              "\n",
              "  <div id=\"df-53496649-365d-462a-8f0f-5576e05a3a52\" class=\"colab-df-container\">\n",
              "    <div>\n",
              "<style scoped>\n",
              "    .dataframe tbody tr th:only-of-type {\n",
              "        vertical-align: middle;\n",
              "    }\n",
              "\n",
              "    .dataframe tbody tr th {\n",
              "        vertical-align: top;\n",
              "    }\n",
              "\n",
              "    .dataframe thead th {\n",
              "        text-align: right;\n",
              "    }\n",
              "</style>\n",
              "<table border=\"1\" class=\"dataframe\">\n",
              "  <thead>\n",
              "    <tr style=\"text-align: right;\">\n",
              "      <th></th>\n",
              "      <th>folio</th>\n",
              "      <th>folio_solicitud</th>\n",
              "      <th>precio</th>\n",
              "      <th>enganche</th>\n",
              "      <th>descuento</th>\n",
              "      <th>semana</th>\n",
              "      <th>monto_financiado</th>\n",
              "      <th>costo_total</th>\n",
              "      <th>monto_accesorios</th>\n",
              "      <th>status</th>\n",
              "      <th>fraude</th>\n",
              "      <th>inversion</th>\n",
              "      <th>pagos_realizados</th>\n",
              "      <th>reautorizacion</th>\n",
              "      <th>puntos</th>\n",
              "      <th>riesgo</th>\n",
              "      <th>score_buro</th>\n",
              "      <th>porc_eng</th>\n",
              "      <th>limite_credito</th>\n",
              "      <th>semana_actual</th>\n",
              "      <th>edad_cliente</th>\n",
              "      <th>status_cuenta_dicotomica</th>\n",
              "    </tr>\n",
              "  </thead>\n",
              "  <tbody>\n",
              "    <tr>\n",
              "      <th>0</th>\n",
              "      <td>3</td>\n",
              "      <td>30</td>\n",
              "      <td>1949.0</td>\n",
              "      <td>780.0</td>\n",
              "      <td>0.0</td>\n",
              "      <td>81.0</td>\n",
              "      <td>1169.0</td>\n",
              "      <td>2106.0</td>\n",
              "      <td>0.0</td>\n",
              "      <td>2.0</td>\n",
              "      <td>0</td>\n",
              "      <td>0</td>\n",
              "      <td>0.0</td>\n",
              "      <td>0</td>\n",
              "      <td>0</td>\n",
              "      <td>0.00</td>\n",
              "      <td>0</td>\n",
              "      <td>40.02</td>\n",
              "      <td>5000.0</td>\n",
              "      <td>26.0</td>\n",
              "      <td>23.0</td>\n",
              "      <td>0</td>\n",
              "    </tr>\n",
              "    <tr>\n",
              "      <th>1</th>\n",
              "      <td>4</td>\n",
              "      <td>33</td>\n",
              "      <td>2999.0</td>\n",
              "      <td>1050.0</td>\n",
              "      <td>0.0</td>\n",
              "      <td>225.0</td>\n",
              "      <td>1949.0</td>\n",
              "      <td>2925.0</td>\n",
              "      <td>0.0</td>\n",
              "      <td>2.0</td>\n",
              "      <td>0</td>\n",
              "      <td>0</td>\n",
              "      <td>0.0</td>\n",
              "      <td>0</td>\n",
              "      <td>0</td>\n",
              "      <td>0.00</td>\n",
              "      <td>0</td>\n",
              "      <td>35.01</td>\n",
              "      <td>6000.0</td>\n",
              "      <td>13.0</td>\n",
              "      <td>60.0</td>\n",
              "      <td>0</td>\n",
              "    </tr>\n",
              "    <tr>\n",
              "      <th>2</th>\n",
              "      <td>5</td>\n",
              "      <td>37</td>\n",
              "      <td>1959.0</td>\n",
              "      <td>490.0</td>\n",
              "      <td>0.0</td>\n",
              "      <td>170.0</td>\n",
              "      <td>1469.0</td>\n",
              "      <td>2210.0</td>\n",
              "      <td>0.0</td>\n",
              "      <td>NaN</td>\n",
              "      <td>0</td>\n",
              "      <td>0</td>\n",
              "      <td>0.0</td>\n",
              "      <td>0</td>\n",
              "      <td>0</td>\n",
              "      <td>0.00</td>\n",
              "      <td>0</td>\n",
              "      <td>25.01</td>\n",
              "      <td>0.0</td>\n",
              "      <td>NaN</td>\n",
              "      <td>58.0</td>\n",
              "      <td>0</td>\n",
              "    </tr>\n",
              "    <tr>\n",
              "      <th>3</th>\n",
              "      <td>6</td>\n",
              "      <td>38</td>\n",
              "      <td>1959.0</td>\n",
              "      <td>490.0</td>\n",
              "      <td>0.0</td>\n",
              "      <td>170.0</td>\n",
              "      <td>1469.0</td>\n",
              "      <td>2210.0</td>\n",
              "      <td>0.0</td>\n",
              "      <td>2.0</td>\n",
              "      <td>0</td>\n",
              "      <td>0</td>\n",
              "      <td>0.0</td>\n",
              "      <td>0</td>\n",
              "      <td>0</td>\n",
              "      <td>0.00</td>\n",
              "      <td>0</td>\n",
              "      <td>25.01</td>\n",
              "      <td>7000.0</td>\n",
              "      <td>13.0</td>\n",
              "      <td>42.0</td>\n",
              "      <td>0</td>\n",
              "    </tr>\n",
              "    <tr>\n",
              "      <th>4</th>\n",
              "      <td>7</td>\n",
              "      <td>44</td>\n",
              "      <td>4299.0</td>\n",
              "      <td>1075.0</td>\n",
              "      <td>0.0</td>\n",
              "      <td>178.0</td>\n",
              "      <td>3224.0</td>\n",
              "      <td>6942.0</td>\n",
              "      <td>0.0</td>\n",
              "      <td>1.0</td>\n",
              "      <td>0</td>\n",
              "      <td>0</td>\n",
              "      <td>0.0</td>\n",
              "      <td>0</td>\n",
              "      <td>0</td>\n",
              "      <td>0.00</td>\n",
              "      <td>0</td>\n",
              "      <td>25.01</td>\n",
              "      <td>7000.0</td>\n",
              "      <td>NaN</td>\n",
              "      <td>33.0</td>\n",
              "      <td>0</td>\n",
              "    </tr>\n",
              "    <tr>\n",
              "      <th>...</th>\n",
              "      <td>...</td>\n",
              "      <td>...</td>\n",
              "      <td>...</td>\n",
              "      <td>...</td>\n",
              "      <td>...</td>\n",
              "      <td>...</td>\n",
              "      <td>...</td>\n",
              "      <td>...</td>\n",
              "      <td>...</td>\n",
              "      <td>...</td>\n",
              "      <td>...</td>\n",
              "      <td>...</td>\n",
              "      <td>...</td>\n",
              "      <td>...</td>\n",
              "      <td>...</td>\n",
              "      <td>...</td>\n",
              "      <td>...</td>\n",
              "      <td>...</td>\n",
              "      <td>...</td>\n",
              "      <td>...</td>\n",
              "      <td>...</td>\n",
              "      <td>...</td>\n",
              "    </tr>\n",
              "    <tr>\n",
              "      <th>22730</th>\n",
              "      <td>22967</td>\n",
              "      <td>96502</td>\n",
              "      <td>3349.0</td>\n",
              "      <td>297.0</td>\n",
              "      <td>0.0</td>\n",
              "      <td>211.0</td>\n",
              "      <td>3052.0</td>\n",
              "      <td>5486.0</td>\n",
              "      <td>0.0</td>\n",
              "      <td>1.0</td>\n",
              "      <td>0</td>\n",
              "      <td>0</td>\n",
              "      <td>0.0</td>\n",
              "      <td>0</td>\n",
              "      <td>0</td>\n",
              "      <td>27.40</td>\n",
              "      <td>469</td>\n",
              "      <td>8.87</td>\n",
              "      <td>10000.0</td>\n",
              "      <td>0.0</td>\n",
              "      <td>22.0</td>\n",
              "      <td>0</td>\n",
              "    </tr>\n",
              "    <tr>\n",
              "      <th>22731</th>\n",
              "      <td>22968</td>\n",
              "      <td>96479</td>\n",
              "      <td>4100.0</td>\n",
              "      <td>1209.0</td>\n",
              "      <td>0.0</td>\n",
              "      <td>200.0</td>\n",
              "      <td>2891.0</td>\n",
              "      <td>5200.0</td>\n",
              "      <td>0.0</td>\n",
              "      <td>1.0</td>\n",
              "      <td>0</td>\n",
              "      <td>0</td>\n",
              "      <td>0.0</td>\n",
              "      <td>0</td>\n",
              "      <td>0</td>\n",
              "      <td>19.00</td>\n",
              "      <td>502</td>\n",
              "      <td>29.49</td>\n",
              "      <td>5000.0</td>\n",
              "      <td>0.0</td>\n",
              "      <td>27.0</td>\n",
              "      <td>0</td>\n",
              "    </tr>\n",
              "    <tr>\n",
              "      <th>22732</th>\n",
              "      <td>22969</td>\n",
              "      <td>96442</td>\n",
              "      <td>4849.0</td>\n",
              "      <td>1152.0</td>\n",
              "      <td>0.0</td>\n",
              "      <td>256.0</td>\n",
              "      <td>3697.0</td>\n",
              "      <td>6656.0</td>\n",
              "      <td>0.0</td>\n",
              "      <td>1.0</td>\n",
              "      <td>0</td>\n",
              "      <td>0</td>\n",
              "      <td>0.0</td>\n",
              "      <td>0</td>\n",
              "      <td>0</td>\n",
              "      <td>26.65</td>\n",
              "      <td>459</td>\n",
              "      <td>23.76</td>\n",
              "      <td>4750.0</td>\n",
              "      <td>0.0</td>\n",
              "      <td>36.0</td>\n",
              "      <td>0</td>\n",
              "    </tr>\n",
              "    <tr>\n",
              "      <th>22733</th>\n",
              "      <td>22970</td>\n",
              "      <td>96536</td>\n",
              "      <td>NaN</td>\n",
              "      <td>NaN</td>\n",
              "      <td>0.0</td>\n",
              "      <td>386.0</td>\n",
              "      <td>NaN</td>\n",
              "      <td>NaN</td>\n",
              "      <td>0.0</td>\n",
              "      <td>1.0</td>\n",
              "      <td>0</td>\n",
              "      <td>0</td>\n",
              "      <td>0.0</td>\n",
              "      <td>0</td>\n",
              "      <td>0</td>\n",
              "      <td>-17.35</td>\n",
              "      <td>699</td>\n",
              "      <td>28.56</td>\n",
              "      <td>7000.0</td>\n",
              "      <td>0.0</td>\n",
              "      <td>53.0</td>\n",
              "      <td>0</td>\n",
              "    </tr>\n",
              "    <tr>\n",
              "      <th>22734</th>\n",
              "      <td>22971</td>\n",
              "      <td>96534</td>\n",
              "      <td>5399.0</td>\n",
              "      <td>1086.0</td>\n",
              "      <td>0.0</td>\n",
              "      <td>299.0</td>\n",
              "      <td>4313.0</td>\n",
              "      <td>7774.0</td>\n",
              "      <td>0.0</td>\n",
              "      <td>1.0</td>\n",
              "      <td>0</td>\n",
              "      <td>1</td>\n",
              "      <td>0.0</td>\n",
              "      <td>0</td>\n",
              "      <td>0</td>\n",
              "      <td>21.80</td>\n",
              "      <td>0</td>\n",
              "      <td>20.11</td>\n",
              "      <td>4750.0</td>\n",
              "      <td>0.0</td>\n",
              "      <td>19.0</td>\n",
              "      <td>0</td>\n",
              "    </tr>\n",
              "  </tbody>\n",
              "</table>\n",
              "<p>22735 rows × 22 columns</p>\n",
              "</div>\n",
              "    <div class=\"colab-df-buttons\">\n",
              "\n",
              "  <div class=\"colab-df-container\">\n",
              "    <button class=\"colab-df-convert\" onclick=\"convertToInteractive('df-53496649-365d-462a-8f0f-5576e05a3a52')\"\n",
              "            title=\"Convert this dataframe to an interactive table.\"\n",
              "            style=\"display:none;\">\n",
              "\n",
              "  <svg xmlns=\"http://www.w3.org/2000/svg\" height=\"24px\" viewBox=\"0 -960 960 960\">\n",
              "    <path d=\"M120-120v-720h720v720H120Zm60-500h600v-160H180v160Zm220 220h160v-160H400v160Zm0 220h160v-160H400v160ZM180-400h160v-160H180v160Zm440 0h160v-160H620v160ZM180-180h160v-160H180v160Zm440 0h160v-160H620v160Z\"/>\n",
              "  </svg>\n",
              "    </button>\n",
              "\n",
              "  <style>\n",
              "    .colab-df-container {\n",
              "      display:flex;\n",
              "      gap: 12px;\n",
              "    }\n",
              "\n",
              "    .colab-df-convert {\n",
              "      background-color: #E8F0FE;\n",
              "      border: none;\n",
              "      border-radius: 50%;\n",
              "      cursor: pointer;\n",
              "      display: none;\n",
              "      fill: #1967D2;\n",
              "      height: 32px;\n",
              "      padding: 0 0 0 0;\n",
              "      width: 32px;\n",
              "    }\n",
              "\n",
              "    .colab-df-convert:hover {\n",
              "      background-color: #E2EBFA;\n",
              "      box-shadow: 0px 1px 2px rgba(60, 64, 67, 0.3), 0px 1px 3px 1px rgba(60, 64, 67, 0.15);\n",
              "      fill: #174EA6;\n",
              "    }\n",
              "\n",
              "    .colab-df-buttons div {\n",
              "      margin-bottom: 4px;\n",
              "    }\n",
              "\n",
              "    [theme=dark] .colab-df-convert {\n",
              "      background-color: #3B4455;\n",
              "      fill: #D2E3FC;\n",
              "    }\n",
              "\n",
              "    [theme=dark] .colab-df-convert:hover {\n",
              "      background-color: #434B5C;\n",
              "      box-shadow: 0px 1px 3px 1px rgba(0, 0, 0, 0.15);\n",
              "      filter: drop-shadow(0px 1px 2px rgba(0, 0, 0, 0.3));\n",
              "      fill: #FFFFFF;\n",
              "    }\n",
              "  </style>\n",
              "\n",
              "    <script>\n",
              "      const buttonEl =\n",
              "        document.querySelector('#df-53496649-365d-462a-8f0f-5576e05a3a52 button.colab-df-convert');\n",
              "      buttonEl.style.display =\n",
              "        google.colab.kernel.accessAllowed ? 'block' : 'none';\n",
              "\n",
              "      async function convertToInteractive(key) {\n",
              "        const element = document.querySelector('#df-53496649-365d-462a-8f0f-5576e05a3a52');\n",
              "        const dataTable =\n",
              "          await google.colab.kernel.invokeFunction('convertToInteractive',\n",
              "                                                    [key], {});\n",
              "        if (!dataTable) return;\n",
              "\n",
              "        const docLinkHtml = 'Like what you see? Visit the ' +\n",
              "          '<a target=\"_blank\" href=https://colab.research.google.com/notebooks/data_table.ipynb>data table notebook</a>'\n",
              "          + ' to learn more about interactive tables.';\n",
              "        element.innerHTML = '';\n",
              "        dataTable['output_type'] = 'display_data';\n",
              "        await google.colab.output.renderOutput(dataTable, element);\n",
              "        const docLink = document.createElement('div');\n",
              "        docLink.innerHTML = docLinkHtml;\n",
              "        element.appendChild(docLink);\n",
              "      }\n",
              "    </script>\n",
              "  </div>\n",
              "\n",
              "\n",
              "<div id=\"df-69e1adec-f37b-4d4c-95fc-feeac605317f\">\n",
              "  <button class=\"colab-df-quickchart\" onclick=\"quickchart('df-69e1adec-f37b-4d4c-95fc-feeac605317f')\"\n",
              "            title=\"Suggest charts.\"\n",
              "            style=\"display:none;\">\n",
              "\n",
              "<svg xmlns=\"http://www.w3.org/2000/svg\" height=\"24px\"viewBox=\"0 0 24 24\"\n",
              "     width=\"24px\">\n",
              "    <g>\n",
              "        <path d=\"M19 3H5c-1.1 0-2 .9-2 2v14c0 1.1.9 2 2 2h14c1.1 0 2-.9 2-2V5c0-1.1-.9-2-2-2zM9 17H7v-7h2v7zm4 0h-2V7h2v10zm4 0h-2v-4h2v4z\"/>\n",
              "    </g>\n",
              "</svg>\n",
              "  </button>\n",
              "\n",
              "<style>\n",
              "  .colab-df-quickchart {\n",
              "      --bg-color: #E8F0FE;\n",
              "      --fill-color: #1967D2;\n",
              "      --hover-bg-color: #E2EBFA;\n",
              "      --hover-fill-color: #174EA6;\n",
              "      --disabled-fill-color: #AAA;\n",
              "      --disabled-bg-color: #DDD;\n",
              "  }\n",
              "\n",
              "  [theme=dark] .colab-df-quickchart {\n",
              "      --bg-color: #3B4455;\n",
              "      --fill-color: #D2E3FC;\n",
              "      --hover-bg-color: #434B5C;\n",
              "      --hover-fill-color: #FFFFFF;\n",
              "      --disabled-bg-color: #3B4455;\n",
              "      --disabled-fill-color: #666;\n",
              "  }\n",
              "\n",
              "  .colab-df-quickchart {\n",
              "    background-color: var(--bg-color);\n",
              "    border: none;\n",
              "    border-radius: 50%;\n",
              "    cursor: pointer;\n",
              "    display: none;\n",
              "    fill: var(--fill-color);\n",
              "    height: 32px;\n",
              "    padding: 0;\n",
              "    width: 32px;\n",
              "  }\n",
              "\n",
              "  .colab-df-quickchart:hover {\n",
              "    background-color: var(--hover-bg-color);\n",
              "    box-shadow: 0 1px 2px rgba(60, 64, 67, 0.3), 0 1px 3px 1px rgba(60, 64, 67, 0.15);\n",
              "    fill: var(--button-hover-fill-color);\n",
              "  }\n",
              "\n",
              "  .colab-df-quickchart-complete:disabled,\n",
              "  .colab-df-quickchart-complete:disabled:hover {\n",
              "    background-color: var(--disabled-bg-color);\n",
              "    fill: var(--disabled-fill-color);\n",
              "    box-shadow: none;\n",
              "  }\n",
              "\n",
              "  .colab-df-spinner {\n",
              "    border: 2px solid var(--fill-color);\n",
              "    border-color: transparent;\n",
              "    border-bottom-color: var(--fill-color);\n",
              "    animation:\n",
              "      spin 1s steps(1) infinite;\n",
              "  }\n",
              "\n",
              "  @keyframes spin {\n",
              "    0% {\n",
              "      border-color: transparent;\n",
              "      border-bottom-color: var(--fill-color);\n",
              "      border-left-color: var(--fill-color);\n",
              "    }\n",
              "    20% {\n",
              "      border-color: transparent;\n",
              "      border-left-color: var(--fill-color);\n",
              "      border-top-color: var(--fill-color);\n",
              "    }\n",
              "    30% {\n",
              "      border-color: transparent;\n",
              "      border-left-color: var(--fill-color);\n",
              "      border-top-color: var(--fill-color);\n",
              "      border-right-color: var(--fill-color);\n",
              "    }\n",
              "    40% {\n",
              "      border-color: transparent;\n",
              "      border-right-color: var(--fill-color);\n",
              "      border-top-color: var(--fill-color);\n",
              "    }\n",
              "    60% {\n",
              "      border-color: transparent;\n",
              "      border-right-color: var(--fill-color);\n",
              "    }\n",
              "    80% {\n",
              "      border-color: transparent;\n",
              "      border-right-color: var(--fill-color);\n",
              "      border-bottom-color: var(--fill-color);\n",
              "    }\n",
              "    90% {\n",
              "      border-color: transparent;\n",
              "      border-bottom-color: var(--fill-color);\n",
              "    }\n",
              "  }\n",
              "</style>\n",
              "\n",
              "  <script>\n",
              "    async function quickchart(key) {\n",
              "      const quickchartButtonEl =\n",
              "        document.querySelector('#' + key + ' button');\n",
              "      quickchartButtonEl.disabled = true;  // To prevent multiple clicks.\n",
              "      quickchartButtonEl.classList.add('colab-df-spinner');\n",
              "      try {\n",
              "        const charts = await google.colab.kernel.invokeFunction(\n",
              "            'suggestCharts', [key], {});\n",
              "      } catch (error) {\n",
              "        console.error('Error during call to suggestCharts:', error);\n",
              "      }\n",
              "      quickchartButtonEl.classList.remove('colab-df-spinner');\n",
              "      quickchartButtonEl.classList.add('colab-df-quickchart-complete');\n",
              "    }\n",
              "    (() => {\n",
              "      let quickchartButtonEl =\n",
              "        document.querySelector('#df-69e1adec-f37b-4d4c-95fc-feeac605317f button');\n",
              "      quickchartButtonEl.style.display =\n",
              "        google.colab.kernel.accessAllowed ? 'block' : 'none';\n",
              "    })();\n",
              "  </script>\n",
              "</div>\n",
              "    </div>\n",
              "  </div>\n"
            ]
          },
          "metadata": {},
          "execution_count": 1707
        }
      ]
    },
    {
      "cell_type": "code",
      "execution_count": 1708,
      "metadata": {
        "colab": {
          "base_uri": "https://localhost:8080/",
          "height": 914
        },
        "id": "91BHI1SbudtQ",
        "outputId": "73961fbb-0484-45df-ca2c-d36bf571cc3f"
      },
      "outputs": [
        {
          "output_type": "stream",
          "name": "stderr",
          "text": [
            "<ipython-input-1708-035c3f9086c7>:7: FutureWarning: The default value of numeric_only in DataFrame.mean is deprecated. In a future version, it will default to False. In addition, specifying 'numeric_only=None' is deprecated. Select only valid columns or specify the value of numeric_only to silence this warning.\n",
            "  promedio_valores = data_clean.drop(moda_columns, axis=1).mean()\n"
          ]
        },
        {
          "output_type": "execute_result",
          "data": {
            "text/plain": [
              "       folio  folio_solicitud       precio    enganche  descuento  semana  monto_financiado  costo_total  monto_accesorios  status  fraude  inversion  pagos_realizados  reautorizacion  puntos  riesgo  score_buro  porc_eng  limite_credito  semana_actual  edad_cliente  status_cuenta_dicotomica       tag           fecha     marca                        modelo plazo                      agente_venta dis_venta      empresa fecha_ultimo_pago fecha_pago_proximo status_cuenta razones_buro cp_cliente                   cd_cliente edo_cliente                     cd_venta            edo_venta                curp\n",
              "0          3               30  1949.000000   780.00000        0.0    81.0        1169.00000  2106.000000               0.0     2.0       0          0               0.0               0       0    0.00           0     40.02          5000.0      26.000000          23.0                         0  HDNAWQ3A  12/11/21 19:00       ZTE            Blade A3 2020 RO B   26S   Sintia Verenice Tenorio Perez E   mic0437     microtec     05/03/22 0:00      12/03/22 0:00     Cancelado           C1      72490                            0           0                    Tantoyuca             Veracruz  AEVM980413MVZNDR02\n",
              "1          4               33  2999.000000  1050.00000        0.0   225.0        1949.00000  2925.000000               0.0     2.0       0          0               0.0               0       0    0.00           0     35.01          6000.0      13.000000          60.0                         0  M418YNR4  12/11/21 19:15  MOTOROLA  LTE XT2097-12 E7I POWER Azul   13S             Alvaro Rafael Pascual    mic015     microtec     05/03/22 0:00      12/03/22 0:00     Cancelado           C1      72490                      PUEBLA         PUE.   Heroica Puebla de Zaragoza               Puebla  ZALC610119MPLPRR07\n",
              "2          5               37  1959.000000   490.00000        0.0   170.0        1469.00000  2210.000000               0.0     1.0       0          0               0.0               0       0    0.00           0     25.01             0.0      20.238285          58.0                         0  SZ7V3NZT  13/11/21 14:13       ZTE            BLADE A3 2020 Gris   13S   Sintia Verenice Tenorio Perez E   mic0437     microtec     05/03/22 0:00      12/03/22 0:00     Cancelado           C1      72490                    TANTOYUCA        VER.                            0                    0                   0\n",
              "3          6               38  1959.000000   490.00000        0.0   170.0        1469.00000  2210.000000               0.0     2.0       0          0               0.0               0       0    0.00           0     25.01          7000.0      13.000000          42.0                         0  9I08UIQZ  13/11/21 15:45       ZTE            BLADE A3 2020 Gris   13S        Luz Aylin Hernandez Lopez1   mic0748     microtec     05/03/22 0:00      12/03/22 0:00          Mora           C1      72490                  AMXTLAN PUE        VER.                     Zacatlan               Puebla  SAMJ790115MPLNRS02\n",
              "4          7               44  4299.000000  1075.00000        0.0   178.0        3224.00000  6942.000000               0.0     1.0       0          0               0.0               0       0    0.00           0     25.01          7000.0      20.238285          33.0                         0  JMF4LKYU  13/11/21 16:10  MOTOROLA                         G10 B   39S   Sintia Verenice Tenorio Perez E   mic0437     microtec     05/03/22 0:00      12/03/22 0:00          Mora           C1      72490                   TANTOYUCA         VER.                    Tantoyuca             Veracruz  TEHF880707HVZRRR07\n",
              "...      ...              ...          ...         ...        ...     ...               ...          ...               ...     ...     ...        ...               ...             ...     ...     ...         ...       ...             ...            ...           ...                       ...       ...             ...       ...                           ...   ...                               ...       ...          ...               ...                ...           ...          ...        ...                          ...         ...                          ...                  ...                 ...\n",
              "22730  22967            96502  3349.000000   297.00000        0.0   211.0        3052.00000  5486.000000               0.0     1.0       0          0               0.0               0       0   27.40         469      8.87         10000.0       0.000000          22.0                         0  92KQVRIX  18/04/23 18:45  Motorola                      Moto E13   26S  Mildred Asuncion Arguello Caamal    svc044     servicel    18/04/23 18:45      25/04/23 0:00     Cancelado  K0,J0,D8,E2      97880                    OXKUTZCAB         YUC                    Oxkutzcab              Yucatan  PACT990804MYNCCH05\n",
              "22731  22968            96479  4100.000000  1209.00000        0.0   200.0        2891.00000  5200.000000               0.0     1.0       0          0               0.0               0       0   19.00         502     29.49          5000.0       0.000000          27.0                         0  NWB2EA8J  18/04/23 18:46  Motorola                     Moto E22i   26S      Maria Guadalupe Vargas Lopez    PXC004  pixelulares    18/04/23 18:46      25/04/23 0:00     Cancelado  K0,J0,D8,E2      37295                         LEON         GTO                         Leon           Guanajuato  HEGB950620MGTRMN03\n",
              "22732  22969            96442  4849.000000  1152.00000        0.0   256.0        3697.00000  6656.000000               0.0     1.0       0          0               0.0               0       0   26.65         459     23.76          4750.0       0.000000          36.0                         0  VDTRJ2W6  18/04/23 18:47   Samsung                           A13   26S           Nicolás Jiménez Sánchez    gph008      grupoph    18/04/23 18:47      25/04/23 0:00     Cancelado  K0,D7,F7,D8      20210               AGUASCALIENTES         AGS               Aguascalientes       Aguascalientes  GADF870205HASLZL07\n",
              "22733  22970            96536  3969.204809   897.57116        0.0   386.0        3043.78942  5588.620361               0.0     1.0       0          0               0.0               0       0  -17.35         699     28.56          7000.0       0.000000          53.0                         0  PETLF56C  18/04/23 18:49   Samsung                        A53 5G   39S           Maribel Ulibarri Medina    gph014      grupoph    18/04/23 18:49      25/04/23 0:00     Cancelado  J0,G1,E0,E2      78434  SOLEDAD DE GRACIANO SANCHEZ         SLP  Soledad De Graciano Sanchez      San Luis Potosi  DELJ700417HSPLRS03\n",
              "22734  22971            96534  5399.000000  1086.00000        0.0   299.0        4313.00000  7774.000000               0.0     1.0       0          1               0.0               0       0   21.80           0     20.11          4750.0       0.000000          19.0                         0  2CI4N2WS  18/04/23 18:49   Samsung                        A22 5G   26S              Netza Fierros Mateos    php005     phonepay    18/04/23 18:49      25/04/23 0:00     Cancelado           C2      43800                     TIZAYUCA         HGO            San Jose Del Cabo  Baja California Sur  RASI030731HDFMRSA1\n",
              "\n",
              "[22735 rows x 40 columns]"
            ],
            "text/html": [
              "\n",
              "  <div id=\"df-cb66c30d-4ae7-4726-96be-b88a38912464\" class=\"colab-df-container\">\n",
              "    <div>\n",
              "<style scoped>\n",
              "    .dataframe tbody tr th:only-of-type {\n",
              "        vertical-align: middle;\n",
              "    }\n",
              "\n",
              "    .dataframe tbody tr th {\n",
              "        vertical-align: top;\n",
              "    }\n",
              "\n",
              "    .dataframe thead th {\n",
              "        text-align: right;\n",
              "    }\n",
              "</style>\n",
              "<table border=\"1\" class=\"dataframe\">\n",
              "  <thead>\n",
              "    <tr style=\"text-align: right;\">\n",
              "      <th></th>\n",
              "      <th>folio</th>\n",
              "      <th>folio_solicitud</th>\n",
              "      <th>precio</th>\n",
              "      <th>enganche</th>\n",
              "      <th>descuento</th>\n",
              "      <th>semana</th>\n",
              "      <th>monto_financiado</th>\n",
              "      <th>costo_total</th>\n",
              "      <th>monto_accesorios</th>\n",
              "      <th>status</th>\n",
              "      <th>fraude</th>\n",
              "      <th>inversion</th>\n",
              "      <th>pagos_realizados</th>\n",
              "      <th>reautorizacion</th>\n",
              "      <th>puntos</th>\n",
              "      <th>riesgo</th>\n",
              "      <th>score_buro</th>\n",
              "      <th>porc_eng</th>\n",
              "      <th>limite_credito</th>\n",
              "      <th>semana_actual</th>\n",
              "      <th>edad_cliente</th>\n",
              "      <th>status_cuenta_dicotomica</th>\n",
              "      <th>tag</th>\n",
              "      <th>fecha</th>\n",
              "      <th>marca</th>\n",
              "      <th>modelo</th>\n",
              "      <th>plazo</th>\n",
              "      <th>agente_venta</th>\n",
              "      <th>dis_venta</th>\n",
              "      <th>empresa</th>\n",
              "      <th>fecha_ultimo_pago</th>\n",
              "      <th>fecha_pago_proximo</th>\n",
              "      <th>status_cuenta</th>\n",
              "      <th>razones_buro</th>\n",
              "      <th>cp_cliente</th>\n",
              "      <th>cd_cliente</th>\n",
              "      <th>edo_cliente</th>\n",
              "      <th>cd_venta</th>\n",
              "      <th>edo_venta</th>\n",
              "      <th>curp</th>\n",
              "    </tr>\n",
              "  </thead>\n",
              "  <tbody>\n",
              "    <tr>\n",
              "      <th>0</th>\n",
              "      <td>3</td>\n",
              "      <td>30</td>\n",
              "      <td>1949.000000</td>\n",
              "      <td>780.00000</td>\n",
              "      <td>0.0</td>\n",
              "      <td>81.0</td>\n",
              "      <td>1169.00000</td>\n",
              "      <td>2106.000000</td>\n",
              "      <td>0.0</td>\n",
              "      <td>2.0</td>\n",
              "      <td>0</td>\n",
              "      <td>0</td>\n",
              "      <td>0.0</td>\n",
              "      <td>0</td>\n",
              "      <td>0</td>\n",
              "      <td>0.00</td>\n",
              "      <td>0</td>\n",
              "      <td>40.02</td>\n",
              "      <td>5000.0</td>\n",
              "      <td>26.000000</td>\n",
              "      <td>23.0</td>\n",
              "      <td>0</td>\n",
              "      <td>HDNAWQ3A</td>\n",
              "      <td>12/11/21 19:00</td>\n",
              "      <td>ZTE</td>\n",
              "      <td>Blade A3 2020 RO B</td>\n",
              "      <td>26S</td>\n",
              "      <td>Sintia Verenice Tenorio Perez E</td>\n",
              "      <td>mic0437</td>\n",
              "      <td>microtec</td>\n",
              "      <td>05/03/22 0:00</td>\n",
              "      <td>12/03/22 0:00</td>\n",
              "      <td>Cancelado</td>\n",
              "      <td>C1</td>\n",
              "      <td>72490</td>\n",
              "      <td>0</td>\n",
              "      <td>0</td>\n",
              "      <td>Tantoyuca</td>\n",
              "      <td>Veracruz</td>\n",
              "      <td>AEVM980413MVZNDR02</td>\n",
              "    </tr>\n",
              "    <tr>\n",
              "      <th>1</th>\n",
              "      <td>4</td>\n",
              "      <td>33</td>\n",
              "      <td>2999.000000</td>\n",
              "      <td>1050.00000</td>\n",
              "      <td>0.0</td>\n",
              "      <td>225.0</td>\n",
              "      <td>1949.00000</td>\n",
              "      <td>2925.000000</td>\n",
              "      <td>0.0</td>\n",
              "      <td>2.0</td>\n",
              "      <td>0</td>\n",
              "      <td>0</td>\n",
              "      <td>0.0</td>\n",
              "      <td>0</td>\n",
              "      <td>0</td>\n",
              "      <td>0.00</td>\n",
              "      <td>0</td>\n",
              "      <td>35.01</td>\n",
              "      <td>6000.0</td>\n",
              "      <td>13.000000</td>\n",
              "      <td>60.0</td>\n",
              "      <td>0</td>\n",
              "      <td>M418YNR4</td>\n",
              "      <td>12/11/21 19:15</td>\n",
              "      <td>MOTOROLA</td>\n",
              "      <td>LTE XT2097-12 E7I POWER Azul</td>\n",
              "      <td>13S</td>\n",
              "      <td>Alvaro Rafael Pascual</td>\n",
              "      <td>mic015</td>\n",
              "      <td>microtec</td>\n",
              "      <td>05/03/22 0:00</td>\n",
              "      <td>12/03/22 0:00</td>\n",
              "      <td>Cancelado</td>\n",
              "      <td>C1</td>\n",
              "      <td>72490</td>\n",
              "      <td>PUEBLA</td>\n",
              "      <td>PUE.</td>\n",
              "      <td>Heroica Puebla de Zaragoza</td>\n",
              "      <td>Puebla</td>\n",
              "      <td>ZALC610119MPLPRR07</td>\n",
              "    </tr>\n",
              "    <tr>\n",
              "      <th>2</th>\n",
              "      <td>5</td>\n",
              "      <td>37</td>\n",
              "      <td>1959.000000</td>\n",
              "      <td>490.00000</td>\n",
              "      <td>0.0</td>\n",
              "      <td>170.0</td>\n",
              "      <td>1469.00000</td>\n",
              "      <td>2210.000000</td>\n",
              "      <td>0.0</td>\n",
              "      <td>1.0</td>\n",
              "      <td>0</td>\n",
              "      <td>0</td>\n",
              "      <td>0.0</td>\n",
              "      <td>0</td>\n",
              "      <td>0</td>\n",
              "      <td>0.00</td>\n",
              "      <td>0</td>\n",
              "      <td>25.01</td>\n",
              "      <td>0.0</td>\n",
              "      <td>20.238285</td>\n",
              "      <td>58.0</td>\n",
              "      <td>0</td>\n",
              "      <td>SZ7V3NZT</td>\n",
              "      <td>13/11/21 14:13</td>\n",
              "      <td>ZTE</td>\n",
              "      <td>BLADE A3 2020 Gris</td>\n",
              "      <td>13S</td>\n",
              "      <td>Sintia Verenice Tenorio Perez E</td>\n",
              "      <td>mic0437</td>\n",
              "      <td>microtec</td>\n",
              "      <td>05/03/22 0:00</td>\n",
              "      <td>12/03/22 0:00</td>\n",
              "      <td>Cancelado</td>\n",
              "      <td>C1</td>\n",
              "      <td>72490</td>\n",
              "      <td>TANTOYUCA</td>\n",
              "      <td>VER.</td>\n",
              "      <td>0</td>\n",
              "      <td>0</td>\n",
              "      <td>0</td>\n",
              "    </tr>\n",
              "    <tr>\n",
              "      <th>3</th>\n",
              "      <td>6</td>\n",
              "      <td>38</td>\n",
              "      <td>1959.000000</td>\n",
              "      <td>490.00000</td>\n",
              "      <td>0.0</td>\n",
              "      <td>170.0</td>\n",
              "      <td>1469.00000</td>\n",
              "      <td>2210.000000</td>\n",
              "      <td>0.0</td>\n",
              "      <td>2.0</td>\n",
              "      <td>0</td>\n",
              "      <td>0</td>\n",
              "      <td>0.0</td>\n",
              "      <td>0</td>\n",
              "      <td>0</td>\n",
              "      <td>0.00</td>\n",
              "      <td>0</td>\n",
              "      <td>25.01</td>\n",
              "      <td>7000.0</td>\n",
              "      <td>13.000000</td>\n",
              "      <td>42.0</td>\n",
              "      <td>0</td>\n",
              "      <td>9I08UIQZ</td>\n",
              "      <td>13/11/21 15:45</td>\n",
              "      <td>ZTE</td>\n",
              "      <td>BLADE A3 2020 Gris</td>\n",
              "      <td>13S</td>\n",
              "      <td>Luz Aylin Hernandez Lopez1</td>\n",
              "      <td>mic0748</td>\n",
              "      <td>microtec</td>\n",
              "      <td>05/03/22 0:00</td>\n",
              "      <td>12/03/22 0:00</td>\n",
              "      <td>Mora</td>\n",
              "      <td>C1</td>\n",
              "      <td>72490</td>\n",
              "      <td>AMXTLAN PUE</td>\n",
              "      <td>VER.</td>\n",
              "      <td>Zacatlan</td>\n",
              "      <td>Puebla</td>\n",
              "      <td>SAMJ790115MPLNRS02</td>\n",
              "    </tr>\n",
              "    <tr>\n",
              "      <th>4</th>\n",
              "      <td>7</td>\n",
              "      <td>44</td>\n",
              "      <td>4299.000000</td>\n",
              "      <td>1075.00000</td>\n",
              "      <td>0.0</td>\n",
              "      <td>178.0</td>\n",
              "      <td>3224.00000</td>\n",
              "      <td>6942.000000</td>\n",
              "      <td>0.0</td>\n",
              "      <td>1.0</td>\n",
              "      <td>0</td>\n",
              "      <td>0</td>\n",
              "      <td>0.0</td>\n",
              "      <td>0</td>\n",
              "      <td>0</td>\n",
              "      <td>0.00</td>\n",
              "      <td>0</td>\n",
              "      <td>25.01</td>\n",
              "      <td>7000.0</td>\n",
              "      <td>20.238285</td>\n",
              "      <td>33.0</td>\n",
              "      <td>0</td>\n",
              "      <td>JMF4LKYU</td>\n",
              "      <td>13/11/21 16:10</td>\n",
              "      <td>MOTOROLA</td>\n",
              "      <td>G10 B</td>\n",
              "      <td>39S</td>\n",
              "      <td>Sintia Verenice Tenorio Perez E</td>\n",
              "      <td>mic0437</td>\n",
              "      <td>microtec</td>\n",
              "      <td>05/03/22 0:00</td>\n",
              "      <td>12/03/22 0:00</td>\n",
              "      <td>Mora</td>\n",
              "      <td>C1</td>\n",
              "      <td>72490</td>\n",
              "      <td>TANTOYUCA</td>\n",
              "      <td>VER.</td>\n",
              "      <td>Tantoyuca</td>\n",
              "      <td>Veracruz</td>\n",
              "      <td>TEHF880707HVZRRR07</td>\n",
              "    </tr>\n",
              "    <tr>\n",
              "      <th>...</th>\n",
              "      <td>...</td>\n",
              "      <td>...</td>\n",
              "      <td>...</td>\n",
              "      <td>...</td>\n",
              "      <td>...</td>\n",
              "      <td>...</td>\n",
              "      <td>...</td>\n",
              "      <td>...</td>\n",
              "      <td>...</td>\n",
              "      <td>...</td>\n",
              "      <td>...</td>\n",
              "      <td>...</td>\n",
              "      <td>...</td>\n",
              "      <td>...</td>\n",
              "      <td>...</td>\n",
              "      <td>...</td>\n",
              "      <td>...</td>\n",
              "      <td>...</td>\n",
              "      <td>...</td>\n",
              "      <td>...</td>\n",
              "      <td>...</td>\n",
              "      <td>...</td>\n",
              "      <td>...</td>\n",
              "      <td>...</td>\n",
              "      <td>...</td>\n",
              "      <td>...</td>\n",
              "      <td>...</td>\n",
              "      <td>...</td>\n",
              "      <td>...</td>\n",
              "      <td>...</td>\n",
              "      <td>...</td>\n",
              "      <td>...</td>\n",
              "      <td>...</td>\n",
              "      <td>...</td>\n",
              "      <td>...</td>\n",
              "      <td>...</td>\n",
              "      <td>...</td>\n",
              "      <td>...</td>\n",
              "      <td>...</td>\n",
              "      <td>...</td>\n",
              "    </tr>\n",
              "    <tr>\n",
              "      <th>22730</th>\n",
              "      <td>22967</td>\n",
              "      <td>96502</td>\n",
              "      <td>3349.000000</td>\n",
              "      <td>297.00000</td>\n",
              "      <td>0.0</td>\n",
              "      <td>211.0</td>\n",
              "      <td>3052.00000</td>\n",
              "      <td>5486.000000</td>\n",
              "      <td>0.0</td>\n",
              "      <td>1.0</td>\n",
              "      <td>0</td>\n",
              "      <td>0</td>\n",
              "      <td>0.0</td>\n",
              "      <td>0</td>\n",
              "      <td>0</td>\n",
              "      <td>27.40</td>\n",
              "      <td>469</td>\n",
              "      <td>8.87</td>\n",
              "      <td>10000.0</td>\n",
              "      <td>0.000000</td>\n",
              "      <td>22.0</td>\n",
              "      <td>0</td>\n",
              "      <td>92KQVRIX</td>\n",
              "      <td>18/04/23 18:45</td>\n",
              "      <td>Motorola</td>\n",
              "      <td>Moto E13</td>\n",
              "      <td>26S</td>\n",
              "      <td>Mildred Asuncion Arguello Caamal</td>\n",
              "      <td>svc044</td>\n",
              "      <td>servicel</td>\n",
              "      <td>18/04/23 18:45</td>\n",
              "      <td>25/04/23 0:00</td>\n",
              "      <td>Cancelado</td>\n",
              "      <td>K0,J0,D8,E2</td>\n",
              "      <td>97880</td>\n",
              "      <td>OXKUTZCAB</td>\n",
              "      <td>YUC</td>\n",
              "      <td>Oxkutzcab</td>\n",
              "      <td>Yucatan</td>\n",
              "      <td>PACT990804MYNCCH05</td>\n",
              "    </tr>\n",
              "    <tr>\n",
              "      <th>22731</th>\n",
              "      <td>22968</td>\n",
              "      <td>96479</td>\n",
              "      <td>4100.000000</td>\n",
              "      <td>1209.00000</td>\n",
              "      <td>0.0</td>\n",
              "      <td>200.0</td>\n",
              "      <td>2891.00000</td>\n",
              "      <td>5200.000000</td>\n",
              "      <td>0.0</td>\n",
              "      <td>1.0</td>\n",
              "      <td>0</td>\n",
              "      <td>0</td>\n",
              "      <td>0.0</td>\n",
              "      <td>0</td>\n",
              "      <td>0</td>\n",
              "      <td>19.00</td>\n",
              "      <td>502</td>\n",
              "      <td>29.49</td>\n",
              "      <td>5000.0</td>\n",
              "      <td>0.000000</td>\n",
              "      <td>27.0</td>\n",
              "      <td>0</td>\n",
              "      <td>NWB2EA8J</td>\n",
              "      <td>18/04/23 18:46</td>\n",
              "      <td>Motorola</td>\n",
              "      <td>Moto E22i</td>\n",
              "      <td>26S</td>\n",
              "      <td>Maria Guadalupe Vargas Lopez</td>\n",
              "      <td>PXC004</td>\n",
              "      <td>pixelulares</td>\n",
              "      <td>18/04/23 18:46</td>\n",
              "      <td>25/04/23 0:00</td>\n",
              "      <td>Cancelado</td>\n",
              "      <td>K0,J0,D8,E2</td>\n",
              "      <td>37295</td>\n",
              "      <td>LEON</td>\n",
              "      <td>GTO</td>\n",
              "      <td>Leon</td>\n",
              "      <td>Guanajuato</td>\n",
              "      <td>HEGB950620MGTRMN03</td>\n",
              "    </tr>\n",
              "    <tr>\n",
              "      <th>22732</th>\n",
              "      <td>22969</td>\n",
              "      <td>96442</td>\n",
              "      <td>4849.000000</td>\n",
              "      <td>1152.00000</td>\n",
              "      <td>0.0</td>\n",
              "      <td>256.0</td>\n",
              "      <td>3697.00000</td>\n",
              "      <td>6656.000000</td>\n",
              "      <td>0.0</td>\n",
              "      <td>1.0</td>\n",
              "      <td>0</td>\n",
              "      <td>0</td>\n",
              "      <td>0.0</td>\n",
              "      <td>0</td>\n",
              "      <td>0</td>\n",
              "      <td>26.65</td>\n",
              "      <td>459</td>\n",
              "      <td>23.76</td>\n",
              "      <td>4750.0</td>\n",
              "      <td>0.000000</td>\n",
              "      <td>36.0</td>\n",
              "      <td>0</td>\n",
              "      <td>VDTRJ2W6</td>\n",
              "      <td>18/04/23 18:47</td>\n",
              "      <td>Samsung</td>\n",
              "      <td>A13</td>\n",
              "      <td>26S</td>\n",
              "      <td>Nicolás Jiménez Sánchez</td>\n",
              "      <td>gph008</td>\n",
              "      <td>grupoph</td>\n",
              "      <td>18/04/23 18:47</td>\n",
              "      <td>25/04/23 0:00</td>\n",
              "      <td>Cancelado</td>\n",
              "      <td>K0,D7,F7,D8</td>\n",
              "      <td>20210</td>\n",
              "      <td>AGUASCALIENTES</td>\n",
              "      <td>AGS</td>\n",
              "      <td>Aguascalientes</td>\n",
              "      <td>Aguascalientes</td>\n",
              "      <td>GADF870205HASLZL07</td>\n",
              "    </tr>\n",
              "    <tr>\n",
              "      <th>22733</th>\n",
              "      <td>22970</td>\n",
              "      <td>96536</td>\n",
              "      <td>3969.204809</td>\n",
              "      <td>897.57116</td>\n",
              "      <td>0.0</td>\n",
              "      <td>386.0</td>\n",
              "      <td>3043.78942</td>\n",
              "      <td>5588.620361</td>\n",
              "      <td>0.0</td>\n",
              "      <td>1.0</td>\n",
              "      <td>0</td>\n",
              "      <td>0</td>\n",
              "      <td>0.0</td>\n",
              "      <td>0</td>\n",
              "      <td>0</td>\n",
              "      <td>-17.35</td>\n",
              "      <td>699</td>\n",
              "      <td>28.56</td>\n",
              "      <td>7000.0</td>\n",
              "      <td>0.000000</td>\n",
              "      <td>53.0</td>\n",
              "      <td>0</td>\n",
              "      <td>PETLF56C</td>\n",
              "      <td>18/04/23 18:49</td>\n",
              "      <td>Samsung</td>\n",
              "      <td>A53 5G</td>\n",
              "      <td>39S</td>\n",
              "      <td>Maribel Ulibarri Medina</td>\n",
              "      <td>gph014</td>\n",
              "      <td>grupoph</td>\n",
              "      <td>18/04/23 18:49</td>\n",
              "      <td>25/04/23 0:00</td>\n",
              "      <td>Cancelado</td>\n",
              "      <td>J0,G1,E0,E2</td>\n",
              "      <td>78434</td>\n",
              "      <td>SOLEDAD DE GRACIANO SANCHEZ</td>\n",
              "      <td>SLP</td>\n",
              "      <td>Soledad De Graciano Sanchez</td>\n",
              "      <td>San Luis Potosi</td>\n",
              "      <td>DELJ700417HSPLRS03</td>\n",
              "    </tr>\n",
              "    <tr>\n",
              "      <th>22734</th>\n",
              "      <td>22971</td>\n",
              "      <td>96534</td>\n",
              "      <td>5399.000000</td>\n",
              "      <td>1086.00000</td>\n",
              "      <td>0.0</td>\n",
              "      <td>299.0</td>\n",
              "      <td>4313.00000</td>\n",
              "      <td>7774.000000</td>\n",
              "      <td>0.0</td>\n",
              "      <td>1.0</td>\n",
              "      <td>0</td>\n",
              "      <td>1</td>\n",
              "      <td>0.0</td>\n",
              "      <td>0</td>\n",
              "      <td>0</td>\n",
              "      <td>21.80</td>\n",
              "      <td>0</td>\n",
              "      <td>20.11</td>\n",
              "      <td>4750.0</td>\n",
              "      <td>0.000000</td>\n",
              "      <td>19.0</td>\n",
              "      <td>0</td>\n",
              "      <td>2CI4N2WS</td>\n",
              "      <td>18/04/23 18:49</td>\n",
              "      <td>Samsung</td>\n",
              "      <td>A22 5G</td>\n",
              "      <td>26S</td>\n",
              "      <td>Netza Fierros Mateos</td>\n",
              "      <td>php005</td>\n",
              "      <td>phonepay</td>\n",
              "      <td>18/04/23 18:49</td>\n",
              "      <td>25/04/23 0:00</td>\n",
              "      <td>Cancelado</td>\n",
              "      <td>C2</td>\n",
              "      <td>43800</td>\n",
              "      <td>TIZAYUCA</td>\n",
              "      <td>HGO</td>\n",
              "      <td>San Jose Del Cabo</td>\n",
              "      <td>Baja California Sur</td>\n",
              "      <td>RASI030731HDFMRSA1</td>\n",
              "    </tr>\n",
              "  </tbody>\n",
              "</table>\n",
              "<p>22735 rows × 40 columns</p>\n",
              "</div>\n",
              "    <div class=\"colab-df-buttons\">\n",
              "\n",
              "  <div class=\"colab-df-container\">\n",
              "    <button class=\"colab-df-convert\" onclick=\"convertToInteractive('df-cb66c30d-4ae7-4726-96be-b88a38912464')\"\n",
              "            title=\"Convert this dataframe to an interactive table.\"\n",
              "            style=\"display:none;\">\n",
              "\n",
              "  <svg xmlns=\"http://www.w3.org/2000/svg\" height=\"24px\" viewBox=\"0 -960 960 960\">\n",
              "    <path d=\"M120-120v-720h720v720H120Zm60-500h600v-160H180v160Zm220 220h160v-160H400v160Zm0 220h160v-160H400v160ZM180-400h160v-160H180v160Zm440 0h160v-160H620v160ZM180-180h160v-160H180v160Zm440 0h160v-160H620v160Z\"/>\n",
              "  </svg>\n",
              "    </button>\n",
              "\n",
              "  <style>\n",
              "    .colab-df-container {\n",
              "      display:flex;\n",
              "      gap: 12px;\n",
              "    }\n",
              "\n",
              "    .colab-df-convert {\n",
              "      background-color: #E8F0FE;\n",
              "      border: none;\n",
              "      border-radius: 50%;\n",
              "      cursor: pointer;\n",
              "      display: none;\n",
              "      fill: #1967D2;\n",
              "      height: 32px;\n",
              "      padding: 0 0 0 0;\n",
              "      width: 32px;\n",
              "    }\n",
              "\n",
              "    .colab-df-convert:hover {\n",
              "      background-color: #E2EBFA;\n",
              "      box-shadow: 0px 1px 2px rgba(60, 64, 67, 0.3), 0px 1px 3px 1px rgba(60, 64, 67, 0.15);\n",
              "      fill: #174EA6;\n",
              "    }\n",
              "\n",
              "    .colab-df-buttons div {\n",
              "      margin-bottom: 4px;\n",
              "    }\n",
              "\n",
              "    [theme=dark] .colab-df-convert {\n",
              "      background-color: #3B4455;\n",
              "      fill: #D2E3FC;\n",
              "    }\n",
              "\n",
              "    [theme=dark] .colab-df-convert:hover {\n",
              "      background-color: #434B5C;\n",
              "      box-shadow: 0px 1px 3px 1px rgba(0, 0, 0, 0.15);\n",
              "      filter: drop-shadow(0px 1px 2px rgba(0, 0, 0, 0.3));\n",
              "      fill: #FFFFFF;\n",
              "    }\n",
              "  </style>\n",
              "\n",
              "    <script>\n",
              "      const buttonEl =\n",
              "        document.querySelector('#df-cb66c30d-4ae7-4726-96be-b88a38912464 button.colab-df-convert');\n",
              "      buttonEl.style.display =\n",
              "        google.colab.kernel.accessAllowed ? 'block' : 'none';\n",
              "\n",
              "      async function convertToInteractive(key) {\n",
              "        const element = document.querySelector('#df-cb66c30d-4ae7-4726-96be-b88a38912464');\n",
              "        const dataTable =\n",
              "          await google.colab.kernel.invokeFunction('convertToInteractive',\n",
              "                                                    [key], {});\n",
              "        if (!dataTable) return;\n",
              "\n",
              "        const docLinkHtml = 'Like what you see? Visit the ' +\n",
              "          '<a target=\"_blank\" href=https://colab.research.google.com/notebooks/data_table.ipynb>data table notebook</a>'\n",
              "          + ' to learn more about interactive tables.';\n",
              "        element.innerHTML = '';\n",
              "        dataTable['output_type'] = 'display_data';\n",
              "        await google.colab.output.renderOutput(dataTable, element);\n",
              "        const docLink = document.createElement('div');\n",
              "        docLink.innerHTML = docLinkHtml;\n",
              "        element.appendChild(docLink);\n",
              "      }\n",
              "    </script>\n",
              "  </div>\n",
              "\n",
              "\n",
              "<div id=\"df-333481dc-52be-432a-9348-6d4156ff7c7d\">\n",
              "  <button class=\"colab-df-quickchart\" onclick=\"quickchart('df-333481dc-52be-432a-9348-6d4156ff7c7d')\"\n",
              "            title=\"Suggest charts.\"\n",
              "            style=\"display:none;\">\n",
              "\n",
              "<svg xmlns=\"http://www.w3.org/2000/svg\" height=\"24px\"viewBox=\"0 0 24 24\"\n",
              "     width=\"24px\">\n",
              "    <g>\n",
              "        <path d=\"M19 3H5c-1.1 0-2 .9-2 2v14c0 1.1.9 2 2 2h14c1.1 0 2-.9 2-2V5c0-1.1-.9-2-2-2zM9 17H7v-7h2v7zm4 0h-2V7h2v10zm4 0h-2v-4h2v4z\"/>\n",
              "    </g>\n",
              "</svg>\n",
              "  </button>\n",
              "\n",
              "<style>\n",
              "  .colab-df-quickchart {\n",
              "      --bg-color: #E8F0FE;\n",
              "      --fill-color: #1967D2;\n",
              "      --hover-bg-color: #E2EBFA;\n",
              "      --hover-fill-color: #174EA6;\n",
              "      --disabled-fill-color: #AAA;\n",
              "      --disabled-bg-color: #DDD;\n",
              "  }\n",
              "\n",
              "  [theme=dark] .colab-df-quickchart {\n",
              "      --bg-color: #3B4455;\n",
              "      --fill-color: #D2E3FC;\n",
              "      --hover-bg-color: #434B5C;\n",
              "      --hover-fill-color: #FFFFFF;\n",
              "      --disabled-bg-color: #3B4455;\n",
              "      --disabled-fill-color: #666;\n",
              "  }\n",
              "\n",
              "  .colab-df-quickchart {\n",
              "    background-color: var(--bg-color);\n",
              "    border: none;\n",
              "    border-radius: 50%;\n",
              "    cursor: pointer;\n",
              "    display: none;\n",
              "    fill: var(--fill-color);\n",
              "    height: 32px;\n",
              "    padding: 0;\n",
              "    width: 32px;\n",
              "  }\n",
              "\n",
              "  .colab-df-quickchart:hover {\n",
              "    background-color: var(--hover-bg-color);\n",
              "    box-shadow: 0 1px 2px rgba(60, 64, 67, 0.3), 0 1px 3px 1px rgba(60, 64, 67, 0.15);\n",
              "    fill: var(--button-hover-fill-color);\n",
              "  }\n",
              "\n",
              "  .colab-df-quickchart-complete:disabled,\n",
              "  .colab-df-quickchart-complete:disabled:hover {\n",
              "    background-color: var(--disabled-bg-color);\n",
              "    fill: var(--disabled-fill-color);\n",
              "    box-shadow: none;\n",
              "  }\n",
              "\n",
              "  .colab-df-spinner {\n",
              "    border: 2px solid var(--fill-color);\n",
              "    border-color: transparent;\n",
              "    border-bottom-color: var(--fill-color);\n",
              "    animation:\n",
              "      spin 1s steps(1) infinite;\n",
              "  }\n",
              "\n",
              "  @keyframes spin {\n",
              "    0% {\n",
              "      border-color: transparent;\n",
              "      border-bottom-color: var(--fill-color);\n",
              "      border-left-color: var(--fill-color);\n",
              "    }\n",
              "    20% {\n",
              "      border-color: transparent;\n",
              "      border-left-color: var(--fill-color);\n",
              "      border-top-color: var(--fill-color);\n",
              "    }\n",
              "    30% {\n",
              "      border-color: transparent;\n",
              "      border-left-color: var(--fill-color);\n",
              "      border-top-color: var(--fill-color);\n",
              "      border-right-color: var(--fill-color);\n",
              "    }\n",
              "    40% {\n",
              "      border-color: transparent;\n",
              "      border-right-color: var(--fill-color);\n",
              "      border-top-color: var(--fill-color);\n",
              "    }\n",
              "    60% {\n",
              "      border-color: transparent;\n",
              "      border-right-color: var(--fill-color);\n",
              "    }\n",
              "    80% {\n",
              "      border-color: transparent;\n",
              "      border-right-color: var(--fill-color);\n",
              "      border-bottom-color: var(--fill-color);\n",
              "    }\n",
              "    90% {\n",
              "      border-color: transparent;\n",
              "      border-bottom-color: var(--fill-color);\n",
              "    }\n",
              "  }\n",
              "</style>\n",
              "\n",
              "  <script>\n",
              "    async function quickchart(key) {\n",
              "      const quickchartButtonEl =\n",
              "        document.querySelector('#' + key + ' button');\n",
              "      quickchartButtonEl.disabled = true;  // To prevent multiple clicks.\n",
              "      quickchartButtonEl.classList.add('colab-df-spinner');\n",
              "      try {\n",
              "        const charts = await google.colab.kernel.invokeFunction(\n",
              "            'suggestCharts', [key], {});\n",
              "      } catch (error) {\n",
              "        console.error('Error during call to suggestCharts:', error);\n",
              "      }\n",
              "      quickchartButtonEl.classList.remove('colab-df-spinner');\n",
              "      quickchartButtonEl.classList.add('colab-df-quickchart-complete');\n",
              "    }\n",
              "    (() => {\n",
              "      let quickchartButtonEl =\n",
              "        document.querySelector('#df-333481dc-52be-432a-9348-6d4156ff7c7d button');\n",
              "      quickchartButtonEl.style.display =\n",
              "        google.colab.kernel.accessAllowed ? 'block' : 'none';\n",
              "    })();\n",
              "  </script>\n",
              "</div>\n",
              "    </div>\n",
              "  </div>\n"
            ]
          },
          "metadata": {},
          "execution_count": 1708
        }
      ],
      "source": [
        "res = pd.concat([data, categoric_columns], axis = 1)\n",
        "data_clean=res.copy()\n",
        "moda_columns = ['status', 'fraude', 'inversion', 'pagos_realizados', 'reautorizacion', 'marca', 'empresa', 'status_cuenta', 'puntos', 'razones_buro']\n",
        "moda_valores = data_clean[moda_columns].mode().iloc[0]\n",
        "\n",
        "# Calcular el promedio para las demás columnas\n",
        "promedio_valores = data_clean.drop(moda_columns, axis=1).mean()\n",
        "# Llenar los valores nulos con la moda para las columnas específicas\n",
        "data_clean[moda_columns] = data_clean[moda_columns].fillna(moda_valores)\n",
        "# Llenar los valores nulos con el promedio para las demás columnas\n",
        "data_clean = data_clean.fillna(promedio_valores)\n",
        "data_clean"
      ]
    },
    {
      "cell_type": "code",
      "source": [
        "data_clean['reautorizacion'].value_counts()"
      ],
      "metadata": {
        "colab": {
          "base_uri": "https://localhost:8080/"
        },
        "id": "32pl3wK3qHtk",
        "outputId": "7230ce28-7bbe-41f2-fc38-3b2475c409c4"
      },
      "execution_count": 1709,
      "outputs": [
        {
          "output_type": "execute_result",
          "data": {
            "text/plain": [
              "0    21961\n",
              "1      774\n",
              "Name: reautorizacion, dtype: int64"
            ]
          },
          "metadata": {},
          "execution_count": 1709
        }
      ]
    },
    {
      "cell_type": "code",
      "source": [
        "numeric = res.select_dtypes(include=['number']).columns\n",
        "df2 = res.dropna(subset=numeric)"
      ],
      "metadata": {
        "id": "DPbhOzNvBLl1"
      },
      "execution_count": 1710,
      "outputs": []
    },
    {
      "cell_type": "code",
      "source": [
        "df2.info()"
      ],
      "metadata": {
        "colab": {
          "base_uri": "https://localhost:8080/"
        },
        "id": "eXhCPjKuBOqi",
        "outputId": "08f6f1ba-5f2f-46f8-9e53-1e87e658eeb6"
      },
      "execution_count": 1711,
      "outputs": [
        {
          "output_type": "stream",
          "name": "stdout",
          "text": [
            "<class 'pandas.core.frame.DataFrame'>\n",
            "Int64Index: 20439 entries, 0 to 22734\n",
            "Data columns (total 40 columns):\n",
            " #   Column                    Non-Null Count  Dtype  \n",
            "---  ------                    --------------  -----  \n",
            " 0   folio                     20439 non-null  int64  \n",
            " 1   folio_solicitud           20439 non-null  int64  \n",
            " 2   precio                    20439 non-null  float64\n",
            " 3   enganche                  20439 non-null  float64\n",
            " 4   descuento                 20439 non-null  float64\n",
            " 5   semana                    20439 non-null  float64\n",
            " 6   monto_financiado          20439 non-null  float64\n",
            " 7   costo_total               20439 non-null  float64\n",
            " 8   monto_accesorios          20439 non-null  float64\n",
            " 9   status                    20439 non-null  float64\n",
            " 10  fraude                    20439 non-null  int64  \n",
            " 11  inversion                 20439 non-null  int64  \n",
            " 12  pagos_realizados          20439 non-null  float64\n",
            " 13  reautorizacion            20439 non-null  int64  \n",
            " 14  puntos                    20439 non-null  int64  \n",
            " 15  riesgo                    20439 non-null  float64\n",
            " 16  score_buro                20439 non-null  int64  \n",
            " 17  porc_eng                  20439 non-null  float64\n",
            " 18  limite_credito            20439 non-null  float64\n",
            " 19  semana_actual             20439 non-null  float64\n",
            " 20  edad_cliente              20439 non-null  float64\n",
            " 21  status_cuenta_dicotomica  20439 non-null  int64  \n",
            " 22  tag                       20439 non-null  object \n",
            " 23  fecha                     20439 non-null  object \n",
            " 24  marca                     20439 non-null  object \n",
            " 25  modelo                    20439 non-null  object \n",
            " 26  plazo                     20439 non-null  object \n",
            " 27  agente_venta              20439 non-null  object \n",
            " 28  dis_venta                 20439 non-null  object \n",
            " 29  empresa                   20439 non-null  object \n",
            " 30  fecha_ultimo_pago         20439 non-null  object \n",
            " 31  fecha_pago_proximo        20439 non-null  object \n",
            " 32  status_cuenta             20439 non-null  object \n",
            " 33  razones_buro              20439 non-null  object \n",
            " 34  cp_cliente                20439 non-null  object \n",
            " 35  cd_cliente                20439 non-null  object \n",
            " 36  edo_cliente               20439 non-null  object \n",
            " 37  cd_venta                  20439 non-null  object \n",
            " 38  edo_venta                 20439 non-null  object \n",
            " 39  curp                      20439 non-null  object \n",
            "dtypes: float64(14), int64(8), object(18)\n",
            "memory usage: 6.4+ MB\n"
          ]
        }
      ]
    },
    {
      "cell_type": "code",
      "source": [
        "df2"
      ],
      "metadata": {
        "colab": {
          "base_uri": "https://localhost:8080/",
          "height": 912
        },
        "id": "JKR6VXeCGkzf",
        "outputId": "176b4e5f-777d-4734-8442-db7ae8894677"
      },
      "execution_count": 1712,
      "outputs": [
        {
          "output_type": "execute_result",
          "data": {
            "text/plain": [
              "       folio  folio_solicitud  precio  enganche  descuento  semana  monto_financiado  costo_total  monto_accesorios  status  fraude  inversion  pagos_realizados  reautorizacion  puntos  riesgo  score_buro  porc_eng  limite_credito  semana_actual  edad_cliente  status_cuenta_dicotomica       tag           fecha     marca                        modelo plazo                      agente_venta  dis_venta      empresa fecha_ultimo_pago fecha_pago_proximo status_cuenta razones_buro cp_cliente          cd_cliente edo_cliente                    cd_venta            edo_venta                curp\n",
              "0          3               30  1949.0     780.0        0.0    81.0            1169.0       2106.0               0.0     2.0       0          0               0.0               0       0    0.00           0     40.02          5000.0           26.0          23.0                         0  HDNAWQ3A  12/11/21 19:00       ZTE            Blade A3 2020 RO B   26S   Sintia Verenice Tenorio Perez E    mic0437     microtec     05/03/22 0:00      12/03/22 0:00     Cancelado           C1      72490                   0           0                   Tantoyuca             Veracruz  AEVM980413MVZNDR02\n",
              "1          4               33  2999.0    1050.0        0.0   225.0            1949.0       2925.0               0.0     2.0       0          0               0.0               0       0    0.00           0     35.01          6000.0           13.0          60.0                         0  M418YNR4  12/11/21 19:15  MOTOROLA  LTE XT2097-12 E7I POWER Azul   13S             Alvaro Rafael Pascual     mic015     microtec     05/03/22 0:00      12/03/22 0:00     Cancelado           C1      72490             PUEBLA         PUE.  Heroica Puebla de Zaragoza               Puebla  ZALC610119MPLPRR07\n",
              "3          6               38  1959.0     490.0        0.0   170.0            1469.0       2210.0               0.0     2.0       0          0               0.0               0       0    0.00           0     25.01          7000.0           13.0          42.0                         0  9I08UIQZ  13/11/21 15:45       ZTE            BLADE A3 2020 Gris   13S        Luz Aylin Hernandez Lopez1    mic0748     microtec     05/03/22 0:00      12/03/22 0:00          Mora           C1      72490         AMXTLAN PUE        VER.                    Zacatlan               Puebla  SAMJ790115MPLNRS02\n",
              "5          8               49  2999.0     750.0        0.0   156.0            2249.0       4056.0               0.0     2.0       0          0               0.0               0       0    0.00           0     25.01          7000.0           26.0          38.0                         0  FOBQ8A27  13/11/21 16:50  MOTOROLA  LTE XT2097-12 E7I POWER Azul   26S     Karim Hassan Mendez Animas GP    mic0569     microtec     03/09/22 0:00      06/12/22 0:00          Mora           C1      72490            PAPANTLA        VER.                    Papantla             Veracruz  FAAE830916MVZRRG00\n",
              "6          9               50  2999.0     900.0        0.0   145.0            2099.0       3770.0               0.0     2.0       0          0               0.0               0       0    0.00           0     30.01          6000.0           26.0          21.0                         0  UND81DCF  13/11/21 17:19  MOTOROLA      E7I POWER 2+32 GB AZUL B   26S   Luis Gerardo Almanzar Hernandez    mic0437     microtec     03/09/22 0:00      06/12/22 0:00          Mora           C1      72490           TANTOYUCA        VER.                   Tantoyuca             Veracruz  JAPC000801HVZCRSA0\n",
              "...      ...              ...     ...       ...        ...     ...               ...          ...               ...     ...     ...        ...               ...             ...     ...     ...         ...       ...             ...            ...           ...                       ...       ...             ...       ...                           ...   ...                               ...        ...          ...               ...                ...           ...          ...        ...                 ...         ...                         ...                  ...                 ...\n",
              "22728  22965            96444  3499.0     354.0        0.0   173.0            3145.0       6747.0               0.0     1.0       0          0               0.0               0       0   26.35         482     10.12         10000.0            0.0          40.0                         0  X4AXNZBG  18/04/23 17:33  Motorola                     Moto E22i   39S          Lorena Camacho Gutierres  micd20352     texpress    18/04/23 17:33      25/04/23 0:00     Cancelado  K0,J0,D7,E2      39740  ACAPULCO DE JUAREZ         GRO          Acapulco De Juarez             Guerrero  CACJ820212HGRSRS09\n",
              "22730  22967            96502  3349.0     297.0        0.0   211.0            3052.0       5486.0               0.0     1.0       0          0               0.0               0       0   27.40         469      8.87         10000.0            0.0          22.0                         0  92KQVRIX  18/04/23 18:45  Motorola                      Moto E13   26S  Mildred Asuncion Arguello Caamal     svc044     servicel    18/04/23 18:45      25/04/23 0:00     Cancelado  K0,J0,D8,E2      97880           OXKUTZCAB         YUC                   Oxkutzcab              Yucatan  PACT990804MYNCCH05\n",
              "22731  22968            96479  4100.0    1209.0        0.0   200.0            2891.0       5200.0               0.0     1.0       0          0               0.0               0       0   19.00         502     29.49          5000.0            0.0          27.0                         0  NWB2EA8J  18/04/23 18:46  Motorola                     Moto E22i   26S      Maria Guadalupe Vargas Lopez     PXC004  pixelulares    18/04/23 18:46      25/04/23 0:00     Cancelado  K0,J0,D8,E2      37295                LEON         GTO                        Leon           Guanajuato  HEGB950620MGTRMN03\n",
              "22732  22969            96442  4849.0    1152.0        0.0   256.0            3697.0       6656.0               0.0     1.0       0          0               0.0               0       0   26.65         459     23.76          4750.0            0.0          36.0                         0  VDTRJ2W6  18/04/23 18:47   Samsung                           A13   26S           Nicolás Jiménez Sánchez     gph008      grupoph    18/04/23 18:47      25/04/23 0:00     Cancelado  K0,D7,F7,D8      20210      AGUASCALIENTES         AGS              Aguascalientes       Aguascalientes  GADF870205HASLZL07\n",
              "22734  22971            96534  5399.0    1086.0        0.0   299.0            4313.0       7774.0               0.0     1.0       0          1               0.0               0       0   21.80           0     20.11          4750.0            0.0          19.0                         0  2CI4N2WS  18/04/23 18:49   Samsung                        A22 5G   26S              Netza Fierros Mateos     php005     phonepay    18/04/23 18:49      25/04/23 0:00     Cancelado           C2      43800            TIZAYUCA         HGO           San Jose Del Cabo  Baja California Sur  RASI030731HDFMRSA1\n",
              "\n",
              "[20439 rows x 40 columns]"
            ],
            "text/html": [
              "\n",
              "  <div id=\"df-b14b59e9-a887-416e-8a5a-45c4d267beb7\" class=\"colab-df-container\">\n",
              "    <div>\n",
              "<style scoped>\n",
              "    .dataframe tbody tr th:only-of-type {\n",
              "        vertical-align: middle;\n",
              "    }\n",
              "\n",
              "    .dataframe tbody tr th {\n",
              "        vertical-align: top;\n",
              "    }\n",
              "\n",
              "    .dataframe thead th {\n",
              "        text-align: right;\n",
              "    }\n",
              "</style>\n",
              "<table border=\"1\" class=\"dataframe\">\n",
              "  <thead>\n",
              "    <tr style=\"text-align: right;\">\n",
              "      <th></th>\n",
              "      <th>folio</th>\n",
              "      <th>folio_solicitud</th>\n",
              "      <th>precio</th>\n",
              "      <th>enganche</th>\n",
              "      <th>descuento</th>\n",
              "      <th>semana</th>\n",
              "      <th>monto_financiado</th>\n",
              "      <th>costo_total</th>\n",
              "      <th>monto_accesorios</th>\n",
              "      <th>status</th>\n",
              "      <th>fraude</th>\n",
              "      <th>inversion</th>\n",
              "      <th>pagos_realizados</th>\n",
              "      <th>reautorizacion</th>\n",
              "      <th>puntos</th>\n",
              "      <th>riesgo</th>\n",
              "      <th>score_buro</th>\n",
              "      <th>porc_eng</th>\n",
              "      <th>limite_credito</th>\n",
              "      <th>semana_actual</th>\n",
              "      <th>edad_cliente</th>\n",
              "      <th>status_cuenta_dicotomica</th>\n",
              "      <th>tag</th>\n",
              "      <th>fecha</th>\n",
              "      <th>marca</th>\n",
              "      <th>modelo</th>\n",
              "      <th>plazo</th>\n",
              "      <th>agente_venta</th>\n",
              "      <th>dis_venta</th>\n",
              "      <th>empresa</th>\n",
              "      <th>fecha_ultimo_pago</th>\n",
              "      <th>fecha_pago_proximo</th>\n",
              "      <th>status_cuenta</th>\n",
              "      <th>razones_buro</th>\n",
              "      <th>cp_cliente</th>\n",
              "      <th>cd_cliente</th>\n",
              "      <th>edo_cliente</th>\n",
              "      <th>cd_venta</th>\n",
              "      <th>edo_venta</th>\n",
              "      <th>curp</th>\n",
              "    </tr>\n",
              "  </thead>\n",
              "  <tbody>\n",
              "    <tr>\n",
              "      <th>0</th>\n",
              "      <td>3</td>\n",
              "      <td>30</td>\n",
              "      <td>1949.0</td>\n",
              "      <td>780.0</td>\n",
              "      <td>0.0</td>\n",
              "      <td>81.0</td>\n",
              "      <td>1169.0</td>\n",
              "      <td>2106.0</td>\n",
              "      <td>0.0</td>\n",
              "      <td>2.0</td>\n",
              "      <td>0</td>\n",
              "      <td>0</td>\n",
              "      <td>0.0</td>\n",
              "      <td>0</td>\n",
              "      <td>0</td>\n",
              "      <td>0.00</td>\n",
              "      <td>0</td>\n",
              "      <td>40.02</td>\n",
              "      <td>5000.0</td>\n",
              "      <td>26.0</td>\n",
              "      <td>23.0</td>\n",
              "      <td>0</td>\n",
              "      <td>HDNAWQ3A</td>\n",
              "      <td>12/11/21 19:00</td>\n",
              "      <td>ZTE</td>\n",
              "      <td>Blade A3 2020 RO B</td>\n",
              "      <td>26S</td>\n",
              "      <td>Sintia Verenice Tenorio Perez E</td>\n",
              "      <td>mic0437</td>\n",
              "      <td>microtec</td>\n",
              "      <td>05/03/22 0:00</td>\n",
              "      <td>12/03/22 0:00</td>\n",
              "      <td>Cancelado</td>\n",
              "      <td>C1</td>\n",
              "      <td>72490</td>\n",
              "      <td>0</td>\n",
              "      <td>0</td>\n",
              "      <td>Tantoyuca</td>\n",
              "      <td>Veracruz</td>\n",
              "      <td>AEVM980413MVZNDR02</td>\n",
              "    </tr>\n",
              "    <tr>\n",
              "      <th>1</th>\n",
              "      <td>4</td>\n",
              "      <td>33</td>\n",
              "      <td>2999.0</td>\n",
              "      <td>1050.0</td>\n",
              "      <td>0.0</td>\n",
              "      <td>225.0</td>\n",
              "      <td>1949.0</td>\n",
              "      <td>2925.0</td>\n",
              "      <td>0.0</td>\n",
              "      <td>2.0</td>\n",
              "      <td>0</td>\n",
              "      <td>0</td>\n",
              "      <td>0.0</td>\n",
              "      <td>0</td>\n",
              "      <td>0</td>\n",
              "      <td>0.00</td>\n",
              "      <td>0</td>\n",
              "      <td>35.01</td>\n",
              "      <td>6000.0</td>\n",
              "      <td>13.0</td>\n",
              "      <td>60.0</td>\n",
              "      <td>0</td>\n",
              "      <td>M418YNR4</td>\n",
              "      <td>12/11/21 19:15</td>\n",
              "      <td>MOTOROLA</td>\n",
              "      <td>LTE XT2097-12 E7I POWER Azul</td>\n",
              "      <td>13S</td>\n",
              "      <td>Alvaro Rafael Pascual</td>\n",
              "      <td>mic015</td>\n",
              "      <td>microtec</td>\n",
              "      <td>05/03/22 0:00</td>\n",
              "      <td>12/03/22 0:00</td>\n",
              "      <td>Cancelado</td>\n",
              "      <td>C1</td>\n",
              "      <td>72490</td>\n",
              "      <td>PUEBLA</td>\n",
              "      <td>PUE.</td>\n",
              "      <td>Heroica Puebla de Zaragoza</td>\n",
              "      <td>Puebla</td>\n",
              "      <td>ZALC610119MPLPRR07</td>\n",
              "    </tr>\n",
              "    <tr>\n",
              "      <th>3</th>\n",
              "      <td>6</td>\n",
              "      <td>38</td>\n",
              "      <td>1959.0</td>\n",
              "      <td>490.0</td>\n",
              "      <td>0.0</td>\n",
              "      <td>170.0</td>\n",
              "      <td>1469.0</td>\n",
              "      <td>2210.0</td>\n",
              "      <td>0.0</td>\n",
              "      <td>2.0</td>\n",
              "      <td>0</td>\n",
              "      <td>0</td>\n",
              "      <td>0.0</td>\n",
              "      <td>0</td>\n",
              "      <td>0</td>\n",
              "      <td>0.00</td>\n",
              "      <td>0</td>\n",
              "      <td>25.01</td>\n",
              "      <td>7000.0</td>\n",
              "      <td>13.0</td>\n",
              "      <td>42.0</td>\n",
              "      <td>0</td>\n",
              "      <td>9I08UIQZ</td>\n",
              "      <td>13/11/21 15:45</td>\n",
              "      <td>ZTE</td>\n",
              "      <td>BLADE A3 2020 Gris</td>\n",
              "      <td>13S</td>\n",
              "      <td>Luz Aylin Hernandez Lopez1</td>\n",
              "      <td>mic0748</td>\n",
              "      <td>microtec</td>\n",
              "      <td>05/03/22 0:00</td>\n",
              "      <td>12/03/22 0:00</td>\n",
              "      <td>Mora</td>\n",
              "      <td>C1</td>\n",
              "      <td>72490</td>\n",
              "      <td>AMXTLAN PUE</td>\n",
              "      <td>VER.</td>\n",
              "      <td>Zacatlan</td>\n",
              "      <td>Puebla</td>\n",
              "      <td>SAMJ790115MPLNRS02</td>\n",
              "    </tr>\n",
              "    <tr>\n",
              "      <th>5</th>\n",
              "      <td>8</td>\n",
              "      <td>49</td>\n",
              "      <td>2999.0</td>\n",
              "      <td>750.0</td>\n",
              "      <td>0.0</td>\n",
              "      <td>156.0</td>\n",
              "      <td>2249.0</td>\n",
              "      <td>4056.0</td>\n",
              "      <td>0.0</td>\n",
              "      <td>2.0</td>\n",
              "      <td>0</td>\n",
              "      <td>0</td>\n",
              "      <td>0.0</td>\n",
              "      <td>0</td>\n",
              "      <td>0</td>\n",
              "      <td>0.00</td>\n",
              "      <td>0</td>\n",
              "      <td>25.01</td>\n",
              "      <td>7000.0</td>\n",
              "      <td>26.0</td>\n",
              "      <td>38.0</td>\n",
              "      <td>0</td>\n",
              "      <td>FOBQ8A27</td>\n",
              "      <td>13/11/21 16:50</td>\n",
              "      <td>MOTOROLA</td>\n",
              "      <td>LTE XT2097-12 E7I POWER Azul</td>\n",
              "      <td>26S</td>\n",
              "      <td>Karim Hassan Mendez Animas GP</td>\n",
              "      <td>mic0569</td>\n",
              "      <td>microtec</td>\n",
              "      <td>03/09/22 0:00</td>\n",
              "      <td>06/12/22 0:00</td>\n",
              "      <td>Mora</td>\n",
              "      <td>C1</td>\n",
              "      <td>72490</td>\n",
              "      <td>PAPANTLA</td>\n",
              "      <td>VER.</td>\n",
              "      <td>Papantla</td>\n",
              "      <td>Veracruz</td>\n",
              "      <td>FAAE830916MVZRRG00</td>\n",
              "    </tr>\n",
              "    <tr>\n",
              "      <th>6</th>\n",
              "      <td>9</td>\n",
              "      <td>50</td>\n",
              "      <td>2999.0</td>\n",
              "      <td>900.0</td>\n",
              "      <td>0.0</td>\n",
              "      <td>145.0</td>\n",
              "      <td>2099.0</td>\n",
              "      <td>3770.0</td>\n",
              "      <td>0.0</td>\n",
              "      <td>2.0</td>\n",
              "      <td>0</td>\n",
              "      <td>0</td>\n",
              "      <td>0.0</td>\n",
              "      <td>0</td>\n",
              "      <td>0</td>\n",
              "      <td>0.00</td>\n",
              "      <td>0</td>\n",
              "      <td>30.01</td>\n",
              "      <td>6000.0</td>\n",
              "      <td>26.0</td>\n",
              "      <td>21.0</td>\n",
              "      <td>0</td>\n",
              "      <td>UND81DCF</td>\n",
              "      <td>13/11/21 17:19</td>\n",
              "      <td>MOTOROLA</td>\n",
              "      <td>E7I POWER 2+32 GB AZUL B</td>\n",
              "      <td>26S</td>\n",
              "      <td>Luis Gerardo Almanzar Hernandez</td>\n",
              "      <td>mic0437</td>\n",
              "      <td>microtec</td>\n",
              "      <td>03/09/22 0:00</td>\n",
              "      <td>06/12/22 0:00</td>\n",
              "      <td>Mora</td>\n",
              "      <td>C1</td>\n",
              "      <td>72490</td>\n",
              "      <td>TANTOYUCA</td>\n",
              "      <td>VER.</td>\n",
              "      <td>Tantoyuca</td>\n",
              "      <td>Veracruz</td>\n",
              "      <td>JAPC000801HVZCRSA0</td>\n",
              "    </tr>\n",
              "    <tr>\n",
              "      <th>...</th>\n",
              "      <td>...</td>\n",
              "      <td>...</td>\n",
              "      <td>...</td>\n",
              "      <td>...</td>\n",
              "      <td>...</td>\n",
              "      <td>...</td>\n",
              "      <td>...</td>\n",
              "      <td>...</td>\n",
              "      <td>...</td>\n",
              "      <td>...</td>\n",
              "      <td>...</td>\n",
              "      <td>...</td>\n",
              "      <td>...</td>\n",
              "      <td>...</td>\n",
              "      <td>...</td>\n",
              "      <td>...</td>\n",
              "      <td>...</td>\n",
              "      <td>...</td>\n",
              "      <td>...</td>\n",
              "      <td>...</td>\n",
              "      <td>...</td>\n",
              "      <td>...</td>\n",
              "      <td>...</td>\n",
              "      <td>...</td>\n",
              "      <td>...</td>\n",
              "      <td>...</td>\n",
              "      <td>...</td>\n",
              "      <td>...</td>\n",
              "      <td>...</td>\n",
              "      <td>...</td>\n",
              "      <td>...</td>\n",
              "      <td>...</td>\n",
              "      <td>...</td>\n",
              "      <td>...</td>\n",
              "      <td>...</td>\n",
              "      <td>...</td>\n",
              "      <td>...</td>\n",
              "      <td>...</td>\n",
              "      <td>...</td>\n",
              "      <td>...</td>\n",
              "    </tr>\n",
              "    <tr>\n",
              "      <th>22728</th>\n",
              "      <td>22965</td>\n",
              "      <td>96444</td>\n",
              "      <td>3499.0</td>\n",
              "      <td>354.0</td>\n",
              "      <td>0.0</td>\n",
              "      <td>173.0</td>\n",
              "      <td>3145.0</td>\n",
              "      <td>6747.0</td>\n",
              "      <td>0.0</td>\n",
              "      <td>1.0</td>\n",
              "      <td>0</td>\n",
              "      <td>0</td>\n",
              "      <td>0.0</td>\n",
              "      <td>0</td>\n",
              "      <td>0</td>\n",
              "      <td>26.35</td>\n",
              "      <td>482</td>\n",
              "      <td>10.12</td>\n",
              "      <td>10000.0</td>\n",
              "      <td>0.0</td>\n",
              "      <td>40.0</td>\n",
              "      <td>0</td>\n",
              "      <td>X4AXNZBG</td>\n",
              "      <td>18/04/23 17:33</td>\n",
              "      <td>Motorola</td>\n",
              "      <td>Moto E22i</td>\n",
              "      <td>39S</td>\n",
              "      <td>Lorena Camacho Gutierres</td>\n",
              "      <td>micd20352</td>\n",
              "      <td>texpress</td>\n",
              "      <td>18/04/23 17:33</td>\n",
              "      <td>25/04/23 0:00</td>\n",
              "      <td>Cancelado</td>\n",
              "      <td>K0,J0,D7,E2</td>\n",
              "      <td>39740</td>\n",
              "      <td>ACAPULCO DE JUAREZ</td>\n",
              "      <td>GRO</td>\n",
              "      <td>Acapulco De Juarez</td>\n",
              "      <td>Guerrero</td>\n",
              "      <td>CACJ820212HGRSRS09</td>\n",
              "    </tr>\n",
              "    <tr>\n",
              "      <th>22730</th>\n",
              "      <td>22967</td>\n",
              "      <td>96502</td>\n",
              "      <td>3349.0</td>\n",
              "      <td>297.0</td>\n",
              "      <td>0.0</td>\n",
              "      <td>211.0</td>\n",
              "      <td>3052.0</td>\n",
              "      <td>5486.0</td>\n",
              "      <td>0.0</td>\n",
              "      <td>1.0</td>\n",
              "      <td>0</td>\n",
              "      <td>0</td>\n",
              "      <td>0.0</td>\n",
              "      <td>0</td>\n",
              "      <td>0</td>\n",
              "      <td>27.40</td>\n",
              "      <td>469</td>\n",
              "      <td>8.87</td>\n",
              "      <td>10000.0</td>\n",
              "      <td>0.0</td>\n",
              "      <td>22.0</td>\n",
              "      <td>0</td>\n",
              "      <td>92KQVRIX</td>\n",
              "      <td>18/04/23 18:45</td>\n",
              "      <td>Motorola</td>\n",
              "      <td>Moto E13</td>\n",
              "      <td>26S</td>\n",
              "      <td>Mildred Asuncion Arguello Caamal</td>\n",
              "      <td>svc044</td>\n",
              "      <td>servicel</td>\n",
              "      <td>18/04/23 18:45</td>\n",
              "      <td>25/04/23 0:00</td>\n",
              "      <td>Cancelado</td>\n",
              "      <td>K0,J0,D8,E2</td>\n",
              "      <td>97880</td>\n",
              "      <td>OXKUTZCAB</td>\n",
              "      <td>YUC</td>\n",
              "      <td>Oxkutzcab</td>\n",
              "      <td>Yucatan</td>\n",
              "      <td>PACT990804MYNCCH05</td>\n",
              "    </tr>\n",
              "    <tr>\n",
              "      <th>22731</th>\n",
              "      <td>22968</td>\n",
              "      <td>96479</td>\n",
              "      <td>4100.0</td>\n",
              "      <td>1209.0</td>\n",
              "      <td>0.0</td>\n",
              "      <td>200.0</td>\n",
              "      <td>2891.0</td>\n",
              "      <td>5200.0</td>\n",
              "      <td>0.0</td>\n",
              "      <td>1.0</td>\n",
              "      <td>0</td>\n",
              "      <td>0</td>\n",
              "      <td>0.0</td>\n",
              "      <td>0</td>\n",
              "      <td>0</td>\n",
              "      <td>19.00</td>\n",
              "      <td>502</td>\n",
              "      <td>29.49</td>\n",
              "      <td>5000.0</td>\n",
              "      <td>0.0</td>\n",
              "      <td>27.0</td>\n",
              "      <td>0</td>\n",
              "      <td>NWB2EA8J</td>\n",
              "      <td>18/04/23 18:46</td>\n",
              "      <td>Motorola</td>\n",
              "      <td>Moto E22i</td>\n",
              "      <td>26S</td>\n",
              "      <td>Maria Guadalupe Vargas Lopez</td>\n",
              "      <td>PXC004</td>\n",
              "      <td>pixelulares</td>\n",
              "      <td>18/04/23 18:46</td>\n",
              "      <td>25/04/23 0:00</td>\n",
              "      <td>Cancelado</td>\n",
              "      <td>K0,J0,D8,E2</td>\n",
              "      <td>37295</td>\n",
              "      <td>LEON</td>\n",
              "      <td>GTO</td>\n",
              "      <td>Leon</td>\n",
              "      <td>Guanajuato</td>\n",
              "      <td>HEGB950620MGTRMN03</td>\n",
              "    </tr>\n",
              "    <tr>\n",
              "      <th>22732</th>\n",
              "      <td>22969</td>\n",
              "      <td>96442</td>\n",
              "      <td>4849.0</td>\n",
              "      <td>1152.0</td>\n",
              "      <td>0.0</td>\n",
              "      <td>256.0</td>\n",
              "      <td>3697.0</td>\n",
              "      <td>6656.0</td>\n",
              "      <td>0.0</td>\n",
              "      <td>1.0</td>\n",
              "      <td>0</td>\n",
              "      <td>0</td>\n",
              "      <td>0.0</td>\n",
              "      <td>0</td>\n",
              "      <td>0</td>\n",
              "      <td>26.65</td>\n",
              "      <td>459</td>\n",
              "      <td>23.76</td>\n",
              "      <td>4750.0</td>\n",
              "      <td>0.0</td>\n",
              "      <td>36.0</td>\n",
              "      <td>0</td>\n",
              "      <td>VDTRJ2W6</td>\n",
              "      <td>18/04/23 18:47</td>\n",
              "      <td>Samsung</td>\n",
              "      <td>A13</td>\n",
              "      <td>26S</td>\n",
              "      <td>Nicolás Jiménez Sánchez</td>\n",
              "      <td>gph008</td>\n",
              "      <td>grupoph</td>\n",
              "      <td>18/04/23 18:47</td>\n",
              "      <td>25/04/23 0:00</td>\n",
              "      <td>Cancelado</td>\n",
              "      <td>K0,D7,F7,D8</td>\n",
              "      <td>20210</td>\n",
              "      <td>AGUASCALIENTES</td>\n",
              "      <td>AGS</td>\n",
              "      <td>Aguascalientes</td>\n",
              "      <td>Aguascalientes</td>\n",
              "      <td>GADF870205HASLZL07</td>\n",
              "    </tr>\n",
              "    <tr>\n",
              "      <th>22734</th>\n",
              "      <td>22971</td>\n",
              "      <td>96534</td>\n",
              "      <td>5399.0</td>\n",
              "      <td>1086.0</td>\n",
              "      <td>0.0</td>\n",
              "      <td>299.0</td>\n",
              "      <td>4313.0</td>\n",
              "      <td>7774.0</td>\n",
              "      <td>0.0</td>\n",
              "      <td>1.0</td>\n",
              "      <td>0</td>\n",
              "      <td>1</td>\n",
              "      <td>0.0</td>\n",
              "      <td>0</td>\n",
              "      <td>0</td>\n",
              "      <td>21.80</td>\n",
              "      <td>0</td>\n",
              "      <td>20.11</td>\n",
              "      <td>4750.0</td>\n",
              "      <td>0.0</td>\n",
              "      <td>19.0</td>\n",
              "      <td>0</td>\n",
              "      <td>2CI4N2WS</td>\n",
              "      <td>18/04/23 18:49</td>\n",
              "      <td>Samsung</td>\n",
              "      <td>A22 5G</td>\n",
              "      <td>26S</td>\n",
              "      <td>Netza Fierros Mateos</td>\n",
              "      <td>php005</td>\n",
              "      <td>phonepay</td>\n",
              "      <td>18/04/23 18:49</td>\n",
              "      <td>25/04/23 0:00</td>\n",
              "      <td>Cancelado</td>\n",
              "      <td>C2</td>\n",
              "      <td>43800</td>\n",
              "      <td>TIZAYUCA</td>\n",
              "      <td>HGO</td>\n",
              "      <td>San Jose Del Cabo</td>\n",
              "      <td>Baja California Sur</td>\n",
              "      <td>RASI030731HDFMRSA1</td>\n",
              "    </tr>\n",
              "  </tbody>\n",
              "</table>\n",
              "<p>20439 rows × 40 columns</p>\n",
              "</div>\n",
              "    <div class=\"colab-df-buttons\">\n",
              "\n",
              "  <div class=\"colab-df-container\">\n",
              "    <button class=\"colab-df-convert\" onclick=\"convertToInteractive('df-b14b59e9-a887-416e-8a5a-45c4d267beb7')\"\n",
              "            title=\"Convert this dataframe to an interactive table.\"\n",
              "            style=\"display:none;\">\n",
              "\n",
              "  <svg xmlns=\"http://www.w3.org/2000/svg\" height=\"24px\" viewBox=\"0 -960 960 960\">\n",
              "    <path d=\"M120-120v-720h720v720H120Zm60-500h600v-160H180v160Zm220 220h160v-160H400v160Zm0 220h160v-160H400v160ZM180-400h160v-160H180v160Zm440 0h160v-160H620v160ZM180-180h160v-160H180v160Zm440 0h160v-160H620v160Z\"/>\n",
              "  </svg>\n",
              "    </button>\n",
              "\n",
              "  <style>\n",
              "    .colab-df-container {\n",
              "      display:flex;\n",
              "      gap: 12px;\n",
              "    }\n",
              "\n",
              "    .colab-df-convert {\n",
              "      background-color: #E8F0FE;\n",
              "      border: none;\n",
              "      border-radius: 50%;\n",
              "      cursor: pointer;\n",
              "      display: none;\n",
              "      fill: #1967D2;\n",
              "      height: 32px;\n",
              "      padding: 0 0 0 0;\n",
              "      width: 32px;\n",
              "    }\n",
              "\n",
              "    .colab-df-convert:hover {\n",
              "      background-color: #E2EBFA;\n",
              "      box-shadow: 0px 1px 2px rgba(60, 64, 67, 0.3), 0px 1px 3px 1px rgba(60, 64, 67, 0.15);\n",
              "      fill: #174EA6;\n",
              "    }\n",
              "\n",
              "    .colab-df-buttons div {\n",
              "      margin-bottom: 4px;\n",
              "    }\n",
              "\n",
              "    [theme=dark] .colab-df-convert {\n",
              "      background-color: #3B4455;\n",
              "      fill: #D2E3FC;\n",
              "    }\n",
              "\n",
              "    [theme=dark] .colab-df-convert:hover {\n",
              "      background-color: #434B5C;\n",
              "      box-shadow: 0px 1px 3px 1px rgba(0, 0, 0, 0.15);\n",
              "      filter: drop-shadow(0px 1px 2px rgba(0, 0, 0, 0.3));\n",
              "      fill: #FFFFFF;\n",
              "    }\n",
              "  </style>\n",
              "\n",
              "    <script>\n",
              "      const buttonEl =\n",
              "        document.querySelector('#df-b14b59e9-a887-416e-8a5a-45c4d267beb7 button.colab-df-convert');\n",
              "      buttonEl.style.display =\n",
              "        google.colab.kernel.accessAllowed ? 'block' : 'none';\n",
              "\n",
              "      async function convertToInteractive(key) {\n",
              "        const element = document.querySelector('#df-b14b59e9-a887-416e-8a5a-45c4d267beb7');\n",
              "        const dataTable =\n",
              "          await google.colab.kernel.invokeFunction('convertToInteractive',\n",
              "                                                    [key], {});\n",
              "        if (!dataTable) return;\n",
              "\n",
              "        const docLinkHtml = 'Like what you see? Visit the ' +\n",
              "          '<a target=\"_blank\" href=https://colab.research.google.com/notebooks/data_table.ipynb>data table notebook</a>'\n",
              "          + ' to learn more about interactive tables.';\n",
              "        element.innerHTML = '';\n",
              "        dataTable['output_type'] = 'display_data';\n",
              "        await google.colab.output.renderOutput(dataTable, element);\n",
              "        const docLink = document.createElement('div');\n",
              "        docLink.innerHTML = docLinkHtml;\n",
              "        element.appendChild(docLink);\n",
              "      }\n",
              "    </script>\n",
              "  </div>\n",
              "\n",
              "\n",
              "<div id=\"df-509052ba-e5c3-4437-8825-fcc5dcd976ac\">\n",
              "  <button class=\"colab-df-quickchart\" onclick=\"quickchart('df-509052ba-e5c3-4437-8825-fcc5dcd976ac')\"\n",
              "            title=\"Suggest charts.\"\n",
              "            style=\"display:none;\">\n",
              "\n",
              "<svg xmlns=\"http://www.w3.org/2000/svg\" height=\"24px\"viewBox=\"0 0 24 24\"\n",
              "     width=\"24px\">\n",
              "    <g>\n",
              "        <path d=\"M19 3H5c-1.1 0-2 .9-2 2v14c0 1.1.9 2 2 2h14c1.1 0 2-.9 2-2V5c0-1.1-.9-2-2-2zM9 17H7v-7h2v7zm4 0h-2V7h2v10zm4 0h-2v-4h2v4z\"/>\n",
              "    </g>\n",
              "</svg>\n",
              "  </button>\n",
              "\n",
              "<style>\n",
              "  .colab-df-quickchart {\n",
              "      --bg-color: #E8F0FE;\n",
              "      --fill-color: #1967D2;\n",
              "      --hover-bg-color: #E2EBFA;\n",
              "      --hover-fill-color: #174EA6;\n",
              "      --disabled-fill-color: #AAA;\n",
              "      --disabled-bg-color: #DDD;\n",
              "  }\n",
              "\n",
              "  [theme=dark] .colab-df-quickchart {\n",
              "      --bg-color: #3B4455;\n",
              "      --fill-color: #D2E3FC;\n",
              "      --hover-bg-color: #434B5C;\n",
              "      --hover-fill-color: #FFFFFF;\n",
              "      --disabled-bg-color: #3B4455;\n",
              "      --disabled-fill-color: #666;\n",
              "  }\n",
              "\n",
              "  .colab-df-quickchart {\n",
              "    background-color: var(--bg-color);\n",
              "    border: none;\n",
              "    border-radius: 50%;\n",
              "    cursor: pointer;\n",
              "    display: none;\n",
              "    fill: var(--fill-color);\n",
              "    height: 32px;\n",
              "    padding: 0;\n",
              "    width: 32px;\n",
              "  }\n",
              "\n",
              "  .colab-df-quickchart:hover {\n",
              "    background-color: var(--hover-bg-color);\n",
              "    box-shadow: 0 1px 2px rgba(60, 64, 67, 0.3), 0 1px 3px 1px rgba(60, 64, 67, 0.15);\n",
              "    fill: var(--button-hover-fill-color);\n",
              "  }\n",
              "\n",
              "  .colab-df-quickchart-complete:disabled,\n",
              "  .colab-df-quickchart-complete:disabled:hover {\n",
              "    background-color: var(--disabled-bg-color);\n",
              "    fill: var(--disabled-fill-color);\n",
              "    box-shadow: none;\n",
              "  }\n",
              "\n",
              "  .colab-df-spinner {\n",
              "    border: 2px solid var(--fill-color);\n",
              "    border-color: transparent;\n",
              "    border-bottom-color: var(--fill-color);\n",
              "    animation:\n",
              "      spin 1s steps(1) infinite;\n",
              "  }\n",
              "\n",
              "  @keyframes spin {\n",
              "    0% {\n",
              "      border-color: transparent;\n",
              "      border-bottom-color: var(--fill-color);\n",
              "      border-left-color: var(--fill-color);\n",
              "    }\n",
              "    20% {\n",
              "      border-color: transparent;\n",
              "      border-left-color: var(--fill-color);\n",
              "      border-top-color: var(--fill-color);\n",
              "    }\n",
              "    30% {\n",
              "      border-color: transparent;\n",
              "      border-left-color: var(--fill-color);\n",
              "      border-top-color: var(--fill-color);\n",
              "      border-right-color: var(--fill-color);\n",
              "    }\n",
              "    40% {\n",
              "      border-color: transparent;\n",
              "      border-right-color: var(--fill-color);\n",
              "      border-top-color: var(--fill-color);\n",
              "    }\n",
              "    60% {\n",
              "      border-color: transparent;\n",
              "      border-right-color: var(--fill-color);\n",
              "    }\n",
              "    80% {\n",
              "      border-color: transparent;\n",
              "      border-right-color: var(--fill-color);\n",
              "      border-bottom-color: var(--fill-color);\n",
              "    }\n",
              "    90% {\n",
              "      border-color: transparent;\n",
              "      border-bottom-color: var(--fill-color);\n",
              "    }\n",
              "  }\n",
              "</style>\n",
              "\n",
              "  <script>\n",
              "    async function quickchart(key) {\n",
              "      const quickchartButtonEl =\n",
              "        document.querySelector('#' + key + ' button');\n",
              "      quickchartButtonEl.disabled = true;  // To prevent multiple clicks.\n",
              "      quickchartButtonEl.classList.add('colab-df-spinner');\n",
              "      try {\n",
              "        const charts = await google.colab.kernel.invokeFunction(\n",
              "            'suggestCharts', [key], {});\n",
              "      } catch (error) {\n",
              "        console.error('Error during call to suggestCharts:', error);\n",
              "      }\n",
              "      quickchartButtonEl.classList.remove('colab-df-spinner');\n",
              "      quickchartButtonEl.classList.add('colab-df-quickchart-complete');\n",
              "    }\n",
              "    (() => {\n",
              "      let quickchartButtonEl =\n",
              "        document.querySelector('#df-509052ba-e5c3-4437-8825-fcc5dcd976ac button');\n",
              "      quickchartButtonEl.style.display =\n",
              "        google.colab.kernel.accessAllowed ? 'block' : 'none';\n",
              "    })();\n",
              "  </script>\n",
              "</div>\n",
              "    </div>\n",
              "  </div>\n"
            ]
          },
          "metadata": {},
          "execution_count": 1712
        }
      ]
    },
    {
      "cell_type": "code",
      "source": [
        "df_coef = pd.DataFrame(columns=['Variable', 'Analisis', 'Precision', 'Exactitud','Sensibilidad'])"
      ],
      "metadata": {
        "id": "2MaCe_8oBWDR"
      },
      "execution_count": 1713,
      "outputs": []
    },
    {
      "cell_type": "markdown",
      "source": [
        "##Analizar 10 casos de correlación logística que existe entre diferentes variables de nuestra base de datos, aplicando la herramienta de “Regresión Logística”"
      ],
      "metadata": {
        "id": "Ia0nChtfoTCS"
      }
    },
    {
      "cell_type": "markdown",
      "source": [
        "###Analisis 1"
      ],
      "metadata": {
        "id": "Cj9tzrnPEE0l"
      }
    },
    {
      "cell_type": "code",
      "source": [
        "Vars_Indep= df2[['enganche', 'precio', 'descuento']]\n",
        "Var_Dep= df2['status_cuenta_dicotomica']"
      ],
      "metadata": {
        "id": "VSN69MsgDxjU"
      },
      "execution_count": 1714,
      "outputs": []
    },
    {
      "cell_type": "code",
      "source": [
        "X= Vars_Indep\n",
        "y= Var_Dep"
      ],
      "metadata": {
        "id": "h587HyXTBV36"
      },
      "execution_count": 1715,
      "outputs": []
    },
    {
      "cell_type": "code",
      "source": [
        "X_train, X_test, y_train, y_test = train_test_split(X, y, test_size=0.3, random_state =None)"
      ],
      "metadata": {
        "id": "AMWgha64BaIC"
      },
      "execution_count": 1716,
      "outputs": []
    },
    {
      "cell_type": "code",
      "source": [
        "escalar = StandardScaler()"
      ],
      "metadata": {
        "id": "bsGn5h52BayC"
      },
      "execution_count": 1717,
      "outputs": []
    },
    {
      "cell_type": "code",
      "source": [
        "X_train = escalar.fit_transform(X_train)\n",
        "X_test = escalar.transform(X_test)"
      ],
      "metadata": {
        "id": "jQRw6wmSBccC"
      },
      "execution_count": 1718,
      "outputs": []
    },
    {
      "cell_type": "code",
      "source": [
        "algoritmo = LogisticRegression()"
      ],
      "metadata": {
        "id": "7EMJm2rZBeUQ"
      },
      "execution_count": 1719,
      "outputs": []
    },
    {
      "cell_type": "code",
      "source": [
        "algoritmo.fit(X_train, y_train)"
      ],
      "metadata": {
        "colab": {
          "base_uri": "https://localhost:8080/",
          "height": 74
        },
        "id": "kmeiRyYTBf7u",
        "outputId": "ba19fb38-8828-4bcc-fdd4-264b90292482"
      },
      "execution_count": 1720,
      "outputs": [
        {
          "output_type": "execute_result",
          "data": {
            "text/plain": [
              "LogisticRegression()"
            ],
            "text/html": [
              "<style>#sk-container-id-145 {color: black;background-color: white;}#sk-container-id-145 pre{padding: 0;}#sk-container-id-145 div.sk-toggleable {background-color: white;}#sk-container-id-145 label.sk-toggleable__label {cursor: pointer;display: block;width: 100%;margin-bottom: 0;padding: 0.3em;box-sizing: border-box;text-align: center;}#sk-container-id-145 label.sk-toggleable__label-arrow:before {content: \"▸\";float: left;margin-right: 0.25em;color: #696969;}#sk-container-id-145 label.sk-toggleable__label-arrow:hover:before {color: black;}#sk-container-id-145 div.sk-estimator:hover label.sk-toggleable__label-arrow:before {color: black;}#sk-container-id-145 div.sk-toggleable__content {max-height: 0;max-width: 0;overflow: hidden;text-align: left;background-color: #f0f8ff;}#sk-container-id-145 div.sk-toggleable__content pre {margin: 0.2em;color: black;border-radius: 0.25em;background-color: #f0f8ff;}#sk-container-id-145 input.sk-toggleable__control:checked~div.sk-toggleable__content {max-height: 200px;max-width: 100%;overflow: auto;}#sk-container-id-145 input.sk-toggleable__control:checked~label.sk-toggleable__label-arrow:before {content: \"▾\";}#sk-container-id-145 div.sk-estimator input.sk-toggleable__control:checked~label.sk-toggleable__label {background-color: #d4ebff;}#sk-container-id-145 div.sk-label input.sk-toggleable__control:checked~label.sk-toggleable__label {background-color: #d4ebff;}#sk-container-id-145 input.sk-hidden--visually {border: 0;clip: rect(1px 1px 1px 1px);clip: rect(1px, 1px, 1px, 1px);height: 1px;margin: -1px;overflow: hidden;padding: 0;position: absolute;width: 1px;}#sk-container-id-145 div.sk-estimator {font-family: monospace;background-color: #f0f8ff;border: 1px dotted black;border-radius: 0.25em;box-sizing: border-box;margin-bottom: 0.5em;}#sk-container-id-145 div.sk-estimator:hover {background-color: #d4ebff;}#sk-container-id-145 div.sk-parallel-item::after {content: \"\";width: 100%;border-bottom: 1px solid gray;flex-grow: 1;}#sk-container-id-145 div.sk-label:hover label.sk-toggleable__label {background-color: #d4ebff;}#sk-container-id-145 div.sk-serial::before {content: \"\";position: absolute;border-left: 1px solid gray;box-sizing: border-box;top: 0;bottom: 0;left: 50%;z-index: 0;}#sk-container-id-145 div.sk-serial {display: flex;flex-direction: column;align-items: center;background-color: white;padding-right: 0.2em;padding-left: 0.2em;position: relative;}#sk-container-id-145 div.sk-item {position: relative;z-index: 1;}#sk-container-id-145 div.sk-parallel {display: flex;align-items: stretch;justify-content: center;background-color: white;position: relative;}#sk-container-id-145 div.sk-item::before, #sk-container-id-145 div.sk-parallel-item::before {content: \"\";position: absolute;border-left: 1px solid gray;box-sizing: border-box;top: 0;bottom: 0;left: 50%;z-index: -1;}#sk-container-id-145 div.sk-parallel-item {display: flex;flex-direction: column;z-index: 1;position: relative;background-color: white;}#sk-container-id-145 div.sk-parallel-item:first-child::after {align-self: flex-end;width: 50%;}#sk-container-id-145 div.sk-parallel-item:last-child::after {align-self: flex-start;width: 50%;}#sk-container-id-145 div.sk-parallel-item:only-child::after {width: 0;}#sk-container-id-145 div.sk-dashed-wrapped {border: 1px dashed gray;margin: 0 0.4em 0.5em 0.4em;box-sizing: border-box;padding-bottom: 0.4em;background-color: white;}#sk-container-id-145 div.sk-label label {font-family: monospace;font-weight: bold;display: inline-block;line-height: 1.2em;}#sk-container-id-145 div.sk-label-container {text-align: center;}#sk-container-id-145 div.sk-container {/* jupyter's `normalize.less` sets `[hidden] { display: none; }` but bootstrap.min.css set `[hidden] { display: none !important; }` so we also need the `!important` here to be able to override the default hidden behavior on the sphinx rendered scikit-learn.org. See: https://github.com/scikit-learn/scikit-learn/issues/21755 */display: inline-block !important;position: relative;}#sk-container-id-145 div.sk-text-repr-fallback {display: none;}</style><div id=\"sk-container-id-145\" class=\"sk-top-container\"><div class=\"sk-text-repr-fallback\"><pre>LogisticRegression()</pre><b>In a Jupyter environment, please rerun this cell to show the HTML representation or trust the notebook. <br />On GitHub, the HTML representation is unable to render, please try loading this page with nbviewer.org.</b></div><div class=\"sk-container\" hidden><div class=\"sk-item\"><div class=\"sk-estimator sk-toggleable\"><input class=\"sk-toggleable__control sk-hidden--visually\" id=\"sk-estimator-id-145\" type=\"checkbox\" checked><label for=\"sk-estimator-id-145\" class=\"sk-toggleable__label sk-toggleable__label-arrow\">LogisticRegression</label><div class=\"sk-toggleable__content\"><pre>LogisticRegression()</pre></div></div></div></div></div>"
            ]
          },
          "metadata": {},
          "execution_count": 1720
        }
      ]
    },
    {
      "cell_type": "code",
      "source": [
        "algoritmo.fit(X_train, y_train)"
      ],
      "metadata": {
        "colab": {
          "base_uri": "https://localhost:8080/",
          "height": 74
        },
        "id": "oUFR8gyDBkTM",
        "outputId": "b80886c7-85b0-4b16-cbec-4c6c291122fb"
      },
      "execution_count": 1721,
      "outputs": [
        {
          "output_type": "execute_result",
          "data": {
            "text/plain": [
              "LogisticRegression()"
            ],
            "text/html": [
              "<style>#sk-container-id-146 {color: black;background-color: white;}#sk-container-id-146 pre{padding: 0;}#sk-container-id-146 div.sk-toggleable {background-color: white;}#sk-container-id-146 label.sk-toggleable__label {cursor: pointer;display: block;width: 100%;margin-bottom: 0;padding: 0.3em;box-sizing: border-box;text-align: center;}#sk-container-id-146 label.sk-toggleable__label-arrow:before {content: \"▸\";float: left;margin-right: 0.25em;color: #696969;}#sk-container-id-146 label.sk-toggleable__label-arrow:hover:before {color: black;}#sk-container-id-146 div.sk-estimator:hover label.sk-toggleable__label-arrow:before {color: black;}#sk-container-id-146 div.sk-toggleable__content {max-height: 0;max-width: 0;overflow: hidden;text-align: left;background-color: #f0f8ff;}#sk-container-id-146 div.sk-toggleable__content pre {margin: 0.2em;color: black;border-radius: 0.25em;background-color: #f0f8ff;}#sk-container-id-146 input.sk-toggleable__control:checked~div.sk-toggleable__content {max-height: 200px;max-width: 100%;overflow: auto;}#sk-container-id-146 input.sk-toggleable__control:checked~label.sk-toggleable__label-arrow:before {content: \"▾\";}#sk-container-id-146 div.sk-estimator input.sk-toggleable__control:checked~label.sk-toggleable__label {background-color: #d4ebff;}#sk-container-id-146 div.sk-label input.sk-toggleable__control:checked~label.sk-toggleable__label {background-color: #d4ebff;}#sk-container-id-146 input.sk-hidden--visually {border: 0;clip: rect(1px 1px 1px 1px);clip: rect(1px, 1px, 1px, 1px);height: 1px;margin: -1px;overflow: hidden;padding: 0;position: absolute;width: 1px;}#sk-container-id-146 div.sk-estimator {font-family: monospace;background-color: #f0f8ff;border: 1px dotted black;border-radius: 0.25em;box-sizing: border-box;margin-bottom: 0.5em;}#sk-container-id-146 div.sk-estimator:hover {background-color: #d4ebff;}#sk-container-id-146 div.sk-parallel-item::after {content: \"\";width: 100%;border-bottom: 1px solid gray;flex-grow: 1;}#sk-container-id-146 div.sk-label:hover label.sk-toggleable__label {background-color: #d4ebff;}#sk-container-id-146 div.sk-serial::before {content: \"\";position: absolute;border-left: 1px solid gray;box-sizing: border-box;top: 0;bottom: 0;left: 50%;z-index: 0;}#sk-container-id-146 div.sk-serial {display: flex;flex-direction: column;align-items: center;background-color: white;padding-right: 0.2em;padding-left: 0.2em;position: relative;}#sk-container-id-146 div.sk-item {position: relative;z-index: 1;}#sk-container-id-146 div.sk-parallel {display: flex;align-items: stretch;justify-content: center;background-color: white;position: relative;}#sk-container-id-146 div.sk-item::before, #sk-container-id-146 div.sk-parallel-item::before {content: \"\";position: absolute;border-left: 1px solid gray;box-sizing: border-box;top: 0;bottom: 0;left: 50%;z-index: -1;}#sk-container-id-146 div.sk-parallel-item {display: flex;flex-direction: column;z-index: 1;position: relative;background-color: white;}#sk-container-id-146 div.sk-parallel-item:first-child::after {align-self: flex-end;width: 50%;}#sk-container-id-146 div.sk-parallel-item:last-child::after {align-self: flex-start;width: 50%;}#sk-container-id-146 div.sk-parallel-item:only-child::after {width: 0;}#sk-container-id-146 div.sk-dashed-wrapped {border: 1px dashed gray;margin: 0 0.4em 0.5em 0.4em;box-sizing: border-box;padding-bottom: 0.4em;background-color: white;}#sk-container-id-146 div.sk-label label {font-family: monospace;font-weight: bold;display: inline-block;line-height: 1.2em;}#sk-container-id-146 div.sk-label-container {text-align: center;}#sk-container-id-146 div.sk-container {/* jupyter's `normalize.less` sets `[hidden] { display: none; }` but bootstrap.min.css set `[hidden] { display: none !important; }` so we also need the `!important` here to be able to override the default hidden behavior on the sphinx rendered scikit-learn.org. See: https://github.com/scikit-learn/scikit-learn/issues/21755 */display: inline-block !important;position: relative;}#sk-container-id-146 div.sk-text-repr-fallback {display: none;}</style><div id=\"sk-container-id-146\" class=\"sk-top-container\"><div class=\"sk-text-repr-fallback\"><pre>LogisticRegression()</pre><b>In a Jupyter environment, please rerun this cell to show the HTML representation or trust the notebook. <br />On GitHub, the HTML representation is unable to render, please try loading this page with nbviewer.org.</b></div><div class=\"sk-container\" hidden><div class=\"sk-item\"><div class=\"sk-estimator sk-toggleable\"><input class=\"sk-toggleable__control sk-hidden--visually\" id=\"sk-estimator-id-146\" type=\"checkbox\" checked><label for=\"sk-estimator-id-146\" class=\"sk-toggleable__label sk-toggleable__label-arrow\">LogisticRegression</label><div class=\"sk-toggleable__content\"><pre>LogisticRegression()</pre></div></div></div></div></div>"
            ]
          },
          "metadata": {},
          "execution_count": 1721
        }
      ]
    },
    {
      "cell_type": "code",
      "source": [
        "y_pred = algoritmo.predict(X_test)\n",
        "y_pred"
      ],
      "metadata": {
        "colab": {
          "base_uri": "https://localhost:8080/"
        },
        "id": "9WtWMod1BmNm",
        "outputId": "2e3f7fda-f5fb-47f6-99ea-817e5e296839"
      },
      "execution_count": 1722,
      "outputs": [
        {
          "output_type": "execute_result",
          "data": {
            "text/plain": [
              "array([1, 1, 1, ..., 0, 0, 0])"
            ]
          },
          "metadata": {},
          "execution_count": 1722
        }
      ]
    },
    {
      "cell_type": "code",
      "source": [
        "matriz = confusion_matrix(y_test, y_pred)\n",
        "print('Matriz de Confusión:')\n",
        "print(matriz)"
      ],
      "metadata": {
        "colab": {
          "base_uri": "https://localhost:8080/"
        },
        "id": "J9-eQXbRBmqe",
        "outputId": "27e8000e-6ebf-40e5-9878-885ad6e55c99"
      },
      "execution_count": 1723,
      "outputs": [
        {
          "output_type": "stream",
          "name": "stdout",
          "text": [
            "Matriz de Confusión:\n",
            "[[2182  982]\n",
            " [1824 1144]]\n"
          ]
        }
      ]
    },
    {
      "cell_type": "code",
      "source": [
        "precision = precision_score(y_test, y_pred, average=\"macro\")\n",
        "print('Precisión del modelo:')\n",
        "print(precision)"
      ],
      "metadata": {
        "colab": {
          "base_uri": "https://localhost:8080/"
        },
        "id": "FYwFOYYVB0ro",
        "outputId": "04651dd8-c431-404e-c9bb-7ef0d3ebb57d"
      },
      "execution_count": 1724,
      "outputs": [
        {
          "output_type": "stream",
          "name": "stdout",
          "text": [
            "Precisión del modelo:\n",
            "0.5413913466582816\n"
          ]
        }
      ]
    },
    {
      "cell_type": "code",
      "source": [
        "sensibilidad = recall_score(y_test, y_pred, average=\"macro\")\n",
        "print('Sensibilidad del modelo:')\n",
        "print(sensibilidad)"
      ],
      "metadata": {
        "colab": {
          "base_uri": "https://localhost:8080/"
        },
        "id": "A8CWGHXfB1P6",
        "outputId": "bcd6ca7f-8381-47ec-ee62-381ba9b8ff27"
      },
      "execution_count": 1725,
      "outputs": [
        {
          "output_type": "stream",
          "name": "stdout",
          "text": [
            "Sensibilidad del modelo:\n",
            "0.5375390597046967\n"
          ]
        }
      ]
    },
    {
      "cell_type": "code",
      "source": [
        "puntajef1 = f1_score(y_test, y_pred, average=\"macro\")\n",
        "print('Puntaje F1 del modelo:')\n",
        "print(puntajef1)"
      ],
      "metadata": {
        "colab": {
          "base_uri": "https://localhost:8080/"
        },
        "id": "cESFr8q3B3J9",
        "outputId": "d7b8ec65-17fc-4319-b635-726c1b259e45"
      },
      "execution_count": 1726,
      "outputs": [
        {
          "output_type": "stream",
          "name": "stdout",
          "text": [
            "Puntaje F1 del modelo:\n",
            "0.5289015052576417\n"
          ]
        }
      ]
    },
    {
      "cell_type": "code",
      "source": [
        "df_coef.loc[0] = ['status_cuenta_dicotomica', '1', round(precision,2), round(sensibilidad,2), round(puntajef1,2) ]"
      ],
      "metadata": {
        "id": "Jy-K-goeB5ic"
      },
      "execution_count": 1727,
      "outputs": []
    },
    {
      "cell_type": "markdown",
      "source": [
        "###Analisis 2"
      ],
      "metadata": {
        "id": "9DEkA-IkmbZx"
      }
    },
    {
      "cell_type": "code",
      "source": [
        "Vars_Indep= df2[['enganche', 'precio', 'limite_credito']]\n",
        "Var_Dep= df2['puntos']"
      ],
      "metadata": {
        "id": "Len-BhF3nVCm"
      },
      "execution_count": 1728,
      "outputs": []
    },
    {
      "cell_type": "code",
      "source": [
        "X= Vars_Indep\n",
        "y= Var_Dep"
      ],
      "metadata": {
        "id": "ceeXids9nVCo"
      },
      "execution_count": 1729,
      "outputs": []
    },
    {
      "cell_type": "code",
      "source": [
        "X_train, X_test, y_train, y_test = train_test_split(X, y, test_size=0.3, random_state =None)"
      ],
      "metadata": {
        "id": "TUgsypfxnVCp"
      },
      "execution_count": 1730,
      "outputs": []
    },
    {
      "cell_type": "code",
      "source": [
        "escalar = StandardScaler()"
      ],
      "metadata": {
        "id": "ige7WTiwnVCq"
      },
      "execution_count": 1731,
      "outputs": []
    },
    {
      "cell_type": "code",
      "source": [
        "X_train = escalar.fit_transform(X_train)\n",
        "X_test = escalar.transform(X_test)"
      ],
      "metadata": {
        "id": "VNLXHPNWnVCq"
      },
      "execution_count": 1732,
      "outputs": []
    },
    {
      "cell_type": "code",
      "source": [
        "algoritmo = LogisticRegression()"
      ],
      "metadata": {
        "id": "GPMQ63CznVCr"
      },
      "execution_count": 1733,
      "outputs": []
    },
    {
      "cell_type": "code",
      "source": [
        "algoritmo.fit(X_train, y_train)"
      ],
      "metadata": {
        "colab": {
          "base_uri": "https://localhost:8080/",
          "height": 74
        },
        "outputId": "ae962ff8-59a7-4816-cae2-05e2137f8033",
        "id": "FtK_aD22nVCs"
      },
      "execution_count": 1734,
      "outputs": [
        {
          "output_type": "execute_result",
          "data": {
            "text/plain": [
              "LogisticRegression()"
            ],
            "text/html": [
              "<style>#sk-container-id-147 {color: black;background-color: white;}#sk-container-id-147 pre{padding: 0;}#sk-container-id-147 div.sk-toggleable {background-color: white;}#sk-container-id-147 label.sk-toggleable__label {cursor: pointer;display: block;width: 100%;margin-bottom: 0;padding: 0.3em;box-sizing: border-box;text-align: center;}#sk-container-id-147 label.sk-toggleable__label-arrow:before {content: \"▸\";float: left;margin-right: 0.25em;color: #696969;}#sk-container-id-147 label.sk-toggleable__label-arrow:hover:before {color: black;}#sk-container-id-147 div.sk-estimator:hover label.sk-toggleable__label-arrow:before {color: black;}#sk-container-id-147 div.sk-toggleable__content {max-height: 0;max-width: 0;overflow: hidden;text-align: left;background-color: #f0f8ff;}#sk-container-id-147 div.sk-toggleable__content pre {margin: 0.2em;color: black;border-radius: 0.25em;background-color: #f0f8ff;}#sk-container-id-147 input.sk-toggleable__control:checked~div.sk-toggleable__content {max-height: 200px;max-width: 100%;overflow: auto;}#sk-container-id-147 input.sk-toggleable__control:checked~label.sk-toggleable__label-arrow:before {content: \"▾\";}#sk-container-id-147 div.sk-estimator input.sk-toggleable__control:checked~label.sk-toggleable__label {background-color: #d4ebff;}#sk-container-id-147 div.sk-label input.sk-toggleable__control:checked~label.sk-toggleable__label {background-color: #d4ebff;}#sk-container-id-147 input.sk-hidden--visually {border: 0;clip: rect(1px 1px 1px 1px);clip: rect(1px, 1px, 1px, 1px);height: 1px;margin: -1px;overflow: hidden;padding: 0;position: absolute;width: 1px;}#sk-container-id-147 div.sk-estimator {font-family: monospace;background-color: #f0f8ff;border: 1px dotted black;border-radius: 0.25em;box-sizing: border-box;margin-bottom: 0.5em;}#sk-container-id-147 div.sk-estimator:hover {background-color: #d4ebff;}#sk-container-id-147 div.sk-parallel-item::after {content: \"\";width: 100%;border-bottom: 1px solid gray;flex-grow: 1;}#sk-container-id-147 div.sk-label:hover label.sk-toggleable__label {background-color: #d4ebff;}#sk-container-id-147 div.sk-serial::before {content: \"\";position: absolute;border-left: 1px solid gray;box-sizing: border-box;top: 0;bottom: 0;left: 50%;z-index: 0;}#sk-container-id-147 div.sk-serial {display: flex;flex-direction: column;align-items: center;background-color: white;padding-right: 0.2em;padding-left: 0.2em;position: relative;}#sk-container-id-147 div.sk-item {position: relative;z-index: 1;}#sk-container-id-147 div.sk-parallel {display: flex;align-items: stretch;justify-content: center;background-color: white;position: relative;}#sk-container-id-147 div.sk-item::before, #sk-container-id-147 div.sk-parallel-item::before {content: \"\";position: absolute;border-left: 1px solid gray;box-sizing: border-box;top: 0;bottom: 0;left: 50%;z-index: -1;}#sk-container-id-147 div.sk-parallel-item {display: flex;flex-direction: column;z-index: 1;position: relative;background-color: white;}#sk-container-id-147 div.sk-parallel-item:first-child::after {align-self: flex-end;width: 50%;}#sk-container-id-147 div.sk-parallel-item:last-child::after {align-self: flex-start;width: 50%;}#sk-container-id-147 div.sk-parallel-item:only-child::after {width: 0;}#sk-container-id-147 div.sk-dashed-wrapped {border: 1px dashed gray;margin: 0 0.4em 0.5em 0.4em;box-sizing: border-box;padding-bottom: 0.4em;background-color: white;}#sk-container-id-147 div.sk-label label {font-family: monospace;font-weight: bold;display: inline-block;line-height: 1.2em;}#sk-container-id-147 div.sk-label-container {text-align: center;}#sk-container-id-147 div.sk-container {/* jupyter's `normalize.less` sets `[hidden] { display: none; }` but bootstrap.min.css set `[hidden] { display: none !important; }` so we also need the `!important` here to be able to override the default hidden behavior on the sphinx rendered scikit-learn.org. See: https://github.com/scikit-learn/scikit-learn/issues/21755 */display: inline-block !important;position: relative;}#sk-container-id-147 div.sk-text-repr-fallback {display: none;}</style><div id=\"sk-container-id-147\" class=\"sk-top-container\"><div class=\"sk-text-repr-fallback\"><pre>LogisticRegression()</pre><b>In a Jupyter environment, please rerun this cell to show the HTML representation or trust the notebook. <br />On GitHub, the HTML representation is unable to render, please try loading this page with nbviewer.org.</b></div><div class=\"sk-container\" hidden><div class=\"sk-item\"><div class=\"sk-estimator sk-toggleable\"><input class=\"sk-toggleable__control sk-hidden--visually\" id=\"sk-estimator-id-147\" type=\"checkbox\" checked><label for=\"sk-estimator-id-147\" class=\"sk-toggleable__label sk-toggleable__label-arrow\">LogisticRegression</label><div class=\"sk-toggleable__content\"><pre>LogisticRegression()</pre></div></div></div></div></div>"
            ]
          },
          "metadata": {},
          "execution_count": 1734
        }
      ]
    },
    {
      "cell_type": "code",
      "source": [
        "algoritmo.fit(X_train, y_train)"
      ],
      "metadata": {
        "colab": {
          "base_uri": "https://localhost:8080/",
          "height": 74
        },
        "outputId": "bbb35751-1515-4e0f-9750-7515a47dda64",
        "id": "2463aYqanVCs"
      },
      "execution_count": 1735,
      "outputs": [
        {
          "output_type": "execute_result",
          "data": {
            "text/plain": [
              "LogisticRegression()"
            ],
            "text/html": [
              "<style>#sk-container-id-148 {color: black;background-color: white;}#sk-container-id-148 pre{padding: 0;}#sk-container-id-148 div.sk-toggleable {background-color: white;}#sk-container-id-148 label.sk-toggleable__label {cursor: pointer;display: block;width: 100%;margin-bottom: 0;padding: 0.3em;box-sizing: border-box;text-align: center;}#sk-container-id-148 label.sk-toggleable__label-arrow:before {content: \"▸\";float: left;margin-right: 0.25em;color: #696969;}#sk-container-id-148 label.sk-toggleable__label-arrow:hover:before {color: black;}#sk-container-id-148 div.sk-estimator:hover label.sk-toggleable__label-arrow:before {color: black;}#sk-container-id-148 div.sk-toggleable__content {max-height: 0;max-width: 0;overflow: hidden;text-align: left;background-color: #f0f8ff;}#sk-container-id-148 div.sk-toggleable__content pre {margin: 0.2em;color: black;border-radius: 0.25em;background-color: #f0f8ff;}#sk-container-id-148 input.sk-toggleable__control:checked~div.sk-toggleable__content {max-height: 200px;max-width: 100%;overflow: auto;}#sk-container-id-148 input.sk-toggleable__control:checked~label.sk-toggleable__label-arrow:before {content: \"▾\";}#sk-container-id-148 div.sk-estimator input.sk-toggleable__control:checked~label.sk-toggleable__label {background-color: #d4ebff;}#sk-container-id-148 div.sk-label input.sk-toggleable__control:checked~label.sk-toggleable__label {background-color: #d4ebff;}#sk-container-id-148 input.sk-hidden--visually {border: 0;clip: rect(1px 1px 1px 1px);clip: rect(1px, 1px, 1px, 1px);height: 1px;margin: -1px;overflow: hidden;padding: 0;position: absolute;width: 1px;}#sk-container-id-148 div.sk-estimator {font-family: monospace;background-color: #f0f8ff;border: 1px dotted black;border-radius: 0.25em;box-sizing: border-box;margin-bottom: 0.5em;}#sk-container-id-148 div.sk-estimator:hover {background-color: #d4ebff;}#sk-container-id-148 div.sk-parallel-item::after {content: \"\";width: 100%;border-bottom: 1px solid gray;flex-grow: 1;}#sk-container-id-148 div.sk-label:hover label.sk-toggleable__label {background-color: #d4ebff;}#sk-container-id-148 div.sk-serial::before {content: \"\";position: absolute;border-left: 1px solid gray;box-sizing: border-box;top: 0;bottom: 0;left: 50%;z-index: 0;}#sk-container-id-148 div.sk-serial {display: flex;flex-direction: column;align-items: center;background-color: white;padding-right: 0.2em;padding-left: 0.2em;position: relative;}#sk-container-id-148 div.sk-item {position: relative;z-index: 1;}#sk-container-id-148 div.sk-parallel {display: flex;align-items: stretch;justify-content: center;background-color: white;position: relative;}#sk-container-id-148 div.sk-item::before, #sk-container-id-148 div.sk-parallel-item::before {content: \"\";position: absolute;border-left: 1px solid gray;box-sizing: border-box;top: 0;bottom: 0;left: 50%;z-index: -1;}#sk-container-id-148 div.sk-parallel-item {display: flex;flex-direction: column;z-index: 1;position: relative;background-color: white;}#sk-container-id-148 div.sk-parallel-item:first-child::after {align-self: flex-end;width: 50%;}#sk-container-id-148 div.sk-parallel-item:last-child::after {align-self: flex-start;width: 50%;}#sk-container-id-148 div.sk-parallel-item:only-child::after {width: 0;}#sk-container-id-148 div.sk-dashed-wrapped {border: 1px dashed gray;margin: 0 0.4em 0.5em 0.4em;box-sizing: border-box;padding-bottom: 0.4em;background-color: white;}#sk-container-id-148 div.sk-label label {font-family: monospace;font-weight: bold;display: inline-block;line-height: 1.2em;}#sk-container-id-148 div.sk-label-container {text-align: center;}#sk-container-id-148 div.sk-container {/* jupyter's `normalize.less` sets `[hidden] { display: none; }` but bootstrap.min.css set `[hidden] { display: none !important; }` so we also need the `!important` here to be able to override the default hidden behavior on the sphinx rendered scikit-learn.org. See: https://github.com/scikit-learn/scikit-learn/issues/21755 */display: inline-block !important;position: relative;}#sk-container-id-148 div.sk-text-repr-fallback {display: none;}</style><div id=\"sk-container-id-148\" class=\"sk-top-container\"><div class=\"sk-text-repr-fallback\"><pre>LogisticRegression()</pre><b>In a Jupyter environment, please rerun this cell to show the HTML representation or trust the notebook. <br />On GitHub, the HTML representation is unable to render, please try loading this page with nbviewer.org.</b></div><div class=\"sk-container\" hidden><div class=\"sk-item\"><div class=\"sk-estimator sk-toggleable\"><input class=\"sk-toggleable__control sk-hidden--visually\" id=\"sk-estimator-id-148\" type=\"checkbox\" checked><label for=\"sk-estimator-id-148\" class=\"sk-toggleable__label sk-toggleable__label-arrow\">LogisticRegression</label><div class=\"sk-toggleable__content\"><pre>LogisticRegression()</pre></div></div></div></div></div>"
            ]
          },
          "metadata": {},
          "execution_count": 1735
        }
      ]
    },
    {
      "cell_type": "code",
      "source": [
        "y_pred = algoritmo.predict(X_test)\n",
        "y_pred"
      ],
      "metadata": {
        "colab": {
          "base_uri": "https://localhost:8080/"
        },
        "outputId": "f9e74470-ec8f-4577-8cdf-b05475bcc613",
        "id": "80wy8DT6nVCt"
      },
      "execution_count": 1736,
      "outputs": [
        {
          "output_type": "execute_result",
          "data": {
            "text/plain": [
              "array([0, 0, 0, ..., 1, 0, 0])"
            ]
          },
          "metadata": {},
          "execution_count": 1736
        }
      ]
    },
    {
      "cell_type": "code",
      "source": [
        "matriz = confusion_matrix(y_test, y_pred)\n",
        "print('Matriz de Confusión:')\n",
        "print(matriz)"
      ],
      "metadata": {
        "colab": {
          "base_uri": "https://localhost:8080/"
        },
        "outputId": "2e8817d3-3516-4c85-9dfb-8d545f0c93b7",
        "id": "wgzH11FbnVCu"
      },
      "execution_count": 1737,
      "outputs": [
        {
          "output_type": "stream",
          "name": "stdout",
          "text": [
            "Matriz de Confusión:\n",
            "[[5155  195]\n",
            " [ 291  491]]\n"
          ]
        }
      ]
    },
    {
      "cell_type": "code",
      "source": [
        "precision = precision_score(y_test, y_pred, average=\"macro\")\n",
        "print('Precisión del modelo:')\n",
        "print(precision)"
      ],
      "metadata": {
        "colab": {
          "base_uri": "https://localhost:8080/"
        },
        "outputId": "351bb245-7d01-4785-f733-403784b25b1e",
        "id": "w9qm6YpRnVCv"
      },
      "execution_count": 1738,
      "outputs": [
        {
          "output_type": "stream",
          "name": "stdout",
          "text": [
            "Precisión del modelo:\n",
            "0.8311548637082449\n"
          ]
        }
      ]
    },
    {
      "cell_type": "code",
      "source": [
        "sensibilidad = recall_score(y_test, y_pred, average=\"macro\")\n",
        "print('Sensibilidad del modelo:')\n",
        "print(sensibilidad)"
      ],
      "metadata": {
        "colab": {
          "base_uri": "https://localhost:8080/"
        },
        "outputId": "744b805e-d39f-4264-9c25-cb52ad8c7c7a",
        "id": "X59KboJYnVCw"
      },
      "execution_count": 1739,
      "outputs": [
        {
          "output_type": "stream",
          "name": "stdout",
          "text": [
            "Sensibilidad del modelo:\n",
            "0.7957143198604106\n"
          ]
        }
      ]
    },
    {
      "cell_type": "code",
      "source": [
        "puntajef1 = f1_score(y_test, y_pred, average=\"macro\")\n",
        "print('Puntaje F1 del modelo:')\n",
        "print(puntajef1)"
      ],
      "metadata": {
        "colab": {
          "base_uri": "https://localhost:8080/"
        },
        "outputId": "fe524bdf-dcd1-47b3-d8f2-830cd8acf4c0",
        "id": "bplZfa5lnVCx"
      },
      "execution_count": 1740,
      "outputs": [
        {
          "output_type": "stream",
          "name": "stdout",
          "text": [
            "Puntaje F1 del modelo:\n",
            "0.8119603284292396\n"
          ]
        }
      ]
    },
    {
      "cell_type": "code",
      "source": [
        "df_coef.loc[1] = ['puntos', '2', round(precision,2), round(sensibilidad,2), round(puntajef1,2) ]"
      ],
      "metadata": {
        "id": "uExsDKU0nVCy"
      },
      "execution_count": 1741,
      "outputs": []
    },
    {
      "cell_type": "markdown",
      "source": [
        "###Analisis 3"
      ],
      "metadata": {
        "id": "Gy3ZzP_hmez7"
      }
    },
    {
      "cell_type": "code",
      "source": [
        "Vars_Indep= df2[['enganche', 'precio', 'limite_credito']]\n",
        "Var_Dep= df2['reautorizacion']"
      ],
      "metadata": {
        "id": "ma2uAty-nVsh"
      },
      "execution_count": 1742,
      "outputs": []
    },
    {
      "cell_type": "code",
      "source": [
        "df2['reautorizacion'].value_counts()"
      ],
      "metadata": {
        "colab": {
          "base_uri": "https://localhost:8080/"
        },
        "id": "wIEux51op10C",
        "outputId": "d60de55a-c15b-499c-8039-24786adeeb94"
      },
      "execution_count": 1743,
      "outputs": [
        {
          "output_type": "execute_result",
          "data": {
            "text/plain": [
              "0    19720\n",
              "1      719\n",
              "Name: reautorizacion, dtype: int64"
            ]
          },
          "metadata": {},
          "execution_count": 1743
        }
      ]
    },
    {
      "cell_type": "code",
      "source": [
        "X= Vars_Indep\n",
        "y= Var_Dep"
      ],
      "metadata": {
        "id": "oPGaVThRnVsi"
      },
      "execution_count": 1744,
      "outputs": []
    },
    {
      "cell_type": "code",
      "source": [
        "X_train, X_test, y_train, y_test = train_test_split(X, y, test_size=0.3, random_state =None)"
      ],
      "metadata": {
        "id": "VVNE0EKrnVsi"
      },
      "execution_count": 1745,
      "outputs": []
    },
    {
      "cell_type": "code",
      "source": [
        "escalar = StandardScaler()"
      ],
      "metadata": {
        "id": "otjC_EkznVsi"
      },
      "execution_count": 1746,
      "outputs": []
    },
    {
      "cell_type": "code",
      "source": [
        "X_train = escalar.fit_transform(X_train)\n",
        "X_test = escalar.transform(X_test)"
      ],
      "metadata": {
        "id": "FwmKsPUinVsi"
      },
      "execution_count": 1747,
      "outputs": []
    },
    {
      "cell_type": "code",
      "source": [
        "algoritmo = LogisticRegression()"
      ],
      "metadata": {
        "id": "bT5pBiysnVsi"
      },
      "execution_count": 1748,
      "outputs": []
    },
    {
      "cell_type": "code",
      "source": [
        "algoritmo.fit(X_train, y_train)"
      ],
      "metadata": {
        "colab": {
          "base_uri": "https://localhost:8080/",
          "height": 74
        },
        "outputId": "559a6676-3831-4299-acb8-aa8e5e4b6637",
        "id": "JSLUJeKinVsi"
      },
      "execution_count": 1749,
      "outputs": [
        {
          "output_type": "execute_result",
          "data": {
            "text/plain": [
              "LogisticRegression()"
            ],
            "text/html": [
              "<style>#sk-container-id-149 {color: black;background-color: white;}#sk-container-id-149 pre{padding: 0;}#sk-container-id-149 div.sk-toggleable {background-color: white;}#sk-container-id-149 label.sk-toggleable__label {cursor: pointer;display: block;width: 100%;margin-bottom: 0;padding: 0.3em;box-sizing: border-box;text-align: center;}#sk-container-id-149 label.sk-toggleable__label-arrow:before {content: \"▸\";float: left;margin-right: 0.25em;color: #696969;}#sk-container-id-149 label.sk-toggleable__label-arrow:hover:before {color: black;}#sk-container-id-149 div.sk-estimator:hover label.sk-toggleable__label-arrow:before {color: black;}#sk-container-id-149 div.sk-toggleable__content {max-height: 0;max-width: 0;overflow: hidden;text-align: left;background-color: #f0f8ff;}#sk-container-id-149 div.sk-toggleable__content pre {margin: 0.2em;color: black;border-radius: 0.25em;background-color: #f0f8ff;}#sk-container-id-149 input.sk-toggleable__control:checked~div.sk-toggleable__content {max-height: 200px;max-width: 100%;overflow: auto;}#sk-container-id-149 input.sk-toggleable__control:checked~label.sk-toggleable__label-arrow:before {content: \"▾\";}#sk-container-id-149 div.sk-estimator input.sk-toggleable__control:checked~label.sk-toggleable__label {background-color: #d4ebff;}#sk-container-id-149 div.sk-label input.sk-toggleable__control:checked~label.sk-toggleable__label {background-color: #d4ebff;}#sk-container-id-149 input.sk-hidden--visually {border: 0;clip: rect(1px 1px 1px 1px);clip: rect(1px, 1px, 1px, 1px);height: 1px;margin: -1px;overflow: hidden;padding: 0;position: absolute;width: 1px;}#sk-container-id-149 div.sk-estimator {font-family: monospace;background-color: #f0f8ff;border: 1px dotted black;border-radius: 0.25em;box-sizing: border-box;margin-bottom: 0.5em;}#sk-container-id-149 div.sk-estimator:hover {background-color: #d4ebff;}#sk-container-id-149 div.sk-parallel-item::after {content: \"\";width: 100%;border-bottom: 1px solid gray;flex-grow: 1;}#sk-container-id-149 div.sk-label:hover label.sk-toggleable__label {background-color: #d4ebff;}#sk-container-id-149 div.sk-serial::before {content: \"\";position: absolute;border-left: 1px solid gray;box-sizing: border-box;top: 0;bottom: 0;left: 50%;z-index: 0;}#sk-container-id-149 div.sk-serial {display: flex;flex-direction: column;align-items: center;background-color: white;padding-right: 0.2em;padding-left: 0.2em;position: relative;}#sk-container-id-149 div.sk-item {position: relative;z-index: 1;}#sk-container-id-149 div.sk-parallel {display: flex;align-items: stretch;justify-content: center;background-color: white;position: relative;}#sk-container-id-149 div.sk-item::before, #sk-container-id-149 div.sk-parallel-item::before {content: \"\";position: absolute;border-left: 1px solid gray;box-sizing: border-box;top: 0;bottom: 0;left: 50%;z-index: -1;}#sk-container-id-149 div.sk-parallel-item {display: flex;flex-direction: column;z-index: 1;position: relative;background-color: white;}#sk-container-id-149 div.sk-parallel-item:first-child::after {align-self: flex-end;width: 50%;}#sk-container-id-149 div.sk-parallel-item:last-child::after {align-self: flex-start;width: 50%;}#sk-container-id-149 div.sk-parallel-item:only-child::after {width: 0;}#sk-container-id-149 div.sk-dashed-wrapped {border: 1px dashed gray;margin: 0 0.4em 0.5em 0.4em;box-sizing: border-box;padding-bottom: 0.4em;background-color: white;}#sk-container-id-149 div.sk-label label {font-family: monospace;font-weight: bold;display: inline-block;line-height: 1.2em;}#sk-container-id-149 div.sk-label-container {text-align: center;}#sk-container-id-149 div.sk-container {/* jupyter's `normalize.less` sets `[hidden] { display: none; }` but bootstrap.min.css set `[hidden] { display: none !important; }` so we also need the `!important` here to be able to override the default hidden behavior on the sphinx rendered scikit-learn.org. See: https://github.com/scikit-learn/scikit-learn/issues/21755 */display: inline-block !important;position: relative;}#sk-container-id-149 div.sk-text-repr-fallback {display: none;}</style><div id=\"sk-container-id-149\" class=\"sk-top-container\"><div class=\"sk-text-repr-fallback\"><pre>LogisticRegression()</pre><b>In a Jupyter environment, please rerun this cell to show the HTML representation or trust the notebook. <br />On GitHub, the HTML representation is unable to render, please try loading this page with nbviewer.org.</b></div><div class=\"sk-container\" hidden><div class=\"sk-item\"><div class=\"sk-estimator sk-toggleable\"><input class=\"sk-toggleable__control sk-hidden--visually\" id=\"sk-estimator-id-149\" type=\"checkbox\" checked><label for=\"sk-estimator-id-149\" class=\"sk-toggleable__label sk-toggleable__label-arrow\">LogisticRegression</label><div class=\"sk-toggleable__content\"><pre>LogisticRegression()</pre></div></div></div></div></div>"
            ]
          },
          "metadata": {},
          "execution_count": 1749
        }
      ]
    },
    {
      "cell_type": "code",
      "source": [
        "algoritmo.fit(X_train, y_train)"
      ],
      "metadata": {
        "colab": {
          "base_uri": "https://localhost:8080/",
          "height": 74
        },
        "outputId": "bbc7eb59-fbc1-4cf6-902e-1275883986e1",
        "id": "D-vJ5xg2nVsi"
      },
      "execution_count": 1750,
      "outputs": [
        {
          "output_type": "execute_result",
          "data": {
            "text/plain": [
              "LogisticRegression()"
            ],
            "text/html": [
              "<style>#sk-container-id-150 {color: black;background-color: white;}#sk-container-id-150 pre{padding: 0;}#sk-container-id-150 div.sk-toggleable {background-color: white;}#sk-container-id-150 label.sk-toggleable__label {cursor: pointer;display: block;width: 100%;margin-bottom: 0;padding: 0.3em;box-sizing: border-box;text-align: center;}#sk-container-id-150 label.sk-toggleable__label-arrow:before {content: \"▸\";float: left;margin-right: 0.25em;color: #696969;}#sk-container-id-150 label.sk-toggleable__label-arrow:hover:before {color: black;}#sk-container-id-150 div.sk-estimator:hover label.sk-toggleable__label-arrow:before {color: black;}#sk-container-id-150 div.sk-toggleable__content {max-height: 0;max-width: 0;overflow: hidden;text-align: left;background-color: #f0f8ff;}#sk-container-id-150 div.sk-toggleable__content pre {margin: 0.2em;color: black;border-radius: 0.25em;background-color: #f0f8ff;}#sk-container-id-150 input.sk-toggleable__control:checked~div.sk-toggleable__content {max-height: 200px;max-width: 100%;overflow: auto;}#sk-container-id-150 input.sk-toggleable__control:checked~label.sk-toggleable__label-arrow:before {content: \"▾\";}#sk-container-id-150 div.sk-estimator input.sk-toggleable__control:checked~label.sk-toggleable__label {background-color: #d4ebff;}#sk-container-id-150 div.sk-label input.sk-toggleable__control:checked~label.sk-toggleable__label {background-color: #d4ebff;}#sk-container-id-150 input.sk-hidden--visually {border: 0;clip: rect(1px 1px 1px 1px);clip: rect(1px, 1px, 1px, 1px);height: 1px;margin: -1px;overflow: hidden;padding: 0;position: absolute;width: 1px;}#sk-container-id-150 div.sk-estimator {font-family: monospace;background-color: #f0f8ff;border: 1px dotted black;border-radius: 0.25em;box-sizing: border-box;margin-bottom: 0.5em;}#sk-container-id-150 div.sk-estimator:hover {background-color: #d4ebff;}#sk-container-id-150 div.sk-parallel-item::after {content: \"\";width: 100%;border-bottom: 1px solid gray;flex-grow: 1;}#sk-container-id-150 div.sk-label:hover label.sk-toggleable__label {background-color: #d4ebff;}#sk-container-id-150 div.sk-serial::before {content: \"\";position: absolute;border-left: 1px solid gray;box-sizing: border-box;top: 0;bottom: 0;left: 50%;z-index: 0;}#sk-container-id-150 div.sk-serial {display: flex;flex-direction: column;align-items: center;background-color: white;padding-right: 0.2em;padding-left: 0.2em;position: relative;}#sk-container-id-150 div.sk-item {position: relative;z-index: 1;}#sk-container-id-150 div.sk-parallel {display: flex;align-items: stretch;justify-content: center;background-color: white;position: relative;}#sk-container-id-150 div.sk-item::before, #sk-container-id-150 div.sk-parallel-item::before {content: \"\";position: absolute;border-left: 1px solid gray;box-sizing: border-box;top: 0;bottom: 0;left: 50%;z-index: -1;}#sk-container-id-150 div.sk-parallel-item {display: flex;flex-direction: column;z-index: 1;position: relative;background-color: white;}#sk-container-id-150 div.sk-parallel-item:first-child::after {align-self: flex-end;width: 50%;}#sk-container-id-150 div.sk-parallel-item:last-child::after {align-self: flex-start;width: 50%;}#sk-container-id-150 div.sk-parallel-item:only-child::after {width: 0;}#sk-container-id-150 div.sk-dashed-wrapped {border: 1px dashed gray;margin: 0 0.4em 0.5em 0.4em;box-sizing: border-box;padding-bottom: 0.4em;background-color: white;}#sk-container-id-150 div.sk-label label {font-family: monospace;font-weight: bold;display: inline-block;line-height: 1.2em;}#sk-container-id-150 div.sk-label-container {text-align: center;}#sk-container-id-150 div.sk-container {/* jupyter's `normalize.less` sets `[hidden] { display: none; }` but bootstrap.min.css set `[hidden] { display: none !important; }` so we also need the `!important` here to be able to override the default hidden behavior on the sphinx rendered scikit-learn.org. See: https://github.com/scikit-learn/scikit-learn/issues/21755 */display: inline-block !important;position: relative;}#sk-container-id-150 div.sk-text-repr-fallback {display: none;}</style><div id=\"sk-container-id-150\" class=\"sk-top-container\"><div class=\"sk-text-repr-fallback\"><pre>LogisticRegression()</pre><b>In a Jupyter environment, please rerun this cell to show the HTML representation or trust the notebook. <br />On GitHub, the HTML representation is unable to render, please try loading this page with nbviewer.org.</b></div><div class=\"sk-container\" hidden><div class=\"sk-item\"><div class=\"sk-estimator sk-toggleable\"><input class=\"sk-toggleable__control sk-hidden--visually\" id=\"sk-estimator-id-150\" type=\"checkbox\" checked><label for=\"sk-estimator-id-150\" class=\"sk-toggleable__label sk-toggleable__label-arrow\">LogisticRegression</label><div class=\"sk-toggleable__content\"><pre>LogisticRegression()</pre></div></div></div></div></div>"
            ]
          },
          "metadata": {},
          "execution_count": 1750
        }
      ]
    },
    {
      "cell_type": "code",
      "source": [
        "y_pred = algoritmo.predict(X_test)\n",
        "y_pred"
      ],
      "metadata": {
        "colab": {
          "base_uri": "https://localhost:8080/"
        },
        "outputId": "461e8417-7b7c-4a92-cf09-6db64ea78aa3",
        "id": "GuddqQp_nVsj"
      },
      "execution_count": 1751,
      "outputs": [
        {
          "output_type": "execute_result",
          "data": {
            "text/plain": [
              "array([0, 0, 0, ..., 0, 0, 0])"
            ]
          },
          "metadata": {},
          "execution_count": 1751
        }
      ]
    },
    {
      "cell_type": "code",
      "source": [
        "matriz = confusion_matrix(y_test, y_pred)\n",
        "print('Matriz de Confusión:')\n",
        "print(matriz)"
      ],
      "metadata": {
        "colab": {
          "base_uri": "https://localhost:8080/"
        },
        "outputId": "c5774174-30d7-474d-9407-17e520557b80",
        "id": "nC2sjgv9nVsj"
      },
      "execution_count": 1752,
      "outputs": [
        {
          "output_type": "stream",
          "name": "stdout",
          "text": [
            "Matriz de Confusión:\n",
            "[[5906    5]\n",
            " [ 221    0]]\n"
          ]
        }
      ]
    },
    {
      "cell_type": "code",
      "source": [
        "precision = precision_score(y_test, y_pred, average=\"macro\")\n",
        "print('Precisión del modelo:')\n",
        "print(precision)"
      ],
      "metadata": {
        "colab": {
          "base_uri": "https://localhost:8080/"
        },
        "outputId": "5934ad0c-44dd-4410-c326-05e3ab6d0888",
        "id": "itFBNfnxnVsj"
      },
      "execution_count": 1753,
      "outputs": [
        {
          "output_type": "stream",
          "name": "stdout",
          "text": [
            "Precisión del modelo:\n",
            "0.4819650726293455\n"
          ]
        }
      ]
    },
    {
      "cell_type": "code",
      "source": [
        "sensibilidad = recall_score(y_test, y_pred, average=\"macro\")\n",
        "print('Sensibilidad del modelo:')\n",
        "print(sensibilidad)"
      ],
      "metadata": {
        "colab": {
          "base_uri": "https://localhost:8080/"
        },
        "outputId": "85cd79b4-7c91-47d2-97e6-bf168de937eb",
        "id": "Ed2u3qpbnVsj"
      },
      "execution_count": 1754,
      "outputs": [
        {
          "output_type": "stream",
          "name": "stdout",
          "text": [
            "Sensibilidad del modelo:\n",
            "0.49957705971916766\n"
          ]
        }
      ]
    },
    {
      "cell_type": "code",
      "source": [
        "puntajef1 = f1_score(y_test, y_pred, average=\"macro\")\n",
        "print('Puntaje F1 del modelo:')\n",
        "print(puntajef1)"
      ],
      "metadata": {
        "colab": {
          "base_uri": "https://localhost:8080/"
        },
        "outputId": "ffaa2472-6f51-4a03-95c2-223e11b25823",
        "id": "Y3u_OtQ8nVsj"
      },
      "execution_count": 1755,
      "outputs": [
        {
          "output_type": "stream",
          "name": "stdout",
          "text": [
            "Puntaje F1 del modelo:\n",
            "0.4906130586476159\n"
          ]
        }
      ]
    },
    {
      "cell_type": "code",
      "source": [
        "df_coef.loc[2] = ['reautorizacion', '3', round(precision,2), round(sensibilidad,2), round(puntajef1,2) ]"
      ],
      "metadata": {
        "id": "5V2Hct7TnVsj"
      },
      "execution_count": 1756,
      "outputs": []
    },
    {
      "cell_type": "markdown",
      "source": [
        "###Analisis 4"
      ],
      "metadata": {
        "id": "jbQI9-otme6s"
      }
    },
    {
      "cell_type": "code",
      "source": [
        "Vars_Indep= df2[['limite_credito', 'precio', 'monto_financiado']]\n",
        "Var_Dep= df2['inversion']"
      ],
      "metadata": {
        "id": "Oax2VOkonWPf"
      },
      "execution_count": 1757,
      "outputs": []
    },
    {
      "cell_type": "code",
      "source": [
        "X= Vars_Indep\n",
        "y= Var_Dep"
      ],
      "metadata": {
        "id": "N2zRGZAtnWPh"
      },
      "execution_count": 1758,
      "outputs": []
    },
    {
      "cell_type": "code",
      "source": [
        "X_train, X_test, y_train, y_test = train_test_split(X, y, test_size=0.3, random_state =None)"
      ],
      "metadata": {
        "id": "tI1B84zinWPh"
      },
      "execution_count": 1759,
      "outputs": []
    },
    {
      "cell_type": "code",
      "source": [
        "escalar = StandardScaler()"
      ],
      "metadata": {
        "id": "J_b0AReenWPi"
      },
      "execution_count": 1760,
      "outputs": []
    },
    {
      "cell_type": "code",
      "source": [
        "X_train = escalar.fit_transform(X_train)\n",
        "X_test = escalar.transform(X_test)"
      ],
      "metadata": {
        "id": "yE3GOSV9nWPj"
      },
      "execution_count": 1761,
      "outputs": []
    },
    {
      "cell_type": "code",
      "source": [
        "algoritmo = LogisticRegression()"
      ],
      "metadata": {
        "id": "L6MbWmPRnWPj"
      },
      "execution_count": 1762,
      "outputs": []
    },
    {
      "cell_type": "code",
      "source": [
        "algoritmo.fit(X_train, y_train)"
      ],
      "metadata": {
        "colab": {
          "base_uri": "https://localhost:8080/",
          "height": 74
        },
        "outputId": "98da6035-b524-40a6-8808-fa1d8207f3a9",
        "id": "cH1VWwETnWPk"
      },
      "execution_count": 1763,
      "outputs": [
        {
          "output_type": "execute_result",
          "data": {
            "text/plain": [
              "LogisticRegression()"
            ],
            "text/html": [
              "<style>#sk-container-id-151 {color: black;background-color: white;}#sk-container-id-151 pre{padding: 0;}#sk-container-id-151 div.sk-toggleable {background-color: white;}#sk-container-id-151 label.sk-toggleable__label {cursor: pointer;display: block;width: 100%;margin-bottom: 0;padding: 0.3em;box-sizing: border-box;text-align: center;}#sk-container-id-151 label.sk-toggleable__label-arrow:before {content: \"▸\";float: left;margin-right: 0.25em;color: #696969;}#sk-container-id-151 label.sk-toggleable__label-arrow:hover:before {color: black;}#sk-container-id-151 div.sk-estimator:hover label.sk-toggleable__label-arrow:before {color: black;}#sk-container-id-151 div.sk-toggleable__content {max-height: 0;max-width: 0;overflow: hidden;text-align: left;background-color: #f0f8ff;}#sk-container-id-151 div.sk-toggleable__content pre {margin: 0.2em;color: black;border-radius: 0.25em;background-color: #f0f8ff;}#sk-container-id-151 input.sk-toggleable__control:checked~div.sk-toggleable__content {max-height: 200px;max-width: 100%;overflow: auto;}#sk-container-id-151 input.sk-toggleable__control:checked~label.sk-toggleable__label-arrow:before {content: \"▾\";}#sk-container-id-151 div.sk-estimator input.sk-toggleable__control:checked~label.sk-toggleable__label {background-color: #d4ebff;}#sk-container-id-151 div.sk-label input.sk-toggleable__control:checked~label.sk-toggleable__label {background-color: #d4ebff;}#sk-container-id-151 input.sk-hidden--visually {border: 0;clip: rect(1px 1px 1px 1px);clip: rect(1px, 1px, 1px, 1px);height: 1px;margin: -1px;overflow: hidden;padding: 0;position: absolute;width: 1px;}#sk-container-id-151 div.sk-estimator {font-family: monospace;background-color: #f0f8ff;border: 1px dotted black;border-radius: 0.25em;box-sizing: border-box;margin-bottom: 0.5em;}#sk-container-id-151 div.sk-estimator:hover {background-color: #d4ebff;}#sk-container-id-151 div.sk-parallel-item::after {content: \"\";width: 100%;border-bottom: 1px solid gray;flex-grow: 1;}#sk-container-id-151 div.sk-label:hover label.sk-toggleable__label {background-color: #d4ebff;}#sk-container-id-151 div.sk-serial::before {content: \"\";position: absolute;border-left: 1px solid gray;box-sizing: border-box;top: 0;bottom: 0;left: 50%;z-index: 0;}#sk-container-id-151 div.sk-serial {display: flex;flex-direction: column;align-items: center;background-color: white;padding-right: 0.2em;padding-left: 0.2em;position: relative;}#sk-container-id-151 div.sk-item {position: relative;z-index: 1;}#sk-container-id-151 div.sk-parallel {display: flex;align-items: stretch;justify-content: center;background-color: white;position: relative;}#sk-container-id-151 div.sk-item::before, #sk-container-id-151 div.sk-parallel-item::before {content: \"\";position: absolute;border-left: 1px solid gray;box-sizing: border-box;top: 0;bottom: 0;left: 50%;z-index: -1;}#sk-container-id-151 div.sk-parallel-item {display: flex;flex-direction: column;z-index: 1;position: relative;background-color: white;}#sk-container-id-151 div.sk-parallel-item:first-child::after {align-self: flex-end;width: 50%;}#sk-container-id-151 div.sk-parallel-item:last-child::after {align-self: flex-start;width: 50%;}#sk-container-id-151 div.sk-parallel-item:only-child::after {width: 0;}#sk-container-id-151 div.sk-dashed-wrapped {border: 1px dashed gray;margin: 0 0.4em 0.5em 0.4em;box-sizing: border-box;padding-bottom: 0.4em;background-color: white;}#sk-container-id-151 div.sk-label label {font-family: monospace;font-weight: bold;display: inline-block;line-height: 1.2em;}#sk-container-id-151 div.sk-label-container {text-align: center;}#sk-container-id-151 div.sk-container {/* jupyter's `normalize.less` sets `[hidden] { display: none; }` but bootstrap.min.css set `[hidden] { display: none !important; }` so we also need the `!important` here to be able to override the default hidden behavior on the sphinx rendered scikit-learn.org. See: https://github.com/scikit-learn/scikit-learn/issues/21755 */display: inline-block !important;position: relative;}#sk-container-id-151 div.sk-text-repr-fallback {display: none;}</style><div id=\"sk-container-id-151\" class=\"sk-top-container\"><div class=\"sk-text-repr-fallback\"><pre>LogisticRegression()</pre><b>In a Jupyter environment, please rerun this cell to show the HTML representation or trust the notebook. <br />On GitHub, the HTML representation is unable to render, please try loading this page with nbviewer.org.</b></div><div class=\"sk-container\" hidden><div class=\"sk-item\"><div class=\"sk-estimator sk-toggleable\"><input class=\"sk-toggleable__control sk-hidden--visually\" id=\"sk-estimator-id-151\" type=\"checkbox\" checked><label for=\"sk-estimator-id-151\" class=\"sk-toggleable__label sk-toggleable__label-arrow\">LogisticRegression</label><div class=\"sk-toggleable__content\"><pre>LogisticRegression()</pre></div></div></div></div></div>"
            ]
          },
          "metadata": {},
          "execution_count": 1763
        }
      ]
    },
    {
      "cell_type": "code",
      "source": [
        "algoritmo.fit(X_train, y_train)"
      ],
      "metadata": {
        "colab": {
          "base_uri": "https://localhost:8080/",
          "height": 74
        },
        "outputId": "818764e5-91e5-4d2b-d5fe-0173e1e38773",
        "id": "D9GZqNawnWPl"
      },
      "execution_count": 1764,
      "outputs": [
        {
          "output_type": "execute_result",
          "data": {
            "text/plain": [
              "LogisticRegression()"
            ],
            "text/html": [
              "<style>#sk-container-id-152 {color: black;background-color: white;}#sk-container-id-152 pre{padding: 0;}#sk-container-id-152 div.sk-toggleable {background-color: white;}#sk-container-id-152 label.sk-toggleable__label {cursor: pointer;display: block;width: 100%;margin-bottom: 0;padding: 0.3em;box-sizing: border-box;text-align: center;}#sk-container-id-152 label.sk-toggleable__label-arrow:before {content: \"▸\";float: left;margin-right: 0.25em;color: #696969;}#sk-container-id-152 label.sk-toggleable__label-arrow:hover:before {color: black;}#sk-container-id-152 div.sk-estimator:hover label.sk-toggleable__label-arrow:before {color: black;}#sk-container-id-152 div.sk-toggleable__content {max-height: 0;max-width: 0;overflow: hidden;text-align: left;background-color: #f0f8ff;}#sk-container-id-152 div.sk-toggleable__content pre {margin: 0.2em;color: black;border-radius: 0.25em;background-color: #f0f8ff;}#sk-container-id-152 input.sk-toggleable__control:checked~div.sk-toggleable__content {max-height: 200px;max-width: 100%;overflow: auto;}#sk-container-id-152 input.sk-toggleable__control:checked~label.sk-toggleable__label-arrow:before {content: \"▾\";}#sk-container-id-152 div.sk-estimator input.sk-toggleable__control:checked~label.sk-toggleable__label {background-color: #d4ebff;}#sk-container-id-152 div.sk-label input.sk-toggleable__control:checked~label.sk-toggleable__label {background-color: #d4ebff;}#sk-container-id-152 input.sk-hidden--visually {border: 0;clip: rect(1px 1px 1px 1px);clip: rect(1px, 1px, 1px, 1px);height: 1px;margin: -1px;overflow: hidden;padding: 0;position: absolute;width: 1px;}#sk-container-id-152 div.sk-estimator {font-family: monospace;background-color: #f0f8ff;border: 1px dotted black;border-radius: 0.25em;box-sizing: border-box;margin-bottom: 0.5em;}#sk-container-id-152 div.sk-estimator:hover {background-color: #d4ebff;}#sk-container-id-152 div.sk-parallel-item::after {content: \"\";width: 100%;border-bottom: 1px solid gray;flex-grow: 1;}#sk-container-id-152 div.sk-label:hover label.sk-toggleable__label {background-color: #d4ebff;}#sk-container-id-152 div.sk-serial::before {content: \"\";position: absolute;border-left: 1px solid gray;box-sizing: border-box;top: 0;bottom: 0;left: 50%;z-index: 0;}#sk-container-id-152 div.sk-serial {display: flex;flex-direction: column;align-items: center;background-color: white;padding-right: 0.2em;padding-left: 0.2em;position: relative;}#sk-container-id-152 div.sk-item {position: relative;z-index: 1;}#sk-container-id-152 div.sk-parallel {display: flex;align-items: stretch;justify-content: center;background-color: white;position: relative;}#sk-container-id-152 div.sk-item::before, #sk-container-id-152 div.sk-parallel-item::before {content: \"\";position: absolute;border-left: 1px solid gray;box-sizing: border-box;top: 0;bottom: 0;left: 50%;z-index: -1;}#sk-container-id-152 div.sk-parallel-item {display: flex;flex-direction: column;z-index: 1;position: relative;background-color: white;}#sk-container-id-152 div.sk-parallel-item:first-child::after {align-self: flex-end;width: 50%;}#sk-container-id-152 div.sk-parallel-item:last-child::after {align-self: flex-start;width: 50%;}#sk-container-id-152 div.sk-parallel-item:only-child::after {width: 0;}#sk-container-id-152 div.sk-dashed-wrapped {border: 1px dashed gray;margin: 0 0.4em 0.5em 0.4em;box-sizing: border-box;padding-bottom: 0.4em;background-color: white;}#sk-container-id-152 div.sk-label label {font-family: monospace;font-weight: bold;display: inline-block;line-height: 1.2em;}#sk-container-id-152 div.sk-label-container {text-align: center;}#sk-container-id-152 div.sk-container {/* jupyter's `normalize.less` sets `[hidden] { display: none; }` but bootstrap.min.css set `[hidden] { display: none !important; }` so we also need the `!important` here to be able to override the default hidden behavior on the sphinx rendered scikit-learn.org. See: https://github.com/scikit-learn/scikit-learn/issues/21755 */display: inline-block !important;position: relative;}#sk-container-id-152 div.sk-text-repr-fallback {display: none;}</style><div id=\"sk-container-id-152\" class=\"sk-top-container\"><div class=\"sk-text-repr-fallback\"><pre>LogisticRegression()</pre><b>In a Jupyter environment, please rerun this cell to show the HTML representation or trust the notebook. <br />On GitHub, the HTML representation is unable to render, please try loading this page with nbviewer.org.</b></div><div class=\"sk-container\" hidden><div class=\"sk-item\"><div class=\"sk-estimator sk-toggleable\"><input class=\"sk-toggleable__control sk-hidden--visually\" id=\"sk-estimator-id-152\" type=\"checkbox\" checked><label for=\"sk-estimator-id-152\" class=\"sk-toggleable__label sk-toggleable__label-arrow\">LogisticRegression</label><div class=\"sk-toggleable__content\"><pre>LogisticRegression()</pre></div></div></div></div></div>"
            ]
          },
          "metadata": {},
          "execution_count": 1764
        }
      ]
    },
    {
      "cell_type": "code",
      "source": [
        "y_pred = algoritmo.predict(X_test)\n",
        "y_pred"
      ],
      "metadata": {
        "colab": {
          "base_uri": "https://localhost:8080/"
        },
        "outputId": "9c04d0d6-78b2-4555-dca7-1ca352ed1e6a",
        "id": "dVDtKrU5nWPl"
      },
      "execution_count": 1765,
      "outputs": [
        {
          "output_type": "execute_result",
          "data": {
            "text/plain": [
              "array([0, 0, 0, ..., 0, 0, 0])"
            ]
          },
          "metadata": {},
          "execution_count": 1765
        }
      ]
    },
    {
      "cell_type": "code",
      "source": [
        "matriz = confusion_matrix(y_test, y_pred)\n",
        "print('Matriz de Confusión:')\n",
        "print(matriz)"
      ],
      "metadata": {
        "colab": {
          "base_uri": "https://localhost:8080/"
        },
        "outputId": "532ee633-77ed-4a41-c7be-936e5da4841f",
        "id": "DSapBHffnWPm"
      },
      "execution_count": 1766,
      "outputs": [
        {
          "output_type": "stream",
          "name": "stdout",
          "text": [
            "Matriz de Confusión:\n",
            "[[4686   13]\n",
            " [1430    3]]\n"
          ]
        }
      ]
    },
    {
      "cell_type": "code",
      "source": [
        "precision = precision_score(y_test, y_pred, average=\"macro\")\n",
        "print('Precisión del modelo:')\n",
        "print(precision)"
      ],
      "metadata": {
        "colab": {
          "base_uri": "https://localhost:8080/"
        },
        "outputId": "6c7eb759-5d4a-47c2-91be-225e492d28b7",
        "id": "XoEAf_KynWPn"
      },
      "execution_count": 1767,
      "outputs": [
        {
          "output_type": "stream",
          "name": "stdout",
          "text": [
            "Precisión del modelo:\n",
            "0.4768435251798561\n"
          ]
        }
      ]
    },
    {
      "cell_type": "code",
      "source": [
        "sensibilidad = recall_score(y_test, y_pred, average=\"macro\")\n",
        "print('Sensibilidad del modelo:')\n",
        "print(sensibilidad)"
      ],
      "metadata": {
        "colab": {
          "base_uri": "https://localhost:8080/"
        },
        "outputId": "e2b8ec6c-22a1-4b79-b29f-96b3641ff609",
        "id": "0DKveREYnWPo"
      },
      "execution_count": 1768,
      "outputs": [
        {
          "output_type": "stream",
          "name": "stdout",
          "text": [
            "Sensibilidad del modelo:\n",
            "0.49966348202249977\n"
          ]
        }
      ]
    },
    {
      "cell_type": "code",
      "source": [
        "puntajef1 = f1_score(y_test, y_pred, average=\"macro\")\n",
        "print('Puntaje F1 del modelo:')\n",
        "print(puntajef1)"
      ],
      "metadata": {
        "colab": {
          "base_uri": "https://localhost:8080/"
        },
        "outputId": "a7d4b79e-9627-4b15-f860-730b1b6e5246",
        "id": "h2jgRJHznWPp"
      },
      "execution_count": 1769,
      "outputs": [
        {
          "output_type": "stream",
          "name": "stdout",
          "text": [
            "Puntaje F1 del modelo:\n",
            "0.43535749462300743\n"
          ]
        }
      ]
    },
    {
      "cell_type": "code",
      "source": [
        "df_coef.loc[3] = ['inversion', '4', round(precision,2), round(sensibilidad,2), round(puntajef1,2) ]"
      ],
      "metadata": {
        "id": "Lz_3p7JinWPp"
      },
      "execution_count": 1770,
      "outputs": []
    },
    {
      "cell_type": "markdown",
      "source": [
        "###Analisis 5"
      ],
      "metadata": {
        "id": "DRDlCCU3me-X"
      }
    },
    {
      "cell_type": "code",
      "source": [
        "Vars_Indep= df2[['costo_total', 'monto_financiado', 'precio']]\n",
        "Var_Dep= df2['fraude']"
      ],
      "metadata": {
        "id": "mjZYp5GKnWvH"
      },
      "execution_count": 1771,
      "outputs": []
    },
    {
      "cell_type": "code",
      "source": [
        "X= Vars_Indep\n",
        "y= Var_Dep"
      ],
      "metadata": {
        "id": "6SfiOIuvnWvH"
      },
      "execution_count": 1772,
      "outputs": []
    },
    {
      "cell_type": "code",
      "source": [
        "X_train, X_test, y_train, y_test = train_test_split(X, y, test_size=0.3, random_state =None)"
      ],
      "metadata": {
        "id": "Rg5vZ7THnWvH"
      },
      "execution_count": 1773,
      "outputs": []
    },
    {
      "cell_type": "code",
      "source": [
        "escalar = StandardScaler()"
      ],
      "metadata": {
        "id": "KWEJSA3onWvH"
      },
      "execution_count": 1774,
      "outputs": []
    },
    {
      "cell_type": "code",
      "source": [
        "X_train = escalar.fit_transform(X_train)\n",
        "X_test = escalar.transform(X_test)"
      ],
      "metadata": {
        "id": "TLe8y21vnWvH"
      },
      "execution_count": 1775,
      "outputs": []
    },
    {
      "cell_type": "code",
      "source": [
        "algoritmo = LogisticRegression()"
      ],
      "metadata": {
        "id": "FgKv2dB2nWvH"
      },
      "execution_count": 1776,
      "outputs": []
    },
    {
      "cell_type": "code",
      "source": [
        "algoritmo.fit(X_train, y_train)"
      ],
      "metadata": {
        "colab": {
          "base_uri": "https://localhost:8080/",
          "height": 74
        },
        "outputId": "c5fa3a31-3e06-4bd6-b57a-f93b3c7140de",
        "id": "okCi_6lmnWvI"
      },
      "execution_count": 1777,
      "outputs": [
        {
          "output_type": "execute_result",
          "data": {
            "text/plain": [
              "LogisticRegression()"
            ],
            "text/html": [
              "<style>#sk-container-id-153 {color: black;background-color: white;}#sk-container-id-153 pre{padding: 0;}#sk-container-id-153 div.sk-toggleable {background-color: white;}#sk-container-id-153 label.sk-toggleable__label {cursor: pointer;display: block;width: 100%;margin-bottom: 0;padding: 0.3em;box-sizing: border-box;text-align: center;}#sk-container-id-153 label.sk-toggleable__label-arrow:before {content: \"▸\";float: left;margin-right: 0.25em;color: #696969;}#sk-container-id-153 label.sk-toggleable__label-arrow:hover:before {color: black;}#sk-container-id-153 div.sk-estimator:hover label.sk-toggleable__label-arrow:before {color: black;}#sk-container-id-153 div.sk-toggleable__content {max-height: 0;max-width: 0;overflow: hidden;text-align: left;background-color: #f0f8ff;}#sk-container-id-153 div.sk-toggleable__content pre {margin: 0.2em;color: black;border-radius: 0.25em;background-color: #f0f8ff;}#sk-container-id-153 input.sk-toggleable__control:checked~div.sk-toggleable__content {max-height: 200px;max-width: 100%;overflow: auto;}#sk-container-id-153 input.sk-toggleable__control:checked~label.sk-toggleable__label-arrow:before {content: \"▾\";}#sk-container-id-153 div.sk-estimator input.sk-toggleable__control:checked~label.sk-toggleable__label {background-color: #d4ebff;}#sk-container-id-153 div.sk-label input.sk-toggleable__control:checked~label.sk-toggleable__label {background-color: #d4ebff;}#sk-container-id-153 input.sk-hidden--visually {border: 0;clip: rect(1px 1px 1px 1px);clip: rect(1px, 1px, 1px, 1px);height: 1px;margin: -1px;overflow: hidden;padding: 0;position: absolute;width: 1px;}#sk-container-id-153 div.sk-estimator {font-family: monospace;background-color: #f0f8ff;border: 1px dotted black;border-radius: 0.25em;box-sizing: border-box;margin-bottom: 0.5em;}#sk-container-id-153 div.sk-estimator:hover {background-color: #d4ebff;}#sk-container-id-153 div.sk-parallel-item::after {content: \"\";width: 100%;border-bottom: 1px solid gray;flex-grow: 1;}#sk-container-id-153 div.sk-label:hover label.sk-toggleable__label {background-color: #d4ebff;}#sk-container-id-153 div.sk-serial::before {content: \"\";position: absolute;border-left: 1px solid gray;box-sizing: border-box;top: 0;bottom: 0;left: 50%;z-index: 0;}#sk-container-id-153 div.sk-serial {display: flex;flex-direction: column;align-items: center;background-color: white;padding-right: 0.2em;padding-left: 0.2em;position: relative;}#sk-container-id-153 div.sk-item {position: relative;z-index: 1;}#sk-container-id-153 div.sk-parallel {display: flex;align-items: stretch;justify-content: center;background-color: white;position: relative;}#sk-container-id-153 div.sk-item::before, #sk-container-id-153 div.sk-parallel-item::before {content: \"\";position: absolute;border-left: 1px solid gray;box-sizing: border-box;top: 0;bottom: 0;left: 50%;z-index: -1;}#sk-container-id-153 div.sk-parallel-item {display: flex;flex-direction: column;z-index: 1;position: relative;background-color: white;}#sk-container-id-153 div.sk-parallel-item:first-child::after {align-self: flex-end;width: 50%;}#sk-container-id-153 div.sk-parallel-item:last-child::after {align-self: flex-start;width: 50%;}#sk-container-id-153 div.sk-parallel-item:only-child::after {width: 0;}#sk-container-id-153 div.sk-dashed-wrapped {border: 1px dashed gray;margin: 0 0.4em 0.5em 0.4em;box-sizing: border-box;padding-bottom: 0.4em;background-color: white;}#sk-container-id-153 div.sk-label label {font-family: monospace;font-weight: bold;display: inline-block;line-height: 1.2em;}#sk-container-id-153 div.sk-label-container {text-align: center;}#sk-container-id-153 div.sk-container {/* jupyter's `normalize.less` sets `[hidden] { display: none; }` but bootstrap.min.css set `[hidden] { display: none !important; }` so we also need the `!important` here to be able to override the default hidden behavior on the sphinx rendered scikit-learn.org. See: https://github.com/scikit-learn/scikit-learn/issues/21755 */display: inline-block !important;position: relative;}#sk-container-id-153 div.sk-text-repr-fallback {display: none;}</style><div id=\"sk-container-id-153\" class=\"sk-top-container\"><div class=\"sk-text-repr-fallback\"><pre>LogisticRegression()</pre><b>In a Jupyter environment, please rerun this cell to show the HTML representation or trust the notebook. <br />On GitHub, the HTML representation is unable to render, please try loading this page with nbviewer.org.</b></div><div class=\"sk-container\" hidden><div class=\"sk-item\"><div class=\"sk-estimator sk-toggleable\"><input class=\"sk-toggleable__control sk-hidden--visually\" id=\"sk-estimator-id-153\" type=\"checkbox\" checked><label for=\"sk-estimator-id-153\" class=\"sk-toggleable__label sk-toggleable__label-arrow\">LogisticRegression</label><div class=\"sk-toggleable__content\"><pre>LogisticRegression()</pre></div></div></div></div></div>"
            ]
          },
          "metadata": {},
          "execution_count": 1777
        }
      ]
    },
    {
      "cell_type": "code",
      "source": [
        "algoritmo.fit(X_train, y_train)"
      ],
      "metadata": {
        "colab": {
          "base_uri": "https://localhost:8080/",
          "height": 74
        },
        "outputId": "cd6f7fc2-4c8c-4e3f-90bc-d168ce206b24",
        "id": "LpjPxrhanWvI"
      },
      "execution_count": 1778,
      "outputs": [
        {
          "output_type": "execute_result",
          "data": {
            "text/plain": [
              "LogisticRegression()"
            ],
            "text/html": [
              "<style>#sk-container-id-154 {color: black;background-color: white;}#sk-container-id-154 pre{padding: 0;}#sk-container-id-154 div.sk-toggleable {background-color: white;}#sk-container-id-154 label.sk-toggleable__label {cursor: pointer;display: block;width: 100%;margin-bottom: 0;padding: 0.3em;box-sizing: border-box;text-align: center;}#sk-container-id-154 label.sk-toggleable__label-arrow:before {content: \"▸\";float: left;margin-right: 0.25em;color: #696969;}#sk-container-id-154 label.sk-toggleable__label-arrow:hover:before {color: black;}#sk-container-id-154 div.sk-estimator:hover label.sk-toggleable__label-arrow:before {color: black;}#sk-container-id-154 div.sk-toggleable__content {max-height: 0;max-width: 0;overflow: hidden;text-align: left;background-color: #f0f8ff;}#sk-container-id-154 div.sk-toggleable__content pre {margin: 0.2em;color: black;border-radius: 0.25em;background-color: #f0f8ff;}#sk-container-id-154 input.sk-toggleable__control:checked~div.sk-toggleable__content {max-height: 200px;max-width: 100%;overflow: auto;}#sk-container-id-154 input.sk-toggleable__control:checked~label.sk-toggleable__label-arrow:before {content: \"▾\";}#sk-container-id-154 div.sk-estimator input.sk-toggleable__control:checked~label.sk-toggleable__label {background-color: #d4ebff;}#sk-container-id-154 div.sk-label input.sk-toggleable__control:checked~label.sk-toggleable__label {background-color: #d4ebff;}#sk-container-id-154 input.sk-hidden--visually {border: 0;clip: rect(1px 1px 1px 1px);clip: rect(1px, 1px, 1px, 1px);height: 1px;margin: -1px;overflow: hidden;padding: 0;position: absolute;width: 1px;}#sk-container-id-154 div.sk-estimator {font-family: monospace;background-color: #f0f8ff;border: 1px dotted black;border-radius: 0.25em;box-sizing: border-box;margin-bottom: 0.5em;}#sk-container-id-154 div.sk-estimator:hover {background-color: #d4ebff;}#sk-container-id-154 div.sk-parallel-item::after {content: \"\";width: 100%;border-bottom: 1px solid gray;flex-grow: 1;}#sk-container-id-154 div.sk-label:hover label.sk-toggleable__label {background-color: #d4ebff;}#sk-container-id-154 div.sk-serial::before {content: \"\";position: absolute;border-left: 1px solid gray;box-sizing: border-box;top: 0;bottom: 0;left: 50%;z-index: 0;}#sk-container-id-154 div.sk-serial {display: flex;flex-direction: column;align-items: center;background-color: white;padding-right: 0.2em;padding-left: 0.2em;position: relative;}#sk-container-id-154 div.sk-item {position: relative;z-index: 1;}#sk-container-id-154 div.sk-parallel {display: flex;align-items: stretch;justify-content: center;background-color: white;position: relative;}#sk-container-id-154 div.sk-item::before, #sk-container-id-154 div.sk-parallel-item::before {content: \"\";position: absolute;border-left: 1px solid gray;box-sizing: border-box;top: 0;bottom: 0;left: 50%;z-index: -1;}#sk-container-id-154 div.sk-parallel-item {display: flex;flex-direction: column;z-index: 1;position: relative;background-color: white;}#sk-container-id-154 div.sk-parallel-item:first-child::after {align-self: flex-end;width: 50%;}#sk-container-id-154 div.sk-parallel-item:last-child::after {align-self: flex-start;width: 50%;}#sk-container-id-154 div.sk-parallel-item:only-child::after {width: 0;}#sk-container-id-154 div.sk-dashed-wrapped {border: 1px dashed gray;margin: 0 0.4em 0.5em 0.4em;box-sizing: border-box;padding-bottom: 0.4em;background-color: white;}#sk-container-id-154 div.sk-label label {font-family: monospace;font-weight: bold;display: inline-block;line-height: 1.2em;}#sk-container-id-154 div.sk-label-container {text-align: center;}#sk-container-id-154 div.sk-container {/* jupyter's `normalize.less` sets `[hidden] { display: none; }` but bootstrap.min.css set `[hidden] { display: none !important; }` so we also need the `!important` here to be able to override the default hidden behavior on the sphinx rendered scikit-learn.org. See: https://github.com/scikit-learn/scikit-learn/issues/21755 */display: inline-block !important;position: relative;}#sk-container-id-154 div.sk-text-repr-fallback {display: none;}</style><div id=\"sk-container-id-154\" class=\"sk-top-container\"><div class=\"sk-text-repr-fallback\"><pre>LogisticRegression()</pre><b>In a Jupyter environment, please rerun this cell to show the HTML representation or trust the notebook. <br />On GitHub, the HTML representation is unable to render, please try loading this page with nbviewer.org.</b></div><div class=\"sk-container\" hidden><div class=\"sk-item\"><div class=\"sk-estimator sk-toggleable\"><input class=\"sk-toggleable__control sk-hidden--visually\" id=\"sk-estimator-id-154\" type=\"checkbox\" checked><label for=\"sk-estimator-id-154\" class=\"sk-toggleable__label sk-toggleable__label-arrow\">LogisticRegression</label><div class=\"sk-toggleable__content\"><pre>LogisticRegression()</pre></div></div></div></div></div>"
            ]
          },
          "metadata": {},
          "execution_count": 1778
        }
      ]
    },
    {
      "cell_type": "code",
      "source": [
        "y_pred = algoritmo.predict(X_test)\n",
        "y_pred"
      ],
      "metadata": {
        "colab": {
          "base_uri": "https://localhost:8080/"
        },
        "outputId": "257e25ae-15bc-4b16-cc16-50503592a3e0",
        "id": "Bf0tA1jDnWvI"
      },
      "execution_count": 1779,
      "outputs": [
        {
          "output_type": "execute_result",
          "data": {
            "text/plain": [
              "array([0, 0, 0, ..., 0, 0, 0])"
            ]
          },
          "metadata": {},
          "execution_count": 1779
        }
      ]
    },
    {
      "cell_type": "code",
      "source": [
        "matriz = confusion_matrix(y_test, y_pred)\n",
        "print('Matriz de Confusión:')\n",
        "print(matriz)"
      ],
      "metadata": {
        "colab": {
          "base_uri": "https://localhost:8080/"
        },
        "outputId": "f3200b30-5e66-4a90-b93a-1e0ded063f21",
        "id": "Eu6_jUz6nWvI"
      },
      "execution_count": 1780,
      "outputs": [
        {
          "output_type": "stream",
          "name": "stdout",
          "text": [
            "Matriz de Confusión:\n",
            "[[5659    0]\n",
            " [ 473    0]]\n"
          ]
        }
      ]
    },
    {
      "cell_type": "code",
      "source": [
        "precision = precision_score(y_test, y_pred, average=\"macro\")\n",
        "print('Precisión del modelo:')\n",
        "print(precision)"
      ],
      "metadata": {
        "colab": {
          "base_uri": "https://localhost:8080/"
        },
        "outputId": "a955354a-f8ca-48f4-e0b5-88d1f6758fb0",
        "id": "GqogxLFGnWvI"
      },
      "execution_count": 1781,
      "outputs": [
        {
          "output_type": "stream",
          "name": "stdout",
          "text": [
            "Precisión del modelo:\n",
            "0.4614318330071755\n"
          ]
        },
        {
          "output_type": "stream",
          "name": "stderr",
          "text": [
            "/usr/local/lib/python3.10/dist-packages/sklearn/metrics/_classification.py:1344: UndefinedMetricWarning: Precision is ill-defined and being set to 0.0 in labels with no predicted samples. Use `zero_division` parameter to control this behavior.\n",
            "  _warn_prf(average, modifier, msg_start, len(result))\n"
          ]
        }
      ]
    },
    {
      "cell_type": "code",
      "source": [
        "sensibilidad = recall_score(y_test, y_pred, average=\"macro\")\n",
        "print('Sensibilidad del modelo:')\n",
        "print(sensibilidad)"
      ],
      "metadata": {
        "colab": {
          "base_uri": "https://localhost:8080/"
        },
        "outputId": "e26257ed-b326-425a-bef2-38b9bf80d5d2",
        "id": "ViHoRvZRnWvI"
      },
      "execution_count": 1782,
      "outputs": [
        {
          "output_type": "stream",
          "name": "stdout",
          "text": [
            "Sensibilidad del modelo:\n",
            "0.5\n"
          ]
        }
      ]
    },
    {
      "cell_type": "code",
      "source": [
        "puntajef1 = f1_score(y_test, y_pred, average=\"macro\")\n",
        "print('Puntaje F1 del modelo:')\n",
        "print(puntajef1)"
      ],
      "metadata": {
        "colab": {
          "base_uri": "https://localhost:8080/"
        },
        "outputId": "62677556-af9b-44c3-e419-fd6956d9d0b7",
        "id": "HQWAmSolnWvI"
      },
      "execution_count": 1783,
      "outputs": [
        {
          "output_type": "stream",
          "name": "stdout",
          "text": [
            "Puntaje F1 del modelo:\n",
            "0.4799423288949199\n"
          ]
        }
      ]
    },
    {
      "cell_type": "code",
      "source": [
        "df_coef.loc[4] = ['fraude', '5', round(precision,2), round(sensibilidad,2), round(puntajef1,2) ]"
      ],
      "metadata": {
        "id": "LyVusrTBnWvJ"
      },
      "execution_count": 1784,
      "outputs": []
    },
    {
      "cell_type": "markdown",
      "source": [
        "###Analisis 6"
      ],
      "metadata": {
        "id": "u19d3WRVmfBy"
      }
    },
    {
      "cell_type": "code",
      "source": [
        "Vars_Indep= df2[['monto_financiado', 'costo_total', 'descuento']]\n",
        "Var_Dep= df2['empresa']"
      ],
      "metadata": {
        "id": "DZYAgu1InXOK"
      },
      "execution_count": 1785,
      "outputs": []
    },
    {
      "cell_type": "code",
      "source": [
        "X= Vars_Indep\n",
        "y= Var_Dep"
      ],
      "metadata": {
        "id": "jy0M2F4wnXOK"
      },
      "execution_count": 1786,
      "outputs": []
    },
    {
      "cell_type": "code",
      "source": [
        "X_train, X_test, y_train, y_test = train_test_split(X, y, test_size=0.3, random_state =None)"
      ],
      "metadata": {
        "id": "LW0sJ1BnnXOL"
      },
      "execution_count": 1787,
      "outputs": []
    },
    {
      "cell_type": "code",
      "source": [
        "escalar = StandardScaler()"
      ],
      "metadata": {
        "id": "8fudgYeOnXOL"
      },
      "execution_count": 1788,
      "outputs": []
    },
    {
      "cell_type": "code",
      "source": [
        "X_train = escalar.fit_transform(X_train)\n",
        "X_test = escalar.transform(X_test)"
      ],
      "metadata": {
        "id": "WRGGIatMnXOL"
      },
      "execution_count": 1789,
      "outputs": []
    },
    {
      "cell_type": "code",
      "source": [
        "algoritmo = LogisticRegression()"
      ],
      "metadata": {
        "id": "K-r2HVzNnXOL"
      },
      "execution_count": 1790,
      "outputs": []
    },
    {
      "cell_type": "code",
      "source": [
        "algoritmo.fit(X_train, y_train)"
      ],
      "metadata": {
        "colab": {
          "base_uri": "https://localhost:8080/",
          "height": 240
        },
        "outputId": "5feed064-2e93-4296-813c-285c58605156",
        "id": "On_MSDfvnXOL"
      },
      "execution_count": 1791,
      "outputs": [
        {
          "output_type": "stream",
          "name": "stderr",
          "text": [
            "/usr/local/lib/python3.10/dist-packages/sklearn/linear_model/_logistic.py:458: ConvergenceWarning: lbfgs failed to converge (status=1):\n",
            "STOP: TOTAL NO. of ITERATIONS REACHED LIMIT.\n",
            "\n",
            "Increase the number of iterations (max_iter) or scale the data as shown in:\n",
            "    https://scikit-learn.org/stable/modules/preprocessing.html\n",
            "Please also refer to the documentation for alternative solver options:\n",
            "    https://scikit-learn.org/stable/modules/linear_model.html#logistic-regression\n",
            "  n_iter_i = _check_optimize_result(\n"
          ]
        },
        {
          "output_type": "execute_result",
          "data": {
            "text/plain": [
              "LogisticRegression()"
            ],
            "text/html": [
              "<style>#sk-container-id-155 {color: black;background-color: white;}#sk-container-id-155 pre{padding: 0;}#sk-container-id-155 div.sk-toggleable {background-color: white;}#sk-container-id-155 label.sk-toggleable__label {cursor: pointer;display: block;width: 100%;margin-bottom: 0;padding: 0.3em;box-sizing: border-box;text-align: center;}#sk-container-id-155 label.sk-toggleable__label-arrow:before {content: \"▸\";float: left;margin-right: 0.25em;color: #696969;}#sk-container-id-155 label.sk-toggleable__label-arrow:hover:before {color: black;}#sk-container-id-155 div.sk-estimator:hover label.sk-toggleable__label-arrow:before {color: black;}#sk-container-id-155 div.sk-toggleable__content {max-height: 0;max-width: 0;overflow: hidden;text-align: left;background-color: #f0f8ff;}#sk-container-id-155 div.sk-toggleable__content pre {margin: 0.2em;color: black;border-radius: 0.25em;background-color: #f0f8ff;}#sk-container-id-155 input.sk-toggleable__control:checked~div.sk-toggleable__content {max-height: 200px;max-width: 100%;overflow: auto;}#sk-container-id-155 input.sk-toggleable__control:checked~label.sk-toggleable__label-arrow:before {content: \"▾\";}#sk-container-id-155 div.sk-estimator input.sk-toggleable__control:checked~label.sk-toggleable__label {background-color: #d4ebff;}#sk-container-id-155 div.sk-label input.sk-toggleable__control:checked~label.sk-toggleable__label {background-color: #d4ebff;}#sk-container-id-155 input.sk-hidden--visually {border: 0;clip: rect(1px 1px 1px 1px);clip: rect(1px, 1px, 1px, 1px);height: 1px;margin: -1px;overflow: hidden;padding: 0;position: absolute;width: 1px;}#sk-container-id-155 div.sk-estimator {font-family: monospace;background-color: #f0f8ff;border: 1px dotted black;border-radius: 0.25em;box-sizing: border-box;margin-bottom: 0.5em;}#sk-container-id-155 div.sk-estimator:hover {background-color: #d4ebff;}#sk-container-id-155 div.sk-parallel-item::after {content: \"\";width: 100%;border-bottom: 1px solid gray;flex-grow: 1;}#sk-container-id-155 div.sk-label:hover label.sk-toggleable__label {background-color: #d4ebff;}#sk-container-id-155 div.sk-serial::before {content: \"\";position: absolute;border-left: 1px solid gray;box-sizing: border-box;top: 0;bottom: 0;left: 50%;z-index: 0;}#sk-container-id-155 div.sk-serial {display: flex;flex-direction: column;align-items: center;background-color: white;padding-right: 0.2em;padding-left: 0.2em;position: relative;}#sk-container-id-155 div.sk-item {position: relative;z-index: 1;}#sk-container-id-155 div.sk-parallel {display: flex;align-items: stretch;justify-content: center;background-color: white;position: relative;}#sk-container-id-155 div.sk-item::before, #sk-container-id-155 div.sk-parallel-item::before {content: \"\";position: absolute;border-left: 1px solid gray;box-sizing: border-box;top: 0;bottom: 0;left: 50%;z-index: -1;}#sk-container-id-155 div.sk-parallel-item {display: flex;flex-direction: column;z-index: 1;position: relative;background-color: white;}#sk-container-id-155 div.sk-parallel-item:first-child::after {align-self: flex-end;width: 50%;}#sk-container-id-155 div.sk-parallel-item:last-child::after {align-self: flex-start;width: 50%;}#sk-container-id-155 div.sk-parallel-item:only-child::after {width: 0;}#sk-container-id-155 div.sk-dashed-wrapped {border: 1px dashed gray;margin: 0 0.4em 0.5em 0.4em;box-sizing: border-box;padding-bottom: 0.4em;background-color: white;}#sk-container-id-155 div.sk-label label {font-family: monospace;font-weight: bold;display: inline-block;line-height: 1.2em;}#sk-container-id-155 div.sk-label-container {text-align: center;}#sk-container-id-155 div.sk-container {/* jupyter's `normalize.less` sets `[hidden] { display: none; }` but bootstrap.min.css set `[hidden] { display: none !important; }` so we also need the `!important` here to be able to override the default hidden behavior on the sphinx rendered scikit-learn.org. See: https://github.com/scikit-learn/scikit-learn/issues/21755 */display: inline-block !important;position: relative;}#sk-container-id-155 div.sk-text-repr-fallback {display: none;}</style><div id=\"sk-container-id-155\" class=\"sk-top-container\"><div class=\"sk-text-repr-fallback\"><pre>LogisticRegression()</pre><b>In a Jupyter environment, please rerun this cell to show the HTML representation or trust the notebook. <br />On GitHub, the HTML representation is unable to render, please try loading this page with nbviewer.org.</b></div><div class=\"sk-container\" hidden><div class=\"sk-item\"><div class=\"sk-estimator sk-toggleable\"><input class=\"sk-toggleable__control sk-hidden--visually\" id=\"sk-estimator-id-155\" type=\"checkbox\" checked><label for=\"sk-estimator-id-155\" class=\"sk-toggleable__label sk-toggleable__label-arrow\">LogisticRegression</label><div class=\"sk-toggleable__content\"><pre>LogisticRegression()</pre></div></div></div></div></div>"
            ]
          },
          "metadata": {},
          "execution_count": 1791
        }
      ]
    },
    {
      "cell_type": "code",
      "source": [
        "algoritmo.fit(X_train, y_train)"
      ],
      "metadata": {
        "colab": {
          "base_uri": "https://localhost:8080/",
          "height": 240
        },
        "outputId": "93830035-327d-4428-a523-cb8c9ed90ebd",
        "id": "i6i79qz4nXOL"
      },
      "execution_count": 1792,
      "outputs": [
        {
          "output_type": "stream",
          "name": "stderr",
          "text": [
            "/usr/local/lib/python3.10/dist-packages/sklearn/linear_model/_logistic.py:458: ConvergenceWarning: lbfgs failed to converge (status=1):\n",
            "STOP: TOTAL NO. of ITERATIONS REACHED LIMIT.\n",
            "\n",
            "Increase the number of iterations (max_iter) or scale the data as shown in:\n",
            "    https://scikit-learn.org/stable/modules/preprocessing.html\n",
            "Please also refer to the documentation for alternative solver options:\n",
            "    https://scikit-learn.org/stable/modules/linear_model.html#logistic-regression\n",
            "  n_iter_i = _check_optimize_result(\n"
          ]
        },
        {
          "output_type": "execute_result",
          "data": {
            "text/plain": [
              "LogisticRegression()"
            ],
            "text/html": [
              "<style>#sk-container-id-156 {color: black;background-color: white;}#sk-container-id-156 pre{padding: 0;}#sk-container-id-156 div.sk-toggleable {background-color: white;}#sk-container-id-156 label.sk-toggleable__label {cursor: pointer;display: block;width: 100%;margin-bottom: 0;padding: 0.3em;box-sizing: border-box;text-align: center;}#sk-container-id-156 label.sk-toggleable__label-arrow:before {content: \"▸\";float: left;margin-right: 0.25em;color: #696969;}#sk-container-id-156 label.sk-toggleable__label-arrow:hover:before {color: black;}#sk-container-id-156 div.sk-estimator:hover label.sk-toggleable__label-arrow:before {color: black;}#sk-container-id-156 div.sk-toggleable__content {max-height: 0;max-width: 0;overflow: hidden;text-align: left;background-color: #f0f8ff;}#sk-container-id-156 div.sk-toggleable__content pre {margin: 0.2em;color: black;border-radius: 0.25em;background-color: #f0f8ff;}#sk-container-id-156 input.sk-toggleable__control:checked~div.sk-toggleable__content {max-height: 200px;max-width: 100%;overflow: auto;}#sk-container-id-156 input.sk-toggleable__control:checked~label.sk-toggleable__label-arrow:before {content: \"▾\";}#sk-container-id-156 div.sk-estimator input.sk-toggleable__control:checked~label.sk-toggleable__label {background-color: #d4ebff;}#sk-container-id-156 div.sk-label input.sk-toggleable__control:checked~label.sk-toggleable__label {background-color: #d4ebff;}#sk-container-id-156 input.sk-hidden--visually {border: 0;clip: rect(1px 1px 1px 1px);clip: rect(1px, 1px, 1px, 1px);height: 1px;margin: -1px;overflow: hidden;padding: 0;position: absolute;width: 1px;}#sk-container-id-156 div.sk-estimator {font-family: monospace;background-color: #f0f8ff;border: 1px dotted black;border-radius: 0.25em;box-sizing: border-box;margin-bottom: 0.5em;}#sk-container-id-156 div.sk-estimator:hover {background-color: #d4ebff;}#sk-container-id-156 div.sk-parallel-item::after {content: \"\";width: 100%;border-bottom: 1px solid gray;flex-grow: 1;}#sk-container-id-156 div.sk-label:hover label.sk-toggleable__label {background-color: #d4ebff;}#sk-container-id-156 div.sk-serial::before {content: \"\";position: absolute;border-left: 1px solid gray;box-sizing: border-box;top: 0;bottom: 0;left: 50%;z-index: 0;}#sk-container-id-156 div.sk-serial {display: flex;flex-direction: column;align-items: center;background-color: white;padding-right: 0.2em;padding-left: 0.2em;position: relative;}#sk-container-id-156 div.sk-item {position: relative;z-index: 1;}#sk-container-id-156 div.sk-parallel {display: flex;align-items: stretch;justify-content: center;background-color: white;position: relative;}#sk-container-id-156 div.sk-item::before, #sk-container-id-156 div.sk-parallel-item::before {content: \"\";position: absolute;border-left: 1px solid gray;box-sizing: border-box;top: 0;bottom: 0;left: 50%;z-index: -1;}#sk-container-id-156 div.sk-parallel-item {display: flex;flex-direction: column;z-index: 1;position: relative;background-color: white;}#sk-container-id-156 div.sk-parallel-item:first-child::after {align-self: flex-end;width: 50%;}#sk-container-id-156 div.sk-parallel-item:last-child::after {align-self: flex-start;width: 50%;}#sk-container-id-156 div.sk-parallel-item:only-child::after {width: 0;}#sk-container-id-156 div.sk-dashed-wrapped {border: 1px dashed gray;margin: 0 0.4em 0.5em 0.4em;box-sizing: border-box;padding-bottom: 0.4em;background-color: white;}#sk-container-id-156 div.sk-label label {font-family: monospace;font-weight: bold;display: inline-block;line-height: 1.2em;}#sk-container-id-156 div.sk-label-container {text-align: center;}#sk-container-id-156 div.sk-container {/* jupyter's `normalize.less` sets `[hidden] { display: none; }` but bootstrap.min.css set `[hidden] { display: none !important; }` so we also need the `!important` here to be able to override the default hidden behavior on the sphinx rendered scikit-learn.org. See: https://github.com/scikit-learn/scikit-learn/issues/21755 */display: inline-block !important;position: relative;}#sk-container-id-156 div.sk-text-repr-fallback {display: none;}</style><div id=\"sk-container-id-156\" class=\"sk-top-container\"><div class=\"sk-text-repr-fallback\"><pre>LogisticRegression()</pre><b>In a Jupyter environment, please rerun this cell to show the HTML representation or trust the notebook. <br />On GitHub, the HTML representation is unable to render, please try loading this page with nbviewer.org.</b></div><div class=\"sk-container\" hidden><div class=\"sk-item\"><div class=\"sk-estimator sk-toggleable\"><input class=\"sk-toggleable__control sk-hidden--visually\" id=\"sk-estimator-id-156\" type=\"checkbox\" checked><label for=\"sk-estimator-id-156\" class=\"sk-toggleable__label sk-toggleable__label-arrow\">LogisticRegression</label><div class=\"sk-toggleable__content\"><pre>LogisticRegression()</pre></div></div></div></div></div>"
            ]
          },
          "metadata": {},
          "execution_count": 1792
        }
      ]
    },
    {
      "cell_type": "code",
      "source": [
        "y_pred = algoritmo.predict(X_test)\n",
        "y_pred"
      ],
      "metadata": {
        "colab": {
          "base_uri": "https://localhost:8080/"
        },
        "outputId": "c601aa7d-0ef6-4438-ddee-e4f68b78756b",
        "id": "Qbcq2zDUnXOL"
      },
      "execution_count": 1793,
      "outputs": [
        {
          "output_type": "execute_result",
          "data": {
            "text/plain": [
              "array(['microtec', 'servicel', 'servicel', ..., 'servicel', 'microtec',\n",
              "       'servicel'], dtype=object)"
            ]
          },
          "metadata": {},
          "execution_count": 1793
        }
      ]
    },
    {
      "cell_type": "code",
      "source": [
        "matriz = confusion_matrix(y_test, y_pred)\n",
        "print('Matriz de Confusión:')\n",
        "print(matriz)"
      ],
      "metadata": {
        "colab": {
          "base_uri": "https://localhost:8080/"
        },
        "outputId": "ad72cb5c-d406-4883-9ede-b2519c4b51b6",
        "id": "M2iVI1aRnXOL"
      },
      "execution_count": 1794,
      "outputs": [
        {
          "output_type": "stream",
          "name": "stdout",
          "text": [
            "Matriz de Confusión:\n",
            "[[0 0 0 ... 0 0 0]\n",
            " [0 0 0 ... 0 0 0]\n",
            " [0 0 0 ... 0 0 0]\n",
            " ...\n",
            " [0 0 0 ... 0 0 0]\n",
            " [0 0 0 ... 0 0 0]\n",
            " [0 0 0 ... 0 0 0]]\n"
          ]
        }
      ]
    },
    {
      "cell_type": "code",
      "source": [
        "precision = precision_score(y_test, y_pred, average=\"macro\")\n",
        "print('Precisión del modelo:')\n",
        "print(precision)"
      ],
      "metadata": {
        "colab": {
          "base_uri": "https://localhost:8080/"
        },
        "outputId": "e8c919ac-39a9-47a8-bf7c-614aa9a7907c",
        "id": "A6aw8pacnXOM"
      },
      "execution_count": 1795,
      "outputs": [
        {
          "output_type": "stream",
          "name": "stdout",
          "text": [
            "Precisión del modelo:\n",
            "0.03142817707736306\n"
          ]
        },
        {
          "output_type": "stream",
          "name": "stderr",
          "text": [
            "/usr/local/lib/python3.10/dist-packages/sklearn/metrics/_classification.py:1344: UndefinedMetricWarning: Precision is ill-defined and being set to 0.0 in labels with no predicted samples. Use `zero_division` parameter to control this behavior.\n",
            "  _warn_prf(average, modifier, msg_start, len(result))\n"
          ]
        }
      ]
    },
    {
      "cell_type": "code",
      "source": [
        "sensibilidad = recall_score(y_test, y_pred, average=\"macro\")\n",
        "print('Sensibilidad del modelo:')\n",
        "print(sensibilidad)"
      ],
      "metadata": {
        "colab": {
          "base_uri": "https://localhost:8080/"
        },
        "outputId": "6cacd6e9-a719-482f-8c15-5bd760a436e7",
        "id": "L678pSGVnXOM"
      },
      "execution_count": 1796,
      "outputs": [
        {
          "output_type": "stream",
          "name": "stdout",
          "text": [
            "Sensibilidad del modelo:\n",
            "0.03802717863801541\n"
          ]
        }
      ]
    },
    {
      "cell_type": "code",
      "source": [
        "puntajef1 = f1_score(y_test, y_pred, average=\"macro\")\n",
        "print('Puntaje F1 del modelo:')\n",
        "print(puntajef1)"
      ],
      "metadata": {
        "colab": {
          "base_uri": "https://localhost:8080/"
        },
        "outputId": "a35f9a71-e731-47d7-d11b-0e5564a5a965",
        "id": "MTMKWkfVnXON"
      },
      "execution_count": 1797,
      "outputs": [
        {
          "output_type": "stream",
          "name": "stdout",
          "text": [
            "Puntaje F1 del modelo:\n",
            "0.03332515157277959\n"
          ]
        }
      ]
    },
    {
      "cell_type": "code",
      "source": [
        "df_coef.loc[5] = ['empresa', '6', round(precision,2), round(sensibilidad,2), round(puntajef1,2) ]"
      ],
      "metadata": {
        "id": "pfEh18GYnXON"
      },
      "execution_count": 1798,
      "outputs": []
    },
    {
      "cell_type": "markdown",
      "source": [
        "###Analisis 7"
      ],
      "metadata": {
        "id": "4b0MQmhimfEX"
      }
    },
    {
      "cell_type": "code",
      "source": [
        "Vars_Indep= df2[['costo_total', 'precio', 'limite_credito']]\n",
        "Var_Dep= df2['marca']"
      ],
      "metadata": {
        "id": "TDmf1jUfnXxB"
      },
      "execution_count": 1799,
      "outputs": []
    },
    {
      "cell_type": "code",
      "source": [
        "X= Vars_Indep\n",
        "y= Var_Dep"
      ],
      "metadata": {
        "id": "2Hg4fuQrnXxC"
      },
      "execution_count": 1800,
      "outputs": []
    },
    {
      "cell_type": "code",
      "source": [
        "X_train, X_test, y_train, y_test = train_test_split(X, y, test_size=0.3, random_state =None)"
      ],
      "metadata": {
        "id": "NnRJFPGJnXxC"
      },
      "execution_count": 1801,
      "outputs": []
    },
    {
      "cell_type": "code",
      "source": [
        "escalar = StandardScaler()"
      ],
      "metadata": {
        "id": "HM_nuPC6nXxC"
      },
      "execution_count": 1802,
      "outputs": []
    },
    {
      "cell_type": "code",
      "source": [
        "X_train = escalar.fit_transform(X_train)\n",
        "X_test = escalar.transform(X_test)"
      ],
      "metadata": {
        "id": "7jU7ToDanXxC"
      },
      "execution_count": 1803,
      "outputs": []
    },
    {
      "cell_type": "code",
      "source": [
        "algoritmo = LogisticRegression()"
      ],
      "metadata": {
        "id": "rLdQgzLwnXxC"
      },
      "execution_count": 1804,
      "outputs": []
    },
    {
      "cell_type": "code",
      "source": [
        "algoritmo.fit(X_train, y_train)"
      ],
      "metadata": {
        "colab": {
          "base_uri": "https://localhost:8080/",
          "height": 240
        },
        "outputId": "b4b5983c-e3bf-4afb-c597-47407d406ee5",
        "id": "b5AmcMbCnXxD"
      },
      "execution_count": 1805,
      "outputs": [
        {
          "output_type": "stream",
          "name": "stderr",
          "text": [
            "/usr/local/lib/python3.10/dist-packages/sklearn/linear_model/_logistic.py:458: ConvergenceWarning: lbfgs failed to converge (status=1):\n",
            "STOP: TOTAL NO. of ITERATIONS REACHED LIMIT.\n",
            "\n",
            "Increase the number of iterations (max_iter) or scale the data as shown in:\n",
            "    https://scikit-learn.org/stable/modules/preprocessing.html\n",
            "Please also refer to the documentation for alternative solver options:\n",
            "    https://scikit-learn.org/stable/modules/linear_model.html#logistic-regression\n",
            "  n_iter_i = _check_optimize_result(\n"
          ]
        },
        {
          "output_type": "execute_result",
          "data": {
            "text/plain": [
              "LogisticRegression()"
            ],
            "text/html": [
              "<style>#sk-container-id-157 {color: black;background-color: white;}#sk-container-id-157 pre{padding: 0;}#sk-container-id-157 div.sk-toggleable {background-color: white;}#sk-container-id-157 label.sk-toggleable__label {cursor: pointer;display: block;width: 100%;margin-bottom: 0;padding: 0.3em;box-sizing: border-box;text-align: center;}#sk-container-id-157 label.sk-toggleable__label-arrow:before {content: \"▸\";float: left;margin-right: 0.25em;color: #696969;}#sk-container-id-157 label.sk-toggleable__label-arrow:hover:before {color: black;}#sk-container-id-157 div.sk-estimator:hover label.sk-toggleable__label-arrow:before {color: black;}#sk-container-id-157 div.sk-toggleable__content {max-height: 0;max-width: 0;overflow: hidden;text-align: left;background-color: #f0f8ff;}#sk-container-id-157 div.sk-toggleable__content pre {margin: 0.2em;color: black;border-radius: 0.25em;background-color: #f0f8ff;}#sk-container-id-157 input.sk-toggleable__control:checked~div.sk-toggleable__content {max-height: 200px;max-width: 100%;overflow: auto;}#sk-container-id-157 input.sk-toggleable__control:checked~label.sk-toggleable__label-arrow:before {content: \"▾\";}#sk-container-id-157 div.sk-estimator input.sk-toggleable__control:checked~label.sk-toggleable__label {background-color: #d4ebff;}#sk-container-id-157 div.sk-label input.sk-toggleable__control:checked~label.sk-toggleable__label {background-color: #d4ebff;}#sk-container-id-157 input.sk-hidden--visually {border: 0;clip: rect(1px 1px 1px 1px);clip: rect(1px, 1px, 1px, 1px);height: 1px;margin: -1px;overflow: hidden;padding: 0;position: absolute;width: 1px;}#sk-container-id-157 div.sk-estimator {font-family: monospace;background-color: #f0f8ff;border: 1px dotted black;border-radius: 0.25em;box-sizing: border-box;margin-bottom: 0.5em;}#sk-container-id-157 div.sk-estimator:hover {background-color: #d4ebff;}#sk-container-id-157 div.sk-parallel-item::after {content: \"\";width: 100%;border-bottom: 1px solid gray;flex-grow: 1;}#sk-container-id-157 div.sk-label:hover label.sk-toggleable__label {background-color: #d4ebff;}#sk-container-id-157 div.sk-serial::before {content: \"\";position: absolute;border-left: 1px solid gray;box-sizing: border-box;top: 0;bottom: 0;left: 50%;z-index: 0;}#sk-container-id-157 div.sk-serial {display: flex;flex-direction: column;align-items: center;background-color: white;padding-right: 0.2em;padding-left: 0.2em;position: relative;}#sk-container-id-157 div.sk-item {position: relative;z-index: 1;}#sk-container-id-157 div.sk-parallel {display: flex;align-items: stretch;justify-content: center;background-color: white;position: relative;}#sk-container-id-157 div.sk-item::before, #sk-container-id-157 div.sk-parallel-item::before {content: \"\";position: absolute;border-left: 1px solid gray;box-sizing: border-box;top: 0;bottom: 0;left: 50%;z-index: -1;}#sk-container-id-157 div.sk-parallel-item {display: flex;flex-direction: column;z-index: 1;position: relative;background-color: white;}#sk-container-id-157 div.sk-parallel-item:first-child::after {align-self: flex-end;width: 50%;}#sk-container-id-157 div.sk-parallel-item:last-child::after {align-self: flex-start;width: 50%;}#sk-container-id-157 div.sk-parallel-item:only-child::after {width: 0;}#sk-container-id-157 div.sk-dashed-wrapped {border: 1px dashed gray;margin: 0 0.4em 0.5em 0.4em;box-sizing: border-box;padding-bottom: 0.4em;background-color: white;}#sk-container-id-157 div.sk-label label {font-family: monospace;font-weight: bold;display: inline-block;line-height: 1.2em;}#sk-container-id-157 div.sk-label-container {text-align: center;}#sk-container-id-157 div.sk-container {/* jupyter's `normalize.less` sets `[hidden] { display: none; }` but bootstrap.min.css set `[hidden] { display: none !important; }` so we also need the `!important` here to be able to override the default hidden behavior on the sphinx rendered scikit-learn.org. See: https://github.com/scikit-learn/scikit-learn/issues/21755 */display: inline-block !important;position: relative;}#sk-container-id-157 div.sk-text-repr-fallback {display: none;}</style><div id=\"sk-container-id-157\" class=\"sk-top-container\"><div class=\"sk-text-repr-fallback\"><pre>LogisticRegression()</pre><b>In a Jupyter environment, please rerun this cell to show the HTML representation or trust the notebook. <br />On GitHub, the HTML representation is unable to render, please try loading this page with nbviewer.org.</b></div><div class=\"sk-container\" hidden><div class=\"sk-item\"><div class=\"sk-estimator sk-toggleable\"><input class=\"sk-toggleable__control sk-hidden--visually\" id=\"sk-estimator-id-157\" type=\"checkbox\" checked><label for=\"sk-estimator-id-157\" class=\"sk-toggleable__label sk-toggleable__label-arrow\">LogisticRegression</label><div class=\"sk-toggleable__content\"><pre>LogisticRegression()</pre></div></div></div></div></div>"
            ]
          },
          "metadata": {},
          "execution_count": 1805
        }
      ]
    },
    {
      "cell_type": "code",
      "source": [
        "algoritmo.fit(X_train, y_train)"
      ],
      "metadata": {
        "colab": {
          "base_uri": "https://localhost:8080/",
          "height": 240
        },
        "outputId": "9e3310a5-6701-41e0-f211-34296b68c640",
        "id": "4x9ExLPqnXxD"
      },
      "execution_count": 1806,
      "outputs": [
        {
          "output_type": "stream",
          "name": "stderr",
          "text": [
            "/usr/local/lib/python3.10/dist-packages/sklearn/linear_model/_logistic.py:458: ConvergenceWarning: lbfgs failed to converge (status=1):\n",
            "STOP: TOTAL NO. of ITERATIONS REACHED LIMIT.\n",
            "\n",
            "Increase the number of iterations (max_iter) or scale the data as shown in:\n",
            "    https://scikit-learn.org/stable/modules/preprocessing.html\n",
            "Please also refer to the documentation for alternative solver options:\n",
            "    https://scikit-learn.org/stable/modules/linear_model.html#logistic-regression\n",
            "  n_iter_i = _check_optimize_result(\n"
          ]
        },
        {
          "output_type": "execute_result",
          "data": {
            "text/plain": [
              "LogisticRegression()"
            ],
            "text/html": [
              "<style>#sk-container-id-158 {color: black;background-color: white;}#sk-container-id-158 pre{padding: 0;}#sk-container-id-158 div.sk-toggleable {background-color: white;}#sk-container-id-158 label.sk-toggleable__label {cursor: pointer;display: block;width: 100%;margin-bottom: 0;padding: 0.3em;box-sizing: border-box;text-align: center;}#sk-container-id-158 label.sk-toggleable__label-arrow:before {content: \"▸\";float: left;margin-right: 0.25em;color: #696969;}#sk-container-id-158 label.sk-toggleable__label-arrow:hover:before {color: black;}#sk-container-id-158 div.sk-estimator:hover label.sk-toggleable__label-arrow:before {color: black;}#sk-container-id-158 div.sk-toggleable__content {max-height: 0;max-width: 0;overflow: hidden;text-align: left;background-color: #f0f8ff;}#sk-container-id-158 div.sk-toggleable__content pre {margin: 0.2em;color: black;border-radius: 0.25em;background-color: #f0f8ff;}#sk-container-id-158 input.sk-toggleable__control:checked~div.sk-toggleable__content {max-height: 200px;max-width: 100%;overflow: auto;}#sk-container-id-158 input.sk-toggleable__control:checked~label.sk-toggleable__label-arrow:before {content: \"▾\";}#sk-container-id-158 div.sk-estimator input.sk-toggleable__control:checked~label.sk-toggleable__label {background-color: #d4ebff;}#sk-container-id-158 div.sk-label input.sk-toggleable__control:checked~label.sk-toggleable__label {background-color: #d4ebff;}#sk-container-id-158 input.sk-hidden--visually {border: 0;clip: rect(1px 1px 1px 1px);clip: rect(1px, 1px, 1px, 1px);height: 1px;margin: -1px;overflow: hidden;padding: 0;position: absolute;width: 1px;}#sk-container-id-158 div.sk-estimator {font-family: monospace;background-color: #f0f8ff;border: 1px dotted black;border-radius: 0.25em;box-sizing: border-box;margin-bottom: 0.5em;}#sk-container-id-158 div.sk-estimator:hover {background-color: #d4ebff;}#sk-container-id-158 div.sk-parallel-item::after {content: \"\";width: 100%;border-bottom: 1px solid gray;flex-grow: 1;}#sk-container-id-158 div.sk-label:hover label.sk-toggleable__label {background-color: #d4ebff;}#sk-container-id-158 div.sk-serial::before {content: \"\";position: absolute;border-left: 1px solid gray;box-sizing: border-box;top: 0;bottom: 0;left: 50%;z-index: 0;}#sk-container-id-158 div.sk-serial {display: flex;flex-direction: column;align-items: center;background-color: white;padding-right: 0.2em;padding-left: 0.2em;position: relative;}#sk-container-id-158 div.sk-item {position: relative;z-index: 1;}#sk-container-id-158 div.sk-parallel {display: flex;align-items: stretch;justify-content: center;background-color: white;position: relative;}#sk-container-id-158 div.sk-item::before, #sk-container-id-158 div.sk-parallel-item::before {content: \"\";position: absolute;border-left: 1px solid gray;box-sizing: border-box;top: 0;bottom: 0;left: 50%;z-index: -1;}#sk-container-id-158 div.sk-parallel-item {display: flex;flex-direction: column;z-index: 1;position: relative;background-color: white;}#sk-container-id-158 div.sk-parallel-item:first-child::after {align-self: flex-end;width: 50%;}#sk-container-id-158 div.sk-parallel-item:last-child::after {align-self: flex-start;width: 50%;}#sk-container-id-158 div.sk-parallel-item:only-child::after {width: 0;}#sk-container-id-158 div.sk-dashed-wrapped {border: 1px dashed gray;margin: 0 0.4em 0.5em 0.4em;box-sizing: border-box;padding-bottom: 0.4em;background-color: white;}#sk-container-id-158 div.sk-label label {font-family: monospace;font-weight: bold;display: inline-block;line-height: 1.2em;}#sk-container-id-158 div.sk-label-container {text-align: center;}#sk-container-id-158 div.sk-container {/* jupyter's `normalize.less` sets `[hidden] { display: none; }` but bootstrap.min.css set `[hidden] { display: none !important; }` so we also need the `!important` here to be able to override the default hidden behavior on the sphinx rendered scikit-learn.org. See: https://github.com/scikit-learn/scikit-learn/issues/21755 */display: inline-block !important;position: relative;}#sk-container-id-158 div.sk-text-repr-fallback {display: none;}</style><div id=\"sk-container-id-158\" class=\"sk-top-container\"><div class=\"sk-text-repr-fallback\"><pre>LogisticRegression()</pre><b>In a Jupyter environment, please rerun this cell to show the HTML representation or trust the notebook. <br />On GitHub, the HTML representation is unable to render, please try loading this page with nbviewer.org.</b></div><div class=\"sk-container\" hidden><div class=\"sk-item\"><div class=\"sk-estimator sk-toggleable\"><input class=\"sk-toggleable__control sk-hidden--visually\" id=\"sk-estimator-id-158\" type=\"checkbox\" checked><label for=\"sk-estimator-id-158\" class=\"sk-toggleable__label sk-toggleable__label-arrow\">LogisticRegression</label><div class=\"sk-toggleable__content\"><pre>LogisticRegression()</pre></div></div></div></div></div>"
            ]
          },
          "metadata": {},
          "execution_count": 1806
        }
      ]
    },
    {
      "cell_type": "code",
      "source": [
        "y_pred = algoritmo.predict(X_test)\n",
        "y_pred"
      ],
      "metadata": {
        "colab": {
          "base_uri": "https://localhost:8080/"
        },
        "outputId": "7e6bd8f5-5e8c-406b-a338-d52443e6e665",
        "id": "Jtyx0rIQnXxD"
      },
      "execution_count": 1807,
      "outputs": [
        {
          "output_type": "execute_result",
          "data": {
            "text/plain": [
              "array(['Samsung', 'ZTE', 'Samsung', ..., 'Samsung', 'Samsung', 'ZTE'],\n",
              "      dtype=object)"
            ]
          },
          "metadata": {},
          "execution_count": 1807
        }
      ]
    },
    {
      "cell_type": "code",
      "source": [
        "matriz = confusion_matrix(y_test, y_pred)\n",
        "print('Matriz de Confusión:')\n",
        "print(matriz)"
      ],
      "metadata": {
        "colab": {
          "base_uri": "https://localhost:8080/"
        },
        "outputId": "e8b5b003-5efe-4f43-e616-6574c15fb14e",
        "id": "IdeC05y7nXxD"
      },
      "execution_count": 1808,
      "outputs": [
        {
          "output_type": "stream",
          "name": "stdout",
          "text": [
            "Matriz de Confusión:\n",
            "[[   0    0    0    0    0    0    0    0    0    0    0    0    0    0\n",
            "    19    0    1    0    0    0   30]\n",
            " [   0    0    0    0    0    0    0    0    0    0    0    0    0    0\n",
            "    11    0    0    0    0    0   10]\n",
            " [   0    0    0    0    0    0    0    0    0    0    0    0    0    0\n",
            "    43    0    2    0    0    0   34]\n",
            " [   0    0    0    0    0    0    0    0    0    0    0    0    0    0\n",
            "    84    0    0    0    0    0   23]\n",
            " [   0    0    0    0    0    0    0    0    0    0    0    0    0    0\n",
            "     0    0    0    0    0    0    1]\n",
            " [   0    0    0    0    0    0    0    0    0    0    0    0    0    0\n",
            "     5    0    0    0    0    0    0]\n",
            " [   0    0    0    0    0    0    0    0    0    0    0    0    0    0\n",
            "     3    0    0    0    0    0   19]\n",
            " [   0    0    0    0    0    0    0    1    0    0    0    0    0    0\n",
            "   773    0    0    0    0    0    1]\n",
            " [   0    0    0    0    0    0    0    0    0    0    0    0    0    0\n",
            "   446    0    0    0    0    0    0]\n",
            " [   0    0    0    0    0    0    0    0    0    0    0    0    0    0\n",
            "   206    0    2    0    0    0   82]\n",
            " [   0    0    0    0    0    0    0    0    0    0    0    0    0    0\n",
            "    46    0    0    0    0    0   18]\n",
            " [   0    0    0    0    0    0    0    0    0    0    0    0    0    0\n",
            "     0    0    0    0    0    0    1]\n",
            " [   0    0    0    0    0    0    0    1    0    0    0    0    0    0\n",
            "   873    0    2    0    0    0   34]\n",
            " [   0    0    0    0    0    0    0    0    0    0    0    0    0    0\n",
            "     0    0    0    0    0    0    1]\n",
            " [   0    0    0    0    0    0    0    1    0    0    0    0    0    0\n",
            "  2452    0   30    0    0    0   51]\n",
            " [   0    0    0    0    0    0    0    0    0    0    0    0    0    0\n",
            "    29    0    0    0    0    0    0]\n",
            " [   0    0    0    0    0    0    0    0    0    0    0    0    0    0\n",
            "   106    0   18    0    0    0  121]\n",
            " [   0    0    0    0    0    0    0    0    0    0    0    0    0    0\n",
            "    23    0    0    0    0    0    0]\n",
            " [   0    0    0    0    0    0    0    0    0    0    0    0    0    0\n",
            "    14    0    0    0    0    0    0]\n",
            " [   0    0    0    0    0    0    0    0    0    0    0    0    0    0\n",
            "     1    0    0    0    0    0    0]\n",
            " [   0    0    0    0    0    0    0    0    0    0    0    0    0    0\n",
            "   108    0    8    0    0    0  398]]\n"
          ]
        }
      ]
    },
    {
      "cell_type": "code",
      "source": [
        "precision = precision_score(y_test, y_pred, average=\"macro\")\n",
        "print('Precisión del modelo:')\n",
        "print(precision)"
      ],
      "metadata": {
        "colab": {
          "base_uri": "https://localhost:8080/"
        },
        "outputId": "83cae175-9ad4-43a6-83f0-785105bd8c0a",
        "id": "pnToZRRVnXxD"
      },
      "execution_count": 1809,
      "outputs": [
        {
          "output_type": "stream",
          "name": "stdout",
          "text": [
            "Precisión del modelo:\n",
            "0.07475322498002855\n"
          ]
        },
        {
          "output_type": "stream",
          "name": "stderr",
          "text": [
            "/usr/local/lib/python3.10/dist-packages/sklearn/metrics/_classification.py:1344: UndefinedMetricWarning: Precision is ill-defined and being set to 0.0 in labels with no predicted samples. Use `zero_division` parameter to control this behavior.\n",
            "  _warn_prf(average, modifier, msg_start, len(result))\n"
          ]
        }
      ]
    },
    {
      "cell_type": "code",
      "source": [
        "sensibilidad = recall_score(y_test, y_pred, average=\"macro\")\n",
        "print('Sensibilidad del modelo:')\n",
        "print(sensibilidad)"
      ],
      "metadata": {
        "colab": {
          "base_uri": "https://localhost:8080/"
        },
        "outputId": "504a06cf-75c8-45ae-cd79-500fb8e34635",
        "id": "fVSU94TAnXxE"
      },
      "execution_count": 1810,
      "outputs": [
        {
          "output_type": "stream",
          "name": "stdout",
          "text": [
            "Sensibilidad del modelo:\n",
            "0.08651042243788216\n"
          ]
        }
      ]
    },
    {
      "cell_type": "code",
      "source": [
        "puntajef1 = f1_score(y_test, y_pred, average=\"macro\")\n",
        "print('Puntaje F1 del modelo:')\n",
        "print(puntajef1)"
      ],
      "metadata": {
        "colab": {
          "base_uri": "https://localhost:8080/"
        },
        "outputId": "f5f45509-b768-496d-ed2d-f203ca346e52",
        "id": "UMsGXWZKnXxE"
      },
      "execution_count": 1811,
      "outputs": [
        {
          "output_type": "stream",
          "name": "stdout",
          "text": [
            "Puntaje F1 del modelo:\n",
            "0.06404904928225774\n"
          ]
        }
      ]
    },
    {
      "cell_type": "code",
      "source": [
        "df_coef.loc[6] = ['marca', '7', round(precision,2), round(sensibilidad,2), round(puntajef1,2) ]"
      ],
      "metadata": {
        "id": "JrZVqLi1nXxE"
      },
      "execution_count": 1812,
      "outputs": []
    },
    {
      "cell_type": "markdown",
      "source": [
        "###Analisis 8"
      ],
      "metadata": {
        "id": "mWSxZw7VmfH2"
      }
    },
    {
      "cell_type": "code",
      "source": [
        "Vars_Indep= df2[['enganche', 'precio', 'costo_total']]\n",
        "Var_Dep= df2['modelo']"
      ],
      "metadata": {
        "id": "thCIv602nYmE"
      },
      "execution_count": 1813,
      "outputs": []
    },
    {
      "cell_type": "code",
      "source": [
        "X= Vars_Indep\n",
        "y= Var_Dep"
      ],
      "metadata": {
        "id": "xt9qIE0unYmf"
      },
      "execution_count": 1814,
      "outputs": []
    },
    {
      "cell_type": "code",
      "source": [
        "X_train, X_test, y_train, y_test = train_test_split(X, y, test_size=0.3, random_state =None)"
      ],
      "metadata": {
        "id": "J23wkWQDnYmg"
      },
      "execution_count": 1815,
      "outputs": []
    },
    {
      "cell_type": "code",
      "source": [
        "escalar = StandardScaler()"
      ],
      "metadata": {
        "id": "FX04M6aXnYmh"
      },
      "execution_count": 1816,
      "outputs": []
    },
    {
      "cell_type": "code",
      "source": [
        "X_train = escalar.fit_transform(X_train)\n",
        "X_test = escalar.transform(X_test)"
      ],
      "metadata": {
        "id": "il9zo842nYmh"
      },
      "execution_count": 1817,
      "outputs": []
    },
    {
      "cell_type": "code",
      "source": [
        "algoritmo = LogisticRegression()"
      ],
      "metadata": {
        "id": "kgILepSYnYmi"
      },
      "execution_count": 1818,
      "outputs": []
    },
    {
      "cell_type": "code",
      "source": [
        "algoritmo.fit(X_train, y_train)"
      ],
      "metadata": {
        "colab": {
          "base_uri": "https://localhost:8080/",
          "height": 240
        },
        "outputId": "0bc3536c-d082-4625-8982-03316d376ce2",
        "id": "2W_CRbz4nYmi"
      },
      "execution_count": 1819,
      "outputs": [
        {
          "output_type": "stream",
          "name": "stderr",
          "text": [
            "/usr/local/lib/python3.10/dist-packages/sklearn/linear_model/_logistic.py:458: ConvergenceWarning: lbfgs failed to converge (status=1):\n",
            "STOP: TOTAL NO. of ITERATIONS REACHED LIMIT.\n",
            "\n",
            "Increase the number of iterations (max_iter) or scale the data as shown in:\n",
            "    https://scikit-learn.org/stable/modules/preprocessing.html\n",
            "Please also refer to the documentation for alternative solver options:\n",
            "    https://scikit-learn.org/stable/modules/linear_model.html#logistic-regression\n",
            "  n_iter_i = _check_optimize_result(\n"
          ]
        },
        {
          "output_type": "execute_result",
          "data": {
            "text/plain": [
              "LogisticRegression()"
            ],
            "text/html": [
              "<style>#sk-container-id-159 {color: black;background-color: white;}#sk-container-id-159 pre{padding: 0;}#sk-container-id-159 div.sk-toggleable {background-color: white;}#sk-container-id-159 label.sk-toggleable__label {cursor: pointer;display: block;width: 100%;margin-bottom: 0;padding: 0.3em;box-sizing: border-box;text-align: center;}#sk-container-id-159 label.sk-toggleable__label-arrow:before {content: \"▸\";float: left;margin-right: 0.25em;color: #696969;}#sk-container-id-159 label.sk-toggleable__label-arrow:hover:before {color: black;}#sk-container-id-159 div.sk-estimator:hover label.sk-toggleable__label-arrow:before {color: black;}#sk-container-id-159 div.sk-toggleable__content {max-height: 0;max-width: 0;overflow: hidden;text-align: left;background-color: #f0f8ff;}#sk-container-id-159 div.sk-toggleable__content pre {margin: 0.2em;color: black;border-radius: 0.25em;background-color: #f0f8ff;}#sk-container-id-159 input.sk-toggleable__control:checked~div.sk-toggleable__content {max-height: 200px;max-width: 100%;overflow: auto;}#sk-container-id-159 input.sk-toggleable__control:checked~label.sk-toggleable__label-arrow:before {content: \"▾\";}#sk-container-id-159 div.sk-estimator input.sk-toggleable__control:checked~label.sk-toggleable__label {background-color: #d4ebff;}#sk-container-id-159 div.sk-label input.sk-toggleable__control:checked~label.sk-toggleable__label {background-color: #d4ebff;}#sk-container-id-159 input.sk-hidden--visually {border: 0;clip: rect(1px 1px 1px 1px);clip: rect(1px, 1px, 1px, 1px);height: 1px;margin: -1px;overflow: hidden;padding: 0;position: absolute;width: 1px;}#sk-container-id-159 div.sk-estimator {font-family: monospace;background-color: #f0f8ff;border: 1px dotted black;border-radius: 0.25em;box-sizing: border-box;margin-bottom: 0.5em;}#sk-container-id-159 div.sk-estimator:hover {background-color: #d4ebff;}#sk-container-id-159 div.sk-parallel-item::after {content: \"\";width: 100%;border-bottom: 1px solid gray;flex-grow: 1;}#sk-container-id-159 div.sk-label:hover label.sk-toggleable__label {background-color: #d4ebff;}#sk-container-id-159 div.sk-serial::before {content: \"\";position: absolute;border-left: 1px solid gray;box-sizing: border-box;top: 0;bottom: 0;left: 50%;z-index: 0;}#sk-container-id-159 div.sk-serial {display: flex;flex-direction: column;align-items: center;background-color: white;padding-right: 0.2em;padding-left: 0.2em;position: relative;}#sk-container-id-159 div.sk-item {position: relative;z-index: 1;}#sk-container-id-159 div.sk-parallel {display: flex;align-items: stretch;justify-content: center;background-color: white;position: relative;}#sk-container-id-159 div.sk-item::before, #sk-container-id-159 div.sk-parallel-item::before {content: \"\";position: absolute;border-left: 1px solid gray;box-sizing: border-box;top: 0;bottom: 0;left: 50%;z-index: -1;}#sk-container-id-159 div.sk-parallel-item {display: flex;flex-direction: column;z-index: 1;position: relative;background-color: white;}#sk-container-id-159 div.sk-parallel-item:first-child::after {align-self: flex-end;width: 50%;}#sk-container-id-159 div.sk-parallel-item:last-child::after {align-self: flex-start;width: 50%;}#sk-container-id-159 div.sk-parallel-item:only-child::after {width: 0;}#sk-container-id-159 div.sk-dashed-wrapped {border: 1px dashed gray;margin: 0 0.4em 0.5em 0.4em;box-sizing: border-box;padding-bottom: 0.4em;background-color: white;}#sk-container-id-159 div.sk-label label {font-family: monospace;font-weight: bold;display: inline-block;line-height: 1.2em;}#sk-container-id-159 div.sk-label-container {text-align: center;}#sk-container-id-159 div.sk-container {/* jupyter's `normalize.less` sets `[hidden] { display: none; }` but bootstrap.min.css set `[hidden] { display: none !important; }` so we also need the `!important` here to be able to override the default hidden behavior on the sphinx rendered scikit-learn.org. See: https://github.com/scikit-learn/scikit-learn/issues/21755 */display: inline-block !important;position: relative;}#sk-container-id-159 div.sk-text-repr-fallback {display: none;}</style><div id=\"sk-container-id-159\" class=\"sk-top-container\"><div class=\"sk-text-repr-fallback\"><pre>LogisticRegression()</pre><b>In a Jupyter environment, please rerun this cell to show the HTML representation or trust the notebook. <br />On GitHub, the HTML representation is unable to render, please try loading this page with nbviewer.org.</b></div><div class=\"sk-container\" hidden><div class=\"sk-item\"><div class=\"sk-estimator sk-toggleable\"><input class=\"sk-toggleable__control sk-hidden--visually\" id=\"sk-estimator-id-159\" type=\"checkbox\" checked><label for=\"sk-estimator-id-159\" class=\"sk-toggleable__label sk-toggleable__label-arrow\">LogisticRegression</label><div class=\"sk-toggleable__content\"><pre>LogisticRegression()</pre></div></div></div></div></div>"
            ]
          },
          "metadata": {},
          "execution_count": 1819
        }
      ]
    },
    {
      "cell_type": "code",
      "source": [
        "algoritmo.fit(X_train, y_train)"
      ],
      "metadata": {
        "colab": {
          "base_uri": "https://localhost:8080/",
          "height": 240
        },
        "outputId": "16685850-2431-4962-fa44-69fd60d3bbe1",
        "id": "JJdxAVXUnYmj"
      },
      "execution_count": 1820,
      "outputs": [
        {
          "output_type": "stream",
          "name": "stderr",
          "text": [
            "/usr/local/lib/python3.10/dist-packages/sklearn/linear_model/_logistic.py:458: ConvergenceWarning: lbfgs failed to converge (status=1):\n",
            "STOP: TOTAL NO. of ITERATIONS REACHED LIMIT.\n",
            "\n",
            "Increase the number of iterations (max_iter) or scale the data as shown in:\n",
            "    https://scikit-learn.org/stable/modules/preprocessing.html\n",
            "Please also refer to the documentation for alternative solver options:\n",
            "    https://scikit-learn.org/stable/modules/linear_model.html#logistic-regression\n",
            "  n_iter_i = _check_optimize_result(\n"
          ]
        },
        {
          "output_type": "execute_result",
          "data": {
            "text/plain": [
              "LogisticRegression()"
            ],
            "text/html": [
              "<style>#sk-container-id-160 {color: black;background-color: white;}#sk-container-id-160 pre{padding: 0;}#sk-container-id-160 div.sk-toggleable {background-color: white;}#sk-container-id-160 label.sk-toggleable__label {cursor: pointer;display: block;width: 100%;margin-bottom: 0;padding: 0.3em;box-sizing: border-box;text-align: center;}#sk-container-id-160 label.sk-toggleable__label-arrow:before {content: \"▸\";float: left;margin-right: 0.25em;color: #696969;}#sk-container-id-160 label.sk-toggleable__label-arrow:hover:before {color: black;}#sk-container-id-160 div.sk-estimator:hover label.sk-toggleable__label-arrow:before {color: black;}#sk-container-id-160 div.sk-toggleable__content {max-height: 0;max-width: 0;overflow: hidden;text-align: left;background-color: #f0f8ff;}#sk-container-id-160 div.sk-toggleable__content pre {margin: 0.2em;color: black;border-radius: 0.25em;background-color: #f0f8ff;}#sk-container-id-160 input.sk-toggleable__control:checked~div.sk-toggleable__content {max-height: 200px;max-width: 100%;overflow: auto;}#sk-container-id-160 input.sk-toggleable__control:checked~label.sk-toggleable__label-arrow:before {content: \"▾\";}#sk-container-id-160 div.sk-estimator input.sk-toggleable__control:checked~label.sk-toggleable__label {background-color: #d4ebff;}#sk-container-id-160 div.sk-label input.sk-toggleable__control:checked~label.sk-toggleable__label {background-color: #d4ebff;}#sk-container-id-160 input.sk-hidden--visually {border: 0;clip: rect(1px 1px 1px 1px);clip: rect(1px, 1px, 1px, 1px);height: 1px;margin: -1px;overflow: hidden;padding: 0;position: absolute;width: 1px;}#sk-container-id-160 div.sk-estimator {font-family: monospace;background-color: #f0f8ff;border: 1px dotted black;border-radius: 0.25em;box-sizing: border-box;margin-bottom: 0.5em;}#sk-container-id-160 div.sk-estimator:hover {background-color: #d4ebff;}#sk-container-id-160 div.sk-parallel-item::after {content: \"\";width: 100%;border-bottom: 1px solid gray;flex-grow: 1;}#sk-container-id-160 div.sk-label:hover label.sk-toggleable__label {background-color: #d4ebff;}#sk-container-id-160 div.sk-serial::before {content: \"\";position: absolute;border-left: 1px solid gray;box-sizing: border-box;top: 0;bottom: 0;left: 50%;z-index: 0;}#sk-container-id-160 div.sk-serial {display: flex;flex-direction: column;align-items: center;background-color: white;padding-right: 0.2em;padding-left: 0.2em;position: relative;}#sk-container-id-160 div.sk-item {position: relative;z-index: 1;}#sk-container-id-160 div.sk-parallel {display: flex;align-items: stretch;justify-content: center;background-color: white;position: relative;}#sk-container-id-160 div.sk-item::before, #sk-container-id-160 div.sk-parallel-item::before {content: \"\";position: absolute;border-left: 1px solid gray;box-sizing: border-box;top: 0;bottom: 0;left: 50%;z-index: -1;}#sk-container-id-160 div.sk-parallel-item {display: flex;flex-direction: column;z-index: 1;position: relative;background-color: white;}#sk-container-id-160 div.sk-parallel-item:first-child::after {align-self: flex-end;width: 50%;}#sk-container-id-160 div.sk-parallel-item:last-child::after {align-self: flex-start;width: 50%;}#sk-container-id-160 div.sk-parallel-item:only-child::after {width: 0;}#sk-container-id-160 div.sk-dashed-wrapped {border: 1px dashed gray;margin: 0 0.4em 0.5em 0.4em;box-sizing: border-box;padding-bottom: 0.4em;background-color: white;}#sk-container-id-160 div.sk-label label {font-family: monospace;font-weight: bold;display: inline-block;line-height: 1.2em;}#sk-container-id-160 div.sk-label-container {text-align: center;}#sk-container-id-160 div.sk-container {/* jupyter's `normalize.less` sets `[hidden] { display: none; }` but bootstrap.min.css set `[hidden] { display: none !important; }` so we also need the `!important` here to be able to override the default hidden behavior on the sphinx rendered scikit-learn.org. See: https://github.com/scikit-learn/scikit-learn/issues/21755 */display: inline-block !important;position: relative;}#sk-container-id-160 div.sk-text-repr-fallback {display: none;}</style><div id=\"sk-container-id-160\" class=\"sk-top-container\"><div class=\"sk-text-repr-fallback\"><pre>LogisticRegression()</pre><b>In a Jupyter environment, please rerun this cell to show the HTML representation or trust the notebook. <br />On GitHub, the HTML representation is unable to render, please try loading this page with nbviewer.org.</b></div><div class=\"sk-container\" hidden><div class=\"sk-item\"><div class=\"sk-estimator sk-toggleable\"><input class=\"sk-toggleable__control sk-hidden--visually\" id=\"sk-estimator-id-160\" type=\"checkbox\" checked><label for=\"sk-estimator-id-160\" class=\"sk-toggleable__label sk-toggleable__label-arrow\">LogisticRegression</label><div class=\"sk-toggleable__content\"><pre>LogisticRegression()</pre></div></div></div></div></div>"
            ]
          },
          "metadata": {},
          "execution_count": 1820
        }
      ]
    },
    {
      "cell_type": "code",
      "source": [
        "y_pred = algoritmo.predict(X_test)\n",
        "y_pred"
      ],
      "metadata": {
        "colab": {
          "base_uri": "https://localhost:8080/"
        },
        "outputId": "357e6e5a-3dfd-4df9-b91f-918145a652b8",
        "id": "3hdVJJsinYmk"
      },
      "execution_count": 1821,
      "outputs": [
        {
          "output_type": "execute_result",
          "data": {
            "text/plain": [
              "array(['A03', 'A13', 'A04E', ..., 'A03', 'A03', 'A03s'], dtype=object)"
            ]
          },
          "metadata": {},
          "execution_count": 1821
        }
      ]
    },
    {
      "cell_type": "code",
      "source": [
        "matriz = confusion_matrix(y_test, y_pred)\n",
        "print('Matriz de Confusión:')\n",
        "print(matriz)"
      ],
      "metadata": {
        "colab": {
          "base_uri": "https://localhost:8080/"
        },
        "outputId": "11096d0c-12f4-4b07-ec4e-d48bd80284f6",
        "id": "C0PQLxWunYml"
      },
      "execution_count": 1822,
      "outputs": [
        {
          "output_type": "stream",
          "name": "stdout",
          "text": [
            "Matriz de Confusión:\n",
            "[[0 0 0 ... 0 0 0]\n",
            " [0 0 0 ... 0 0 0]\n",
            " [0 0 0 ... 0 0 0]\n",
            " ...\n",
            " [0 0 0 ... 0 0 0]\n",
            " [0 0 0 ... 0 0 0]\n",
            " [0 0 0 ... 0 0 0]]\n"
          ]
        }
      ]
    },
    {
      "cell_type": "code",
      "source": [
        "precision = precision_score(y_test, y_pred, average=\"macro\")\n",
        "print('Precisión del modelo:')\n",
        "print(precision)"
      ],
      "metadata": {
        "colab": {
          "base_uri": "https://localhost:8080/"
        },
        "outputId": "fc1a80c1-3c82-44f0-fb13-f99963c0841c",
        "id": "3mBzOCuVnYmm"
      },
      "execution_count": 1823,
      "outputs": [
        {
          "output_type": "stream",
          "name": "stdout",
          "text": [
            "Precisión del modelo:\n",
            "0.00814990394678218\n"
          ]
        },
        {
          "output_type": "stream",
          "name": "stderr",
          "text": [
            "/usr/local/lib/python3.10/dist-packages/sklearn/metrics/_classification.py:1344: UndefinedMetricWarning: Precision is ill-defined and being set to 0.0 in labels with no predicted samples. Use `zero_division` parameter to control this behavior.\n",
            "  _warn_prf(average, modifier, msg_start, len(result))\n"
          ]
        }
      ]
    },
    {
      "cell_type": "code",
      "source": [
        "sensibilidad = recall_score(y_test, y_pred, average=\"macro\")\n",
        "print('Sensibilidad del modelo:')\n",
        "print(sensibilidad)"
      ],
      "metadata": {
        "colab": {
          "base_uri": "https://localhost:8080/"
        },
        "outputId": "207e8239-d08e-41c2-a789-fc32b7415ed5",
        "id": "aE3dpgeRnYmm"
      },
      "execution_count": 1824,
      "outputs": [
        {
          "output_type": "stream",
          "name": "stdout",
          "text": [
            "Sensibilidad del modelo:\n",
            "0.0169035415995843\n"
          ]
        }
      ]
    },
    {
      "cell_type": "code",
      "source": [
        "puntajef1 = f1_score(y_test, y_pred, average=\"macro\")\n",
        "print('Puntaje F1 del modelo:')\n",
        "print(puntajef1)"
      ],
      "metadata": {
        "colab": {
          "base_uri": "https://localhost:8080/"
        },
        "outputId": "0a84c0d7-73c0-4e71-ab31-29dd5eaeed73",
        "id": "3YemH_VnnYmn"
      },
      "execution_count": 1825,
      "outputs": [
        {
          "output_type": "stream",
          "name": "stdout",
          "text": [
            "Puntaje F1 del modelo:\n",
            "0.009889860445606632\n"
          ]
        }
      ]
    },
    {
      "cell_type": "code",
      "source": [
        "df_coef.loc[7] = ['modelo', '8', round(precision,2), round(sensibilidad,2), round(puntajef1,2) ]"
      ],
      "metadata": {
        "id": "dLVWwKH4nYmo"
      },
      "execution_count": 1826,
      "outputs": []
    },
    {
      "cell_type": "markdown",
      "source": [
        "###Analisis 9"
      ],
      "metadata": {
        "id": "zsHi3vuGnbju"
      }
    },
    {
      "cell_type": "code",
      "source": [
        "Vars_Indep= df2[['porc_eng', 'precio', 'limite_credito']]\n",
        "Var_Dep= df2['edo_venta']"
      ],
      "metadata": {
        "id": "dBRgw0kDoNJ8"
      },
      "execution_count": 1827,
      "outputs": []
    },
    {
      "cell_type": "code",
      "source": [
        "X= Vars_Indep\n",
        "y= Var_Dep"
      ],
      "metadata": {
        "id": "aXGMs26DoNJ9"
      },
      "execution_count": 1828,
      "outputs": []
    },
    {
      "cell_type": "code",
      "source": [
        "X_train, X_test, y_train, y_test = train_test_split(X, y, test_size=0.3, random_state =None)"
      ],
      "metadata": {
        "id": "LjBqazKLoNJ9"
      },
      "execution_count": 1829,
      "outputs": []
    },
    {
      "cell_type": "code",
      "source": [
        "escalar = StandardScaler()"
      ],
      "metadata": {
        "id": "a1DqcyikoNJ9"
      },
      "execution_count": 1830,
      "outputs": []
    },
    {
      "cell_type": "code",
      "source": [
        "X_train = escalar.fit_transform(X_train)\n",
        "X_test = escalar.transform(X_test)"
      ],
      "metadata": {
        "id": "mMvUaxg5oNJ9"
      },
      "execution_count": 1831,
      "outputs": []
    },
    {
      "cell_type": "code",
      "source": [
        "algoritmo = LogisticRegression()"
      ],
      "metadata": {
        "id": "x7gXPTrAoNJ9"
      },
      "execution_count": 1832,
      "outputs": []
    },
    {
      "cell_type": "code",
      "source": [
        "algoritmo.fit(X_train, y_train)"
      ],
      "metadata": {
        "colab": {
          "base_uri": "https://localhost:8080/",
          "height": 240
        },
        "outputId": "7427f855-aa7e-446d-a4a3-7f37e054aa20",
        "id": "714DgU8ZoNJ9"
      },
      "execution_count": 1833,
      "outputs": [
        {
          "output_type": "stream",
          "name": "stderr",
          "text": [
            "/usr/local/lib/python3.10/dist-packages/sklearn/linear_model/_logistic.py:458: ConvergenceWarning: lbfgs failed to converge (status=1):\n",
            "STOP: TOTAL NO. of ITERATIONS REACHED LIMIT.\n",
            "\n",
            "Increase the number of iterations (max_iter) or scale the data as shown in:\n",
            "    https://scikit-learn.org/stable/modules/preprocessing.html\n",
            "Please also refer to the documentation for alternative solver options:\n",
            "    https://scikit-learn.org/stable/modules/linear_model.html#logistic-regression\n",
            "  n_iter_i = _check_optimize_result(\n"
          ]
        },
        {
          "output_type": "execute_result",
          "data": {
            "text/plain": [
              "LogisticRegression()"
            ],
            "text/html": [
              "<style>#sk-container-id-161 {color: black;background-color: white;}#sk-container-id-161 pre{padding: 0;}#sk-container-id-161 div.sk-toggleable {background-color: white;}#sk-container-id-161 label.sk-toggleable__label {cursor: pointer;display: block;width: 100%;margin-bottom: 0;padding: 0.3em;box-sizing: border-box;text-align: center;}#sk-container-id-161 label.sk-toggleable__label-arrow:before {content: \"▸\";float: left;margin-right: 0.25em;color: #696969;}#sk-container-id-161 label.sk-toggleable__label-arrow:hover:before {color: black;}#sk-container-id-161 div.sk-estimator:hover label.sk-toggleable__label-arrow:before {color: black;}#sk-container-id-161 div.sk-toggleable__content {max-height: 0;max-width: 0;overflow: hidden;text-align: left;background-color: #f0f8ff;}#sk-container-id-161 div.sk-toggleable__content pre {margin: 0.2em;color: black;border-radius: 0.25em;background-color: #f0f8ff;}#sk-container-id-161 input.sk-toggleable__control:checked~div.sk-toggleable__content {max-height: 200px;max-width: 100%;overflow: auto;}#sk-container-id-161 input.sk-toggleable__control:checked~label.sk-toggleable__label-arrow:before {content: \"▾\";}#sk-container-id-161 div.sk-estimator input.sk-toggleable__control:checked~label.sk-toggleable__label {background-color: #d4ebff;}#sk-container-id-161 div.sk-label input.sk-toggleable__control:checked~label.sk-toggleable__label {background-color: #d4ebff;}#sk-container-id-161 input.sk-hidden--visually {border: 0;clip: rect(1px 1px 1px 1px);clip: rect(1px, 1px, 1px, 1px);height: 1px;margin: -1px;overflow: hidden;padding: 0;position: absolute;width: 1px;}#sk-container-id-161 div.sk-estimator {font-family: monospace;background-color: #f0f8ff;border: 1px dotted black;border-radius: 0.25em;box-sizing: border-box;margin-bottom: 0.5em;}#sk-container-id-161 div.sk-estimator:hover {background-color: #d4ebff;}#sk-container-id-161 div.sk-parallel-item::after {content: \"\";width: 100%;border-bottom: 1px solid gray;flex-grow: 1;}#sk-container-id-161 div.sk-label:hover label.sk-toggleable__label {background-color: #d4ebff;}#sk-container-id-161 div.sk-serial::before {content: \"\";position: absolute;border-left: 1px solid gray;box-sizing: border-box;top: 0;bottom: 0;left: 50%;z-index: 0;}#sk-container-id-161 div.sk-serial {display: flex;flex-direction: column;align-items: center;background-color: white;padding-right: 0.2em;padding-left: 0.2em;position: relative;}#sk-container-id-161 div.sk-item {position: relative;z-index: 1;}#sk-container-id-161 div.sk-parallel {display: flex;align-items: stretch;justify-content: center;background-color: white;position: relative;}#sk-container-id-161 div.sk-item::before, #sk-container-id-161 div.sk-parallel-item::before {content: \"\";position: absolute;border-left: 1px solid gray;box-sizing: border-box;top: 0;bottom: 0;left: 50%;z-index: -1;}#sk-container-id-161 div.sk-parallel-item {display: flex;flex-direction: column;z-index: 1;position: relative;background-color: white;}#sk-container-id-161 div.sk-parallel-item:first-child::after {align-self: flex-end;width: 50%;}#sk-container-id-161 div.sk-parallel-item:last-child::after {align-self: flex-start;width: 50%;}#sk-container-id-161 div.sk-parallel-item:only-child::after {width: 0;}#sk-container-id-161 div.sk-dashed-wrapped {border: 1px dashed gray;margin: 0 0.4em 0.5em 0.4em;box-sizing: border-box;padding-bottom: 0.4em;background-color: white;}#sk-container-id-161 div.sk-label label {font-family: monospace;font-weight: bold;display: inline-block;line-height: 1.2em;}#sk-container-id-161 div.sk-label-container {text-align: center;}#sk-container-id-161 div.sk-container {/* jupyter's `normalize.less` sets `[hidden] { display: none; }` but bootstrap.min.css set `[hidden] { display: none !important; }` so we also need the `!important` here to be able to override the default hidden behavior on the sphinx rendered scikit-learn.org. See: https://github.com/scikit-learn/scikit-learn/issues/21755 */display: inline-block !important;position: relative;}#sk-container-id-161 div.sk-text-repr-fallback {display: none;}</style><div id=\"sk-container-id-161\" class=\"sk-top-container\"><div class=\"sk-text-repr-fallback\"><pre>LogisticRegression()</pre><b>In a Jupyter environment, please rerun this cell to show the HTML representation or trust the notebook. <br />On GitHub, the HTML representation is unable to render, please try loading this page with nbviewer.org.</b></div><div class=\"sk-container\" hidden><div class=\"sk-item\"><div class=\"sk-estimator sk-toggleable\"><input class=\"sk-toggleable__control sk-hidden--visually\" id=\"sk-estimator-id-161\" type=\"checkbox\" checked><label for=\"sk-estimator-id-161\" class=\"sk-toggleable__label sk-toggleable__label-arrow\">LogisticRegression</label><div class=\"sk-toggleable__content\"><pre>LogisticRegression()</pre></div></div></div></div></div>"
            ]
          },
          "metadata": {},
          "execution_count": 1833
        }
      ]
    },
    {
      "cell_type": "code",
      "source": [
        "algoritmo.fit(X_train, y_train)"
      ],
      "metadata": {
        "colab": {
          "base_uri": "https://localhost:8080/",
          "height": 240
        },
        "outputId": "c3052f68-99cb-4d28-c2cc-6556608ef435",
        "id": "MuAONeMJoNJ9"
      },
      "execution_count": 1834,
      "outputs": [
        {
          "output_type": "stream",
          "name": "stderr",
          "text": [
            "/usr/local/lib/python3.10/dist-packages/sklearn/linear_model/_logistic.py:458: ConvergenceWarning: lbfgs failed to converge (status=1):\n",
            "STOP: TOTAL NO. of ITERATIONS REACHED LIMIT.\n",
            "\n",
            "Increase the number of iterations (max_iter) or scale the data as shown in:\n",
            "    https://scikit-learn.org/stable/modules/preprocessing.html\n",
            "Please also refer to the documentation for alternative solver options:\n",
            "    https://scikit-learn.org/stable/modules/linear_model.html#logistic-regression\n",
            "  n_iter_i = _check_optimize_result(\n"
          ]
        },
        {
          "output_type": "execute_result",
          "data": {
            "text/plain": [
              "LogisticRegression()"
            ],
            "text/html": [
              "<style>#sk-container-id-162 {color: black;background-color: white;}#sk-container-id-162 pre{padding: 0;}#sk-container-id-162 div.sk-toggleable {background-color: white;}#sk-container-id-162 label.sk-toggleable__label {cursor: pointer;display: block;width: 100%;margin-bottom: 0;padding: 0.3em;box-sizing: border-box;text-align: center;}#sk-container-id-162 label.sk-toggleable__label-arrow:before {content: \"▸\";float: left;margin-right: 0.25em;color: #696969;}#sk-container-id-162 label.sk-toggleable__label-arrow:hover:before {color: black;}#sk-container-id-162 div.sk-estimator:hover label.sk-toggleable__label-arrow:before {color: black;}#sk-container-id-162 div.sk-toggleable__content {max-height: 0;max-width: 0;overflow: hidden;text-align: left;background-color: #f0f8ff;}#sk-container-id-162 div.sk-toggleable__content pre {margin: 0.2em;color: black;border-radius: 0.25em;background-color: #f0f8ff;}#sk-container-id-162 input.sk-toggleable__control:checked~div.sk-toggleable__content {max-height: 200px;max-width: 100%;overflow: auto;}#sk-container-id-162 input.sk-toggleable__control:checked~label.sk-toggleable__label-arrow:before {content: \"▾\";}#sk-container-id-162 div.sk-estimator input.sk-toggleable__control:checked~label.sk-toggleable__label {background-color: #d4ebff;}#sk-container-id-162 div.sk-label input.sk-toggleable__control:checked~label.sk-toggleable__label {background-color: #d4ebff;}#sk-container-id-162 input.sk-hidden--visually {border: 0;clip: rect(1px 1px 1px 1px);clip: rect(1px, 1px, 1px, 1px);height: 1px;margin: -1px;overflow: hidden;padding: 0;position: absolute;width: 1px;}#sk-container-id-162 div.sk-estimator {font-family: monospace;background-color: #f0f8ff;border: 1px dotted black;border-radius: 0.25em;box-sizing: border-box;margin-bottom: 0.5em;}#sk-container-id-162 div.sk-estimator:hover {background-color: #d4ebff;}#sk-container-id-162 div.sk-parallel-item::after {content: \"\";width: 100%;border-bottom: 1px solid gray;flex-grow: 1;}#sk-container-id-162 div.sk-label:hover label.sk-toggleable__label {background-color: #d4ebff;}#sk-container-id-162 div.sk-serial::before {content: \"\";position: absolute;border-left: 1px solid gray;box-sizing: border-box;top: 0;bottom: 0;left: 50%;z-index: 0;}#sk-container-id-162 div.sk-serial {display: flex;flex-direction: column;align-items: center;background-color: white;padding-right: 0.2em;padding-left: 0.2em;position: relative;}#sk-container-id-162 div.sk-item {position: relative;z-index: 1;}#sk-container-id-162 div.sk-parallel {display: flex;align-items: stretch;justify-content: center;background-color: white;position: relative;}#sk-container-id-162 div.sk-item::before, #sk-container-id-162 div.sk-parallel-item::before {content: \"\";position: absolute;border-left: 1px solid gray;box-sizing: border-box;top: 0;bottom: 0;left: 50%;z-index: -1;}#sk-container-id-162 div.sk-parallel-item {display: flex;flex-direction: column;z-index: 1;position: relative;background-color: white;}#sk-container-id-162 div.sk-parallel-item:first-child::after {align-self: flex-end;width: 50%;}#sk-container-id-162 div.sk-parallel-item:last-child::after {align-self: flex-start;width: 50%;}#sk-container-id-162 div.sk-parallel-item:only-child::after {width: 0;}#sk-container-id-162 div.sk-dashed-wrapped {border: 1px dashed gray;margin: 0 0.4em 0.5em 0.4em;box-sizing: border-box;padding-bottom: 0.4em;background-color: white;}#sk-container-id-162 div.sk-label label {font-family: monospace;font-weight: bold;display: inline-block;line-height: 1.2em;}#sk-container-id-162 div.sk-label-container {text-align: center;}#sk-container-id-162 div.sk-container {/* jupyter's `normalize.less` sets `[hidden] { display: none; }` but bootstrap.min.css set `[hidden] { display: none !important; }` so we also need the `!important` here to be able to override the default hidden behavior on the sphinx rendered scikit-learn.org. See: https://github.com/scikit-learn/scikit-learn/issues/21755 */display: inline-block !important;position: relative;}#sk-container-id-162 div.sk-text-repr-fallback {display: none;}</style><div id=\"sk-container-id-162\" class=\"sk-top-container\"><div class=\"sk-text-repr-fallback\"><pre>LogisticRegression()</pre><b>In a Jupyter environment, please rerun this cell to show the HTML representation or trust the notebook. <br />On GitHub, the HTML representation is unable to render, please try loading this page with nbviewer.org.</b></div><div class=\"sk-container\" hidden><div class=\"sk-item\"><div class=\"sk-estimator sk-toggleable\"><input class=\"sk-toggleable__control sk-hidden--visually\" id=\"sk-estimator-id-162\" type=\"checkbox\" checked><label for=\"sk-estimator-id-162\" class=\"sk-toggleable__label sk-toggleable__label-arrow\">LogisticRegression</label><div class=\"sk-toggleable__content\"><pre>LogisticRegression()</pre></div></div></div></div></div>"
            ]
          },
          "metadata": {},
          "execution_count": 1834
        }
      ]
    },
    {
      "cell_type": "code",
      "source": [
        "y_pred = algoritmo.predict(X_test)\n",
        "y_pred"
      ],
      "metadata": {
        "colab": {
          "base_uri": "https://localhost:8080/"
        },
        "outputId": "e1316ee3-7859-401c-fbab-3c34f5900168",
        "id": "FGg-CO7ioNJ-"
      },
      "execution_count": 1835,
      "outputs": [
        {
          "output_type": "execute_result",
          "data": {
            "text/plain": [
              "array(['Puebla', 'Yucatan', 'Puebla', ..., 'Yucatan', 'Puebla', 'Yucatan'],\n",
              "      dtype=object)"
            ]
          },
          "metadata": {},
          "execution_count": 1835
        }
      ]
    },
    {
      "cell_type": "code",
      "source": [
        "matriz = confusion_matrix(y_test, y_pred)\n",
        "print('Matriz de Confusión:')\n",
        "print(matriz)"
      ],
      "metadata": {
        "colab": {
          "base_uri": "https://localhost:8080/"
        },
        "outputId": "2f850448-0b24-4752-a77f-758b51dadfa0",
        "id": "4WsfL5IqoNJ-"
      },
      "execution_count": 1836,
      "outputs": [
        {
          "output_type": "stream",
          "name": "stdout",
          "text": [
            "Matriz de Confusión:\n",
            "[[   0    0    0    0    0    0    0    0    0    0    0    0    0    0\n",
            "     0    0    0    0    0    0    0    0    0    0    0    0    0    1\n",
            "     0]\n",
            " [   0    0    0    0    0    0    0    0    0    0    0    0    0    0\n",
            "     0    0    0    0   13    0    0    0    0    0    0    0    0    3\n",
            "     0]\n",
            " [   0    0    0    0    0    0    0    0    0    0    0    0    0    0\n",
            "     0    0    0    0    0    0    0    0    0    0    0    0    0    1\n",
            "     0]\n",
            " [   0    0    0    0    0    0    0    0    0    0    0    0    0    0\n",
            "     0    0    0    0   39    0    0    0    0    0    0    0    0   66\n",
            "     0]\n",
            " [   0    0    0    0    0    0    0    0    0    0    0    0    0    0\n",
            "     0    0    0    0   45    0    0    0    0    0    0    0    0  122\n",
            "     0]\n",
            " [   0    0    0    0    0    0    0    0    0    0    0    0    0    0\n",
            "     0    0    0    0   20    0    0    0    0    0    0    0    0   35\n",
            "     0]\n",
            " [   0    0    0    0    0    0    0    0    0    0    0    0    0    0\n",
            "     0    0    0    0    1    0    0    0    0    0    0    0    0    2\n",
            "     0]\n",
            " [   0    0    0    0    0    0    0    0    0    0    0    0    0    0\n",
            "     0    0    0    0    9    0    0    0    0    0    0    0    0   11\n",
            "     0]\n",
            " [   0    0    0    0    0    0    0    0    0    0    0    0    0    0\n",
            "     0    0    0    0    2    0    0    0    0    0    0    0    0    1\n",
            "     0]\n",
            " [   0    0    0    0    0    0    0    0    0    0    0    0    0    0\n",
            "     0    0    0    0   17    0    0    0    0    0    0    0    0    2\n",
            "     0]\n",
            " [   0    0    0    0    0    0    0    0    0    0    0    0    0    0\n",
            "     0    0    0    0   18    0    0    0    0    0    0    0    0   13\n",
            "     0]\n",
            " [   0    0    0    0    0    0    0    0    0    0    0    1    0    0\n",
            "     0    0    0    0  352    0    0    0    0    0    0    0    0  267\n",
            "     0]\n",
            " [   0    0    0    0    0    0    0    0    0    0    0    0    0    0\n",
            "     0    0    0    0   15    0    0    0    0    0    0    0    0   15\n",
            "     0]\n",
            " [   0    0    0    0    0    0    0    0    0    0    0    0    0    0\n",
            "     0    0    0    0   22    0    0    0    0    0    0    0    0    5\n",
            "     0]\n",
            " [   0    0    0    0    0    0    0    0    0    0    0    0    0    0\n",
            "     0    0    0    0    3    0    0    0    0    0    0    0    0    1\n",
            "     0]\n",
            " [   0    0    0    0    0    0    0    0    0    0    0    0    0    0\n",
            "     0    0    0    0   10    0    0    0    0    0    0    0    0   11\n",
            "     0]\n",
            " [   0    0    0    0    0    0    0    0    0    0    0    0    0    0\n",
            "     0    0    0    0   16    0    0    0    0    0    0    0    0    4\n",
            "     0]\n",
            " [   0    0    0    0    0    0    0    0    0    0    0    0    0    0\n",
            "     0    0    0    0  122    0    0    0    0    0    0    0    0   54\n",
            "     0]\n",
            " [   0    0    0    0    0    0    0    0    0    0    0    0    0    0\n",
            "     0    0    0    0 1056    0    0    0    0    0    0    0    0  642\n",
            "     0]\n",
            " [   0    0    0    0    0    0    0    0    0    0    0    0    0    0\n",
            "     0    0    0    0    1    0    0    0    0    0    0    0    0    4\n",
            "     0]\n",
            " [   0    0    0    0    0    0    0    0    0    0    0    0    0    0\n",
            "     0    0    0    0   25    0    0    0    0    0    0    0    0  116\n",
            "     0]\n",
            " [   0    0    0    0    0    0    0    0    0    0    0    0    0    0\n",
            "     0    0    0    0   35    0    0    0    0    0    0    0    0   22\n",
            "     0]\n",
            " [   0    0    0    0    0    0    0    0    0    0    0    0    0    0\n",
            "     0    0    0    0    1    0    0    0    0    0    0    0    0    1\n",
            "     0]\n",
            " [   0    0    0    0    0    0    0    0    0    0    0    0    0    0\n",
            "     0    0    0    0   12    0    0    0    0    0    0    0    0   13\n",
            "     0]\n",
            " [   0    0    0    0    0    0    0    0    0    0    0    0    0    0\n",
            "     0    0    0    0   50    0    0    0    0    0    0    0    0   96\n",
            "     0]\n",
            " [   0    0    0    0    0    0    0    0    0    0    0    0    0    0\n",
            "     0    0    0    0   62    0    0    0    0    0    0    0    0   34\n",
            "     0]\n",
            " [   0    0    0    0    0    0    0    0    0    0    0    2    0    0\n",
            "     0    0    0    0  576    0    0    0    0    0    0    0    0  518\n",
            "     0]\n",
            " [   0    0    0    0    0    0    0    0    0    0    0    0    0    0\n",
            "     0    0    0    0  458    0    0    0    0    0    0    0    0 1087\n",
            "     0]\n",
            " [   0    0    0    0    0    0    0    0    0    0    0    0    0    0\n",
            "     0    0    0    0    2    0    0    0    0    0    0    0    0    0\n",
            "     0]]\n"
          ]
        }
      ]
    },
    {
      "cell_type": "code",
      "source": [
        "precision = precision_score(y_test, y_pred, average=\"macro\")\n",
        "print('Precisión del modelo:')\n",
        "print(precision)"
      ],
      "metadata": {
        "colab": {
          "base_uri": "https://localhost:8080/"
        },
        "outputId": "e08166df-cfdd-40ec-c350-38781329ecab",
        "id": "mhmw3pJYoNJ-"
      },
      "execution_count": 1837,
      "outputs": [
        {
          "output_type": "stream",
          "name": "stdout",
          "text": [
            "Precisión del modelo:\n",
            "0.0356160830073634\n"
          ]
        },
        {
          "output_type": "stream",
          "name": "stderr",
          "text": [
            "/usr/local/lib/python3.10/dist-packages/sklearn/metrics/_classification.py:1344: UndefinedMetricWarning: Precision is ill-defined and being set to 0.0 in labels with no predicted samples. Use `zero_division` parameter to control this behavior.\n",
            "  _warn_prf(average, modifier, msg_start, len(result))\n"
          ]
        }
      ]
    },
    {
      "cell_type": "code",
      "source": [
        "sensibilidad = recall_score(y_test, y_pred, average=\"macro\")\n",
        "print('Sensibilidad del modelo:')\n",
        "print(sensibilidad)"
      ],
      "metadata": {
        "colab": {
          "base_uri": "https://localhost:8080/"
        },
        "outputId": "066bcb1b-8549-4cf9-df0b-100b18febc11",
        "id": "8L9BZuMjoNJ-"
      },
      "execution_count": 1838,
      "outputs": [
        {
          "output_type": "stream",
          "name": "stdout",
          "text": [
            "Sensibilidad del modelo:\n",
            "0.0457614103787741\n"
          ]
        }
      ]
    },
    {
      "cell_type": "code",
      "source": [
        "puntajef1 = f1_score(y_test, y_pred, average=\"macro\")\n",
        "print('Puntaje F1 del modelo:')\n",
        "print(puntajef1)"
      ],
      "metadata": {
        "colab": {
          "base_uri": "https://localhost:8080/"
        },
        "outputId": "72d699d0-d949-4d4d-ece8-e58a3c983ac4",
        "id": "4GHKHtFfoNJ-"
      },
      "execution_count": 1839,
      "outputs": [
        {
          "output_type": "stream",
          "name": "stdout",
          "text": [
            "Puntaje F1 del modelo:\n",
            "0.03164945457371617\n"
          ]
        }
      ]
    },
    {
      "cell_type": "code",
      "source": [
        "df_coef.loc[8] = ['edo_venta', '9', round(precision,2), round(sensibilidad,2), round(puntajef1,2) ]"
      ],
      "metadata": {
        "id": "tyxVi9rDoNJ_"
      },
      "execution_count": 1840,
      "outputs": []
    },
    {
      "cell_type": "markdown",
      "source": [
        "###Analisis 10"
      ],
      "metadata": {
        "id": "VeHp6KLznb5Q"
      }
    },
    {
      "cell_type": "code",
      "source": [
        "Vars_Indep= df2[['enganche', 'precio', 'edad_cliente']]\n",
        "Var_Dep= df2['status_cuenta']"
      ],
      "metadata": {
        "id": "W3Lyfer4oNzD"
      },
      "execution_count": 1841,
      "outputs": []
    },
    {
      "cell_type": "code",
      "source": [
        "X= Vars_Indep\n",
        "y= Var_Dep"
      ],
      "metadata": {
        "id": "q8W7r-4toNzE"
      },
      "execution_count": 1842,
      "outputs": []
    },
    {
      "cell_type": "code",
      "source": [
        "X_train, X_test, y_train, y_test = train_test_split(X, y, test_size=0.3, random_state =None)"
      ],
      "metadata": {
        "id": "ZUCgYAAmoNzF"
      },
      "execution_count": 1843,
      "outputs": []
    },
    {
      "cell_type": "code",
      "source": [
        "escalar = StandardScaler()"
      ],
      "metadata": {
        "id": "jG9WfZuxoNzG"
      },
      "execution_count": 1844,
      "outputs": []
    },
    {
      "cell_type": "code",
      "source": [
        "X_train = escalar.fit_transform(X_train)\n",
        "X_test = escalar.transform(X_test)"
      ],
      "metadata": {
        "id": "pMpqSk-doNzH"
      },
      "execution_count": 1845,
      "outputs": []
    },
    {
      "cell_type": "code",
      "source": [
        "algoritmo = LogisticRegression()"
      ],
      "metadata": {
        "id": "HTtozruroNzI"
      },
      "execution_count": 1846,
      "outputs": []
    },
    {
      "cell_type": "code",
      "source": [
        "algoritmo.fit(X_train, y_train)"
      ],
      "metadata": {
        "colab": {
          "base_uri": "https://localhost:8080/",
          "height": 74
        },
        "outputId": "2128a686-0fcd-4df2-c4ec-9fe76db4a565",
        "id": "sq7y8kF4oNzI"
      },
      "execution_count": 1847,
      "outputs": [
        {
          "output_type": "execute_result",
          "data": {
            "text/plain": [
              "LogisticRegression()"
            ],
            "text/html": [
              "<style>#sk-container-id-163 {color: black;background-color: white;}#sk-container-id-163 pre{padding: 0;}#sk-container-id-163 div.sk-toggleable {background-color: white;}#sk-container-id-163 label.sk-toggleable__label {cursor: pointer;display: block;width: 100%;margin-bottom: 0;padding: 0.3em;box-sizing: border-box;text-align: center;}#sk-container-id-163 label.sk-toggleable__label-arrow:before {content: \"▸\";float: left;margin-right: 0.25em;color: #696969;}#sk-container-id-163 label.sk-toggleable__label-arrow:hover:before {color: black;}#sk-container-id-163 div.sk-estimator:hover label.sk-toggleable__label-arrow:before {color: black;}#sk-container-id-163 div.sk-toggleable__content {max-height: 0;max-width: 0;overflow: hidden;text-align: left;background-color: #f0f8ff;}#sk-container-id-163 div.sk-toggleable__content pre {margin: 0.2em;color: black;border-radius: 0.25em;background-color: #f0f8ff;}#sk-container-id-163 input.sk-toggleable__control:checked~div.sk-toggleable__content {max-height: 200px;max-width: 100%;overflow: auto;}#sk-container-id-163 input.sk-toggleable__control:checked~label.sk-toggleable__label-arrow:before {content: \"▾\";}#sk-container-id-163 div.sk-estimator input.sk-toggleable__control:checked~label.sk-toggleable__label {background-color: #d4ebff;}#sk-container-id-163 div.sk-label input.sk-toggleable__control:checked~label.sk-toggleable__label {background-color: #d4ebff;}#sk-container-id-163 input.sk-hidden--visually {border: 0;clip: rect(1px 1px 1px 1px);clip: rect(1px, 1px, 1px, 1px);height: 1px;margin: -1px;overflow: hidden;padding: 0;position: absolute;width: 1px;}#sk-container-id-163 div.sk-estimator {font-family: monospace;background-color: #f0f8ff;border: 1px dotted black;border-radius: 0.25em;box-sizing: border-box;margin-bottom: 0.5em;}#sk-container-id-163 div.sk-estimator:hover {background-color: #d4ebff;}#sk-container-id-163 div.sk-parallel-item::after {content: \"\";width: 100%;border-bottom: 1px solid gray;flex-grow: 1;}#sk-container-id-163 div.sk-label:hover label.sk-toggleable__label {background-color: #d4ebff;}#sk-container-id-163 div.sk-serial::before {content: \"\";position: absolute;border-left: 1px solid gray;box-sizing: border-box;top: 0;bottom: 0;left: 50%;z-index: 0;}#sk-container-id-163 div.sk-serial {display: flex;flex-direction: column;align-items: center;background-color: white;padding-right: 0.2em;padding-left: 0.2em;position: relative;}#sk-container-id-163 div.sk-item {position: relative;z-index: 1;}#sk-container-id-163 div.sk-parallel {display: flex;align-items: stretch;justify-content: center;background-color: white;position: relative;}#sk-container-id-163 div.sk-item::before, #sk-container-id-163 div.sk-parallel-item::before {content: \"\";position: absolute;border-left: 1px solid gray;box-sizing: border-box;top: 0;bottom: 0;left: 50%;z-index: -1;}#sk-container-id-163 div.sk-parallel-item {display: flex;flex-direction: column;z-index: 1;position: relative;background-color: white;}#sk-container-id-163 div.sk-parallel-item:first-child::after {align-self: flex-end;width: 50%;}#sk-container-id-163 div.sk-parallel-item:last-child::after {align-self: flex-start;width: 50%;}#sk-container-id-163 div.sk-parallel-item:only-child::after {width: 0;}#sk-container-id-163 div.sk-dashed-wrapped {border: 1px dashed gray;margin: 0 0.4em 0.5em 0.4em;box-sizing: border-box;padding-bottom: 0.4em;background-color: white;}#sk-container-id-163 div.sk-label label {font-family: monospace;font-weight: bold;display: inline-block;line-height: 1.2em;}#sk-container-id-163 div.sk-label-container {text-align: center;}#sk-container-id-163 div.sk-container {/* jupyter's `normalize.less` sets `[hidden] { display: none; }` but bootstrap.min.css set `[hidden] { display: none !important; }` so we also need the `!important` here to be able to override the default hidden behavior on the sphinx rendered scikit-learn.org. See: https://github.com/scikit-learn/scikit-learn/issues/21755 */display: inline-block !important;position: relative;}#sk-container-id-163 div.sk-text-repr-fallback {display: none;}</style><div id=\"sk-container-id-163\" class=\"sk-top-container\"><div class=\"sk-text-repr-fallback\"><pre>LogisticRegression()</pre><b>In a Jupyter environment, please rerun this cell to show the HTML representation or trust the notebook. <br />On GitHub, the HTML representation is unable to render, please try loading this page with nbviewer.org.</b></div><div class=\"sk-container\" hidden><div class=\"sk-item\"><div class=\"sk-estimator sk-toggleable\"><input class=\"sk-toggleable__control sk-hidden--visually\" id=\"sk-estimator-id-163\" type=\"checkbox\" checked><label for=\"sk-estimator-id-163\" class=\"sk-toggleable__label sk-toggleable__label-arrow\">LogisticRegression</label><div class=\"sk-toggleable__content\"><pre>LogisticRegression()</pre></div></div></div></div></div>"
            ]
          },
          "metadata": {},
          "execution_count": 1847
        }
      ]
    },
    {
      "cell_type": "code",
      "source": [
        "algoritmo.fit(X_train, y_train)"
      ],
      "metadata": {
        "colab": {
          "base_uri": "https://localhost:8080/",
          "height": 74
        },
        "outputId": "51cb416a-d345-4125-f4b8-b7da2f2459ef",
        "id": "GLiTkY6LoNzJ"
      },
      "execution_count": 1848,
      "outputs": [
        {
          "output_type": "execute_result",
          "data": {
            "text/plain": [
              "LogisticRegression()"
            ],
            "text/html": [
              "<style>#sk-container-id-164 {color: black;background-color: white;}#sk-container-id-164 pre{padding: 0;}#sk-container-id-164 div.sk-toggleable {background-color: white;}#sk-container-id-164 label.sk-toggleable__label {cursor: pointer;display: block;width: 100%;margin-bottom: 0;padding: 0.3em;box-sizing: border-box;text-align: center;}#sk-container-id-164 label.sk-toggleable__label-arrow:before {content: \"▸\";float: left;margin-right: 0.25em;color: #696969;}#sk-container-id-164 label.sk-toggleable__label-arrow:hover:before {color: black;}#sk-container-id-164 div.sk-estimator:hover label.sk-toggleable__label-arrow:before {color: black;}#sk-container-id-164 div.sk-toggleable__content {max-height: 0;max-width: 0;overflow: hidden;text-align: left;background-color: #f0f8ff;}#sk-container-id-164 div.sk-toggleable__content pre {margin: 0.2em;color: black;border-radius: 0.25em;background-color: #f0f8ff;}#sk-container-id-164 input.sk-toggleable__control:checked~div.sk-toggleable__content {max-height: 200px;max-width: 100%;overflow: auto;}#sk-container-id-164 input.sk-toggleable__control:checked~label.sk-toggleable__label-arrow:before {content: \"▾\";}#sk-container-id-164 div.sk-estimator input.sk-toggleable__control:checked~label.sk-toggleable__label {background-color: #d4ebff;}#sk-container-id-164 div.sk-label input.sk-toggleable__control:checked~label.sk-toggleable__label {background-color: #d4ebff;}#sk-container-id-164 input.sk-hidden--visually {border: 0;clip: rect(1px 1px 1px 1px);clip: rect(1px, 1px, 1px, 1px);height: 1px;margin: -1px;overflow: hidden;padding: 0;position: absolute;width: 1px;}#sk-container-id-164 div.sk-estimator {font-family: monospace;background-color: #f0f8ff;border: 1px dotted black;border-radius: 0.25em;box-sizing: border-box;margin-bottom: 0.5em;}#sk-container-id-164 div.sk-estimator:hover {background-color: #d4ebff;}#sk-container-id-164 div.sk-parallel-item::after {content: \"\";width: 100%;border-bottom: 1px solid gray;flex-grow: 1;}#sk-container-id-164 div.sk-label:hover label.sk-toggleable__label {background-color: #d4ebff;}#sk-container-id-164 div.sk-serial::before {content: \"\";position: absolute;border-left: 1px solid gray;box-sizing: border-box;top: 0;bottom: 0;left: 50%;z-index: 0;}#sk-container-id-164 div.sk-serial {display: flex;flex-direction: column;align-items: center;background-color: white;padding-right: 0.2em;padding-left: 0.2em;position: relative;}#sk-container-id-164 div.sk-item {position: relative;z-index: 1;}#sk-container-id-164 div.sk-parallel {display: flex;align-items: stretch;justify-content: center;background-color: white;position: relative;}#sk-container-id-164 div.sk-item::before, #sk-container-id-164 div.sk-parallel-item::before {content: \"\";position: absolute;border-left: 1px solid gray;box-sizing: border-box;top: 0;bottom: 0;left: 50%;z-index: -1;}#sk-container-id-164 div.sk-parallel-item {display: flex;flex-direction: column;z-index: 1;position: relative;background-color: white;}#sk-container-id-164 div.sk-parallel-item:first-child::after {align-self: flex-end;width: 50%;}#sk-container-id-164 div.sk-parallel-item:last-child::after {align-self: flex-start;width: 50%;}#sk-container-id-164 div.sk-parallel-item:only-child::after {width: 0;}#sk-container-id-164 div.sk-dashed-wrapped {border: 1px dashed gray;margin: 0 0.4em 0.5em 0.4em;box-sizing: border-box;padding-bottom: 0.4em;background-color: white;}#sk-container-id-164 div.sk-label label {font-family: monospace;font-weight: bold;display: inline-block;line-height: 1.2em;}#sk-container-id-164 div.sk-label-container {text-align: center;}#sk-container-id-164 div.sk-container {/* jupyter's `normalize.less` sets `[hidden] { display: none; }` but bootstrap.min.css set `[hidden] { display: none !important; }` so we also need the `!important` here to be able to override the default hidden behavior on the sphinx rendered scikit-learn.org. See: https://github.com/scikit-learn/scikit-learn/issues/21755 */display: inline-block !important;position: relative;}#sk-container-id-164 div.sk-text-repr-fallback {display: none;}</style><div id=\"sk-container-id-164\" class=\"sk-top-container\"><div class=\"sk-text-repr-fallback\"><pre>LogisticRegression()</pre><b>In a Jupyter environment, please rerun this cell to show the HTML representation or trust the notebook. <br />On GitHub, the HTML representation is unable to render, please try loading this page with nbviewer.org.</b></div><div class=\"sk-container\" hidden><div class=\"sk-item\"><div class=\"sk-estimator sk-toggleable\"><input class=\"sk-toggleable__control sk-hidden--visually\" id=\"sk-estimator-id-164\" type=\"checkbox\" checked><label for=\"sk-estimator-id-164\" class=\"sk-toggleable__label sk-toggleable__label-arrow\">LogisticRegression</label><div class=\"sk-toggleable__content\"><pre>LogisticRegression()</pre></div></div></div></div></div>"
            ]
          },
          "metadata": {},
          "execution_count": 1848
        }
      ]
    },
    {
      "cell_type": "code",
      "source": [
        "y_pred = algoritmo.predict(X_test)\n",
        "y_pred"
      ],
      "metadata": {
        "colab": {
          "base_uri": "https://localhost:8080/"
        },
        "outputId": "02b19707-5794-4a2d-ee8f-0e0235687a0b",
        "id": "gercG8QboNzK"
      },
      "execution_count": 1849,
      "outputs": [
        {
          "output_type": "execute_result",
          "data": {
            "text/plain": [
              "array(['Corriente', 'Corriente', 'Corriente', ..., 'Corriente',\n",
              "       'Corriente', 'Corriente'], dtype=object)"
            ]
          },
          "metadata": {},
          "execution_count": 1849
        }
      ]
    },
    {
      "cell_type": "code",
      "source": [
        "matriz = confusion_matrix(y_test, y_pred)\n",
        "print('Matriz de Confusión:')\n",
        "print(matriz)"
      ],
      "metadata": {
        "colab": {
          "base_uri": "https://localhost:8080/"
        },
        "outputId": "b9b92024-3012-4590-918c-68e4cfa27899",
        "id": "WKuQ63qNoNzL"
      },
      "execution_count": 1850,
      "outputs": [
        {
          "output_type": "stream",
          "name": "stdout",
          "text": [
            "Matriz de Confusión:\n",
            "[[   0    0  972    0    8]\n",
            " [   0    0   22    0    0]\n",
            " [   0    0 2950    0   17]\n",
            " [   0    0  518    0    4]\n",
            " [   0    0 1626    0   15]]\n"
          ]
        }
      ]
    },
    {
      "cell_type": "code",
      "source": [
        "precision = precision_score(y_test, y_pred, average=\"macro\")\n",
        "print('Precisión del modelo:')\n",
        "print(precision)"
      ],
      "metadata": {
        "colab": {
          "base_uri": "https://localhost:8080/"
        },
        "outputId": "509cea16-3592-4990-a8f8-800934e8d7ca",
        "id": "cd-FS_-toNzL"
      },
      "execution_count": 1851,
      "outputs": [
        {
          "output_type": "stream",
          "name": "stdout",
          "text": [
            "Precisión del modelo:\n",
            "0.1650937761318839\n"
          ]
        },
        {
          "output_type": "stream",
          "name": "stderr",
          "text": [
            "/usr/local/lib/python3.10/dist-packages/sklearn/metrics/_classification.py:1344: UndefinedMetricWarning: Precision is ill-defined and being set to 0.0 in labels with no predicted samples. Use `zero_division` parameter to control this behavior.\n",
            "  _warn_prf(average, modifier, msg_start, len(result))\n"
          ]
        }
      ]
    },
    {
      "cell_type": "code",
      "source": [
        "sensibilidad = recall_score(y_test, y_pred, average=\"macro\")\n",
        "print('Sensibilidad del modelo:')\n",
        "print(sensibilidad)"
      ],
      "metadata": {
        "colab": {
          "base_uri": "https://localhost:8080/"
        },
        "outputId": "0c980258-e598-43fe-e2ff-f56f8d4c1353",
        "id": "TTyLx2LLoNzM"
      },
      "execution_count": 1852,
      "outputs": [
        {
          "output_type": "stream",
          "name": "stdout",
          "text": [
            "Sensibilidad del modelo:\n",
            "0.2006822149063218\n"
          ]
        }
      ]
    },
    {
      "cell_type": "code",
      "source": [
        "puntajef1 = f1_score(y_test, y_pred, average=\"macro\")\n",
        "print('Puntaje F1 del modelo:')\n",
        "print(puntajef1)"
      ],
      "metadata": {
        "colab": {
          "base_uri": "https://localhost:8080/"
        },
        "outputId": "65f2aabf-ce7b-4fc6-f99e-1d2bb16616e3",
        "id": "ad4WAQjnoNzN"
      },
      "execution_count": 1853,
      "outputs": [
        {
          "output_type": "stream",
          "name": "stdout",
          "text": [
            "Puntaje F1 del modelo:\n",
            "0.13387557409631545\n"
          ]
        }
      ]
    },
    {
      "cell_type": "code",
      "source": [
        "df_coef.loc[9] = ['status_cuenta', '10', round(precision,2), round(sensibilidad,2), round(puntajef1,2) ]"
      ],
      "metadata": {
        "id": "-oEcvp7ToNzO"
      },
      "execution_count": 1854,
      "outputs": []
    },
    {
      "cell_type": "markdown",
      "source": [
        "##Realizar una tabla de todos los coeficientes de precisión, exactitud y sensibilidad obtenidos para cada correlación analizada, según sea el caso."
      ],
      "metadata": {
        "id": "cUIKQx4oNXkO"
      }
    },
    {
      "cell_type": "markdown",
      "source": [
        "### Coeficientes de precisión, exactitud y sensibilidad :"
      ],
      "metadata": {
        "id": "42wS7iggWih5"
      }
    },
    {
      "cell_type": "code",
      "source": [
        "df_coef"
      ],
      "metadata": {
        "id": "b1gRuDydWroW",
        "colab": {
          "base_uri": "https://localhost:8080/",
          "height": 363
        },
        "outputId": "0b78ef2d-2d20-46a0-9983-0f01efd2d192"
      },
      "execution_count": 1856,
      "outputs": [
        {
          "output_type": "execute_result",
          "data": {
            "text/plain": [
              "                   Variable Analisis  Precision  Exactitud  Sensibilidad\n",
              "0  status_cuenta_dicotomica        1       0.54       0.54          0.53\n",
              "1                    puntos        2       0.83       0.80          0.81\n",
              "2            reautorizacion        3       0.48       0.50          0.49\n",
              "3                 inversion        4       0.48       0.50          0.44\n",
              "4                    fraude        5       0.46       0.50          0.48\n",
              "5                   empresa        6       0.03       0.04          0.03\n",
              "6                     marca        7       0.07       0.09          0.06\n",
              "7                    modelo        8       0.01       0.02          0.01\n",
              "8                 edo_venta        9       0.04       0.05          0.03\n",
              "9             status_cuenta       10       0.17       0.20          0.13"
            ],
            "text/html": [
              "\n",
              "  <div id=\"df-e4110249-7104-4734-a7ae-2ab502da810f\" class=\"colab-df-container\">\n",
              "    <div>\n",
              "<style scoped>\n",
              "    .dataframe tbody tr th:only-of-type {\n",
              "        vertical-align: middle;\n",
              "    }\n",
              "\n",
              "    .dataframe tbody tr th {\n",
              "        vertical-align: top;\n",
              "    }\n",
              "\n",
              "    .dataframe thead th {\n",
              "        text-align: right;\n",
              "    }\n",
              "</style>\n",
              "<table border=\"1\" class=\"dataframe\">\n",
              "  <thead>\n",
              "    <tr style=\"text-align: right;\">\n",
              "      <th></th>\n",
              "      <th>Variable</th>\n",
              "      <th>Analisis</th>\n",
              "      <th>Precision</th>\n",
              "      <th>Exactitud</th>\n",
              "      <th>Sensibilidad</th>\n",
              "    </tr>\n",
              "  </thead>\n",
              "  <tbody>\n",
              "    <tr>\n",
              "      <th>0</th>\n",
              "      <td>status_cuenta_dicotomica</td>\n",
              "      <td>1</td>\n",
              "      <td>0.54</td>\n",
              "      <td>0.54</td>\n",
              "      <td>0.53</td>\n",
              "    </tr>\n",
              "    <tr>\n",
              "      <th>1</th>\n",
              "      <td>puntos</td>\n",
              "      <td>2</td>\n",
              "      <td>0.83</td>\n",
              "      <td>0.80</td>\n",
              "      <td>0.81</td>\n",
              "    </tr>\n",
              "    <tr>\n",
              "      <th>2</th>\n",
              "      <td>reautorizacion</td>\n",
              "      <td>3</td>\n",
              "      <td>0.48</td>\n",
              "      <td>0.50</td>\n",
              "      <td>0.49</td>\n",
              "    </tr>\n",
              "    <tr>\n",
              "      <th>3</th>\n",
              "      <td>inversion</td>\n",
              "      <td>4</td>\n",
              "      <td>0.48</td>\n",
              "      <td>0.50</td>\n",
              "      <td>0.44</td>\n",
              "    </tr>\n",
              "    <tr>\n",
              "      <th>4</th>\n",
              "      <td>fraude</td>\n",
              "      <td>5</td>\n",
              "      <td>0.46</td>\n",
              "      <td>0.50</td>\n",
              "      <td>0.48</td>\n",
              "    </tr>\n",
              "    <tr>\n",
              "      <th>5</th>\n",
              "      <td>empresa</td>\n",
              "      <td>6</td>\n",
              "      <td>0.03</td>\n",
              "      <td>0.04</td>\n",
              "      <td>0.03</td>\n",
              "    </tr>\n",
              "    <tr>\n",
              "      <th>6</th>\n",
              "      <td>marca</td>\n",
              "      <td>7</td>\n",
              "      <td>0.07</td>\n",
              "      <td>0.09</td>\n",
              "      <td>0.06</td>\n",
              "    </tr>\n",
              "    <tr>\n",
              "      <th>7</th>\n",
              "      <td>modelo</td>\n",
              "      <td>8</td>\n",
              "      <td>0.01</td>\n",
              "      <td>0.02</td>\n",
              "      <td>0.01</td>\n",
              "    </tr>\n",
              "    <tr>\n",
              "      <th>8</th>\n",
              "      <td>edo_venta</td>\n",
              "      <td>9</td>\n",
              "      <td>0.04</td>\n",
              "      <td>0.05</td>\n",
              "      <td>0.03</td>\n",
              "    </tr>\n",
              "    <tr>\n",
              "      <th>9</th>\n",
              "      <td>status_cuenta</td>\n",
              "      <td>10</td>\n",
              "      <td>0.17</td>\n",
              "      <td>0.20</td>\n",
              "      <td>0.13</td>\n",
              "    </tr>\n",
              "  </tbody>\n",
              "</table>\n",
              "</div>\n",
              "    <div class=\"colab-df-buttons\">\n",
              "\n",
              "  <div class=\"colab-df-container\">\n",
              "    <button class=\"colab-df-convert\" onclick=\"convertToInteractive('df-e4110249-7104-4734-a7ae-2ab502da810f')\"\n",
              "            title=\"Convert this dataframe to an interactive table.\"\n",
              "            style=\"display:none;\">\n",
              "\n",
              "  <svg xmlns=\"http://www.w3.org/2000/svg\" height=\"24px\" viewBox=\"0 -960 960 960\">\n",
              "    <path d=\"M120-120v-720h720v720H120Zm60-500h600v-160H180v160Zm220 220h160v-160H400v160Zm0 220h160v-160H400v160ZM180-400h160v-160H180v160Zm440 0h160v-160H620v160ZM180-180h160v-160H180v160Zm440 0h160v-160H620v160Z\"/>\n",
              "  </svg>\n",
              "    </button>\n",
              "\n",
              "  <style>\n",
              "    .colab-df-container {\n",
              "      display:flex;\n",
              "      gap: 12px;\n",
              "    }\n",
              "\n",
              "    .colab-df-convert {\n",
              "      background-color: #E8F0FE;\n",
              "      border: none;\n",
              "      border-radius: 50%;\n",
              "      cursor: pointer;\n",
              "      display: none;\n",
              "      fill: #1967D2;\n",
              "      height: 32px;\n",
              "      padding: 0 0 0 0;\n",
              "      width: 32px;\n",
              "    }\n",
              "\n",
              "    .colab-df-convert:hover {\n",
              "      background-color: #E2EBFA;\n",
              "      box-shadow: 0px 1px 2px rgba(60, 64, 67, 0.3), 0px 1px 3px 1px rgba(60, 64, 67, 0.15);\n",
              "      fill: #174EA6;\n",
              "    }\n",
              "\n",
              "    .colab-df-buttons div {\n",
              "      margin-bottom: 4px;\n",
              "    }\n",
              "\n",
              "    [theme=dark] .colab-df-convert {\n",
              "      background-color: #3B4455;\n",
              "      fill: #D2E3FC;\n",
              "    }\n",
              "\n",
              "    [theme=dark] .colab-df-convert:hover {\n",
              "      background-color: #434B5C;\n",
              "      box-shadow: 0px 1px 3px 1px rgba(0, 0, 0, 0.15);\n",
              "      filter: drop-shadow(0px 1px 2px rgba(0, 0, 0, 0.3));\n",
              "      fill: #FFFFFF;\n",
              "    }\n",
              "  </style>\n",
              "\n",
              "    <script>\n",
              "      const buttonEl =\n",
              "        document.querySelector('#df-e4110249-7104-4734-a7ae-2ab502da810f button.colab-df-convert');\n",
              "      buttonEl.style.display =\n",
              "        google.colab.kernel.accessAllowed ? 'block' : 'none';\n",
              "\n",
              "      async function convertToInteractive(key) {\n",
              "        const element = document.querySelector('#df-e4110249-7104-4734-a7ae-2ab502da810f');\n",
              "        const dataTable =\n",
              "          await google.colab.kernel.invokeFunction('convertToInteractive',\n",
              "                                                    [key], {});\n",
              "        if (!dataTable) return;\n",
              "\n",
              "        const docLinkHtml = 'Like what you see? Visit the ' +\n",
              "          '<a target=\"_blank\" href=https://colab.research.google.com/notebooks/data_table.ipynb>data table notebook</a>'\n",
              "          + ' to learn more about interactive tables.';\n",
              "        element.innerHTML = '';\n",
              "        dataTable['output_type'] = 'display_data';\n",
              "        await google.colab.output.renderOutput(dataTable, element);\n",
              "        const docLink = document.createElement('div');\n",
              "        docLink.innerHTML = docLinkHtml;\n",
              "        element.appendChild(docLink);\n",
              "      }\n",
              "    </script>\n",
              "  </div>\n",
              "\n",
              "\n",
              "<div id=\"df-62644616-7a3c-4bd4-8426-7ab3415e4f26\">\n",
              "  <button class=\"colab-df-quickchart\" onclick=\"quickchart('df-62644616-7a3c-4bd4-8426-7ab3415e4f26')\"\n",
              "            title=\"Suggest charts.\"\n",
              "            style=\"display:none;\">\n",
              "\n",
              "<svg xmlns=\"http://www.w3.org/2000/svg\" height=\"24px\"viewBox=\"0 0 24 24\"\n",
              "     width=\"24px\">\n",
              "    <g>\n",
              "        <path d=\"M19 3H5c-1.1 0-2 .9-2 2v14c0 1.1.9 2 2 2h14c1.1 0 2-.9 2-2V5c0-1.1-.9-2-2-2zM9 17H7v-7h2v7zm4 0h-2V7h2v10zm4 0h-2v-4h2v4z\"/>\n",
              "    </g>\n",
              "</svg>\n",
              "  </button>\n",
              "\n",
              "<style>\n",
              "  .colab-df-quickchart {\n",
              "      --bg-color: #E8F0FE;\n",
              "      --fill-color: #1967D2;\n",
              "      --hover-bg-color: #E2EBFA;\n",
              "      --hover-fill-color: #174EA6;\n",
              "      --disabled-fill-color: #AAA;\n",
              "      --disabled-bg-color: #DDD;\n",
              "  }\n",
              "\n",
              "  [theme=dark] .colab-df-quickchart {\n",
              "      --bg-color: #3B4455;\n",
              "      --fill-color: #D2E3FC;\n",
              "      --hover-bg-color: #434B5C;\n",
              "      --hover-fill-color: #FFFFFF;\n",
              "      --disabled-bg-color: #3B4455;\n",
              "      --disabled-fill-color: #666;\n",
              "  }\n",
              "\n",
              "  .colab-df-quickchart {\n",
              "    background-color: var(--bg-color);\n",
              "    border: none;\n",
              "    border-radius: 50%;\n",
              "    cursor: pointer;\n",
              "    display: none;\n",
              "    fill: var(--fill-color);\n",
              "    height: 32px;\n",
              "    padding: 0;\n",
              "    width: 32px;\n",
              "  }\n",
              "\n",
              "  .colab-df-quickchart:hover {\n",
              "    background-color: var(--hover-bg-color);\n",
              "    box-shadow: 0 1px 2px rgba(60, 64, 67, 0.3), 0 1px 3px 1px rgba(60, 64, 67, 0.15);\n",
              "    fill: var(--button-hover-fill-color);\n",
              "  }\n",
              "\n",
              "  .colab-df-quickchart-complete:disabled,\n",
              "  .colab-df-quickchart-complete:disabled:hover {\n",
              "    background-color: var(--disabled-bg-color);\n",
              "    fill: var(--disabled-fill-color);\n",
              "    box-shadow: none;\n",
              "  }\n",
              "\n",
              "  .colab-df-spinner {\n",
              "    border: 2px solid var(--fill-color);\n",
              "    border-color: transparent;\n",
              "    border-bottom-color: var(--fill-color);\n",
              "    animation:\n",
              "      spin 1s steps(1) infinite;\n",
              "  }\n",
              "\n",
              "  @keyframes spin {\n",
              "    0% {\n",
              "      border-color: transparent;\n",
              "      border-bottom-color: var(--fill-color);\n",
              "      border-left-color: var(--fill-color);\n",
              "    }\n",
              "    20% {\n",
              "      border-color: transparent;\n",
              "      border-left-color: var(--fill-color);\n",
              "      border-top-color: var(--fill-color);\n",
              "    }\n",
              "    30% {\n",
              "      border-color: transparent;\n",
              "      border-left-color: var(--fill-color);\n",
              "      border-top-color: var(--fill-color);\n",
              "      border-right-color: var(--fill-color);\n",
              "    }\n",
              "    40% {\n",
              "      border-color: transparent;\n",
              "      border-right-color: var(--fill-color);\n",
              "      border-top-color: var(--fill-color);\n",
              "    }\n",
              "    60% {\n",
              "      border-color: transparent;\n",
              "      border-right-color: var(--fill-color);\n",
              "    }\n",
              "    80% {\n",
              "      border-color: transparent;\n",
              "      border-right-color: var(--fill-color);\n",
              "      border-bottom-color: var(--fill-color);\n",
              "    }\n",
              "    90% {\n",
              "      border-color: transparent;\n",
              "      border-bottom-color: var(--fill-color);\n",
              "    }\n",
              "  }\n",
              "</style>\n",
              "\n",
              "  <script>\n",
              "    async function quickchart(key) {\n",
              "      const quickchartButtonEl =\n",
              "        document.querySelector('#' + key + ' button');\n",
              "      quickchartButtonEl.disabled = true;  // To prevent multiple clicks.\n",
              "      quickchartButtonEl.classList.add('colab-df-spinner');\n",
              "      try {\n",
              "        const charts = await google.colab.kernel.invokeFunction(\n",
              "            'suggestCharts', [key], {});\n",
              "      } catch (error) {\n",
              "        console.error('Error during call to suggestCharts:', error);\n",
              "      }\n",
              "      quickchartButtonEl.classList.remove('colab-df-spinner');\n",
              "      quickchartButtonEl.classList.add('colab-df-quickchart-complete');\n",
              "    }\n",
              "    (() => {\n",
              "      let quickchartButtonEl =\n",
              "        document.querySelector('#df-62644616-7a3c-4bd4-8426-7ab3415e4f26 button');\n",
              "      quickchartButtonEl.style.display =\n",
              "        google.colab.kernel.accessAllowed ? 'block' : 'none';\n",
              "    })();\n",
              "  </script>\n",
              "</div>\n",
              "    </div>\n",
              "  </div>\n"
            ]
          },
          "metadata": {},
          "execution_count": 1856
        }
      ]
    }
  ]
}